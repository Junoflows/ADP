{
 "cells": [
  {
   "cell_type": "markdown",
   "id": "ee31cc26",
   "metadata": {
    "papermill": {
     "duration": 0.016592,
     "end_time": "2022-03-12T12:44:12.336398",
     "exception": false,
     "start_time": "2022-03-12T12:44:12.319806",
     "status": "completed"
    },
    "tags": []
   },
   "source": [
    "## 1\n",
    "데이터 설명(피마 인디안 당뇨병 발병유무)\n",
    "+ 신체스펙\n",
    "    + Pregnancies\n",
    "    + Glucose\n",
    "    + BloodPressure\n",
    "    - SkinThickness\n",
    "    - Insulin\n",
    "    - BMI\n",
    "    - DiabetesPedigreeFunction\n",
    "    - Age\n",
    "<br/><br/>\n",
    "    \n",
    "+ 발병유무(종속변수) : Outcome"
   ]
  },
  {
   "cell_type": "code",
   "execution_count": 1,
   "id": "865030a0",
   "metadata": {},
   "outputs": [
    {
     "data": {
      "text/html": [
       "<div>\n",
       "<style scoped>\n",
       "    .dataframe tbody tr th:only-of-type {\n",
       "        vertical-align: middle;\n",
       "    }\n",
       "\n",
       "    .dataframe tbody tr th {\n",
       "        vertical-align: top;\n",
       "    }\n",
       "\n",
       "    .dataframe thead th {\n",
       "        text-align: right;\n",
       "    }\n",
       "</style>\n",
       "<table border=\"1\" class=\"dataframe\">\n",
       "  <thead>\n",
       "    <tr style=\"text-align: right;\">\n",
       "      <th></th>\n",
       "      <th>Pregnancies</th>\n",
       "      <th>Glucose</th>\n",
       "      <th>BloodPressure</th>\n",
       "      <th>SkinThickness</th>\n",
       "      <th>Insulin</th>\n",
       "      <th>BMI</th>\n",
       "      <th>DiabetesPedigreeFunction</th>\n",
       "      <th>Age</th>\n",
       "      <th>Outcome</th>\n",
       "    </tr>\n",
       "  </thead>\n",
       "  <tbody>\n",
       "    <tr>\n",
       "      <th>0</th>\n",
       "      <td>6</td>\n",
       "      <td>148</td>\n",
       "      <td>72</td>\n",
       "      <td>35</td>\n",
       "      <td>0</td>\n",
       "      <td>33.6</td>\n",
       "      <td>0.627</td>\n",
       "      <td>50</td>\n",
       "      <td>1</td>\n",
       "    </tr>\n",
       "    <tr>\n",
       "      <th>1</th>\n",
       "      <td>1</td>\n",
       "      <td>85</td>\n",
       "      <td>66</td>\n",
       "      <td>29</td>\n",
       "      <td>0</td>\n",
       "      <td>26.6</td>\n",
       "      <td>0.351</td>\n",
       "      <td>31</td>\n",
       "      <td>0</td>\n",
       "    </tr>\n",
       "    <tr>\n",
       "      <th>2</th>\n",
       "      <td>8</td>\n",
       "      <td>183</td>\n",
       "      <td>64</td>\n",
       "      <td>0</td>\n",
       "      <td>0</td>\n",
       "      <td>23.3</td>\n",
       "      <td>0.672</td>\n",
       "      <td>32</td>\n",
       "      <td>1</td>\n",
       "    </tr>\n",
       "    <tr>\n",
       "      <th>3</th>\n",
       "      <td>1</td>\n",
       "      <td>89</td>\n",
       "      <td>66</td>\n",
       "      <td>23</td>\n",
       "      <td>94</td>\n",
       "      <td>28.1</td>\n",
       "      <td>0.167</td>\n",
       "      <td>21</td>\n",
       "      <td>0</td>\n",
       "    </tr>\n",
       "    <tr>\n",
       "      <th>4</th>\n",
       "      <td>0</td>\n",
       "      <td>137</td>\n",
       "      <td>40</td>\n",
       "      <td>35</td>\n",
       "      <td>168</td>\n",
       "      <td>43.1</td>\n",
       "      <td>2.288</td>\n",
       "      <td>33</td>\n",
       "      <td>1</td>\n",
       "    </tr>\n",
       "  </tbody>\n",
       "</table>\n",
       "</div>"
      ],
      "text/plain": [
       "   Pregnancies  Glucose  BloodPressure  SkinThickness  Insulin   BMI  \\\n",
       "0            6      148             72             35        0  33.6   \n",
       "1            1       85             66             29        0  26.6   \n",
       "2            8      183             64              0        0  23.3   \n",
       "3            1       89             66             23       94  28.1   \n",
       "4            0      137             40             35      168  43.1   \n",
       "\n",
       "   DiabetesPedigreeFunction  Age  Outcome  \n",
       "0                     0.627   50        1  \n",
       "1                     0.351   31        0  \n",
       "2                     0.672   32        1  \n",
       "3                     0.167   21        0  \n",
       "4                     2.288   33        1  "
      ]
     },
     "execution_count": 1,
     "metadata": {},
     "output_type": "execute_result"
    }
   ],
   "source": [
    "import pandas as pd\n",
    "\n",
    "df= pd.read_csv('https://raw.githubusercontent.com/Datamanim/datarepo/main/adp/22/data1.csv')\n",
    "df.head()"
   ]
  },
  {
   "cell_type": "markdown",
   "id": "cf63aa2c",
   "metadata": {
    "execution": {
     "iopub.execute_input": "2022-03-02T16:01:52.763794Z",
     "iopub.status.busy": "2022-03-02T16:01:52.76349Z",
     "iopub.status.idle": "2022-03-02T16:01:52.768363Z",
     "shell.execute_reply": "2022-03-02T16:01:52.767292Z",
     "shell.execute_reply.started": "2022-03-02T16:01:52.763766Z"
    },
    "papermill": {
     "duration": 0.016585,
     "end_time": "2022-03-12T12:44:12.403694",
     "exception": false,
     "start_time": "2022-03-12T12:44:12.387109",
     "status": "completed"
    },
    "tags": []
   },
   "source": [
    "### 1-1 \n",
    "탐색적 데이터 분석 수행(시각화 포함)"
   ]
  },
  {
   "cell_type": "code",
   "execution_count": 2,
   "id": "cb98f4d2",
   "metadata": {},
   "outputs": [
    {
     "name": "stdout",
     "output_type": "stream",
     "text": [
      "<class 'pandas.core.frame.DataFrame'>\n",
      "RangeIndex: 768 entries, 0 to 767\n",
      "Data columns (total 9 columns):\n",
      " #   Column                    Non-Null Count  Dtype  \n",
      "---  ------                    --------------  -----  \n",
      " 0   Pregnancies               768 non-null    int64  \n",
      " 1   Glucose                   768 non-null    int64  \n",
      " 2   BloodPressure             768 non-null    int64  \n",
      " 3   SkinThickness             768 non-null    int64  \n",
      " 4   Insulin                   768 non-null    int64  \n",
      " 5   BMI                       768 non-null    float64\n",
      " 6   DiabetesPedigreeFunction  768 non-null    float64\n",
      " 7   Age                       768 non-null    int64  \n",
      " 8   Outcome                   768 non-null    int64  \n",
      "dtypes: float64(2), int64(7)\n",
      "memory usage: 54.1 KB\n"
     ]
    }
   ],
   "source": [
    "df.info()\n",
    "# 결측치는 없고 데이터 타입이 int64, float64 이다."
   ]
  },
  {
   "cell_type": "code",
   "execution_count": 3,
   "id": "b635e416",
   "metadata": {},
   "outputs": [],
   "source": [
    "# Outcome 은 질적변수이므로 데이터타입을 category 로 만들어주자.\n",
    "df['Outcome'] =df['Outcome'].astype('category')"
   ]
  },
  {
   "cell_type": "code",
   "execution_count": 4,
   "id": "f1bcf098",
   "metadata": {},
   "outputs": [
    {
     "data": {
      "text/html": [
       "<div>\n",
       "<style scoped>\n",
       "    .dataframe tbody tr th:only-of-type {\n",
       "        vertical-align: middle;\n",
       "    }\n",
       "\n",
       "    .dataframe tbody tr th {\n",
       "        vertical-align: top;\n",
       "    }\n",
       "\n",
       "    .dataframe thead th {\n",
       "        text-align: right;\n",
       "    }\n",
       "</style>\n",
       "<table border=\"1\" class=\"dataframe\">\n",
       "  <thead>\n",
       "    <tr style=\"text-align: right;\">\n",
       "      <th></th>\n",
       "      <th>Pregnancies</th>\n",
       "      <th>Glucose</th>\n",
       "      <th>BloodPressure</th>\n",
       "      <th>SkinThickness</th>\n",
       "      <th>Insulin</th>\n",
       "      <th>BMI</th>\n",
       "      <th>DiabetesPedigreeFunction</th>\n",
       "      <th>Age</th>\n",
       "    </tr>\n",
       "  </thead>\n",
       "  <tbody>\n",
       "    <tr>\n",
       "      <th>count</th>\n",
       "      <td>768.000000</td>\n",
       "      <td>768.000000</td>\n",
       "      <td>768.000000</td>\n",
       "      <td>768.000000</td>\n",
       "      <td>768.000000</td>\n",
       "      <td>768.000000</td>\n",
       "      <td>768.000000</td>\n",
       "      <td>768.000000</td>\n",
       "    </tr>\n",
       "    <tr>\n",
       "      <th>mean</th>\n",
       "      <td>3.845052</td>\n",
       "      <td>120.894531</td>\n",
       "      <td>81.976562</td>\n",
       "      <td>20.536458</td>\n",
       "      <td>79.799479</td>\n",
       "      <td>44.934766</td>\n",
       "      <td>0.471876</td>\n",
       "      <td>34.447917</td>\n",
       "    </tr>\n",
       "    <tr>\n",
       "      <th>std</th>\n",
       "      <td>3.369578</td>\n",
       "      <td>31.972618</td>\n",
       "      <td>358.835058</td>\n",
       "      <td>15.952218</td>\n",
       "      <td>115.244002</td>\n",
       "      <td>359.739733</td>\n",
       "      <td>0.331329</td>\n",
       "      <td>36.754727</td>\n",
       "    </tr>\n",
       "    <tr>\n",
       "      <th>min</th>\n",
       "      <td>0.000000</td>\n",
       "      <td>0.000000</td>\n",
       "      <td>0.000000</td>\n",
       "      <td>0.000000</td>\n",
       "      <td>0.000000</td>\n",
       "      <td>0.000000</td>\n",
       "      <td>0.078000</td>\n",
       "      <td>21.000000</td>\n",
       "    </tr>\n",
       "    <tr>\n",
       "      <th>25%</th>\n",
       "      <td>1.000000</td>\n",
       "      <td>99.000000</td>\n",
       "      <td>62.000000</td>\n",
       "      <td>0.000000</td>\n",
       "      <td>0.000000</td>\n",
       "      <td>27.300000</td>\n",
       "      <td>0.243750</td>\n",
       "      <td>24.000000</td>\n",
       "    </tr>\n",
       "    <tr>\n",
       "      <th>50%</th>\n",
       "      <td>3.000000</td>\n",
       "      <td>117.000000</td>\n",
       "      <td>72.000000</td>\n",
       "      <td>23.000000</td>\n",
       "      <td>30.500000</td>\n",
       "      <td>32.000000</td>\n",
       "      <td>0.372500</td>\n",
       "      <td>29.000000</td>\n",
       "    </tr>\n",
       "    <tr>\n",
       "      <th>75%</th>\n",
       "      <td>6.000000</td>\n",
       "      <td>140.250000</td>\n",
       "      <td>80.000000</td>\n",
       "      <td>32.000000</td>\n",
       "      <td>127.250000</td>\n",
       "      <td>36.600000</td>\n",
       "      <td>0.626250</td>\n",
       "      <td>41.000000</td>\n",
       "    </tr>\n",
       "    <tr>\n",
       "      <th>max</th>\n",
       "      <td>17.000000</td>\n",
       "      <td>199.000000</td>\n",
       "      <td>9999.000000</td>\n",
       "      <td>99.000000</td>\n",
       "      <td>846.000000</td>\n",
       "      <td>9999.000000</td>\n",
       "      <td>2.420000</td>\n",
       "      <td>999.000000</td>\n",
       "    </tr>\n",
       "  </tbody>\n",
       "</table>\n",
       "</div>"
      ],
      "text/plain": [
       "       Pregnancies     Glucose  BloodPressure  SkinThickness     Insulin  \\\n",
       "count   768.000000  768.000000     768.000000     768.000000  768.000000   \n",
       "mean      3.845052  120.894531      81.976562      20.536458   79.799479   \n",
       "std       3.369578   31.972618     358.835058      15.952218  115.244002   \n",
       "min       0.000000    0.000000       0.000000       0.000000    0.000000   \n",
       "25%       1.000000   99.000000      62.000000       0.000000    0.000000   \n",
       "50%       3.000000  117.000000      72.000000      23.000000   30.500000   \n",
       "75%       6.000000  140.250000      80.000000      32.000000  127.250000   \n",
       "max      17.000000  199.000000    9999.000000      99.000000  846.000000   \n",
       "\n",
       "               BMI  DiabetesPedigreeFunction         Age  \n",
       "count   768.000000                768.000000  768.000000  \n",
       "mean     44.934766                  0.471876   34.447917  \n",
       "std     359.739733                  0.331329   36.754727  \n",
       "min       0.000000                  0.078000   21.000000  \n",
       "25%      27.300000                  0.243750   24.000000  \n",
       "50%      32.000000                  0.372500   29.000000  \n",
       "75%      36.600000                  0.626250   41.000000  \n",
       "max    9999.000000                  2.420000  999.000000  "
      ]
     },
     "execution_count": 4,
     "metadata": {},
     "output_type": "execute_result"
    }
   ],
   "source": [
    "# 기술통계량 확인하자.\n",
    "df.describe()"
   ]
  },
  {
   "cell_type": "code",
   "execution_count": 5,
   "id": "2688d782",
   "metadata": {},
   "outputs": [
    {
     "data": {
      "text/html": [
       "<div>\n",
       "<style scoped>\n",
       "    .dataframe tbody tr th:only-of-type {\n",
       "        vertical-align: middle;\n",
       "    }\n",
       "\n",
       "    .dataframe tbody tr th {\n",
       "        vertical-align: top;\n",
       "    }\n",
       "\n",
       "    .dataframe thead th {\n",
       "        text-align: right;\n",
       "    }\n",
       "</style>\n",
       "<table border=\"1\" class=\"dataframe\">\n",
       "  <thead>\n",
       "    <tr style=\"text-align: right;\">\n",
       "      <th></th>\n",
       "      <th>Outcome</th>\n",
       "    </tr>\n",
       "  </thead>\n",
       "  <tbody>\n",
       "    <tr>\n",
       "      <th>count</th>\n",
       "      <td>768</td>\n",
       "    </tr>\n",
       "    <tr>\n",
       "      <th>unique</th>\n",
       "      <td>2</td>\n",
       "    </tr>\n",
       "    <tr>\n",
       "      <th>top</th>\n",
       "      <td>0</td>\n",
       "    </tr>\n",
       "    <tr>\n",
       "      <th>freq</th>\n",
       "      <td>500</td>\n",
       "    </tr>\n",
       "  </tbody>\n",
       "</table>\n",
       "</div>"
      ],
      "text/plain": [
       "        Outcome\n",
       "count       768\n",
       "unique        2\n",
       "top           0\n",
       "freq        500"
      ]
     },
     "execution_count": 5,
     "metadata": {},
     "output_type": "execute_result"
    }
   ],
   "source": [
    "df.describe(include='category')"
   ]
  },
  {
   "cell_type": "code",
   "execution_count": 6,
   "id": "95dee87b",
   "metadata": {},
   "outputs": [
    {
     "data": {
      "image/png": "[encoded data removed]",
      "text/plain": [
       "<Figure size 1500x1000 with 8 Axes>"
      ]
     },
     "metadata": {},
     "output_type": "display_data"
    }
   ],
   "source": [
    "# 양적변수 시각화\n",
    "import matplotlib.pyplot as plt\n",
    "\n",
    "quan = df.columns.drop('Outcome')\n",
    "fig, axes = plt.subplots(2, 4, figsize = (15, 10))\n",
    "# plt.subplots_adjust(wspace= 0.3, hspace= 0.3)\n",
    "\n",
    "for i, col in enumerate(quan):\n",
    "    axes[i // 4, i % 4].boxplot(df[col])\n",
    "    axes[i // 4, i % 4].set_title(col)\n",
    "\n",
    "plt.show()"
   ]
  },
  {
   "cell_type": "markdown",
   "id": "68dcb53f",
   "metadata": {
    "papermill": {
     "duration": 0.016725,
     "end_time": "2022-03-12T12:44:12.437749",
     "exception": false,
     "start_time": "2022-03-12T12:44:12.421024",
     "status": "completed"
    },
    "tags": []
   },
   "source": [
    "### 1-2 \n",
    "이상치 처리(이상값 대체방안 제시)"
   ]
  },
  {
   "cell_type": "code",
   "execution_count": 7,
   "id": "9ac64ab8",
   "metadata": {},
   "outputs": [],
   "source": [
    "# BloodPressure, skinThick, BMI, Age 에서 이상치가 발견되었다.\n",
    "# IQR 방식으로 이상치를 탐지한다고 하였을 때 위 4개의 변수 말고도 다른 변수에도 이상치라고 판단되는 데이터가 존재한다.\n",
    "# 하지만 데이터로써 의미가 있을 수 있다고 판단하여 이상치 처리를 하지 않겠다."
   ]
  },
  {
   "cell_type": "code",
   "execution_count": 8,
   "id": "d23bf368",
   "metadata": {},
   "outputs": [],
   "source": [
    "import numpy as np\n",
    "\n",
    "# boxplot 에서 확인한 이상치를 NA 로 설정\n",
    "index1 = df[(df['BloodPressure'] > 8000) | (df['BloodPressure'] == 0)].index\n",
    "index2 = df[df['SkinThickness'] > 90].index\n",
    "index3 = df[df['BMI'] > 8000].index\n",
    "index4 = df[df['Age'] > 800].index\n",
    "\n",
    "df.loc[index1, 'BloodPressure'] = np.nan\n",
    "df.loc[index2, 'SkinThickness'] = np.nan\n",
    "df.loc[index3, 'BMI'] = np.nan\n",
    "df.loc[index4, 'Age'] = np.nan"
   ]
  },
  {
   "cell_type": "code",
   "execution_count": 9,
   "id": "79a55d4f",
   "metadata": {},
   "outputs": [],
   "source": [
    "# BloodPressure, SkinThickness, BMI 는 평균값으로 대체하고 Age 는 중앙값으로 대체하자.\n",
    "df['BloodPressure'] = df['BloodPressure'].fillna(df['BloodPressure'].mean())\n",
    "df['SkinThickness'] = df['SkinThickness'].fillna(df['SkinThickness'].mean())\n",
    "df['BMI'] = df['BMI'].fillna(df['BMI'].mean())\n",
    "df['Age'] = df['Age'].fillna(df['Age'].median())"
   ]
  },
  {
   "cell_type": "code",
   "execution_count": 10,
   "id": "a0b1eb10",
   "metadata": {},
   "outputs": [
    {
     "data": {
      "image/png": "[encoded data removed]",
      "text/plain": [
       "<Figure size 1500x1000 with 8 Axes>"
      ]
     },
     "metadata": {},
     "output_type": "display_data"
    }
   ],
   "source": [
    "# 이상치 처리 후 다시 boxplot 확인\n",
    "quan = df.columns.drop('Outcome')\n",
    "fig, axes = plt.subplots(2, 4, figsize = (15, 10))\n",
    "# plt.subplots_adjust(wspace= 0.3, hspace= 0.3)\n",
    "\n",
    "for i, col in enumerate(quan):\n",
    "    axes[i // 4, i % 4].boxplot(df[col])\n",
    "    axes[i // 4, i % 4].set_title(col)\n",
    "\n",
    "plt.show()"
   ]
  },
  {
   "cell_type": "markdown",
   "id": "ecad0e86",
   "metadata": {
    "papermill": {
     "duration": 0.016821,
     "end_time": "2022-03-12T12:44:12.471832",
     "exception": false,
     "start_time": "2022-03-12T12:44:12.455011",
     "status": "completed"
    },
    "tags": []
   },
   "source": [
    "### 1-3 \n",
    "앞선 두 단계에서 얻은 향후 분석시 고려사항 작성"
   ]
  },
  {
   "cell_type": "code",
   "execution_count": 11,
   "id": "51937b40",
   "metadata": {},
   "outputs": [],
   "source": [
    "# 다른 변수들의 이상치를 처리하기 위해 데이터에 대한 배경지식이 필요할 것으로 판단됨.\n",
    "# 예를들어 배경지식 없이는 Insulin의 이상치가 가능한 값인지 이상치인지 판단하기 어려움."
   ]
  },
  {
   "cell_type": "markdown",
   "id": "8ecb1799",
   "metadata": {
    "papermill": {
     "duration": 0.017531,
     "end_time": "2022-03-12T12:44:12.540941",
     "exception": false,
     "start_time": "2022-03-12T12:44:12.523410",
     "status": "completed"
    },
    "tags": []
   },
   "source": [
    "### 2-1 \n",
    "오버샘플링 과정 설명하고 결과 작성"
   ]
  },
  {
   "cell_type": "markdown",
   "id": "eb483a2f",
   "metadata": {},
   "source": [
    "오버 샘플링은 소수의 레이블을 지닌 데이터세트를 다수 레이블을 지닌 데이터세트의 수만큼 증식시켜 학습에 사용하기 위한 충분한 양과 비율의 데이터를 확보하는 기법이다.  \n",
    "데이터의 손실이 없어 주로 사용된다.  \n",
    "오버 샘플링 종류에는 RandomOverSampling 과 SMOTE 등이 있고 SMOTE 를 사용하겠다."
   ]
  },
  {
   "cell_type": "code",
   "execution_count": 12,
   "id": "d37ca7b9",
   "metadata": {},
   "outputs": [
    {
     "name": "stdout",
     "output_type": "stream",
     "text": [
      "origin : Outcome\n",
      "0    349\n",
      "1    188\n",
      "Name: count, dtype: int64\n",
      "SMOTE : Outcome\n",
      "0    349\n",
      "1    349\n",
      "Name: count, dtype: int64\n"
     ]
    }
   ],
   "source": [
    "from sklearn.model_selection import train_test_split\n",
    "from imblearn.over_sampling import SMOTE\n",
    "\n",
    "X = df.drop(['Outcome'], axis = 1)\n",
    "y = df['Outcome']\n",
    "\n",
    "X_train, X_test, y_train, y_test = train_test_split(X, y, test_size = 0.3, random_state= 42)\n",
    "sm = SMOTE(k_neighbors=3, random_state= 42)\n",
    "\n",
    "X_train_sm, y_train_sm = sm.fit_resample(X_train, y_train)\n",
    "\n",
    "print('origin :', y_train.value_counts())\n",
    "print('SMOTE :', y_train_sm.value_counts())\n",
    "\n",
    "# 오버샘플링으로 소수의 클래스가 다수의 클래스의 데이터 수만큼 커졌음을 알 수 있다."
   ]
  },
  {
   "cell_type": "markdown",
   "id": "6822dc7d",
   "metadata": {
    "papermill": {
     "duration": 0.016732,
     "end_time": "2022-03-12T12:44:12.575049",
     "exception": false,
     "start_time": "2022-03-12T12:44:12.558317",
     "status": "completed"
    },
    "tags": []
   },
   "source": [
    "### 2-2 \n",
    "언더샘플링 과정 설명하고 결과 작성"
   ]
  },
  {
   "cell_type": "markdown",
   "id": "74180351",
   "metadata": {},
   "source": [
    "다수의 레이블을 가진 데이터를 샘플링하여 소수의 데이터세트가 가진 레이블의 수 수준으로 감소시키는 기법이다.  \n",
    "데이터 불균형 문제는 피할 수 있지만 전체 데이터 수가 급격하게 감소하여 학습 성능을 떨어뜨릴 수 있다.  \n",
    "대표적인 언더샘플링 방법으로는 RandomUnderSampling 이 있다"
   ]
  },
  {
   "cell_type": "code",
   "execution_count": 13,
   "id": "9760bc27",
   "metadata": {},
   "outputs": [
    {
     "name": "stdout",
     "output_type": "stream",
     "text": [
      "origin : Outcome\n",
      "0    349\n",
      "1    188\n",
      "Name: count, dtype: int64\n",
      "RandomUnderSampling : Outcome\n",
      "0    188\n",
      "1    188\n",
      "Name: count, dtype: int64\n"
     ]
    }
   ],
   "source": [
    "from imblearn.under_sampling import RandomUnderSampler\n",
    "\n",
    "under = RandomUnderSampler(random_state=42)\n",
    "X_train_under, y_train_under = under.fit_resample(X_train, y_train)\n",
    "\n",
    "print('origin :', y_train.value_counts())\n",
    "print('RandomUnderSampling :', y_train_under.value_counts())\n",
    "\n",
    "# 소수의 클래스의 데이터 수만큼 다수의 클래스 데이터가 줄어듦을 알 수 있다."
   ]
  },
  {
   "cell_type": "markdown",
   "id": "6549b4c7",
   "metadata": {
    "papermill": {
     "duration": 0.016917,
     "end_time": "2022-03-12T12:44:12.609075",
     "exception": false,
     "start_time": "2022-03-12T12:44:12.592158",
     "status": "completed"
    },
    "tags": []
   },
   "source": [
    "### 2-3 \n",
    "둘 중 선택하고 이유 설명"
   ]
  },
  {
   "cell_type": "markdown",
   "id": "fca87a46",
   "metadata": {},
   "source": [
    "간단한 랜덤포레스트 분류로 성능을 비교해보자."
   ]
  },
  {
   "cell_type": "code",
   "execution_count": 14,
   "id": "9a1fa7e7",
   "metadata": {},
   "outputs": [
    {
     "name": "stdout",
     "output_type": "stream",
     "text": [
      "normal roc_auc_score : 0.7161009933774835\n",
      "SMOTE roc_auc_score : 0.7208609271523179\n",
      "Under roc_auc_score : 0.7098096026490065\n"
     ]
    }
   ],
   "source": [
    "from sklearn.ensemble import RandomForestClassifier\n",
    "from sklearn.metrics import roc_auc_score\n",
    "\n",
    "rf = RandomForestClassifier(random_state=42)\n",
    "rf.fit(X_train, y_train)\n",
    "\n",
    "y_pred = rf.predict(X_test)\n",
    "\n",
    "rf = RandomForestClassifier(random_state=42)\n",
    "rf.fit(X_train_sm, y_train_sm)\n",
    "\n",
    "y_pred_sm = rf.predict(X_test)\n",
    "\n",
    "rf = RandomForestClassifier(random_state=42)\n",
    "rf.fit(X_train_under, y_train_under)\n",
    "\n",
    "y_pred_under = rf.predict(X_test)\n",
    "\n",
    "print('normal roc_auc_score :', roc_auc_score(y_test, y_pred))\n",
    "print('SMOTE roc_auc_score :', roc_auc_score(y_test, y_pred_sm))\n",
    "print('Under roc_auc_score :', roc_auc_score(y_test, y_pred_under))\n",
    "\n",
    "# 오버샘플링 기법인 SMOTE 가 가장 성능이 좋으므로 오버샘플링 기법을 선택하겠다."
   ]
  },
  {
   "cell_type": "markdown",
   "id": "438ca6c7",
   "metadata": {
    "papermill": {
     "duration": 0.017261,
     "end_time": "2022-03-12T12:44:12.678991",
     "exception": false,
     "start_time": "2022-03-12T12:44:12.661730",
     "status": "completed"
    },
    "tags": []
   },
   "source": [
    "### 3-1 \n",
    "최소 3개 이상 알고리즘 제시하고 정확도 측면의 모델 1개와 속도 측면의 모델 1개를 꼭 구현(총 2개 이상)"
   ]
  },
  {
   "cell_type": "markdown",
   "id": "12743603",
   "metadata": {},
   "source": [
    "분류분석에는 LogisticRegression, RandomForest, SVM 알고리즘 등이 사용될 수 있다."
   ]
  },
  {
   "cell_type": "code",
   "execution_count": null,
   "id": "580a1d38",
   "metadata": {},
   "outputs": [],
   "source": [
    "from sklearn.linear_model import LogisticRegression\n",
    "from xgboost import XGBClassifier\n",
    "from sklearn.ensemble import RandomForestClassifier\n",
    "\n",
    "log = LogisticRegression()\n",
    "rf = RandomForestClassifier()\n",
    "xgb = XGBClassifier()"
   ]
  },
  {
   "cell_type": "markdown",
   "id": "9231ff99",
   "metadata": {},
   "source": [
    "### 3-2 \n",
    "모델 비교하고 결과 설명"
   ]
  },
  {
   "cell_type": "code",
   "execution_count": 23,
   "id": "1ff7e153",
   "metadata": {},
   "outputs": [
    {
     "name": "stdout",
     "output_type": "stream",
     "text": [
      "걸린 시간 : 0.010887622833251953\n",
      "log roc_auc score : 0.701365894039735\n"
     ]
    }
   ],
   "source": [
    "import time\n",
    "\n",
    "log = LogisticRegression()\n",
    "\n",
    "start = time.time()\n",
    "log.fit(X_train_sm, y_train_sm)\n",
    "end = time.time()\n",
    "\n",
    "log_time = end - start\n",
    "y_pred_log = log.predict(X_test)\n",
    "\n",
    "print('걸린 시간 :', log_time)\n",
    "print('log roc_auc score :', roc_auc_score(y_test, y_pred_log))"
   ]
  },
  {
   "cell_type": "code",
   "execution_count": 24,
   "id": "c7012a58",
   "metadata": {},
   "outputs": [
    {
     "name": "stdout",
     "output_type": "stream",
     "text": [
      "걸린 시간 : 0.15224099159240723\n",
      "log roc_auc score : 0.7241721854304636\n"
     ]
    }
   ],
   "source": [
    "rf = RandomForestClassifier()\n",
    "\n",
    "start = time.time()\n",
    "rf.fit(X_train_sm, y_train_sm)\n",
    "end = time.time()\n",
    "\n",
    "rf_time = end - start\n",
    "y_pred_rf = rf.predict(X_test)\n",
    "\n",
    "print('걸린 시간 :', rf_time)\n",
    "print('log roc_auc score :', roc_auc_score(y_test, y_pred_rf))"
   ]
  },
  {
   "cell_type": "code",
   "execution_count": 39,
   "id": "8a839f09",
   "metadata": {},
   "outputs": [
    {
     "data": {
      "text/plain": [
       "{'max_depth': 6, 'min_child_weight': 5, 'subsample': 0.9}"
      ]
     },
     "execution_count": 39,
     "metadata": {},
     "output_type": "execute_result"
    }
   ],
   "source": [
    "# XGBClassifier 은 파라미터 값에 따라 정확도가 크게 변하므로 GridSearchCV로 최적의 파라미터를 찾아보자.\n",
    "from sklearn.model_selection import GridSearchCV\n",
    "\n",
    "param_grid = {'max_depth' : [3,4,5,6], 'subsample' : [0.5, 0.7, 0.9], 'min_child_weight' : [3,5,7,9,10]}\n",
    "\n",
    "grid_xgb = GridSearchCV(XGBClassifier(), param_grid, cv = 3)\n",
    "grid_xgb.fit(X_train_sm, y_train_sm)\n",
    "grid_xgb.best_params_"
   ]
  },
  {
   "cell_type": "code",
   "execution_count": 40,
   "id": "d70c5439",
   "metadata": {},
   "outputs": [
    {
     "name": "stdout",
     "output_type": "stream",
     "text": [
      "걸린 시간 : 0.07334184646606445\n",
      "xgb roc_auc score : 0.7171771523178808\n"
     ]
    }
   ],
   "source": [
    "xgb = XGBClassifier(max_depth = 6, subsample = 0.9, min_child_weight = 5)\n",
    "\n",
    "start = time.time()\n",
    "xgb.fit(X_train_sm, y_train_sm)\n",
    "end = time.time()\n",
    "\n",
    "xgb_time = end - start\n",
    "y_pred_xgb = xgb.predict(X_test)\n",
    "\n",
    "print('걸린 시간 :', xgb_time)\n",
    "print('xgb roc_auc score :', roc_auc_score(y_test, y_pred_xgb))"
   ]
  },
  {
   "cell_type": "markdown",
   "id": "0fc3c11d",
   "metadata": {},
   "source": [
    "가장 속도가 빠른 것은 로지스틱회귀분석이고, 가장 정확한 것은 랜덤포레스트였다. "
   ]
  },
  {
   "cell_type": "markdown",
   "id": "82e76591",
   "metadata": {
    "papermill": {
     "duration": 0.019203,
     "end_time": "2022-03-12T12:44:12.752167",
     "exception": false,
     "start_time": "2022-03-12T12:44:12.732964",
     "status": "completed"
    },
    "tags": []
   },
   "source": [
    "### 3-3 \n",
    "속도 개선을 위한 차원 축소 설명하고 수행, 예측 성능과 속도 비교하고 결과 작성"
   ]
  },
  {
   "cell_type": "markdown",
   "id": "7f6a8ee5",
   "metadata": {},
   "source": [
    "속도 개선을 위한 차원 축소 방법으로는 PCA와 변수 선택법 등이 있다.  \n",
    "PCA를 이용해 차원축소를 수행하겠다.  \n",
    "PCA 를 하기 전에 변수 스케일링을 해주어야 하므로 StandardScaler 를 이용해 스케일링을 하겠다."
   ]
  },
  {
   "cell_type": "code",
   "execution_count": 42,
   "id": "6e187002",
   "metadata": {},
   "outputs": [],
   "source": [
    "from sklearn.preprocessing import StandardScaler\n",
    "\n",
    "scaler = StandardScaler()\n",
    "X_train_sm_scaled = scaler.fit_transform(X_train_sm)\n",
    "X_test_scaled = scaler.fit_transform(X_test)"
   ]
  },
  {
   "cell_type": "code",
   "execution_count": 47,
   "id": "2fcf0858",
   "metadata": {},
   "outputs": [
    {
     "data": {
      "text/html": [
       "<div>\n",
       "<style scoped>\n",
       "    .dataframe tbody tr th:only-of-type {\n",
       "        vertical-align: middle;\n",
       "    }\n",
       "\n",
       "    .dataframe tbody tr th {\n",
       "        vertical-align: top;\n",
       "    }\n",
       "\n",
       "    .dataframe thead th {\n",
       "        text-align: right;\n",
       "    }\n",
       "</style>\n",
       "<table border=\"1\" class=\"dataframe\">\n",
       "  <thead>\n",
       "    <tr style=\"text-align: right;\">\n",
       "      <th></th>\n",
       "      <th>고유값</th>\n",
       "      <th>기여율</th>\n",
       "      <th>누적기여율</th>\n",
       "    </tr>\n",
       "  </thead>\n",
       "  <tbody>\n",
       "    <tr>\n",
       "      <th>0</th>\n",
       "      <td>1.965460</td>\n",
       "      <td>0.245331</td>\n",
       "      <td>0.245331</td>\n",
       "    </tr>\n",
       "    <tr>\n",
       "      <th>1</th>\n",
       "      <td>1.813594</td>\n",
       "      <td>0.226374</td>\n",
       "      <td>0.471705</td>\n",
       "    </tr>\n",
       "    <tr>\n",
       "      <th>2</th>\n",
       "      <td>1.023776</td>\n",
       "      <td>0.127789</td>\n",
       "      <td>0.599494</td>\n",
       "    </tr>\n",
       "    <tr>\n",
       "      <th>3</th>\n",
       "      <td>0.912642</td>\n",
       "      <td>0.113917</td>\n",
       "      <td>0.713410</td>\n",
       "    </tr>\n",
       "    <tr>\n",
       "      <th>4</th>\n",
       "      <td>0.888826</td>\n",
       "      <td>0.110944</td>\n",
       "      <td>0.824355</td>\n",
       "    </tr>\n",
       "    <tr>\n",
       "      <th>5</th>\n",
       "      <td>0.649509</td>\n",
       "      <td>0.081072</td>\n",
       "      <td>0.905427</td>\n",
       "    </tr>\n",
       "    <tr>\n",
       "      <th>6</th>\n",
       "      <td>0.397309</td>\n",
       "      <td>0.049592</td>\n",
       "      <td>0.955019</td>\n",
       "    </tr>\n",
       "    <tr>\n",
       "      <th>7</th>\n",
       "      <td>0.360362</td>\n",
       "      <td>0.044981</td>\n",
       "      <td>1.000000</td>\n",
       "    </tr>\n",
       "  </tbody>\n",
       "</table>\n",
       "</div>"
      ],
      "text/plain": [
       "        고유값       기여율     누적기여율\n",
       "0  1.965460  0.245331  0.245331\n",
       "1  1.813594  0.226374  0.471705\n",
       "2  1.023776  0.127789  0.599494\n",
       "3  0.912642  0.113917  0.713410\n",
       "4  0.888826  0.110944  0.824355\n",
       "5  0.649509  0.081072  0.905427\n",
       "6  0.397309  0.049592  0.955019\n",
       "7  0.360362  0.044981  1.000000"
      ]
     },
     "execution_count": 47,
     "metadata": {},
     "output_type": "execute_result"
    }
   ],
   "source": [
    "from sklearn.decomposition import PCA\n",
    "pca = PCA(n_components=8)\n",
    "pca.fit(X_train_sm_scaled)\n",
    "\n",
    "e_value = pd.DataFrame({'고유값' : pca.explained_variance_, '기여율' : pca.explained_variance_ratio_})\n",
    "e_value['누적기여율'] = e_value['기여율'].cumsum()\n",
    "e_value\n",
    "\n",
    "# 누적 기여율이 80% 가 넘어갈 때 주성분 수는 5개이다."
   ]
  },
  {
   "cell_type": "code",
   "execution_count": 50,
   "id": "25bc3248",
   "metadata": {},
   "outputs": [
    {
     "name": "stdout",
     "output_type": "stream",
     "text": [
      "걸린 시간 : 0.003336191177368164\n",
      "log roc_auc score : 0.6259519867549669\n",
      "걸린 시간 : 0.19979524612426758\n",
      "log roc_auc score : 0.5785182119205298\n",
      "걸린 시간 : 0.06575846672058105\n",
      "xgb roc_auc score : 0.575951986754967\n"
     ]
    }
   ],
   "source": [
    "pca = PCA(n_components=5)\n",
    "X_train_pca = pca.fit_transform(X_train_sm_scaled)\n",
    "X_test_pca = pca.fit_transform(X_test_scaled)\n",
    "\n",
    "log = LogisticRegression()\n",
    "\n",
    "start = time.time()\n",
    "log.fit(X_train_pca, y_train_sm)\n",
    "end = time.time()\n",
    "\n",
    "log_time = end - start\n",
    "y_pred_log = log.predict(X_test_pca)\n",
    "\n",
    "print('걸린 시간 :', log_time)\n",
    "print('log roc_auc score :', roc_auc_score(y_test, y_pred_log))\n",
    "\n",
    "rf = RandomForestClassifier()\n",
    "\n",
    "start = time.time()\n",
    "rf.fit(X_train_pca, y_train_sm)\n",
    "end = time.time()\n",
    "\n",
    "rf_time = end - start\n",
    "y_pred_rf = rf.predict(X_test_pca)\n",
    "\n",
    "print('걸린 시간 :', rf_time)\n",
    "print('log roc_auc score :', roc_auc_score(y_test, y_pred_rf))\n",
    "\n",
    "xgb = XGBClassifier(max_depth = 6, subsample = 0.9, min_child_weight = 5)\n",
    "\n",
    "start = time.time()\n",
    "xgb.fit(X_train_pca, y_train_sm)\n",
    "end = time.time()\n",
    "\n",
    "xgb_time = end - start\n",
    "y_pred_xgb = xgb.predict(X_test_pca)\n",
    "\n",
    "print('걸린 시간 :', xgb_time)\n",
    "print('xgb roc_auc score :', roc_auc_score(y_test, y_pred_xgb))"
   ]
  },
  {
   "cell_type": "markdown",
   "id": "e45f9c02",
   "metadata": {},
   "source": [
    "예측 성능 측면에서는 떨어졌지만 속도 측면에서는 차원 축소를 통해 빨라졌다.  \n",
    "트리기반 모델은 스케일링이 불필요하기 때문에 예측 성능이 떨어졌다고 예상된다.  \n",
    "데이터의 크기가 커지고 열의 수가 많아진다면 PCA 를 통해 속도적인 측면에서 크게 유리할 것으로 판단된다. "
   ]
  },
  {
   "cell_type": "markdown",
   "id": "728df8b1",
   "metadata": {
    "papermill": {
     "duration": 0.017196,
     "end_time": "2022-03-12T12:44:12.787025",
     "exception": false,
     "start_time": "2022-03-12T12:44:12.769829",
     "status": "completed"
    },
    "tags": []
   },
   "source": [
    "## 4\n",
    "금속 성분 함유량 데이터(변수 1개) - 제품에 금속 재질 함유량의 분산이 1.3을 넘으면 불량이라고 보고 있는데 제조사별로 차이가 난다고 제보를 받았으며, 분산에 대해 검정을 수행하시오. (유의확률 0.05)"
   ]
  },
  {
   "cell_type": "code",
   "execution_count": 84,
   "id": "e40947d1",
   "metadata": {},
   "outputs": [
    {
     "data": {
      "text/html": [
       "<div>\n",
       "<style scoped>\n",
       "    .dataframe tbody tr th:only-of-type {\n",
       "        vertical-align: middle;\n",
       "    }\n",
       "\n",
       "    .dataframe tbody tr th {\n",
       "        vertical-align: top;\n",
       "    }\n",
       "\n",
       "    .dataframe thead th {\n",
       "        text-align: right;\n",
       "    }\n",
       "</style>\n",
       "<table border=\"1\" class=\"dataframe\">\n",
       "  <thead>\n",
       "    <tr style=\"text-align: right;\">\n",
       "      <th></th>\n",
       "      <th>content</th>\n",
       "    </tr>\n",
       "  </thead>\n",
       "  <tbody>\n",
       "    <tr>\n",
       "      <th>0</th>\n",
       "      <td>97.995295</td>\n",
       "    </tr>\n",
       "    <tr>\n",
       "      <th>1</th>\n",
       "      <td>101.478315</td>\n",
       "    </tr>\n",
       "    <tr>\n",
       "      <th>2</th>\n",
       "      <td>102.284913</td>\n",
       "    </tr>\n",
       "    <tr>\n",
       "      <th>3</th>\n",
       "      <td>98.993634</td>\n",
       "    </tr>\n",
       "    <tr>\n",
       "      <th>4</th>\n",
       "      <td>104.635232</td>\n",
       "    </tr>\n",
       "    <tr>\n",
       "      <th>...</th>\n",
       "      <td>...</td>\n",
       "    </tr>\n",
       "    <tr>\n",
       "      <th>195</th>\n",
       "      <td>100.568703</td>\n",
       "    </tr>\n",
       "    <tr>\n",
       "      <th>196</th>\n",
       "      <td>99.082193</td>\n",
       "    </tr>\n",
       "    <tr>\n",
       "      <th>197</th>\n",
       "      <td>100.163027</td>\n",
       "    </tr>\n",
       "    <tr>\n",
       "      <th>198</th>\n",
       "      <td>99.327200</td>\n",
       "    </tr>\n",
       "    <tr>\n",
       "      <th>199</th>\n",
       "      <td>100.920466</td>\n",
       "    </tr>\n",
       "  </tbody>\n",
       "</table>\n",
       "<p>200 rows × 1 columns</p>\n",
       "</div>"
      ],
      "text/plain": [
       "        content\n",
       "0     97.995295\n",
       "1    101.478315\n",
       "2    102.284913\n",
       "3     98.993634\n",
       "4    104.635232\n",
       "..          ...\n",
       "195  100.568703\n",
       "196   99.082193\n",
       "197  100.163027\n",
       "198   99.327200\n",
       "199  100.920466\n",
       "\n",
       "[200 rows x 1 columns]"
      ]
     },
     "execution_count": 84,
     "metadata": {},
     "output_type": "execute_result"
    }
   ],
   "source": [
    "import pandas as pd\n",
    "\n",
    "data = pd.read_csv('https://raw.githubusercontent.com/Datamanim/datarepo/main/adp/22/content.csv')\n",
    "data"
   ]
  },
  {
   "cell_type": "markdown",
   "id": "570f2282",
   "metadata": {
    "papermill": {
     "duration": 0.017002,
     "end_time": "2022-03-12T12:44:12.856226",
     "exception": false,
     "start_time": "2022-03-12T12:44:12.839224",
     "status": "completed"
    },
    "tags": []
   },
   "source": [
    "### 4-1 \n",
    "연구가설과 귀무가설 작성"
   ]
  },
  {
   "cell_type": "code",
   "execution_count": 78,
   "id": "99a1a6a1",
   "metadata": {},
   "outputs": [],
   "source": [
    "# H0 : 분산이 1.3 이다.\n",
    "# H1 : 분산이 1.3 이 아니다."
   ]
  },
  {
   "cell_type": "code",
   "execution_count": 93,
   "id": "8611cc10",
   "metadata": {},
   "outputs": [
    {
     "name": "stdout",
     "output_type": "stream",
     "text": [
      "검정통계량 : 161.826, 239.960, 임계값 : 328.292\n",
      "유의수준 : 0.05, 유의확률 : 4.2726668647574684e-08\n"
     ]
    }
   ],
   "source": [
    "n = 200\n",
    "v = data['content'].var(ddof = 1)\n",
    "df = n - 1\n",
    "v0 = 1.3\n",
    "test_a = 0.05\n",
    "\n",
    "cstat = df * v / v0\n",
    "\n",
    "from scipy.stats import chi2\n",
    "\n",
    "# 양측검정이므로\n",
    "if chi2.cdf(cstat, df) < 0.5:\n",
    "    sp = (chi2.cdf(cstat, df)) * 2\n",
    "else:\n",
    "    sp = (1-chi2.cdf(cstat, df)) * 2\n",
    "    \n",
    "cv1 = chi2.ppf(test_a/2, df)\n",
    "cv2 = chi2.ppf(1-test_a/2, df)\n",
    "\n",
    "cv = [cv1, cv2]\n",
    "\n",
    "print('검정통계량 : {:.3f}, {:.3f}, 임계값 : {:.3f}'.format(cv[0], cv[1], cstat))\n",
    "print('유의수준 : {}, 유의확률 : {}'.format(test_a, sp))\n",
    "\n",
    "# 귀무가설을 기각한다. 즉 분산이 1.3이 아니다."
   ]
  },
  {
   "cell_type": "markdown",
   "id": "831f659e",
   "metadata": {
    "papermill": {
     "duration": 0.017203,
     "end_time": "2022-03-12T12:44:12.890980",
     "exception": false,
     "start_time": "2022-03-12T12:44:12.873777",
     "status": "completed"
    },
    "tags": []
   },
   "source": [
    "### 4-2 \n",
    "양측 검정"
   ]
  },
  {
   "cell_type": "code",
   "execution_count": 59,
   "id": "f399e3ca",
   "metadata": {},
   "outputs": [
    {
     "data": {
      "text/plain": [
       "ShapiroResult(statistic=0.9930028915405273, pvalue=0.4606507122516632)"
      ]
     },
     "execution_count": 59,
     "metadata": {},
     "output_type": "execute_result"
    }
   ],
   "source": [
    "# 데이터의 정규성 검정을 먼저 실시하자.\n",
    "from scipy.stats import shapiro\n",
    "\n",
    "shapiro(df['content']) # 정규성을 만족한다."
   ]
  },
  {
   "cell_type": "code",
   "execution_count": 60,
   "id": "bdcc19b1",
   "metadata": {},
   "outputs": [
    {
     "data": {
      "text/plain": [
       "LeveneResult(statistic=7.71443709631808, pvalue=0.005737197246690708)"
      ]
     },
     "execution_count": 60,
     "metadata": {},
     "output_type": "execute_result"
    }
   ],
   "source": [
    "# 등분산성 검정으로 데이터의 분산이 1.3임을 검증하기 위해 분산이 1.3인 정규분포 데이터를 생성하자.\n",
    "data = np.random.normal(df['content'].mean(), np.sqrt(1.3), size = 200)\n",
    "\n",
    "# 등분산성 검정을 시행하자.\n",
    "from scipy.stats import levene\n",
    "\n",
    "levene(df['content'], data)\n",
    "\n",
    "# p값이 0.05보다 작으므로 귀무가설을 기각한다. 즉 등분산성을 만족하지 않으므로 분산이 1.3이 아니다."
   ]
  },
  {
   "cell_type": "markdown",
   "id": "1549d042",
   "metadata": {
    "papermill": {
     "duration": 0.017126,
     "end_time": "2022-03-12T12:44:12.925978",
     "exception": false,
     "start_time": "2022-03-12T12:44:12.908852",
     "status": "completed"
    },
    "tags": []
   },
   "source": [
    "### 4-3 \n",
    "검정통계량, 가설 채택"
   ]
  },
  {
   "cell_type": "markdown",
   "id": "fafcff71",
   "metadata": {
    "papermill": {
     "duration": 0.018615,
     "end_time": "2022-03-12T12:44:12.962085",
     "exception": false,
     "start_time": "2022-03-12T12:44:12.943470",
     "status": "completed"
    },
    "tags": []
   },
   "source": [
    "## 5\n",
    "Lot별 200개에 대한 불량 제품 수량 데이터(변수 2개 - lot번호, 불량제품수)    "
   ]
  },
  {
   "cell_type": "code",
   "execution_count": 97,
   "id": "0579a700",
   "metadata": {},
   "outputs": [
    {
     "data": {
      "text/html": [
       "<div>\n",
       "<style scoped>\n",
       "    .dataframe tbody tr th:only-of-type {\n",
       "        vertical-align: middle;\n",
       "    }\n",
       "\n",
       "    .dataframe tbody tr th {\n",
       "        vertical-align: top;\n",
       "    }\n",
       "\n",
       "    .dataframe thead th {\n",
       "        text-align: right;\n",
       "    }\n",
       "</style>\n",
       "<table border=\"1\" class=\"dataframe\">\n",
       "  <thead>\n",
       "    <tr style=\"text-align: right;\">\n",
       "      <th></th>\n",
       "      <th>생산수량</th>\n",
       "      <th>불량수량</th>\n",
       "    </tr>\n",
       "    <tr>\n",
       "      <th>lot</th>\n",
       "      <th></th>\n",
       "      <th></th>\n",
       "    </tr>\n",
       "  </thead>\n",
       "  <tbody>\n",
       "    <tr>\n",
       "      <th>1</th>\n",
       "      <td>587</td>\n",
       "      <td>19</td>\n",
       "    </tr>\n",
       "    <tr>\n",
       "      <th>2</th>\n",
       "      <td>588</td>\n",
       "      <td>15</td>\n",
       "    </tr>\n",
       "    <tr>\n",
       "      <th>3</th>\n",
       "      <td>455</td>\n",
       "      <td>19</td>\n",
       "    </tr>\n",
       "    <tr>\n",
       "      <th>4</th>\n",
       "      <td>666</td>\n",
       "      <td>12</td>\n",
       "    </tr>\n",
       "    <tr>\n",
       "      <th>5</th>\n",
       "      <td>750</td>\n",
       "      <td>15</td>\n",
       "    </tr>\n",
       "    <tr>\n",
       "      <th>...</th>\n",
       "      <td>...</td>\n",
       "      <td>...</td>\n",
       "    </tr>\n",
       "    <tr>\n",
       "      <th>196</th>\n",
       "      <td>631</td>\n",
       "      <td>18</td>\n",
       "    </tr>\n",
       "    <tr>\n",
       "      <th>197</th>\n",
       "      <td>565</td>\n",
       "      <td>21</td>\n",
       "    </tr>\n",
       "    <tr>\n",
       "      <th>198</th>\n",
       "      <td>570</td>\n",
       "      <td>12</td>\n",
       "    </tr>\n",
       "    <tr>\n",
       "      <th>199</th>\n",
       "      <td>517</td>\n",
       "      <td>10</td>\n",
       "    </tr>\n",
       "    <tr>\n",
       "      <th>200</th>\n",
       "      <td>750</td>\n",
       "      <td>16</td>\n",
       "    </tr>\n",
       "  </tbody>\n",
       "</table>\n",
       "<p>200 rows × 2 columns</p>\n",
       "</div>"
      ],
      "text/plain": [
       "     생산수량  불량수량\n",
       "lot            \n",
       "1     587    19\n",
       "2     588    15\n",
       "3     455    19\n",
       "4     666    12\n",
       "5     750    15\n",
       "..    ...   ...\n",
       "196   631    18\n",
       "197   565    21\n",
       "198   570    12\n",
       "199   517    10\n",
       "200   750    16\n",
       "\n",
       "[200 rows x 2 columns]"
      ]
     },
     "execution_count": 97,
     "metadata": {},
     "output_type": "execute_result"
    }
   ],
   "source": [
    "import pandas as pd\n",
    "df = pd.read_csv('https://raw.githubusercontent.com/ADPclass/ADP_book_ver01/main/data/lot_quality.csv')\n",
    "df = df.set_index('lot')\n",
    "df"
   ]
  },
  {
   "cell_type": "markdown",
   "id": "a78783bc",
   "metadata": {
    "papermill": {
     "duration": 0.017084,
     "end_time": "2022-03-12T12:44:12.997067",
     "exception": false,
     "start_time": "2022-03-12T12:44:12.979983",
     "status": "completed"
    },
    "tags": []
   },
   "source": [
    "### 5-1 \n",
    "불량률 관리도에 따라 관리중심선(CL : Center Line), 관리 상한선(UCL : Upper Control Limit), 하한선(LCL : Lower Control Limit) 구하기"
   ]
  },
  {
   "cell_type": "markdown",
   "id": "d2a6982d",
   "metadata": {},
   "source": [
    "- p관리도 : 전체품목의 표본에서 부적합 부품의 수의 비율"
   ]
  },
  {
   "cell_type": "markdown",
   "id": "78422e5a",
   "metadata": {},
   "source": [
    "p관리도를 구하는 방법\n",
    "+ n : lot별 생산수량\n",
    "+ p : lot별 불량수량 %\n",
    "+ CL(관리중심선) : 전체 불량수량 / 전체 생산수량\n",
    "+ 관리 상하한선 : $p \\plusmn 3 \\sqrt{\\frac{p(1-p)}{n}} $"
   ]
  },
  {
   "cell_type": "code",
   "execution_count": 103,
   "id": "359c5118",
   "metadata": {},
   "outputs": [
    {
     "name": "stdout",
     "output_type": "stream",
     "text": [
      "CL : 0.029024320840935338\n"
     ]
    },
    {
     "data": {
      "text/html": [
       "<div>\n",
       "<style scoped>\n",
       "    .dataframe tbody tr th:only-of-type {\n",
       "        vertical-align: middle;\n",
       "    }\n",
       "\n",
       "    .dataframe tbody tr th {\n",
       "        vertical-align: top;\n",
       "    }\n",
       "\n",
       "    .dataframe thead th {\n",
       "        text-align: right;\n",
       "    }\n",
       "</style>\n",
       "<table border=\"1\" class=\"dataframe\">\n",
       "  <thead>\n",
       "    <tr style=\"text-align: right;\">\n",
       "      <th></th>\n",
       "      <th>생산수량</th>\n",
       "      <th>불량수량</th>\n",
       "      <th>p</th>\n",
       "      <th>ucl</th>\n",
       "      <th>lcl</th>\n",
       "    </tr>\n",
       "    <tr>\n",
       "      <th>lot</th>\n",
       "      <th></th>\n",
       "      <th></th>\n",
       "      <th></th>\n",
       "      <th></th>\n",
       "      <th></th>\n",
       "    </tr>\n",
       "  </thead>\n",
       "  <tbody>\n",
       "    <tr>\n",
       "      <th>1</th>\n",
       "      <td>587</td>\n",
       "      <td>19</td>\n",
       "      <td>0.032368</td>\n",
       "      <td>0.054282</td>\n",
       "      <td>0.010454</td>\n",
       "    </tr>\n",
       "    <tr>\n",
       "      <th>2</th>\n",
       "      <td>588</td>\n",
       "      <td>15</td>\n",
       "      <td>0.025510</td>\n",
       "      <td>0.045017</td>\n",
       "      <td>0.006004</td>\n",
       "    </tr>\n",
       "    <tr>\n",
       "      <th>3</th>\n",
       "      <td>455</td>\n",
       "      <td>19</td>\n",
       "      <td>0.041758</td>\n",
       "      <td>0.069892</td>\n",
       "      <td>0.013625</td>\n",
       "    </tr>\n",
       "    <tr>\n",
       "      <th>4</th>\n",
       "      <td>666</td>\n",
       "      <td>12</td>\n",
       "      <td>0.018018</td>\n",
       "      <td>0.033481</td>\n",
       "      <td>0.002555</td>\n",
       "    </tr>\n",
       "    <tr>\n",
       "      <th>5</th>\n",
       "      <td>750</td>\n",
       "      <td>15</td>\n",
       "      <td>0.020000</td>\n",
       "      <td>0.035336</td>\n",
       "      <td>0.004664</td>\n",
       "    </tr>\n",
       "    <tr>\n",
       "      <th>...</th>\n",
       "      <td>...</td>\n",
       "      <td>...</td>\n",
       "      <td>...</td>\n",
       "      <td>...</td>\n",
       "      <td>...</td>\n",
       "    </tr>\n",
       "    <tr>\n",
       "      <th>196</th>\n",
       "      <td>631</td>\n",
       "      <td>18</td>\n",
       "      <td>0.028526</td>\n",
       "      <td>0.048407</td>\n",
       "      <td>0.008645</td>\n",
       "    </tr>\n",
       "    <tr>\n",
       "      <th>197</th>\n",
       "      <td>565</td>\n",
       "      <td>21</td>\n",
       "      <td>0.037168</td>\n",
       "      <td>0.061044</td>\n",
       "      <td>0.013292</td>\n",
       "    </tr>\n",
       "    <tr>\n",
       "      <th>198</th>\n",
       "      <td>570</td>\n",
       "      <td>12</td>\n",
       "      <td>0.021053</td>\n",
       "      <td>0.039092</td>\n",
       "      <td>0.003013</td>\n",
       "    </tr>\n",
       "    <tr>\n",
       "      <th>199</th>\n",
       "      <td>517</td>\n",
       "      <td>10</td>\n",
       "      <td>0.019342</td>\n",
       "      <td>0.037514</td>\n",
       "      <td>0.001171</td>\n",
       "    </tr>\n",
       "    <tr>\n",
       "      <th>200</th>\n",
       "      <td>750</td>\n",
       "      <td>16</td>\n",
       "      <td>0.021333</td>\n",
       "      <td>0.037162</td>\n",
       "      <td>0.005505</td>\n",
       "    </tr>\n",
       "  </tbody>\n",
       "</table>\n",
       "<p>200 rows × 5 columns</p>\n",
       "</div>"
      ],
      "text/plain": [
       "     생산수량  불량수량         p       ucl       lcl\n",
       "lot                                          \n",
       "1     587    19  0.032368  0.054282  0.010454\n",
       "2     588    15  0.025510  0.045017  0.006004\n",
       "3     455    19  0.041758  0.069892  0.013625\n",
       "4     666    12  0.018018  0.033481  0.002555\n",
       "5     750    15  0.020000  0.035336  0.004664\n",
       "..    ...   ...       ...       ...       ...\n",
       "196   631    18  0.028526  0.048407  0.008645\n",
       "197   565    21  0.037168  0.061044  0.013292\n",
       "198   570    12  0.021053  0.039092  0.003013\n",
       "199   517    10  0.019342  0.037514  0.001171\n",
       "200   750    16  0.021333  0.037162  0.005505\n",
       "\n",
       "[200 rows x 5 columns]"
      ]
     },
     "execution_count": 103,
     "metadata": {},
     "output_type": "execute_result"
    }
   ],
   "source": [
    "df['p'] = df['불량수량'] / df['생산수량']\n",
    "cl = sum(df['불량수량']) / sum(df['생산수량'])\n",
    "\n",
    "df['ucl'] = df['p'] + 3 * np.sqrt((df['p'] * (1 - df['p'])) / df['생산수량'])\n",
    "df['lcl'] = df['p'] - 3 * np.sqrt((df['p'] * (1 - df['p'])) / df['생산수량'])\n",
    "\n",
    "print('CL :', cl)\n",
    "\n",
    "df"
   ]
  },
  {
   "cell_type": "markdown",
   "id": "4c5e2412",
   "metadata": {
    "papermill": {
     "duration": 0.018656,
     "end_time": "2022-03-12T12:44:13.034525",
     "exception": false,
     "start_time": "2022-03-12T12:44:13.015869",
     "status": "completed"
    },
    "tags": []
   },
   "source": [
    "### 5-2 \n",
    "관리도 시각화"
   ]
  },
  {
   "cell_type": "code",
   "execution_count": 110,
   "id": "62c71273",
   "metadata": {},
   "outputs": [
    {
     "data": {
      "image/png": "[encoded data removed]",
      "text/plain": [
       "<Figure size 640x480 with 1 Axes>"
      ]
     },
     "metadata": {},
     "output_type": "display_data"
    }
   ],
   "source": [
    "plt.plot(df['ucl'])\n",
    "plt.plot(df['lcl'])\n",
    "plt.plot(df['p'])\n",
    "plt.hlines(cl, 0, 200, color = 'r')\n",
    "plt.legend(['UCL', 'LCL', 'p', 'CL'])\n",
    "plt.show()"
   ]
  },
  {
   "cell_type": "markdown",
   "id": "df62dda2",
   "metadata": {
    "papermill": {
     "duration": 0.017183,
     "end_time": "2022-03-12T12:44:13.070109",
     "exception": false,
     "start_time": "2022-03-12T12:44:13.052926",
     "status": "completed"
    },
    "tags": []
   },
   "source": [
    "## 6\n",
    "상품 a와 b가 있을 때 다음과 같은 구매 패턴이 있다고 한다. aa bb aaaa bbbb a b aa bb aa bbb aa bb a b 구매하는 패턴으로 보아 두 상품이 연관이 있는지 확인하라"
   ]
  },
  {
   "cell_type": "markdown",
   "id": "b522c193",
   "metadata": {
    "papermill": {
     "duration": 0.017145,
     "end_time": "2022-03-12T12:44:13.104747",
     "exception": false,
     "start_time": "2022-03-12T12:44:13.087602",
     "status": "completed"
    },
    "tags": []
   },
   "source": [
    "### 6-1 \n",
    "연구가설과 귀무가설 작성"
   ]
  },
  {
   "cell_type": "code",
   "execution_count": 111,
   "id": "46b81949",
   "metadata": {},
   "outputs": [],
   "source": [
    "# H0 : a,b 가 연관이 없다.\n",
    "# H1 : a,b 가 연관이 있다."
   ]
  },
  {
   "cell_type": "markdown",
   "id": "6cefc416",
   "metadata": {
    "papermill": {
     "duration": 0.017032,
     "end_time": "2022-03-12T12:44:13.139167",
     "exception": false,
     "start_time": "2022-03-12T12:44:13.122135",
     "status": "completed"
    },
    "tags": []
   },
   "source": [
    "### 6-2 \n",
    "평균과 표준편차"
   ]
  },
  {
   "cell_type": "code",
   "execution_count": 113,
   "id": "01cd9e68",
   "metadata": {},
   "outputs": [
    {
     "data": {
      "text/html": [
       "<div>\n",
       "<style scoped>\n",
       "    .dataframe tbody tr th:only-of-type {\n",
       "        vertical-align: middle;\n",
       "    }\n",
       "\n",
       "    .dataframe tbody tr th {\n",
       "        vertical-align: top;\n",
       "    }\n",
       "\n",
       "    .dataframe thead th {\n",
       "        text-align: right;\n",
       "    }\n",
       "</style>\n",
       "<table border=\"1\" class=\"dataframe\">\n",
       "  <thead>\n",
       "    <tr style=\"text-align: right;\">\n",
       "      <th></th>\n",
       "      <th>products</th>\n",
       "    </tr>\n",
       "  </thead>\n",
       "  <tbody>\n",
       "    <tr>\n",
       "      <th>0</th>\n",
       "      <td>0</td>\n",
       "    </tr>\n",
       "    <tr>\n",
       "      <th>1</th>\n",
       "      <td>0</td>\n",
       "    </tr>\n",
       "    <tr>\n",
       "      <th>2</th>\n",
       "      <td>1</td>\n",
       "    </tr>\n",
       "    <tr>\n",
       "      <th>3</th>\n",
       "      <td>1</td>\n",
       "    </tr>\n",
       "    <tr>\n",
       "      <th>4</th>\n",
       "      <td>0</td>\n",
       "    </tr>\n",
       "    <tr>\n",
       "      <th>5</th>\n",
       "      <td>0</td>\n",
       "    </tr>\n",
       "    <tr>\n",
       "      <th>6</th>\n",
       "      <td>0</td>\n",
       "    </tr>\n",
       "    <tr>\n",
       "      <th>7</th>\n",
       "      <td>0</td>\n",
       "    </tr>\n",
       "    <tr>\n",
       "      <th>8</th>\n",
       "      <td>1</td>\n",
       "    </tr>\n",
       "    <tr>\n",
       "      <th>9</th>\n",
       "      <td>1</td>\n",
       "    </tr>\n",
       "    <tr>\n",
       "      <th>10</th>\n",
       "      <td>1</td>\n",
       "    </tr>\n",
       "    <tr>\n",
       "      <th>11</th>\n",
       "      <td>1</td>\n",
       "    </tr>\n",
       "    <tr>\n",
       "      <th>12</th>\n",
       "      <td>1</td>\n",
       "    </tr>\n",
       "    <tr>\n",
       "      <th>13</th>\n",
       "      <td>0</td>\n",
       "    </tr>\n",
       "    <tr>\n",
       "      <th>14</th>\n",
       "      <td>0</td>\n",
       "    </tr>\n",
       "    <tr>\n",
       "      <th>15</th>\n",
       "      <td>1</td>\n",
       "    </tr>\n",
       "    <tr>\n",
       "      <th>16</th>\n",
       "      <td>1</td>\n",
       "    </tr>\n",
       "    <tr>\n",
       "      <th>17</th>\n",
       "      <td>0</td>\n",
       "    </tr>\n",
       "    <tr>\n",
       "      <th>18</th>\n",
       "      <td>1</td>\n",
       "    </tr>\n",
       "    <tr>\n",
       "      <th>19</th>\n",
       "      <td>1</td>\n",
       "    </tr>\n",
       "  </tbody>\n",
       "</table>\n",
       "</div>"
      ],
      "text/plain": [
       "    products\n",
       "0          0\n",
       "1          0\n",
       "2          1\n",
       "3          1\n",
       "4          0\n",
       "5          0\n",
       "6          0\n",
       "7          0\n",
       "8          1\n",
       "9          1\n",
       "10         1\n",
       "11         1\n",
       "12         1\n",
       "13         0\n",
       "14         0\n",
       "15         1\n",
       "16         1\n",
       "17         0\n",
       "18         1\n",
       "19         1"
      ]
     },
     "execution_count": 113,
     "metadata": {},
     "output_type": "execute_result"
    }
   ],
   "source": [
    "data = ['a','a','b','b','a','a','a','a','b','b','b','b','b','a','a','b','b','a','b','b']\n",
    "data = pd.DataFrame(data, columns= ['products'])\n",
    "data['products'] = data['products'].map({'a' : 0, 'b' : 1})\n",
    "data"
   ]
  },
  {
   "cell_type": "code",
   "execution_count": 116,
   "id": "ece7847b",
   "metadata": {},
   "outputs": [
    {
     "name": "stdout",
     "output_type": "stream",
     "text": [
      "검정통계량 : -1.1144881152070183\n",
      "pvalue : 0.26506984027306035\n"
     ]
    }
   ],
   "source": [
    "# 1표본 run 검정\n",
    "\n",
    "from statsmodels.sandbox.stats.runs import runstest_1samp\n",
    "statistic, pvalue = runstest_1samp(data['products'])\n",
    "\n",
    "print('검정통계량 :', statistic)\n",
    "print('pvalue :', pvalue)\n",
    "\n",
    "# 귀무가설을 기각할 수 없다. 즉 연관이 없다."
   ]
  },
  {
   "cell_type": "markdown",
   "id": "43ae3b50",
   "metadata": {
    "papermill": {
     "duration": 0.017028,
     "end_time": "2022-03-12T12:44:13.173751",
     "exception": false,
     "start_time": "2022-03-12T12:44:13.156723",
     "status": "completed"
    },
    "tags": []
   },
   "source": [
    "### 6-3 \n",
    "가설 채택"
   ]
  }
 ],
 "metadata": {
  "kernelspec": {
   "display_name": "Python 3 (ipykernel)",
   "language": "python",
   "name": "python3"
  },
  "language_info": {
   "codemirror_mode": {
    "name": "ipython",
    "version": 3
   },
   "file_extension": ".py",
   "mimetype": "text/x-python",
   "name": "python",
   "nbconvert_exporter": "python",
   "pygments_lexer": "ipython3",
   "version": "3.10.9"
  },
  "papermill": {
   "default_parameters": {},
   "duration": 12.741958,
   "end_time": "2022-03-12T12:44:13.904101",
   "environment_variables": {},
   "exception": null,
   "input_path": "__notebook__.ipynb",
   "output_path": "__notebook__.ipynb",
   "parameters": {},
   "start_time": "2022-03-12T12:44:01.162143",
   "version": "2.3.3"
  }
 },
 "nbformat": 4,
 "nbformat_minor": 5
}
