{
 "cells": [
  {
   "cell_type": "markdown",
   "metadata": {},
   "source": [
    "## 머신러닝"
   ]
  },
  {
   "cell_type": "markdown",
   "metadata": {},
   "source": [
    "데이터 : 학생 성적에 관한 소규모 데이터"
   ]
  },
  {
   "cell_type": "markdown",
   "metadata": {},
   "source": [
    "### 1. 시각화 포함 탐색적 자료분석을 시행하시오 (EDA)."
   ]
  },
  {
   "cell_type": "code",
   "execution_count": 2,
   "metadata": {},
   "outputs": [
    {
     "data": {
      "text/html": [
       "<div>\n",
       "<style scoped>\n",
       "    .dataframe tbody tr th:only-of-type {\n",
       "        vertical-align: middle;\n",
       "    }\n",
       "\n",
       "    .dataframe tbody tr th {\n",
       "        vertical-align: top;\n",
       "    }\n",
       "\n",
       "    .dataframe thead th {\n",
       "        text-align: right;\n",
       "    }\n",
       "</style>\n",
       "<table border=\"1\" class=\"dataframe\">\n",
       "  <thead>\n",
       "    <tr style=\"text-align: right;\">\n",
       "      <th></th>\n",
       "      <th>school</th>\n",
       "      <th>sex</th>\n",
       "      <th>paid</th>\n",
       "      <th>activities</th>\n",
       "      <th>famrel</th>\n",
       "      <th>freetime</th>\n",
       "      <th>goout</th>\n",
       "      <th>Dalc</th>\n",
       "      <th>Walc</th>\n",
       "      <th>health</th>\n",
       "      <th>absences</th>\n",
       "      <th>grade</th>\n",
       "      <th>G1</th>\n",
       "      <th>G2</th>\n",
       "    </tr>\n",
       "  </thead>\n",
       "  <tbody>\n",
       "    <tr>\n",
       "      <th>0</th>\n",
       "      <td>GP</td>\n",
       "      <td>F</td>\n",
       "      <td>no</td>\n",
       "      <td>no</td>\n",
       "      <td>4.0</td>\n",
       "      <td>3.0</td>\n",
       "      <td>4.0</td>\n",
       "      <td>1.0</td>\n",
       "      <td>1.0</td>\n",
       "      <td>3.0</td>\n",
       "      <td>6.0</td>\n",
       "      <td>6</td>\n",
       "      <td>5</td>\n",
       "      <td>6</td>\n",
       "    </tr>\n",
       "    <tr>\n",
       "      <th>1</th>\n",
       "      <td>GP</td>\n",
       "      <td>F</td>\n",
       "      <td>no</td>\n",
       "      <td>no</td>\n",
       "      <td>5.0</td>\n",
       "      <td>3.0</td>\n",
       "      <td>3.0</td>\n",
       "      <td>1.0</td>\n",
       "      <td>1.0</td>\n",
       "      <td>3.0</td>\n",
       "      <td>4.0</td>\n",
       "      <td>5</td>\n",
       "      <td>5</td>\n",
       "      <td>5</td>\n",
       "    </tr>\n",
       "    <tr>\n",
       "      <th>2</th>\n",
       "      <td>GP</td>\n",
       "      <td>F</td>\n",
       "      <td>yes</td>\n",
       "      <td>no</td>\n",
       "      <td>4.0</td>\n",
       "      <td>3.0</td>\n",
       "      <td>2.0</td>\n",
       "      <td>2.0</td>\n",
       "      <td>3.0</td>\n",
       "      <td>3.0</td>\n",
       "      <td>10.0</td>\n",
       "      <td>8</td>\n",
       "      <td>7</td>\n",
       "      <td>8</td>\n",
       "    </tr>\n",
       "    <tr>\n",
       "      <th>3</th>\n",
       "      <td>GP</td>\n",
       "      <td>F</td>\n",
       "      <td>yes</td>\n",
       "      <td>yes</td>\n",
       "      <td>3.0</td>\n",
       "      <td>2.0</td>\n",
       "      <td>2.0</td>\n",
       "      <td>1.0</td>\n",
       "      <td>1.0</td>\n",
       "      <td>5.0</td>\n",
       "      <td>2.0</td>\n",
       "      <td>15</td>\n",
       "      <td>15</td>\n",
       "      <td>14</td>\n",
       "    </tr>\n",
       "    <tr>\n",
       "      <th>4</th>\n",
       "      <td>GP</td>\n",
       "      <td>F</td>\n",
       "      <td>yes</td>\n",
       "      <td>no</td>\n",
       "      <td>4.0</td>\n",
       "      <td>3.0</td>\n",
       "      <td>2.0</td>\n",
       "      <td>1.0</td>\n",
       "      <td>2.0</td>\n",
       "      <td>5.0</td>\n",
       "      <td>4.0</td>\n",
       "      <td>9</td>\n",
       "      <td>6</td>\n",
       "      <td>10</td>\n",
       "    </tr>\n",
       "    <tr>\n",
       "      <th>...</th>\n",
       "      <td>...</td>\n",
       "      <td>...</td>\n",
       "      <td>...</td>\n",
       "      <td>...</td>\n",
       "      <td>...</td>\n",
       "      <td>...</td>\n",
       "      <td>...</td>\n",
       "      <td>...</td>\n",
       "      <td>...</td>\n",
       "      <td>...</td>\n",
       "      <td>...</td>\n",
       "      <td>...</td>\n",
       "      <td>...</td>\n",
       "      <td>...</td>\n",
       "    </tr>\n",
       "    <tr>\n",
       "      <th>390</th>\n",
       "      <td>MS</td>\n",
       "      <td>M</td>\n",
       "      <td>yes</td>\n",
       "      <td>no</td>\n",
       "      <td>5.0</td>\n",
       "      <td>5.0</td>\n",
       "      <td>4.0</td>\n",
       "      <td>4.0</td>\n",
       "      <td>5.0</td>\n",
       "      <td>4.0</td>\n",
       "      <td>11.0</td>\n",
       "      <td>9</td>\n",
       "      <td>9</td>\n",
       "      <td>9</td>\n",
       "    </tr>\n",
       "    <tr>\n",
       "      <th>391</th>\n",
       "      <td>MS</td>\n",
       "      <td>M</td>\n",
       "      <td>no</td>\n",
       "      <td>no</td>\n",
       "      <td>2.0</td>\n",
       "      <td>4.0</td>\n",
       "      <td>5.0</td>\n",
       "      <td>3.0</td>\n",
       "      <td>4.0</td>\n",
       "      <td>2.0</td>\n",
       "      <td>3.0</td>\n",
       "      <td>15</td>\n",
       "      <td>14</td>\n",
       "      <td>16</td>\n",
       "    </tr>\n",
       "    <tr>\n",
       "      <th>392</th>\n",
       "      <td>MS</td>\n",
       "      <td>M</td>\n",
       "      <td>no</td>\n",
       "      <td>no</td>\n",
       "      <td>5.0</td>\n",
       "      <td>5.0</td>\n",
       "      <td>3.0</td>\n",
       "      <td>3.0</td>\n",
       "      <td>3.0</td>\n",
       "      <td>3.0</td>\n",
       "      <td>3.0</td>\n",
       "      <td>8</td>\n",
       "      <td>10</td>\n",
       "      <td>8</td>\n",
       "    </tr>\n",
       "    <tr>\n",
       "      <th>393</th>\n",
       "      <td>MS</td>\n",
       "      <td>M</td>\n",
       "      <td>no</td>\n",
       "      <td>no</td>\n",
       "      <td>4.0</td>\n",
       "      <td>4.0</td>\n",
       "      <td>1.0</td>\n",
       "      <td>3.0</td>\n",
       "      <td>4.0</td>\n",
       "      <td>5.0</td>\n",
       "      <td>0.0</td>\n",
       "      <td>11</td>\n",
       "      <td>11</td>\n",
       "      <td>12</td>\n",
       "    </tr>\n",
       "    <tr>\n",
       "      <th>394</th>\n",
       "      <td>MS</td>\n",
       "      <td>M</td>\n",
       "      <td>no</td>\n",
       "      <td>no</td>\n",
       "      <td>3.0</td>\n",
       "      <td>2.0</td>\n",
       "      <td>3.0</td>\n",
       "      <td>3.0</td>\n",
       "      <td>3.0</td>\n",
       "      <td>5.0</td>\n",
       "      <td>5.0</td>\n",
       "      <td>9</td>\n",
       "      <td>8</td>\n",
       "      <td>9</td>\n",
       "    </tr>\n",
       "  </tbody>\n",
       "</table>\n",
       "<p>395 rows × 14 columns</p>\n",
       "</div>"
      ],
      "text/plain": [
       "    school sex paid activities  famrel  freetime  goout  Dalc  Walc  health  \\\n",
       "0       GP   F   no         no     4.0       3.0    4.0   1.0   1.0     3.0   \n",
       "1       GP   F   no         no     5.0       3.0    3.0   1.0   1.0     3.0   \n",
       "2       GP   F  yes         no     4.0       3.0    2.0   2.0   3.0     3.0   \n",
       "3       GP   F  yes        yes     3.0       2.0    2.0   1.0   1.0     5.0   \n",
       "4       GP   F  yes         no     4.0       3.0    2.0   1.0   2.0     5.0   \n",
       "..     ...  ..  ...        ...     ...       ...    ...   ...   ...     ...   \n",
       "390     MS   M  yes         no     5.0       5.0    4.0   4.0   5.0     4.0   \n",
       "391     MS   M   no         no     2.0       4.0    5.0   3.0   4.0     2.0   \n",
       "392     MS   M   no         no     5.0       5.0    3.0   3.0   3.0     3.0   \n",
       "393     MS   M   no         no     4.0       4.0    1.0   3.0   4.0     5.0   \n",
       "394     MS   M   no         no     3.0       2.0    3.0   3.0   3.0     5.0   \n",
       "\n",
       "     absences  grade  G1  G2  \n",
       "0         6.0      6   5   6  \n",
       "1         4.0      5   5   5  \n",
       "2        10.0      8   7   8  \n",
       "3         2.0     15  15  14  \n",
       "4         4.0      9   6  10  \n",
       "..        ...    ...  ..  ..  \n",
       "390      11.0      9   9   9  \n",
       "391       3.0     15  14  16  \n",
       "392       3.0      8  10   8  \n",
       "393       0.0     11  11  12  \n",
       "394       5.0      9   8   9  \n",
       "\n",
       "[395 rows x 14 columns]"
      ]
     },
     "execution_count": 2,
     "metadata": {},
     "output_type": "execute_result"
    }
   ],
   "source": [
    "import numpy as np\n",
    "import pandas as pd\n",
    "df = pd.read_csv('https://raw.githubusercontent.com/ADPclass/ADP_book_ver01/main/data/student_data.csv')\n",
    "df"
   ]
  },
  {
   "cell_type": "code",
   "execution_count": 3,
   "metadata": {},
   "outputs": [
    {
     "data": {
      "text/plain": [
       "<BarContainer object of 19 artists>"
      ]
     },
     "execution_count": 3,
     "metadata": {},
     "output_type": "execute_result"
    },
    {
     "data": {
      "image/png": "[encoded data removed]",
      "text/plain": [
       "<Figure size 640x480 with 1 Axes>"
      ]
     },
     "metadata": {},
     "output_type": "display_data"
    }
   ],
   "source": [
    "import matplotlib.pyplot as plt\n",
    "import seaborn as sns\n",
    "import warnings\n",
    "warnings.filterwarnings(action='ignore')\n",
    "\n",
    "# 종속변수 시각화 - 분포가 정규분포인지?\n",
    "plt.bar(df.grade.value_counts().index, df.grade.value_counts().values)"
   ]
  },
  {
   "cell_type": "code",
   "execution_count": 4,
   "metadata": {},
   "outputs": [
    {
     "data": {
      "text/plain": [
       "ShapiroResult(statistic=0.9871252179145813, pvalue=0.0014302099589258432)"
      ]
     },
     "execution_count": 4,
     "metadata": {},
     "output_type": "execute_result"
    }
   ],
   "source": [
    "from scipy.stats import shapiro\n",
    "shapiro(df.grade) # p-value 가 0.05보다 작으므로 정규분포를 따른다고 할 수 없다."
   ]
  },
  {
   "cell_type": "code",
   "execution_count": 5,
   "metadata": {},
   "outputs": [
    {
     "data": {
      "image/png": "[encoded data removed]",
      "text/plain": [
       "<Figure size 1000x500 with 2 Axes>"
      ]
     },
     "metadata": {},
     "output_type": "display_data"
    }
   ],
   "source": [
    "# 수치형 변수들간의 상관 관계를 살펴보자\n",
    "fig, ax = plt.subplots(1,1, figsize = (10, 5))\n",
    "df_corr = df.corr(method='pearson')\n",
    "sns.heatmap(df_corr, annot = True,\n",
    "            xticklabels=df_corr.columns,\n",
    "            yticklabels=df_corr.columns,\n",
    "            linewidths= 1, ax = ax)\n",
    "\n",
    "plt.show()"
   ]
  },
  {
   "cell_type": "code",
   "execution_count": 6,
   "metadata": {},
   "outputs": [
    {
     "name": "stdout",
     "output_type": "stream",
     "text": [
      "       school  sex paid activities\n",
      "count     395  395  395        395\n",
      "unique      2    2    2          2\n",
      "top        GP    F   no        yes\n",
      "freq      349  208  214        201\n"
     ]
    },
    {
     "data": {
      "text/plain": [
       "<Axes: >"
      ]
     },
     "execution_count": 6,
     "metadata": {},
     "output_type": "execute_result"
    },
    {
     "data": {
      "image/png": "[encoded data removed]",
      "text/plain": [
       "<Figure size 1000x500 with 4 Axes>"
      ]
     },
     "metadata": {},
     "output_type": "display_data"
    }
   ],
   "source": [
    "# 범주형 변수를 시각화 해보자.\n",
    "# 범주형 변수 : school, sex, paid, activities\n",
    "print(df.describe(include='object'))\n",
    "# fig, axes = plt.subplots(2,2, figsize = (10,10))\n",
    "# axes[0,0].bar(df.school.value_counts().index, df.school.value_counts().values)\n",
    "# axes[0,1].bar(df.sex.value_counts().index, df.sex.value_counts().values)\n",
    "# axes[1,0].bar(df.paid.value_counts().index, df.paid.value_counts().values)\n",
    "# axes[1,1].bar(df.activities.value_counts().index, df.activities.value_counts().values)\n",
    "\n",
    "fig, axes = plt.subplots(2,2, figsize = (10,5))\n",
    "sns.barplot(x = df.school.value_counts().index, y = df.school.value_counts().values, ax = axes[0,0])\n",
    "sns.barplot(x = df.sex.value_counts().index, y = df.sex.value_counts().values, ax = axes[0,1])\n",
    "sns.barplot(x = df.paid.value_counts().index, y = df.paid.value_counts().values, ax = axes[1,0])\n",
    "sns.barplot(x = df.activities.value_counts().index, y = df.activities.value_counts().values, ax = axes[1,1])\n"
   ]
  },
  {
   "cell_type": "code",
   "execution_count": 7,
   "metadata": {},
   "outputs": [
    {
     "name": "stdout",
     "output_type": "stream",
     "text": [
      "<class 'pandas.core.frame.DataFrame'>\n",
      "RangeIndex: 395 entries, 0 to 394\n",
      "Data columns (total 14 columns):\n",
      " #   Column      Non-Null Count  Dtype  \n",
      "---  ------      --------------  -----  \n",
      " 0   school      395 non-null    object \n",
      " 1   sex         395 non-null    object \n",
      " 2   paid        395 non-null    object \n",
      " 3   activities  395 non-null    object \n",
      " 4   famrel      394 non-null    float64\n",
      " 5   freetime    393 non-null    float64\n",
      " 6   goout       392 non-null    float64\n",
      " 7   Dalc        391 non-null    float64\n",
      " 8   Walc        393 non-null    float64\n",
      " 9   health      391 non-null    float64\n",
      " 10  absences    392 non-null    float64\n",
      " 11  grade       395 non-null    int64  \n",
      " 12  G1          395 non-null    int64  \n",
      " 13  G2          395 non-null    int64  \n",
      "dtypes: float64(7), int64(3), object(4)\n",
      "memory usage: 43.3+ KB\n"
     ]
    }
   ],
   "source": [
    "df.info()"
   ]
  },
  {
   "cell_type": "code",
   "execution_count": 8,
   "metadata": {},
   "outputs": [
    {
     "data": {
      "text/plain": [
       "school        0\n",
       "sex           0\n",
       "paid          0\n",
       "activities    0\n",
       "famrel        1\n",
       "freetime      2\n",
       "goout         3\n",
       "Dalc          4\n",
       "Walc          2\n",
       "health        4\n",
       "absences      3\n",
       "grade         0\n",
       "G1            0\n",
       "G2            0\n",
       "dtype: int64"
      ]
     },
     "execution_count": 8,
     "metadata": {},
     "output_type": "execute_result"
    }
   ],
   "source": [
    "df.isnull().sum()"
   ]
  },
  {
   "cell_type": "code",
   "execution_count": 9,
   "metadata": {},
   "outputs": [
    {
     "data": {
      "text/html": [
       "<div>\n",
       "<style scoped>\n",
       "    .dataframe tbody tr th:only-of-type {\n",
       "        vertical-align: middle;\n",
       "    }\n",
       "\n",
       "    .dataframe tbody tr th {\n",
       "        vertical-align: top;\n",
       "    }\n",
       "\n",
       "    .dataframe thead th {\n",
       "        text-align: right;\n",
       "    }\n",
       "</style>\n",
       "<table border=\"1\" class=\"dataframe\">\n",
       "  <thead>\n",
       "    <tr style=\"text-align: right;\">\n",
       "      <th></th>\n",
       "      <th>school</th>\n",
       "      <th>sex</th>\n",
       "      <th>paid</th>\n",
       "      <th>activities</th>\n",
       "      <th>famrel</th>\n",
       "      <th>freetime</th>\n",
       "      <th>goout</th>\n",
       "      <th>Dalc</th>\n",
       "      <th>Walc</th>\n",
       "      <th>health</th>\n",
       "      <th>absences</th>\n",
       "      <th>grade</th>\n",
       "      <th>G1</th>\n",
       "      <th>G2</th>\n",
       "    </tr>\n",
       "  </thead>\n",
       "  <tbody>\n",
       "    <tr>\n",
       "      <th>0</th>\n",
       "      <td>GP</td>\n",
       "      <td>F</td>\n",
       "      <td>no</td>\n",
       "      <td>no</td>\n",
       "      <td>4.0</td>\n",
       "      <td>3.0</td>\n",
       "      <td>4.0</td>\n",
       "      <td>1.0</td>\n",
       "      <td>1.0</td>\n",
       "      <td>3.0</td>\n",
       "      <td>6.0</td>\n",
       "      <td>6</td>\n",
       "      <td>5</td>\n",
       "      <td>6</td>\n",
       "    </tr>\n",
       "    <tr>\n",
       "      <th>1</th>\n",
       "      <td>GP</td>\n",
       "      <td>F</td>\n",
       "      <td>no</td>\n",
       "      <td>no</td>\n",
       "      <td>5.0</td>\n",
       "      <td>3.0</td>\n",
       "      <td>3.0</td>\n",
       "      <td>1.0</td>\n",
       "      <td>1.0</td>\n",
       "      <td>3.0</td>\n",
       "      <td>4.0</td>\n",
       "      <td>5</td>\n",
       "      <td>5</td>\n",
       "      <td>5</td>\n",
       "    </tr>\n",
       "    <tr>\n",
       "      <th>2</th>\n",
       "      <td>GP</td>\n",
       "      <td>F</td>\n",
       "      <td>yes</td>\n",
       "      <td>no</td>\n",
       "      <td>4.0</td>\n",
       "      <td>3.0</td>\n",
       "      <td>2.0</td>\n",
       "      <td>2.0</td>\n",
       "      <td>3.0</td>\n",
       "      <td>3.0</td>\n",
       "      <td>10.0</td>\n",
       "      <td>8</td>\n",
       "      <td>7</td>\n",
       "      <td>8</td>\n",
       "    </tr>\n",
       "    <tr>\n",
       "      <th>3</th>\n",
       "      <td>GP</td>\n",
       "      <td>F</td>\n",
       "      <td>yes</td>\n",
       "      <td>yes</td>\n",
       "      <td>3.0</td>\n",
       "      <td>2.0</td>\n",
       "      <td>2.0</td>\n",
       "      <td>1.0</td>\n",
       "      <td>1.0</td>\n",
       "      <td>5.0</td>\n",
       "      <td>2.0</td>\n",
       "      <td>15</td>\n",
       "      <td>15</td>\n",
       "      <td>14</td>\n",
       "    </tr>\n",
       "    <tr>\n",
       "      <th>4</th>\n",
       "      <td>GP</td>\n",
       "      <td>F</td>\n",
       "      <td>yes</td>\n",
       "      <td>no</td>\n",
       "      <td>4.0</td>\n",
       "      <td>3.0</td>\n",
       "      <td>2.0</td>\n",
       "      <td>1.0</td>\n",
       "      <td>2.0</td>\n",
       "      <td>5.0</td>\n",
       "      <td>4.0</td>\n",
       "      <td>9</td>\n",
       "      <td>6</td>\n",
       "      <td>10</td>\n",
       "    </tr>\n",
       "  </tbody>\n",
       "</table>\n",
       "</div>"
      ],
      "text/plain": [
       "  school sex paid activities  famrel  freetime  goout  Dalc  Walc  health  \\\n",
       "0     GP   F   no         no     4.0       3.0    4.0   1.0   1.0     3.0   \n",
       "1     GP   F   no         no     5.0       3.0    3.0   1.0   1.0     3.0   \n",
       "2     GP   F  yes         no     4.0       3.0    2.0   2.0   3.0     3.0   \n",
       "3     GP   F  yes        yes     3.0       2.0    2.0   1.0   1.0     5.0   \n",
       "4     GP   F  yes         no     4.0       3.0    2.0   1.0   2.0     5.0   \n",
       "\n",
       "   absences  grade  G1  G2  \n",
       "0       6.0      6   5   6  \n",
       "1       4.0      5   5   5  \n",
       "2      10.0      8   7   8  \n",
       "3       2.0     15  15  14  \n",
       "4       4.0      9   6  10  "
      ]
     },
     "execution_count": 9,
     "metadata": {},
     "output_type": "execute_result"
    }
   ],
   "source": [
    "df.head()"
   ]
  },
  {
   "cell_type": "markdown",
   "metadata": {},
   "source": [
    "[변수 해석]"
   ]
  },
  {
   "cell_type": "markdown",
   "metadata": {},
   "source": [
    "결측치 존재 여부\n",
    "- famrel, freetime, goout, Dalc, Walc, health, absences 에 각각 1,2,3,4,2,4,3 개의 결측치가 존재한다.\n",
    "- 이 결측치들은 전체 데이터에서 소수이므로 평균으로 대체하거나 보간법으로 대체할 수 있을 것이다.\n",
    "\n",
    "데이터 타입 설명\n",
    "- 종속변수는 int형, 독립변수 중 school, sex, paid, acitivities 는 object 형이고 나머지는 int 형이다. object 형 변수는 더미변수화 시켜 수치형으로 변경할 필요가 있다.\n",
    "\n",
    "종속변수와 독립변수의 상관관계 설명\n",
    "- 상관관계 히트맵에서 확인해보면 종속변수인 grade 와 수치형 변수들간의 상관성은 크게 없어보인다.\n",
    "\n",
    "독립변수 상관관계 설명\n",
    "- 대부분의 변수들은 상관성이 없어보이나, G1, G2 는 큰 상관관계를 띈다."
   ]
  },
  {
   "cell_type": "markdown",
   "metadata": {},
   "source": [
    "### 2. 결측치를 식별, 예측하는 두 가지 방법을 쓰고, 이를 선택한 이유를 설명하시오."
   ]
  },
  {
   "cell_type": "code",
   "execution_count": 10,
   "metadata": {},
   "outputs": [
    {
     "data": {
      "text/html": [
       "<div>\n",
       "<style scoped>\n",
       "    .dataframe tbody tr th:only-of-type {\n",
       "        vertical-align: middle;\n",
       "    }\n",
       "\n",
       "    .dataframe tbody tr th {\n",
       "        vertical-align: top;\n",
       "    }\n",
       "\n",
       "    .dataframe thead th {\n",
       "        text-align: right;\n",
       "    }\n",
       "</style>\n",
       "<table border=\"1\" class=\"dataframe\">\n",
       "  <thead>\n",
       "    <tr style=\"text-align: right;\">\n",
       "      <th></th>\n",
       "      <th>school</th>\n",
       "      <th>sex</th>\n",
       "      <th>paid</th>\n",
       "      <th>activities</th>\n",
       "      <th>famrel</th>\n",
       "      <th>freetime</th>\n",
       "      <th>goout</th>\n",
       "      <th>Dalc</th>\n",
       "      <th>Walc</th>\n",
       "      <th>health</th>\n",
       "      <th>absences</th>\n",
       "      <th>grade</th>\n",
       "      <th>G1</th>\n",
       "      <th>G2</th>\n",
       "    </tr>\n",
       "  </thead>\n",
       "  <tbody>\n",
       "    <tr>\n",
       "      <th>9</th>\n",
       "      <td>GP</td>\n",
       "      <td>M</td>\n",
       "      <td>yes</td>\n",
       "      <td>yes</td>\n",
       "      <td>5.0</td>\n",
       "      <td>5.0</td>\n",
       "      <td>NaN</td>\n",
       "      <td>1.0</td>\n",
       "      <td>1.0</td>\n",
       "      <td>5.0</td>\n",
       "      <td>0.0</td>\n",
       "      <td>15</td>\n",
       "      <td>14</td>\n",
       "      <td>15</td>\n",
       "    </tr>\n",
       "    <tr>\n",
       "      <th>14</th>\n",
       "      <td>GP</td>\n",
       "      <td>M</td>\n",
       "      <td>no</td>\n",
       "      <td>no</td>\n",
       "      <td>NaN</td>\n",
       "      <td>5.0</td>\n",
       "      <td>2.0</td>\n",
       "      <td>1.0</td>\n",
       "      <td>1.0</td>\n",
       "      <td>3.0</td>\n",
       "      <td>0.0</td>\n",
       "      <td>15</td>\n",
       "      <td>14</td>\n",
       "      <td>16</td>\n",
       "    </tr>\n",
       "    <tr>\n",
       "      <th>15</th>\n",
       "      <td>GP</td>\n",
       "      <td>F</td>\n",
       "      <td>no</td>\n",
       "      <td>no</td>\n",
       "      <td>4.0</td>\n",
       "      <td>4.0</td>\n",
       "      <td>4.0</td>\n",
       "      <td>1.0</td>\n",
       "      <td>2.0</td>\n",
       "      <td>2.0</td>\n",
       "      <td>NaN</td>\n",
       "      <td>14</td>\n",
       "      <td>14</td>\n",
       "      <td>14</td>\n",
       "    </tr>\n",
       "    <tr>\n",
       "      <th>25</th>\n",
       "      <td>GP</td>\n",
       "      <td>F</td>\n",
       "      <td>yes</td>\n",
       "      <td>no</td>\n",
       "      <td>1.0</td>\n",
       "      <td>2.0</td>\n",
       "      <td>2.0</td>\n",
       "      <td>1.0</td>\n",
       "      <td>NaN</td>\n",
       "      <td>5.0</td>\n",
       "      <td>14.0</td>\n",
       "      <td>8</td>\n",
       "      <td>6</td>\n",
       "      <td>9</td>\n",
       "    </tr>\n",
       "    <tr>\n",
       "      <th>39</th>\n",
       "      <td>GP</td>\n",
       "      <td>F</td>\n",
       "      <td>yes</td>\n",
       "      <td>yes</td>\n",
       "      <td>4.0</td>\n",
       "      <td>3.0</td>\n",
       "      <td>1.0</td>\n",
       "      <td>1.0</td>\n",
       "      <td>1.0</td>\n",
       "      <td>NaN</td>\n",
       "      <td>8.0</td>\n",
       "      <td>13</td>\n",
       "      <td>14</td>\n",
       "      <td>13</td>\n",
       "    </tr>\n",
       "    <tr>\n",
       "      <th>40</th>\n",
       "      <td>GP</td>\n",
       "      <td>F</td>\n",
       "      <td>no</td>\n",
       "      <td>yes</td>\n",
       "      <td>3.0</td>\n",
       "      <td>3.0</td>\n",
       "      <td>NaN</td>\n",
       "      <td>1.0</td>\n",
       "      <td>2.0</td>\n",
       "      <td>3.0</td>\n",
       "      <td>25.0</td>\n",
       "      <td>9</td>\n",
       "      <td>7</td>\n",
       "      <td>10</td>\n",
       "    </tr>\n",
       "    <tr>\n",
       "      <th>49</th>\n",
       "      <td>GP</td>\n",
       "      <td>F</td>\n",
       "      <td>no</td>\n",
       "      <td>yes</td>\n",
       "      <td>4.0</td>\n",
       "      <td>4.0</td>\n",
       "      <td>4.0</td>\n",
       "      <td>1.0</td>\n",
       "      <td>1.0</td>\n",
       "      <td>NaN</td>\n",
       "      <td>2.0</td>\n",
       "      <td>7</td>\n",
       "      <td>7</td>\n",
       "      <td>7</td>\n",
       "    </tr>\n",
       "    <tr>\n",
       "      <th>61</th>\n",
       "      <td>GP</td>\n",
       "      <td>F</td>\n",
       "      <td>no</td>\n",
       "      <td>yes</td>\n",
       "      <td>5.0</td>\n",
       "      <td>5.0</td>\n",
       "      <td>5.0</td>\n",
       "      <td>NaN</td>\n",
       "      <td>5.0</td>\n",
       "      <td>5.0</td>\n",
       "      <td>6.0</td>\n",
       "      <td>10</td>\n",
       "      <td>10</td>\n",
       "      <td>8</td>\n",
       "    </tr>\n",
       "    <tr>\n",
       "      <th>71</th>\n",
       "      <td>GP</td>\n",
       "      <td>M</td>\n",
       "      <td>no</td>\n",
       "      <td>no</td>\n",
       "      <td>3.0</td>\n",
       "      <td>3.0</td>\n",
       "      <td>3.0</td>\n",
       "      <td>NaN</td>\n",
       "      <td>1.0</td>\n",
       "      <td>3.0</td>\n",
       "      <td>0.0</td>\n",
       "      <td>10</td>\n",
       "      <td>10</td>\n",
       "      <td>10</td>\n",
       "    </tr>\n",
       "    <tr>\n",
       "      <th>82</th>\n",
       "      <td>GP</td>\n",
       "      <td>F</td>\n",
       "      <td>yes</td>\n",
       "      <td>no</td>\n",
       "      <td>4.0</td>\n",
       "      <td>4.0</td>\n",
       "      <td>4.0</td>\n",
       "      <td>1.0</td>\n",
       "      <td>1.0</td>\n",
       "      <td>5.0</td>\n",
       "      <td>NaN</td>\n",
       "      <td>6</td>\n",
       "      <td>7</td>\n",
       "      <td>6</td>\n",
       "    </tr>\n",
       "    <tr>\n",
       "      <th>89</th>\n",
       "      <td>GP</td>\n",
       "      <td>M</td>\n",
       "      <td>no</td>\n",
       "      <td>no</td>\n",
       "      <td>4.0</td>\n",
       "      <td>1.0</td>\n",
       "      <td>3.0</td>\n",
       "      <td>NaN</td>\n",
       "      <td>5.0</td>\n",
       "      <td>5.0</td>\n",
       "      <td>18.0</td>\n",
       "      <td>7</td>\n",
       "      <td>8</td>\n",
       "      <td>6</td>\n",
       "    </tr>\n",
       "    <tr>\n",
       "      <th>98</th>\n",
       "      <td>GP</td>\n",
       "      <td>F</td>\n",
       "      <td>no</td>\n",
       "      <td>yes</td>\n",
       "      <td>5.0</td>\n",
       "      <td>3.0</td>\n",
       "      <td>4.0</td>\n",
       "      <td>1.0</td>\n",
       "      <td>2.0</td>\n",
       "      <td>NaN</td>\n",
       "      <td>6.0</td>\n",
       "      <td>13</td>\n",
       "      <td>11</td>\n",
       "      <td>14</td>\n",
       "    </tr>\n",
       "    <tr>\n",
       "      <th>111</th>\n",
       "      <td>GP</td>\n",
       "      <td>F</td>\n",
       "      <td>no</td>\n",
       "      <td>yes</td>\n",
       "      <td>4.0</td>\n",
       "      <td>NaN</td>\n",
       "      <td>2.0</td>\n",
       "      <td>NaN</td>\n",
       "      <td>1.0</td>\n",
       "      <td>2.0</td>\n",
       "      <td>0.0</td>\n",
       "      <td>9</td>\n",
       "      <td>7</td>\n",
       "      <td>10</td>\n",
       "    </tr>\n",
       "    <tr>\n",
       "      <th>123</th>\n",
       "      <td>GP</td>\n",
       "      <td>M</td>\n",
       "      <td>no</td>\n",
       "      <td>yes</td>\n",
       "      <td>3.0</td>\n",
       "      <td>4.0</td>\n",
       "      <td>4.0</td>\n",
       "      <td>1.0</td>\n",
       "      <td>NaN</td>\n",
       "      <td>5.0</td>\n",
       "      <td>18.0</td>\n",
       "      <td>13</td>\n",
       "      <td>14</td>\n",
       "      <td>11</td>\n",
       "    </tr>\n",
       "    <tr>\n",
       "      <th>124</th>\n",
       "      <td>GP</td>\n",
       "      <td>F</td>\n",
       "      <td>yes</td>\n",
       "      <td>no</td>\n",
       "      <td>5.0</td>\n",
       "      <td>NaN</td>\n",
       "      <td>4.0</td>\n",
       "      <td>1.0</td>\n",
       "      <td>1.0</td>\n",
       "      <td>5.0</td>\n",
       "      <td>0.0</td>\n",
       "      <td>8</td>\n",
       "      <td>8</td>\n",
       "      <td>7</td>\n",
       "    </tr>\n",
       "    <tr>\n",
       "      <th>142</th>\n",
       "      <td>GP</td>\n",
       "      <td>F</td>\n",
       "      <td>yes</td>\n",
       "      <td>yes</td>\n",
       "      <td>4.0</td>\n",
       "      <td>2.0</td>\n",
       "      <td>2.0</td>\n",
       "      <td>1.0</td>\n",
       "      <td>1.0</td>\n",
       "      <td>NaN</td>\n",
       "      <td>2.0</td>\n",
       "      <td>10</td>\n",
       "      <td>9</td>\n",
       "      <td>11</td>\n",
       "    </tr>\n",
       "    <tr>\n",
       "      <th>201</th>\n",
       "      <td>GP</td>\n",
       "      <td>F</td>\n",
       "      <td>yes</td>\n",
       "      <td>yes</td>\n",
       "      <td>4.0</td>\n",
       "      <td>4.0</td>\n",
       "      <td>NaN</td>\n",
       "      <td>1.0</td>\n",
       "      <td>3.0</td>\n",
       "      <td>4.0</td>\n",
       "      <td>6.0</td>\n",
       "      <td>9</td>\n",
       "      <td>8</td>\n",
       "      <td>10</td>\n",
       "    </tr>\n",
       "    <tr>\n",
       "      <th>225</th>\n",
       "      <td>GP</td>\n",
       "      <td>F</td>\n",
       "      <td>no</td>\n",
       "      <td>yes</td>\n",
       "      <td>5.0</td>\n",
       "      <td>3.0</td>\n",
       "      <td>3.0</td>\n",
       "      <td>1.0</td>\n",
       "      <td>1.0</td>\n",
       "      <td>4.0</td>\n",
       "      <td>NaN</td>\n",
       "      <td>8</td>\n",
       "      <td>9</td>\n",
       "      <td>8</td>\n",
       "    </tr>\n",
       "  </tbody>\n",
       "</table>\n",
       "</div>"
      ],
      "text/plain": [
       "    school sex paid activities  famrel  freetime  goout  Dalc  Walc  health  \\\n",
       "9       GP   M  yes        yes     5.0       5.0    NaN   1.0   1.0     5.0   \n",
       "14      GP   M   no         no     NaN       5.0    2.0   1.0   1.0     3.0   \n",
       "15      GP   F   no         no     4.0       4.0    4.0   1.0   2.0     2.0   \n",
       "25      GP   F  yes         no     1.0       2.0    2.0   1.0   NaN     5.0   \n",
       "39      GP   F  yes        yes     4.0       3.0    1.0   1.0   1.0     NaN   \n",
       "40      GP   F   no        yes     3.0       3.0    NaN   1.0   2.0     3.0   \n",
       "49      GP   F   no        yes     4.0       4.0    4.0   1.0   1.0     NaN   \n",
       "61      GP   F   no        yes     5.0       5.0    5.0   NaN   5.0     5.0   \n",
       "71      GP   M   no         no     3.0       3.0    3.0   NaN   1.0     3.0   \n",
       "82      GP   F  yes         no     4.0       4.0    4.0   1.0   1.0     5.0   \n",
       "89      GP   M   no         no     4.0       1.0    3.0   NaN   5.0     5.0   \n",
       "98      GP   F   no        yes     5.0       3.0    4.0   1.0   2.0     NaN   \n",
       "111     GP   F   no        yes     4.0       NaN    2.0   NaN   1.0     2.0   \n",
       "123     GP   M   no        yes     3.0       4.0    4.0   1.0   NaN     5.0   \n",
       "124     GP   F  yes         no     5.0       NaN    4.0   1.0   1.0     5.0   \n",
       "142     GP   F  yes        yes     4.0       2.0    2.0   1.0   1.0     NaN   \n",
       "201     GP   F  yes        yes     4.0       4.0    NaN   1.0   3.0     4.0   \n",
       "225     GP   F   no        yes     5.0       3.0    3.0   1.0   1.0     4.0   \n",
       "\n",
       "     absences  grade  G1  G2  \n",
       "9         0.0     15  14  15  \n",
       "14        0.0     15  14  16  \n",
       "15        NaN     14  14  14  \n",
       "25       14.0      8   6   9  \n",
       "39        8.0     13  14  13  \n",
       "40       25.0      9   7  10  \n",
       "49        2.0      7   7   7  \n",
       "61        6.0     10  10   8  \n",
       "71        0.0     10  10  10  \n",
       "82        NaN      6   7   6  \n",
       "89       18.0      7   8   6  \n",
       "98        6.0     13  11  14  \n",
       "111       0.0      9   7  10  \n",
       "123      18.0     13  14  11  \n",
       "124       0.0      8   8   7  \n",
       "142       2.0     10   9  11  \n",
       "201       6.0      9   8  10  \n",
       "225       NaN      8   9   8  "
      ]
     },
     "execution_count": 10,
     "metadata": {},
     "output_type": "execute_result"
    }
   ],
   "source": [
    "df[df.isnull().any(axis = 1)]"
   ]
  },
  {
   "cell_type": "markdown",
   "metadata": {},
   "source": [
    "단순대치법\n",
    "- 수치형 변수 결측치는 각 컬럼의 평균이나 중앙값을 사용해 대치할 수 있다.\n",
    "- 명목형 변수의 결측치는 최빈값을 사용해 대치할 수 있다.\n",
    "\n",
    "KNN 을 이용한 결측치 대치\n",
    "- 수치형 데이터만 사용 가능하다.\n",
    "- 보간법 중 결측치가 없는 컬럼들의 최근접 이웃 알고리즘을 통해 결측치를 대체할 수 있다.\n",
    "\n",
    "여기서는 대부분의 행이 결측치거나 대부분의 열이 결측치인 상황이 아니므로 결측치를 삭제보다는 대체하는 것이 좋아보인다.  \n",
    "수치형 변수만 결측치가 있으므로 KNN 기법을 이용해 결측치를 대체하겠다."
   ]
  },
  {
   "cell_type": "code",
   "execution_count": 11,
   "metadata": {},
   "outputs": [
    {
     "data": {
      "text/plain": [
       "school        0\n",
       "sex           0\n",
       "paid          0\n",
       "activities    0\n",
       "famrel        1\n",
       "freetime      2\n",
       "goout         3\n",
       "Dalc          4\n",
       "Walc          2\n",
       "health        4\n",
       "absences      3\n",
       "grade         0\n",
       "G1            0\n",
       "G2            0\n",
       "dtype: int64"
      ]
     },
     "execution_count": 11,
     "metadata": {},
     "output_type": "execute_result"
    }
   ],
   "source": [
    "df.isnull().sum()"
   ]
  },
  {
   "cell_type": "code",
   "execution_count": 12,
   "metadata": {},
   "outputs": [
    {
     "data": {
      "text/plain": [
       "school        0\n",
       "sex           0\n",
       "paid          0\n",
       "activities    0\n",
       "famrel        0\n",
       "freetime      0\n",
       "goout         0\n",
       "Dalc          0\n",
       "Walc          0\n",
       "health        0\n",
       "absences      0\n",
       "grade         0\n",
       "G1            0\n",
       "G2            0\n",
       "dtype: int64"
      ]
     },
     "execution_count": 12,
     "metadata": {},
     "output_type": "execute_result"
    }
   ],
   "source": [
    "from sklearn.impute import KNNImputer\n",
    "\n",
    "KNN_data = df[['famrel', 'freetime', 'goout', 'Dalc' , 'Walc', 'health', 'absences']]\n",
    "imputer = KNNImputer()\n",
    "df_filled = imputer.fit_transform(KNN_data)\n",
    "df_filled = pd.DataFrame(df_filled, columns = KNN_data.columns)\n",
    "df[['famrel', 'freetime', 'goout', 'Dalc' , 'Walc', 'health', 'absences']] = df_filled\n",
    "df.isnull().sum()"
   ]
  },
  {
   "cell_type": "markdown",
   "metadata": {},
   "source": [
    "### 3. 범주형 변수 인코딩이 필요한 경우를 식별하고, 변환을 적용하시오. 이를 선택한 이유를 설명하시오."
   ]
  },
  {
   "cell_type": "markdown",
   "metadata": {},
   "source": [
    "범주형 변수로 school, sex, paid, acitivities 가 있고, 값이 2개이므로 원핫 인코딩으로 boolean 형식으로 바꾼다.  \n",
    "나머지 변수는 수치나 순위형 변수로 판단되어 인코딩 하지 않는다.  \n",
    "수준이 2개이므로 하나만 정해지면 나머지는 확정되므로 drop_first = True 을 설정하여 변수 간 공선성을 제거해준다."
   ]
  },
  {
   "cell_type": "code",
   "execution_count": 14,
   "metadata": {},
   "outputs": [
    {
     "data": {
      "text/html": [
       "<div>\n",
       "<style scoped>\n",
       "    .dataframe tbody tr th:only-of-type {\n",
       "        vertical-align: middle;\n",
       "    }\n",
       "\n",
       "    .dataframe tbody tr th {\n",
       "        vertical-align: top;\n",
       "    }\n",
       "\n",
       "    .dataframe thead th {\n",
       "        text-align: right;\n",
       "    }\n",
       "</style>\n",
       "<table border=\"1\" class=\"dataframe\">\n",
       "  <thead>\n",
       "    <tr style=\"text-align: right;\">\n",
       "      <th></th>\n",
       "      <th>famrel</th>\n",
       "      <th>freetime</th>\n",
       "      <th>goout</th>\n",
       "      <th>Dalc</th>\n",
       "      <th>Walc</th>\n",
       "      <th>health</th>\n",
       "      <th>absences</th>\n",
       "      <th>grade</th>\n",
       "      <th>G1</th>\n",
       "      <th>G2</th>\n",
       "      <th>school_MS</th>\n",
       "      <th>sex_M</th>\n",
       "      <th>paid_yes</th>\n",
       "      <th>activities_yes</th>\n",
       "    </tr>\n",
       "  </thead>\n",
       "  <tbody>\n",
       "    <tr>\n",
       "      <th>0</th>\n",
       "      <td>4.0</td>\n",
       "      <td>3.0</td>\n",
       "      <td>4.0</td>\n",
       "      <td>1.0</td>\n",
       "      <td>1.0</td>\n",
       "      <td>3.0</td>\n",
       "      <td>6.0</td>\n",
       "      <td>6</td>\n",
       "      <td>5</td>\n",
       "      <td>6</td>\n",
       "      <td>0</td>\n",
       "      <td>0</td>\n",
       "      <td>0</td>\n",
       "      <td>0</td>\n",
       "    </tr>\n",
       "    <tr>\n",
       "      <th>1</th>\n",
       "      <td>5.0</td>\n",
       "      <td>3.0</td>\n",
       "      <td>3.0</td>\n",
       "      <td>1.0</td>\n",
       "      <td>1.0</td>\n",
       "      <td>3.0</td>\n",
       "      <td>4.0</td>\n",
       "      <td>5</td>\n",
       "      <td>5</td>\n",
       "      <td>5</td>\n",
       "      <td>0</td>\n",
       "      <td>0</td>\n",
       "      <td>0</td>\n",
       "      <td>0</td>\n",
       "    </tr>\n",
       "    <tr>\n",
       "      <th>2</th>\n",
       "      <td>4.0</td>\n",
       "      <td>3.0</td>\n",
       "      <td>2.0</td>\n",
       "      <td>2.0</td>\n",
       "      <td>3.0</td>\n",
       "      <td>3.0</td>\n",
       "      <td>10.0</td>\n",
       "      <td>8</td>\n",
       "      <td>7</td>\n",
       "      <td>8</td>\n",
       "      <td>0</td>\n",
       "      <td>0</td>\n",
       "      <td>1</td>\n",
       "      <td>0</td>\n",
       "    </tr>\n",
       "    <tr>\n",
       "      <th>3</th>\n",
       "      <td>3.0</td>\n",
       "      <td>2.0</td>\n",
       "      <td>2.0</td>\n",
       "      <td>1.0</td>\n",
       "      <td>1.0</td>\n",
       "      <td>5.0</td>\n",
       "      <td>2.0</td>\n",
       "      <td>15</td>\n",
       "      <td>15</td>\n",
       "      <td>14</td>\n",
       "      <td>0</td>\n",
       "      <td>0</td>\n",
       "      <td>1</td>\n",
       "      <td>1</td>\n",
       "    </tr>\n",
       "    <tr>\n",
       "      <th>4</th>\n",
       "      <td>4.0</td>\n",
       "      <td>3.0</td>\n",
       "      <td>2.0</td>\n",
       "      <td>1.0</td>\n",
       "      <td>2.0</td>\n",
       "      <td>5.0</td>\n",
       "      <td>4.0</td>\n",
       "      <td>9</td>\n",
       "      <td>6</td>\n",
       "      <td>10</td>\n",
       "      <td>0</td>\n",
       "      <td>0</td>\n",
       "      <td>1</td>\n",
       "      <td>0</td>\n",
       "    </tr>\n",
       "  </tbody>\n",
       "</table>\n",
       "</div>"
      ],
      "text/plain": [
       "   famrel  freetime  goout  Dalc  Walc  health  absences  grade  G1  G2  \\\n",
       "0     4.0       3.0    4.0   1.0   1.0     3.0       6.0      6   5   6   \n",
       "1     5.0       3.0    3.0   1.0   1.0     3.0       4.0      5   5   5   \n",
       "2     4.0       3.0    2.0   2.0   3.0     3.0      10.0      8   7   8   \n",
       "3     3.0       2.0    2.0   1.0   1.0     5.0       2.0     15  15  14   \n",
       "4     4.0       3.0    2.0   1.0   2.0     5.0       4.0      9   6  10   \n",
       "\n",
       "   school_MS  sex_M  paid_yes  activities_yes  \n",
       "0          0      0         0               0  \n",
       "1          0      0         0               0  \n",
       "2          0      0         1               0  \n",
       "3          0      0         1               1  \n",
       "4          0      0         1               0  "
      ]
     },
     "execution_count": 14,
     "metadata": {},
     "output_type": "execute_result"
    }
   ],
   "source": [
    "df = pd.get_dummies(df, columns = ['school' ,'sex', 'paid', 'activities'], drop_first= True)\n",
    "df.head()"
   ]
  },
  {
   "cell_type": "code",
   "execution_count": 15,
   "metadata": {},
   "outputs": [
    {
     "name": "stdout",
     "output_type": "stream",
     "text": [
      "<class 'pandas.core.frame.DataFrame'>\n",
      "RangeIndex: 395 entries, 0 to 394\n",
      "Data columns (total 14 columns):\n",
      " #   Column          Non-Null Count  Dtype  \n",
      "---  ------          --------------  -----  \n",
      " 0   famrel          395 non-null    float64\n",
      " 1   freetime        395 non-null    float64\n",
      " 2   goout           395 non-null    float64\n",
      " 3   Dalc            395 non-null    float64\n",
      " 4   Walc            395 non-null    float64\n",
      " 5   health          395 non-null    float64\n",
      " 6   absences        395 non-null    float64\n",
      " 7   grade           395 non-null    int64  \n",
      " 8   G1              395 non-null    int64  \n",
      " 9   G2              395 non-null    int64  \n",
      " 10  school_MS       395 non-null    uint8  \n",
      " 11  sex_M           395 non-null    uint8  \n",
      " 12  paid_yes        395 non-null    uint8  \n",
      " 13  activities_yes  395 non-null    uint8  \n",
      "dtypes: float64(7), int64(3), uint8(4)\n",
      "memory usage: 32.5 KB\n"
     ]
    }
   ],
   "source": [
    "df.info()"
   ]
  },
  {
   "cell_type": "markdown",
   "metadata": {},
   "source": [
    "### 4. 데이터 분할 방법을 2가지 쓰고 적절한 데이터 분할을 적용하시오. 이를 선택한 이유를 설명하시오."
   ]
  },
  {
   "cell_type": "markdown",
   "metadata": {},
   "source": [
    "랜덤분할\n",
    "+ train, test 세트로 나누어서 학습된 데이터를 검증한다.\n",
    "+ 분할 시 사용자가 지정한 비율만큼 무작위로 분할한다.\n",
    "+ 데이터 세트가 적을 경우 테스트 셋이 대표성을 잃을 수 있다.\n",
    "\n",
    "층화 추출 기법\n",
    "+ 종속변수가 범주형 변수인 경우 훈련, 테스트 셋을 나눌 때 전체 데이터의 종속변수 비율을 기준으로 나눈다.\n",
    "+ 예를 들어 전체 데이터의 종속변수 범주 비율이 5:5 일 경우, 테스트 셋과 훈련세트의 종속변수 비율이 5:5로 뽑는다.\n",
    "+ 클래스의 편향을 막을 수 있어 많이 사용된다."
   ]
  },
  {
   "cell_type": "markdown",
   "metadata": {},
   "source": [
    "이 데이터는 종속변수가 범주형 변수가 아니므로 층화 추출 기법보다 랜덤 분할이 어울린다.  \n",
    "훈련, 테스트 셋 비율은 7:3 으로 하고 여러 번 시행해도 같은 결과를 내기 위해 random_state = 42로 고정시킨다."
   ]
  },
  {
   "cell_type": "code",
   "execution_count": 17,
   "metadata": {},
   "outputs": [
    {
     "name": "stdout",
     "output_type": "stream",
     "text": [
      "(276, 13) (276,)\n",
      "(119, 13) (119,)\n"
     ]
    }
   ],
   "source": [
    "X = df.drop(['grade'], axis = 1)\n",
    "y = df['grade']\n",
    "\n",
    "from sklearn.model_selection import train_test_split\n",
    "\n",
    "X_train, X_test, y_train, y_test = train_test_split(X, y, test_size = 0.3, random_state = 42)\n",
    "print(X_train.shape, y_train.shape)\n",
    "print(X_test.shape, y_test.shape)"
   ]
  },
  {
   "cell_type": "markdown",
   "metadata": {},
   "source": [
    "### 5. svm, xgboost, randomforest 3개 알고리즘 공통점을 쓰고 학생성적 예측 분석에 적합한 알고리즘인지 설명하시오."
   ]
  },
  {
   "cell_type": "markdown",
   "metadata": {},
   "source": [
    "+ svm, xgboost, randomforest 모두 지도학습 알고리즘으로 회귀분석과 분류분석 모두 사용될 수 있다.\n",
    "+ 범주형 변수를 사용하려면 변환을 해주어야 한다.\n",
    "\n",
    "회귀분석의 경우는 다중공선성 문제를 해결하는 것이 중요한데 svm 은 커널트릭을 통해, xgboost, randomforest 는 트리모델의 특성 상 다중공선성을 해결할 수 있다.  \n",
    "따라서 위 3가지 알고리즘은 연속형 변수를 예측하는데 적합하다."
   ]
  },
  {
   "cell_type": "markdown",
   "metadata": {},
   "source": [
    "### 6. 세 가지 모델 모두 모델링해보고 가장 적합한 알고리즘을 선택하시오. 이를 선택한 이유와 모델의 한계점, 보완 가능한 부분을 설명하고, 현업에서 주의할 점 등에 대해 기술하시오."
   ]
  },
  {
   "cell_type": "code",
   "execution_count": null,
   "metadata": {},
   "outputs": [],
   "source": [
    "# !pip install xgboost"
   ]
  },
  {
   "cell_type": "markdown",
   "metadata": {},
   "source": [
    "svm 모델은 변수 스케일링이 필요하고, 트리기반 모델은 스케일링을 하지 않아도 된다.  \n",
    "변수 스케일링 시 훈련 데이터, 테스트 데이터 따로 스케일링을 해주어야 한다. 왜냐하면 실제 데이터 분석을 할 때 모집단의 분포를 모르기 때문에 표본 집단에 대해 스케일링을 적용하므로 훈련시도 테스트 데이터에 별도로 스케일링을 해주어야 한다."
   ]
  },
  {
   "cell_type": "code",
   "execution_count": 50,
   "metadata": {},
   "outputs": [
    {
     "data": {
      "text/html": [
       "<div>\n",
       "<style scoped>\n",
       "    .dataframe tbody tr th:only-of-type {\n",
       "        vertical-align: middle;\n",
       "    }\n",
       "\n",
       "    .dataframe tbody tr th {\n",
       "        vertical-align: top;\n",
       "    }\n",
       "\n",
       "    .dataframe thead th {\n",
       "        text-align: right;\n",
       "    }\n",
       "</style>\n",
       "<table border=\"1\" class=\"dataframe\">\n",
       "  <thead>\n",
       "    <tr style=\"text-align: right;\">\n",
       "      <th></th>\n",
       "      <th>famrel</th>\n",
       "      <th>freetime</th>\n",
       "      <th>goout</th>\n",
       "      <th>Dalc</th>\n",
       "      <th>Walc</th>\n",
       "      <th>health</th>\n",
       "      <th>absences</th>\n",
       "      <th>G1</th>\n",
       "      <th>G2</th>\n",
       "      <th>school_MS</th>\n",
       "      <th>sex_M</th>\n",
       "      <th>paid_yes</th>\n",
       "      <th>activities_yes</th>\n",
       "    </tr>\n",
       "  </thead>\n",
       "  <tbody>\n",
       "    <tr>\n",
       "      <th>17</th>\n",
       "      <td>5.0</td>\n",
       "      <td>3.0</td>\n",
       "      <td>2.0</td>\n",
       "      <td>1.0</td>\n",
       "      <td>1.0</td>\n",
       "      <td>4.0</td>\n",
       "      <td>4.0</td>\n",
       "      <td>8</td>\n",
       "      <td>10</td>\n",
       "      <td>0</td>\n",
       "      <td>0</td>\n",
       "      <td>0</td>\n",
       "      <td>1</td>\n",
       "    </tr>\n",
       "    <tr>\n",
       "      <th>165</th>\n",
       "      <td>4.0</td>\n",
       "      <td>5.0</td>\n",
       "      <td>2.0</td>\n",
       "      <td>1.0</td>\n",
       "      <td>1.0</td>\n",
       "      <td>2.0</td>\n",
       "      <td>16.0</td>\n",
       "      <td>12</td>\n",
       "      <td>11</td>\n",
       "      <td>0</td>\n",
       "      <td>1</td>\n",
       "      <td>0</td>\n",
       "      <td>1</td>\n",
       "    </tr>\n",
       "    <tr>\n",
       "      <th>24</th>\n",
       "      <td>4.0</td>\n",
       "      <td>3.0</td>\n",
       "      <td>2.0</td>\n",
       "      <td>1.0</td>\n",
       "      <td>1.0</td>\n",
       "      <td>5.0</td>\n",
       "      <td>2.0</td>\n",
       "      <td>10</td>\n",
       "      <td>9</td>\n",
       "      <td>0</td>\n",
       "      <td>0</td>\n",
       "      <td>1</td>\n",
       "      <td>1</td>\n",
       "    </tr>\n",
       "    <tr>\n",
       "      <th>126</th>\n",
       "      <td>5.0</td>\n",
       "      <td>3.0</td>\n",
       "      <td>2.0</td>\n",
       "      <td>1.0</td>\n",
       "      <td>1.0</td>\n",
       "      <td>1.0</td>\n",
       "      <td>0.0</td>\n",
       "      <td>7</td>\n",
       "      <td>10</td>\n",
       "      <td>0</td>\n",
       "      <td>0</td>\n",
       "      <td>0</td>\n",
       "      <td>1</td>\n",
       "    </tr>\n",
       "    <tr>\n",
       "      <th>346</th>\n",
       "      <td>5.0</td>\n",
       "      <td>3.0</td>\n",
       "      <td>2.0</td>\n",
       "      <td>1.0</td>\n",
       "      <td>2.0</td>\n",
       "      <td>4.0</td>\n",
       "      <td>9.0</td>\n",
       "      <td>16</td>\n",
       "      <td>15</td>\n",
       "      <td>0</td>\n",
       "      <td>1</td>\n",
       "      <td>0</td>\n",
       "      <td>0</td>\n",
       "    </tr>\n",
       "    <tr>\n",
       "      <th>...</th>\n",
       "      <td>...</td>\n",
       "      <td>...</td>\n",
       "      <td>...</td>\n",
       "      <td>...</td>\n",
       "      <td>...</td>\n",
       "      <td>...</td>\n",
       "      <td>...</td>\n",
       "      <td>...</td>\n",
       "      <td>...</td>\n",
       "      <td>...</td>\n",
       "      <td>...</td>\n",
       "      <td>...</td>\n",
       "      <td>...</td>\n",
       "    </tr>\n",
       "    <tr>\n",
       "      <th>71</th>\n",
       "      <td>3.0</td>\n",
       "      <td>3.0</td>\n",
       "      <td>3.0</td>\n",
       "      <td>1.0</td>\n",
       "      <td>1.0</td>\n",
       "      <td>3.0</td>\n",
       "      <td>0.0</td>\n",
       "      <td>10</td>\n",
       "      <td>10</td>\n",
       "      <td>0</td>\n",
       "      <td>1</td>\n",
       "      <td>0</td>\n",
       "      <td>0</td>\n",
       "    </tr>\n",
       "    <tr>\n",
       "      <th>106</th>\n",
       "      <td>5.0</td>\n",
       "      <td>1.0</td>\n",
       "      <td>2.0</td>\n",
       "      <td>1.0</td>\n",
       "      <td>1.0</td>\n",
       "      <td>3.0</td>\n",
       "      <td>8.0</td>\n",
       "      <td>7</td>\n",
       "      <td>8</td>\n",
       "      <td>0</td>\n",
       "      <td>0</td>\n",
       "      <td>1</td>\n",
       "      <td>0</td>\n",
       "    </tr>\n",
       "    <tr>\n",
       "      <th>270</th>\n",
       "      <td>4.0</td>\n",
       "      <td>3.0</td>\n",
       "      <td>5.0</td>\n",
       "      <td>3.0</td>\n",
       "      <td>3.0</td>\n",
       "      <td>5.0</td>\n",
       "      <td>15.0</td>\n",
       "      <td>9</td>\n",
       "      <td>9</td>\n",
       "      <td>0</td>\n",
       "      <td>0</td>\n",
       "      <td>1</td>\n",
       "      <td>1</td>\n",
       "    </tr>\n",
       "    <tr>\n",
       "      <th>348</th>\n",
       "      <td>4.0</td>\n",
       "      <td>4.0</td>\n",
       "      <td>3.0</td>\n",
       "      <td>1.0</td>\n",
       "      <td>3.0</td>\n",
       "      <td>4.0</td>\n",
       "      <td>0.0</td>\n",
       "      <td>13</td>\n",
       "      <td>15</td>\n",
       "      <td>0</td>\n",
       "      <td>0</td>\n",
       "      <td>1</td>\n",
       "      <td>1</td>\n",
       "    </tr>\n",
       "    <tr>\n",
       "      <th>102</th>\n",
       "      <td>5.0</td>\n",
       "      <td>3.0</td>\n",
       "      <td>3.0</td>\n",
       "      <td>1.0</td>\n",
       "      <td>1.0</td>\n",
       "      <td>5.0</td>\n",
       "      <td>4.0</td>\n",
       "      <td>10</td>\n",
       "      <td>13</td>\n",
       "      <td>0</td>\n",
       "      <td>1</td>\n",
       "      <td>0</td>\n",
       "      <td>1</td>\n",
       "    </tr>\n",
       "  </tbody>\n",
       "</table>\n",
       "<p>276 rows × 13 columns</p>\n",
       "</div>"
      ],
      "text/plain": [
       "     famrel  freetime  goout  Dalc  Walc  health  absences  G1  G2  school_MS  \\\n",
       "17      5.0       3.0    2.0   1.0   1.0     4.0       4.0   8  10          0   \n",
       "165     4.0       5.0    2.0   1.0   1.0     2.0      16.0  12  11          0   \n",
       "24      4.0       3.0    2.0   1.0   1.0     5.0       2.0  10   9          0   \n",
       "126     5.0       3.0    2.0   1.0   1.0     1.0       0.0   7  10          0   \n",
       "346     5.0       3.0    2.0   1.0   2.0     4.0       9.0  16  15          0   \n",
       "..      ...       ...    ...   ...   ...     ...       ...  ..  ..        ...   \n",
       "71      3.0       3.0    3.0   1.0   1.0     3.0       0.0  10  10          0   \n",
       "106     5.0       1.0    2.0   1.0   1.0     3.0       8.0   7   8          0   \n",
       "270     4.0       3.0    5.0   3.0   3.0     5.0      15.0   9   9          0   \n",
       "348     4.0       4.0    3.0   1.0   3.0     4.0       0.0  13  15          0   \n",
       "102     5.0       3.0    3.0   1.0   1.0     5.0       4.0  10  13          0   \n",
       "\n",
       "     sex_M  paid_yes  activities_yes  \n",
       "17       0         0               1  \n",
       "165      1         0               1  \n",
       "24       0         1               1  \n",
       "126      0         0               1  \n",
       "346      1         0               0  \n",
       "..     ...       ...             ...  \n",
       "71       1         0               0  \n",
       "106      0         1               0  \n",
       "270      0         1               1  \n",
       "348      0         1               1  \n",
       "102      1         0               1  \n",
       "\n",
       "[276 rows x 13 columns]"
      ]
     },
     "execution_count": 50,
     "metadata": {},
     "output_type": "execute_result"
    }
   ],
   "source": [
    "X_train"
   ]
  },
  {
   "cell_type": "code",
   "execution_count": 53,
   "metadata": {},
   "outputs": [
    {
     "data": {
      "image/png": "[encoded data removed]",
      "text/plain": [
       "<Figure size 1500x800 with 9 Axes>"
      ]
     },
     "metadata": {},
     "output_type": "display_data"
    }
   ],
   "source": [
    "# 수치형, 순서형 변수의 데이터 분포를 확인하고 이상치를 확인하자.\n",
    "fig, axes = plt.subplots(3,3, figsize = (15, 8))\n",
    "for i in range(9):\n",
    "    sns.boxplot(y = df.iloc[:, i], orient = True, ax = axes[i // 3, i % 3])"
   ]
  },
  {
   "cell_type": "markdown",
   "metadata": {},
   "source": [
    "IQR 방식의 이상치 탐지 방식에서 famrel, Dalc, absences, freetime 변수에 이상치가 감지되었다.  \n",
    "즉 스케일링 방식 중 이상치에 덜 영향을 받는 스케일링 방식인 Robust scaler 로 변수 스케일링을 진행하겠다."
   ]
  },
  {
   "cell_type": "code",
   "execution_count": 63,
   "metadata": {},
   "outputs": [
    {
     "name": "stdout",
     "output_type": "stream",
     "text": [
      "{'C': 100, 'gamma': 0.001}\n"
     ]
    }
   ],
   "source": [
    "from sklearn.svm import SVR\n",
    "from xgboost import XGBRegressor\n",
    "from sklearn.ensemble import RandomForestRegressor\n",
    "from sklearn.model_selection import GridSearchCV\n",
    "from sklearn.metrics import mean_squared_error\n",
    "\n",
    "# SVM\n",
    "from sklearn.preprocessing import RobustScaler\n",
    "\n",
    "scaler = RobustScaler()\n",
    "X_scaled_train = scaler.fit_transform(X_train)\n",
    "X_scaled_train = pd.DataFrame(X_scaled_train, columns = X_train.columns)\n",
    "\n",
    "X_scaled_test = scaler.fit_transform(X_test)\n",
    "X_scaled_test = pd.DataFrame(X_scaled_test, columns = X_test.columns)\n",
    "\n",
    "svr = SVR()\n",
    "SVR().get_params()\n",
    "\n",
    "param_grid = {'C' : [0.1, 1, 10, 100], 'gamma' : [0.001, 0.01, 0.1, 1, 10]}\n",
    "\n",
    "grid_svr = GridSearchCV(svr, param_grid)\n",
    "grid_svr.fit(X_scaled_train, y_train)\n",
    "\n",
    "print(grid_svr.best_params_)"
   ]
  },
  {
   "cell_type": "code",
   "execution_count": 66,
   "metadata": {},
   "outputs": [
    {
     "name": "stdout",
     "output_type": "stream",
     "text": [
      "[SVM]\n",
      "train r2 : 0.966956216115121\n",
      "test r2 : 0.8109210512339864\n",
      "mse : 2.945017118390266\n",
      "rmse : 1.7161052177504343\n"
     ]
    }
   ],
   "source": [
    "svr = SVR(C=100, gamma= 0.001)\n",
    "svr.fit(X_scaled_train, y_train)\n",
    "\n",
    "y_pred = svr.predict(X_scaled_test)\n",
    "\n",
    "print('[SVM]')\n",
    "print('train r2 :', svr.score(X_scaled_train, y_train))\n",
    "print('test r2 :', svr.score(X_scaled_test, y_test))\n",
    "\n",
    "mse = mean_squared_error(y_test, y_pred)\n",
    "print('mse :', mse)\n",
    "print('rmse :', np.sqrt(mse))"
   ]
  },
  {
   "cell_type": "code",
   "execution_count": 68,
   "metadata": {},
   "outputs": [
    {
     "data": {
      "text/plain": [
       "{'max_depth': 4, 'min_samples_split': 2}"
      ]
     },
     "execution_count": 68,
     "metadata": {},
     "output_type": "execute_result"
    }
   ],
   "source": [
    "# XGBOOST\n",
    "param_grid = {'max_depth' : np.arange(3,7,1), 'min_samples_split' : np.arange(2, 11, 2)}\n",
    "xgb = XGBRegressor()\n",
    "grid_xgb = GridSearchCV(xgb, param_grid)\n",
    "grid_xgb.fit(X_train, y_train)\n",
    "\n",
    "grid_xgb.best_params_"
   ]
  },
  {
   "cell_type": "code",
   "execution_count": 70,
   "metadata": {},
   "outputs": [
    {
     "name": "stdout",
     "output_type": "stream",
     "text": [
      "[xgboost]\n",
      "train r2 : 0.998898392995354\n",
      "test r2 : 0.9686542976135635\n",
      "mse : 0.48822796360191834\n",
      "rmse : 0.6987331132856939\n"
     ]
    }
   ],
   "source": [
    "xgb = XGBRegressor(max_depth = 4, min_samples_split = 2)\n",
    "xgb.fit(X_train, y_train)\n",
    "\n",
    "y_pred = xgb.predict(X_test)\n",
    "\n",
    "print('[xgboost]')\n",
    "print('train r2 :', xgb.score(X_train, y_train))\n",
    "print('test r2 :', xgb.score(X_test, y_test))\n",
    "\n",
    "mse = mean_squared_error(y_test, y_pred)\n",
    "print('mse :', mse)\n",
    "print('rmse :', np.sqrt(mse))"
   ]
  },
  {
   "cell_type": "code",
   "execution_count": null,
   "metadata": {},
   "outputs": [],
   "source": [
    "# RandomForest\n",
    "param_grid = {'max_depth' : np.arange(3,7,1), 'min_samples_split' : np.arange(2, 11, 2)}\n",
    "rf_reg = RandomForestRegressor()\n",
    "grid_rf_reg = GridSearchCV(rf_reg, param_grid)\n",
    "grid_rf_reg.fit(X_train, y_train)"
   ]
  },
  {
   "cell_type": "code",
   "execution_count": 74,
   "metadata": {},
   "outputs": [
    {
     "data": {
      "text/plain": [
       "{'max_depth': 6, 'min_samples_split': 6}"
      ]
     },
     "execution_count": 74,
     "metadata": {},
     "output_type": "execute_result"
    }
   ],
   "source": [
    "grid_rf_reg.best_params_"
   ]
  },
  {
   "cell_type": "code",
   "execution_count": 75,
   "metadata": {},
   "outputs": [
    {
     "name": "stdout",
     "output_type": "stream",
     "text": [
      "[RandomForest]\n",
      "train r2 : 0.984955200238598\n",
      "test r2 : 0.9644564893106412\n",
      "mse : 0.5536113253802067\n",
      "rmse : 0.744050620173256\n"
     ]
    }
   ],
   "source": [
    "rf_reg = RandomForestRegressor(max_depth = 6, min_samples_split = 6)\n",
    "rf_reg.fit(X_train, y_train)\n",
    "\n",
    "y_pred = rf_reg.predict(X_test)\n",
    "\n",
    "print('[RandomForest]')\n",
    "print('train r2 :', rf_reg.score(X_train, y_train))\n",
    "print('test r2 :', rf_reg.score(X_test, y_test))\n",
    "\n",
    "mse = mean_squared_error(y_test, y_pred)\n",
    "print('mse :', mse)\n",
    "print('rmse :', np.sqrt(mse))"
   ]
  },
  {
   "cell_type": "markdown",
   "metadata": {},
   "source": [
    "각 모델들을 비교적 간단한 GridSearchCV 이용해 최적의 파라미터를 찾아주었고 각 모델들의 결정계수 R2 와 rmse 값을 구하였다.  \n",
    "그 결과로 rmse 값이 가장 작게 나온 xgboost 모델을 선택하겠다. "
   ]
  },
  {
   "cell_type": "code",
   "execution_count": 88,
   "metadata": {},
   "outputs": [
    {
     "name": "stdout",
     "output_type": "stream",
     "text": [
      "          col_name  feature_importance\n",
      "0               G2            0.888543\n",
      "1               G1            0.061093\n",
      "2         absences            0.018346\n",
      "3   activities_yes            0.007134\n",
      "4           health            0.005584\n",
      "5           famrel            0.003592\n",
      "6             Dalc            0.002960\n",
      "7            goout            0.002560\n",
      "8             Walc            0.002388\n",
      "9         paid_yes            0.002048\n",
      "10           sex_M            0.002020\n",
      "11        freetime            0.001963\n",
      "12       school_MS            0.001771\n"
     ]
    },
    {
     "data": {
      "text/plain": [
       "<Axes: xlabel='feature_importance', ylabel='col_name'>"
      ]
     },
     "execution_count": 88,
     "metadata": {},
     "output_type": "execute_result"
    },
    {
     "data": {
      "image/png": "[encoded data removed]",
      "text/plain": [
       "<Figure size 640x480 with 1 Axes>"
      ]
     },
     "metadata": {},
     "output_type": "display_data"
    }
   ],
   "source": [
    "# 변수중요도\n",
    "importances = pd.DataFrame(xgb.feature_importances_)\n",
    "feature_importance = pd.concat([pd.DataFrame(X.columns), importances], axis = 1)\n",
    "feature_importance.columns = ['col_name', 'feature_importance']\n",
    "feature_importance = feature_importance.sort_values(by = 'feature_importance', ascending= False).reset_index(drop = True)\n",
    "print(feature_importance)\n",
    "\n",
    "# 변수중요도 시각화\n",
    "sns.barplot(data = feature_importance, x = 'feature_importance', y = 'col_name')"
   ]
  },
  {
   "cell_type": "code",
   "execution_count": 89,
   "metadata": {},
   "outputs": [
    {
     "data": {
      "text/plain": [
       "<Axes: title={'center': 'Feature importance'}, xlabel='F score', ylabel='Features'>"
      ]
     },
     "execution_count": 89,
     "metadata": {},
     "output_type": "execute_result"
    },
    {
     "data": {
      "image/png": "[encoded data removed]",
      "text/plain": [
       "<Figure size 640x480 with 1 Axes>"
      ]
     },
     "metadata": {},
     "output_type": "display_data"
    }
   ],
   "source": [
    "from xgboost import plot_importance\n",
    "plot_importance(xgb)"
   ]
  },
  {
   "cell_type": "markdown",
   "metadata": {},
   "source": [
    "모델의 한계점으로는 회귀모델의 변수 G2가 종속변수 grade에 매우 큰 영향을 미친다.\n",
    "G2가 매우 큰 영향을 미치므로 결과가 좋게 나오지만, G2 변수를 사용할 수 없게 되면 모델의 정확도를 확신할 수 없게 된다.  \n",
    "따라서 현업에서는 정확도만 보고 변수를 선택하는 것을 조심해야한다.  \n",
    "<br/>\n",
    "__보완가능한 부분__  \n",
    "모델의 주 변수로 G2, G1을 사용할 수 있지만 이 또한 성적이므로 분석을 통해 성적에 영향을 미치는 변수를 찾기에는 어려워 보인다.  \n",
    "학생 성적에 영향을 미치는 변수를 찾고 싶다면 다른 변수를 추가로 선택하는 방법도 있고, 이미 존재하는 변수들로 새로운 파생변수를 생성할 수도 있을 것이다."
   ]
  },
  {
   "cell_type": "markdown",
   "metadata": {},
   "source": [
    "## 통계분석"
   ]
  },
  {
   "cell_type": "markdown",
   "metadata": {},
   "source": [
    "연속형 독립변수 1개, 종속변수 1개로 구성된 보스턴 집값 데이터 세트"
   ]
  },
  {
   "cell_type": "markdown",
   "metadata": {},
   "source": [
    "### 1. 회귀분석"
   ]
  },
  {
   "cell_type": "markdown",
   "metadata": {},
   "source": [
    "#### 1-1 데이터를 8 : 2 로 분할하고 선형 회귀를 적용하시오. 결정계수와 rmse 를 구하시오."
   ]
  },
  {
   "cell_type": "code",
   "execution_count": 1,
   "metadata": {},
   "outputs": [
    {
     "name": "stdout",
     "output_type": "stream",
     "text": [
      "train r2 : 0.94093170271135\n",
      "test r2 : 0.8055829447972185\n",
      "mse : 14.257338168909314\n",
      "rmse : 3.7758890567532983\n"
     ]
    }
   ],
   "source": [
    "# !pip install mglearn\n",
    "import pandas as np\n",
    "import numpy as np\n",
    "from mglearn.datasets import load_extended_boston\n",
    "from sklearn.model_selection import train_test_split\n",
    "from sklearn.metrics import mean_squared_error\n",
    "\n",
    "X, y = load_extended_boston()\n",
    "X_train, X_test, y_train, y_test = train_test_split(X, y, test_size= 0.2, random_state= 42)\n",
    "\n",
    "from sklearn.linear_model import LinearRegression\n",
    "\n",
    "lr = LinearRegression()\n",
    "lr.fit(X_train, y_train)\n",
    "\n",
    "y_pred = lr.predict(X_test)\n",
    "\n",
    "print('train r2 :', lr.score(X_train, y_train))\n",
    "print('test r2 :', lr.score(X_test, y_test))\n",
    "\n",
    "mse = mean_squared_error(y_test, y_pred)\n",
    "print('mse :', mse)\n",
    "print('rmse :', np.sqrt(mse))"
   ]
  },
  {
   "cell_type": "markdown",
   "metadata": {},
   "source": [
    "#### 1-2. 테이터를 8 : 2로 분할하고 릿지 회귀를 적용하시오. alpha 값을 0부터 1까지 0.1 단위로 모두 탐색해서 결정계수가 가장 높을 때의 알파를 찾고, 해당 알파로 다시 모델을 학습해서 결정계수와 rmse 를 계산하시오."
   ]
  },
  {
   "cell_type": "code",
   "execution_count": 23,
   "metadata": {},
   "outputs": [
    {
     "name": "stdout",
     "output_type": "stream",
     "text": [
      "{'alpha': 0.1}\n"
     ]
    }
   ],
   "source": [
    "from sklearn.linear_model import Ridge\n",
    "from sklearn.model_selection import GridSearchCV\n",
    "\n",
    "ridge = Ridge()\n",
    "param_grid = {'alpha' : np.arange(0.0, 1.1, 0.1)}\n",
    "grid_ridge = GridSearchCV(ridge, param_grid, scoring= 'r2')\n",
    "grid_ridge.fit(X_train, y_train)\n",
    "\n",
    "print(grid_ridge.best_params_)"
   ]
  },
  {
   "cell_type": "code",
   "execution_count": 24,
   "metadata": {},
   "outputs": [
    {
     "name": "stdout",
     "output_type": "stream",
     "text": [
      "r2 score : 0.8510741726311932\n",
      "rmse : 3.304738163793883\n"
     ]
    }
   ],
   "source": [
    "ridge = Ridge(alpha= 0.1)\n",
    "ridge.fit(X_train, y_train)\n",
    "\n",
    "y_pred = ridge.predict(X_test)\n",
    "\n",
    "print('r2 score :', ridge.score(X_test, y_test))\n",
    "\n",
    "mse = mean_squared_error(y_test, y_pred)\n",
    "print('rmse :', np.sqrt(mse))"
   ]
  },
  {
   "cell_type": "markdown",
   "metadata": {},
   "source": [
    "#### 1-3. 데이터를 8 : 2 로 분할하고 라쏘 회귀를 적용하시오. alpha 값을 0부터 1까지 0.1 단위로 모두 탐색해서 결정계수가 가장 높을 때의 알파를 찾고, 해당 알파로 다시 모델을 학습해서 결정계수와 rmse 를 계산하시오."
   ]
  },
  {
   "cell_type": "code",
   "execution_count": 25,
   "metadata": {},
   "outputs": [
    {
     "name": "stdout",
     "output_type": "stream",
     "text": [
      "{'alpha': 0.0}\n"
     ]
    }
   ],
   "source": [
    "from sklearn.linear_model import Lasso\n",
    "\n",
    "lasso = Lasso()\n",
    "param_grid = {'alpha' : np.arange(0.0, 1.1, 0.1)}\n",
    "grid_ridge = GridSearchCV(lasso, param_grid, scoring= 'r2')\n",
    "grid_ridge.fit(X_train, y_train)\n",
    "\n",
    "print(grid_ridge.best_params_)"
   ]
  },
  {
   "cell_type": "code",
   "execution_count": 26,
   "metadata": {},
   "outputs": [
    {
     "name": "stdout",
     "output_type": "stream",
     "text": [
      "r2 score : 0.7930459113223858\n",
      "rmse : 3.8957318007309496\n"
     ]
    }
   ],
   "source": [
    "lasso = Lasso(alpha= 0.0)\n",
    "lasso.fit(X_train, y_train)\n",
    "\n",
    "y_pred = lasso.predict(X_test)\n",
    "\n",
    "print('r2 score :', lasso.score(X_test, y_test))\n",
    "\n",
    "mse = mean_squared_error(y_test, y_pred)\n",
    "print('rmse :', np.sqrt(mse))"
   ]
  },
  {
   "cell_type": "markdown",
   "metadata": {},
   "source": [
    "### 2. 다항 회귀분석 시각화"
   ]
  },
  {
   "cell_type": "markdown",
   "metadata": {},
   "source": [
    "단순 선형 회귀를 다항 회귀로 3차까지 적용시켜 계수를 구하고 3차항을 적용한 모델의 스캐터 플롯과 기울기 선을 그리시오."
   ]
  },
  {
   "cell_type": "code",
   "execution_count": 35,
   "metadata": {},
   "outputs": [],
   "source": [
    "m = 100\n",
    "x = 6 * np.random.rand(m, 1) - 3\n",
    "y = 3 * x ** 3 + x ** 2 + 2*x + 2 + np.random.randn(m, 1) # 노이즈 포함\n",
    "line = np.linspace(-3, 3, m, endpoint= False).reshape(-1, 1)"
   ]
  },
  {
   "cell_type": "code",
   "execution_count": 47,
   "metadata": {},
   "outputs": [
    {
     "data": {
      "image/png": "[encoded data removed]",
      "text/plain": [
       "<Figure size 640x480 with 1 Axes>"
      ]
     },
     "metadata": {},
     "output_type": "display_data"
    }
   ],
   "source": [
    "import matplotlib.pyplot as plt\n",
    "from sklearn.preprocessing import PolynomialFeatures\n",
    "\n",
    "poly = PolynomialFeatures(degree= 3, include_bias=False)\n",
    "X_poly = poly.fit_transform(x,y)\n",
    "line_poly = poly.fit_transform(line)\n",
    "\n",
    "lr = LinearRegression()\n",
    "reg = lr.fit(X_poly, y)\n",
    "\n",
    "plt.plot(line, reg.predict(line_poly), c = 'r', linewidth = 3)\n",
    "plt.plot(x, y, 'o', alpha = 0.5)\n",
    "plt.show()"
   ]
  },
  {
   "cell_type": "markdown",
   "metadata": {},
   "source": [
    "### 3. ANOVA 분석"
   ]
  },
  {
   "cell_type": "markdown",
   "metadata": {},
   "source": [
    "변수 3개(연속형 변수 1개, 범주형 변수 2개)의 이원분산분석을 수행하고 통계표를 작성하시오"
   ]
  },
  {
   "cell_type": "code",
   "execution_count": 4,
   "metadata": {},
   "outputs": [
    {
     "data": {
      "text/html": [
       "<div>\n",
       "<style scoped>\n",
       "    .dataframe tbody tr th:only-of-type {\n",
       "        vertical-align: middle;\n",
       "    }\n",
       "\n",
       "    .dataframe tbody tr th {\n",
       "        vertical-align: top;\n",
       "    }\n",
       "\n",
       "    .dataframe thead th {\n",
       "        text-align: right;\n",
       "    }\n",
       "</style>\n",
       "<table border=\"1\" class=\"dataframe\">\n",
       "  <thead>\n",
       "    <tr style=\"text-align: right;\">\n",
       "      <th></th>\n",
       "      <th>Date</th>\n",
       "      <th>AveragePrice</th>\n",
       "      <th>Total Volume</th>\n",
       "      <th>4046</th>\n",
       "      <th>4225</th>\n",
       "      <th>4770</th>\n",
       "      <th>Total Bags</th>\n",
       "      <th>Small Bags</th>\n",
       "      <th>Large Bags</th>\n",
       "      <th>XLarge Bags</th>\n",
       "      <th>type</th>\n",
       "      <th>year</th>\n",
       "      <th>region</th>\n",
       "    </tr>\n",
       "  </thead>\n",
       "  <tbody>\n",
       "    <tr>\n",
       "      <th>0</th>\n",
       "      <td>2015-12-27</td>\n",
       "      <td>1.33</td>\n",
       "      <td>64236.62</td>\n",
       "      <td>1036.74</td>\n",
       "      <td>54454.85</td>\n",
       "      <td>48.16</td>\n",
       "      <td>8696.87</td>\n",
       "      <td>8603.62</td>\n",
       "      <td>93.25</td>\n",
       "      <td>0.0</td>\n",
       "      <td>conventional</td>\n",
       "      <td>2015</td>\n",
       "      <td>Albany</td>\n",
       "    </tr>\n",
       "    <tr>\n",
       "      <th>1</th>\n",
       "      <td>2015-12-20</td>\n",
       "      <td>1.35</td>\n",
       "      <td>54876.98</td>\n",
       "      <td>674.28</td>\n",
       "      <td>44638.81</td>\n",
       "      <td>58.33</td>\n",
       "      <td>9505.56</td>\n",
       "      <td>9408.07</td>\n",
       "      <td>97.49</td>\n",
       "      <td>0.0</td>\n",
       "      <td>conventional</td>\n",
       "      <td>2015</td>\n",
       "      <td>Albany</td>\n",
       "    </tr>\n",
       "    <tr>\n",
       "      <th>2</th>\n",
       "      <td>2015-12-13</td>\n",
       "      <td>0.93</td>\n",
       "      <td>118220.22</td>\n",
       "      <td>794.70</td>\n",
       "      <td>109149.67</td>\n",
       "      <td>130.50</td>\n",
       "      <td>8145.35</td>\n",
       "      <td>8042.21</td>\n",
       "      <td>103.14</td>\n",
       "      <td>0.0</td>\n",
       "      <td>conventional</td>\n",
       "      <td>2015</td>\n",
       "      <td>Albany</td>\n",
       "    </tr>\n",
       "    <tr>\n",
       "      <th>3</th>\n",
       "      <td>2015-12-06</td>\n",
       "      <td>1.08</td>\n",
       "      <td>78992.15</td>\n",
       "      <td>1132.00</td>\n",
       "      <td>71976.41</td>\n",
       "      <td>72.58</td>\n",
       "      <td>5811.16</td>\n",
       "      <td>5677.40</td>\n",
       "      <td>133.76</td>\n",
       "      <td>0.0</td>\n",
       "      <td>conventional</td>\n",
       "      <td>2015</td>\n",
       "      <td>Albany</td>\n",
       "    </tr>\n",
       "    <tr>\n",
       "      <th>4</th>\n",
       "      <td>2015-11-29</td>\n",
       "      <td>1.28</td>\n",
       "      <td>51039.60</td>\n",
       "      <td>941.48</td>\n",
       "      <td>43838.39</td>\n",
       "      <td>75.78</td>\n",
       "      <td>6183.95</td>\n",
       "      <td>5986.26</td>\n",
       "      <td>197.69</td>\n",
       "      <td>0.0</td>\n",
       "      <td>conventional</td>\n",
       "      <td>2015</td>\n",
       "      <td>Albany</td>\n",
       "    </tr>\n",
       "  </tbody>\n",
       "</table>\n",
       "</div>"
      ],
      "text/plain": [
       "         Date  AveragePrice  Total Volume     4046       4225    4770  \\\n",
       "0  2015-12-27          1.33      64236.62  1036.74   54454.85   48.16   \n",
       "1  2015-12-20          1.35      54876.98   674.28   44638.81   58.33   \n",
       "2  2015-12-13          0.93     118220.22   794.70  109149.67  130.50   \n",
       "3  2015-12-06          1.08      78992.15  1132.00   71976.41   72.58   \n",
       "4  2015-11-29          1.28      51039.60   941.48   43838.39   75.78   \n",
       "\n",
       "   Total Bags  Small Bags  Large Bags  XLarge Bags          type  year  region  \n",
       "0     8696.87     8603.62       93.25          0.0  conventional  2015  Albany  \n",
       "1     9505.56     9408.07       97.49          0.0  conventional  2015  Albany  \n",
       "2     8145.35     8042.21      103.14          0.0  conventional  2015  Albany  \n",
       "3     5811.16     5677.40      133.76          0.0  conventional  2015  Albany  \n",
       "4     6183.95     5986.26      197.69          0.0  conventional  2015  Albany  "
      ]
     },
     "execution_count": 4,
     "metadata": {},
     "output_type": "execute_result"
    }
   ],
   "source": [
    "import pandas as pd\n",
    "import numpy as np\n",
    "\n",
    "avocado = pd.read_csv('https://raw.githubusercontent.com/ADPclass/ADP_book_ver01/main/data/avocado.csv', index_col=[0])\n",
    "avocado.head()"
   ]
  },
  {
   "cell_type": "markdown",
   "metadata": {},
   "source": [
    "범주형 변수로 type, region, 연속형변수로 AveragePrice 로 선택하겠다."
   ]
  },
  {
   "cell_type": "code",
   "execution_count": 6,
   "metadata": {},
   "outputs": [],
   "source": [
    "df = avocado[['AveragePrice', 'type', 'region']]"
   ]
  },
  {
   "cell_type": "code",
   "execution_count": 9,
   "metadata": {},
   "outputs": [
    {
     "data": {
      "text/html": [
       "<div>\n",
       "<style scoped>\n",
       "    .dataframe tbody tr th:only-of-type {\n",
       "        vertical-align: middle;\n",
       "    }\n",
       "\n",
       "    .dataframe tbody tr th {\n",
       "        vertical-align: top;\n",
       "    }\n",
       "\n",
       "    .dataframe thead th {\n",
       "        text-align: right;\n",
       "    }\n",
       "</style>\n",
       "<table border=\"1\" class=\"dataframe\">\n",
       "  <thead>\n",
       "    <tr style=\"text-align: right;\">\n",
       "      <th></th>\n",
       "      <th>type</th>\n",
       "      <th>region</th>\n",
       "    </tr>\n",
       "  </thead>\n",
       "  <tbody>\n",
       "    <tr>\n",
       "      <th>count</th>\n",
       "      <td>18249</td>\n",
       "      <td>18249</td>\n",
       "    </tr>\n",
       "    <tr>\n",
       "      <th>unique</th>\n",
       "      <td>2</td>\n",
       "      <td>54</td>\n",
       "    </tr>\n",
       "    <tr>\n",
       "      <th>top</th>\n",
       "      <td>conventional</td>\n",
       "      <td>Albany</td>\n",
       "    </tr>\n",
       "    <tr>\n",
       "      <th>freq</th>\n",
       "      <td>9126</td>\n",
       "      <td>338</td>\n",
       "    </tr>\n",
       "  </tbody>\n",
       "</table>\n",
       "</div>"
      ],
      "text/plain": [
       "                type  region\n",
       "count          18249   18249\n",
       "unique             2      54\n",
       "top     conventional  Albany\n",
       "freq            9126     338"
      ]
     },
     "execution_count": 9,
     "metadata": {},
     "output_type": "execute_result"
    }
   ],
   "source": [
    "df.describe(include='object')"
   ]
  },
  {
   "cell_type": "markdown",
   "metadata": {},
   "source": [
    "region 의 종류가 너무 많으므로 지역 3개만 뽑아서 분석을 진행하자."
   ]
  },
  {
   "cell_type": "code",
   "execution_count": 11,
   "metadata": {},
   "outputs": [
    {
     "data": {
      "text/plain": [
       "region\n",
       "Boston     338\n",
       "Chicago    338\n",
       "Orlando    338\n",
       "Name: count, dtype: int64"
      ]
     },
     "execution_count": 11,
     "metadata": {},
     "output_type": "execute_result"
    }
   ],
   "source": [
    "df = df[(df.region == 'Orlando') | (df.region == 'Boston') | (df.region == 'Chicago') ]"
   ]
  },
  {
   "cell_type": "markdown",
   "metadata": {},
   "source": [
    "분산분석은 종속변수에 대해 두 개의 범주형 변수 A, B의 영향을 알아보기 위해 사용되는 검증방법이다. 가설은 다음과 같이 설정할 수 있다."
   ]
  },
  {
   "cell_type": "markdown",
   "metadata": {},
   "source": [
    "가. 상호작용과 검정에 대한 가설\n",
    "+ H0 : region 과 type 에는 상호작용 효과가 없다.\n",
    "+ H1 : region 과 type 에는 상호작용 효과가 있다.\n",
    "\n",
    "나. 주효과 검정에 대한 가설\n",
    "+ H0 : region 에 따른 AveragePrice 차이는 존재하지 않는다.\n",
    "+ H1 : region 에 따른 AveragePrice 차이는 존재한다.\n",
    "<br/><br/>\n",
    "+ H0 : type 에 따른 AveragePrice 차이는 존재하지 않는다.\n",
    "+ H1 : type 에 따른 AveragePrice 차이는 존재한다."
   ]
  },
  {
   "cell_type": "code",
   "execution_count": 13,
   "metadata": {},
   "outputs": [
    {
     "data": {
      "text/html": [
       "<div>\n",
       "<style scoped>\n",
       "    .dataframe tbody tr th:only-of-type {\n",
       "        vertical-align: middle;\n",
       "    }\n",
       "\n",
       "    .dataframe tbody tr th {\n",
       "        vertical-align: top;\n",
       "    }\n",
       "\n",
       "    .dataframe thead th {\n",
       "        text-align: right;\n",
       "    }\n",
       "</style>\n",
       "<table border=\"1\" class=\"dataframe\">\n",
       "  <thead>\n",
       "    <tr style=\"text-align: right;\">\n",
       "      <th></th>\n",
       "      <th>sum_sq</th>\n",
       "      <th>df</th>\n",
       "      <th>F</th>\n",
       "      <th>PR(&gt;F)</th>\n",
       "    </tr>\n",
       "  </thead>\n",
       "  <tbody>\n",
       "    <tr>\n",
       "      <th>C(type)</th>\n",
       "      <td>56.111007</td>\n",
       "      <td>1.0</td>\n",
       "      <td>828.218296</td>\n",
       "      <td>1.989417e-133</td>\n",
       "    </tr>\n",
       "    <tr>\n",
       "      <th>C(region)</th>\n",
       "      <td>0.432136</td>\n",
       "      <td>2.0</td>\n",
       "      <td>3.189242</td>\n",
       "      <td>4.161918e-02</td>\n",
       "    </tr>\n",
       "    <tr>\n",
       "      <th>C(type):C(region)</th>\n",
       "      <td>1.878817</td>\n",
       "      <td>2.0</td>\n",
       "      <td>13.866003</td>\n",
       "      <td>1.146622e-06</td>\n",
       "    </tr>\n",
       "    <tr>\n",
       "      <th>Residual</th>\n",
       "      <td>68.291047</td>\n",
       "      <td>1008.0</td>\n",
       "      <td>NaN</td>\n",
       "      <td>NaN</td>\n",
       "    </tr>\n",
       "  </tbody>\n",
       "</table>\n",
       "</div>"
      ],
      "text/plain": [
       "                      sum_sq      df           F         PR(>F)\n",
       "C(type)            56.111007     1.0  828.218296  1.989417e-133\n",
       "C(region)           0.432136     2.0    3.189242   4.161918e-02\n",
       "C(type):C(region)   1.878817     2.0   13.866003   1.146622e-06\n",
       "Residual           68.291047  1008.0         NaN            NaN"
      ]
     },
     "execution_count": 13,
     "metadata": {},
     "output_type": "execute_result"
    }
   ],
   "source": [
    "price = df.AveragePrice\n",
    "type = df.type\n",
    "region = df.region\n",
    "\n",
    "# 분산분석 수행\n",
    "from statsmodels.formula.api import ols\n",
    "from statsmodels.stats.anova import anova_lm\n",
    "\n",
    "formula = 'price ~ C(type)*C(region)'\n",
    "model = ols(formula, df).fit()\n",
    "aov_table = anova_lm(model, typ = 2)\n",
    "aov_table"
   ]
  },
  {
   "cell_type": "markdown",
   "metadata": {},
   "source": [
    "상호작용 효과에 대한 가설검정에서 C(type):C(region) 행의 p-value 를 살펴보면 유의수준 0.05보다 작으므로 귀무가설을 기각한다. 즉 상호작용 효과가 있다고 할 수 있다.  \n",
    "또한 주효과에 대한 가설검정에서 두 변수 모두 p-value 가 유의수준 0.05보다 작으므로 귀무가설을 기각한다. 즉 type, region 모두 종류에 따른 AveragePrice 의 차이가 있다고 할 수 있다.  \n",
    "더 직관적으로 보기 위해 상호작용 그래프로 살펴보자."
   ]
  },
  {
   "cell_type": "code",
   "execution_count": 22,
   "metadata": {},
   "outputs": [
    {
     "data": {
      "image/png": "[encoded data removed]",
      "text/plain": [
       "<Figure size 600x600 with 1 Axes>"
      ]
     },
     "metadata": {},
     "output_type": "display_data"
    }
   ],
   "source": [
    "from statsmodels.graphics.factorplots import interaction_plot\n",
    "import matplotlib.pyplot as plt\n",
    "fig, ax = plt.subplots(figsize = (6, 6))\n",
    "fig = interaction_plot(type, region, price, ax= ax)"
   ]
  },
  {
   "cell_type": "markdown",
   "metadata": {},
   "source": [
    "- 일반적으로 상호작용 그래프에서 두 선이 서로 교차하고 있을 시 x축에 있는 독립변수와 그래프에서 시각화된 독립변수 간에 상호작용이 존재한다고 해석할 수 있다.\n",
    "- 특히 Orlando 에서는 conventional 에 비해 organic 손호도가 높음을 알 수 있다."
   ]
  }
 ],
 "metadata": {
  "kernelspec": {
   "display_name": "Python 3 (ipykernel)",
   "language": "python",
   "name": "python3"
  },
  "language_info": {
   "codemirror_mode": {
    "name": "ipython",
    "version": 3
   },
   "file_extension": ".py",
   "mimetype": "text/x-python",
   "name": "python",
   "nbconvert_exporter": "python",
   "pygments_lexer": "ipython3",
   "version": "3.10.9"
  }
 },
 "nbformat": 4,
 "nbformat_minor": 2
}
