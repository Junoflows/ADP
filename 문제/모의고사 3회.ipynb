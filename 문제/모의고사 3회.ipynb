{
 "cells": [
  {
   "cell_type": "markdown",
   "metadata": {},
   "source": [
    "## 머신러닝"
   ]
  },
  {
   "cell_type": "markdown",
   "metadata": {},
   "source": [
    "데이터 : 객실 사용 여부 관련 데이터"
   ]
  },
  {
   "cell_type": "markdown",
   "metadata": {},
   "source": [
    "#### 1. 데이터를 탐색하고 탐색 결과를 제시하시오."
   ]
  },
  {
   "cell_type": "code",
   "execution_count": 179,
   "metadata": {},
   "outputs": [
    {
     "data": {
      "text/html": [
       "<div>\n",
       "<style scoped>\n",
       "    .dataframe tbody tr th:only-of-type {\n",
       "        vertical-align: middle;\n",
       "    }\n",
       "\n",
       "    .dataframe tbody tr th {\n",
       "        vertical-align: top;\n",
       "    }\n",
       "\n",
       "    .dataframe thead th {\n",
       "        text-align: right;\n",
       "    }\n",
       "</style>\n",
       "<table border=\"1\" class=\"dataframe\">\n",
       "  <thead>\n",
       "    <tr style=\"text-align: right;\">\n",
       "      <th></th>\n",
       "      <th>is_canceled</th>\n",
       "      <th>deposit_type</th>\n",
       "      <th>lead_time</th>\n",
       "      <th>stays_in_weekend_nights</th>\n",
       "      <th>stays_in_week_nights</th>\n",
       "      <th>is_repeated_guest</th>\n",
       "      <th>previous_cancellations</th>\n",
       "      <th>previous_bookings_not_canceled</th>\n",
       "      <th>booking_changes</th>\n",
       "      <th>days_in_waiting_list</th>\n",
       "      <th>adr</th>\n",
       "    </tr>\n",
       "  </thead>\n",
       "  <tbody>\n",
       "    <tr>\n",
       "      <th>0</th>\n",
       "      <td>0</td>\n",
       "      <td>No Deposit</td>\n",
       "      <td>105.0</td>\n",
       "      <td>2</td>\n",
       "      <td>5</td>\n",
       "      <td>NaN</td>\n",
       "      <td>0</td>\n",
       "      <td>0</td>\n",
       "      <td>1</td>\n",
       "      <td>0</td>\n",
       "      <td>131.50</td>\n",
       "    </tr>\n",
       "    <tr>\n",
       "      <th>1</th>\n",
       "      <td>0</td>\n",
       "      <td>No Deposit</td>\n",
       "      <td>303.0</td>\n",
       "      <td>2</td>\n",
       "      <td>2</td>\n",
       "      <td>NaN</td>\n",
       "      <td>0</td>\n",
       "      <td>0</td>\n",
       "      <td>0</td>\n",
       "      <td>0</td>\n",
       "      <td>73.95</td>\n",
       "    </tr>\n",
       "    <tr>\n",
       "      <th>2</th>\n",
       "      <td>0</td>\n",
       "      <td>No Deposit</td>\n",
       "      <td>33.0</td>\n",
       "      <td>2</td>\n",
       "      <td>3</td>\n",
       "      <td>0.0</td>\n",
       "      <td>0</td>\n",
       "      <td>0</td>\n",
       "      <td>0</td>\n",
       "      <td>0</td>\n",
       "      <td>NaN</td>\n",
       "    </tr>\n",
       "    <tr>\n",
       "      <th>3</th>\n",
       "      <td>0</td>\n",
       "      <td>No Deposit</td>\n",
       "      <td>48.0</td>\n",
       "      <td>0</td>\n",
       "      <td>1</td>\n",
       "      <td>0.0</td>\n",
       "      <td>0</td>\n",
       "      <td>0</td>\n",
       "      <td>1</td>\n",
       "      <td>0</td>\n",
       "      <td>80.30</td>\n",
       "    </tr>\n",
       "    <tr>\n",
       "      <th>4</th>\n",
       "      <td>0</td>\n",
       "      <td>No Deposit</td>\n",
       "      <td>216.0</td>\n",
       "      <td>4</td>\n",
       "      <td>7</td>\n",
       "      <td>0.0</td>\n",
       "      <td>0</td>\n",
       "      <td>0</td>\n",
       "      <td>2</td>\n",
       "      <td>0</td>\n",
       "      <td>60.90</td>\n",
       "    </tr>\n",
       "  </tbody>\n",
       "</table>\n",
       "</div>"
      ],
      "text/plain": [
       "   is_canceled deposit_type  lead_time  stays_in_weekend_nights  \\\n",
       "0            0   No Deposit      105.0                        2   \n",
       "1            0   No Deposit      303.0                        2   \n",
       "2            0   No Deposit       33.0                        2   \n",
       "3            0   No Deposit       48.0                        0   \n",
       "4            0   No Deposit      216.0                        4   \n",
       "\n",
       "   stays_in_week_nights  is_repeated_guest  previous_cancellations  \\\n",
       "0                     5                NaN                       0   \n",
       "1                     2                NaN                       0   \n",
       "2                     3                0.0                       0   \n",
       "3                     1                0.0                       0   \n",
       "4                     7                0.0                       0   \n",
       "\n",
       "   previous_bookings_not_canceled  booking_changes  days_in_waiting_list  \\\n",
       "0                               0                1                     0   \n",
       "1                               0                0                     0   \n",
       "2                               0                0                     0   \n",
       "3                               0                1                     0   \n",
       "4                               0                2                     0   \n",
       "\n",
       "      adr  \n",
       "0  131.50  \n",
       "1   73.95  \n",
       "2     NaN  \n",
       "3   80.30  \n",
       "4   60.90  "
      ]
     },
     "execution_count": 179,
     "metadata": {},
     "output_type": "execute_result"
    }
   ],
   "source": [
    "import pandas as pd\n",
    "import numpy as np\n",
    "\n",
    "hotel = pd.read_csv('https://raw.githubusercontent.com/ADPclass/ADP_book_ver01/main/data/hotel_bookings.csv')\n",
    "hotel.head()"
   ]
  },
  {
   "cell_type": "code",
   "execution_count": 180,
   "metadata": {},
   "outputs": [
    {
     "data": {
      "text/plain": [
       "is_canceled                          0\n",
       "deposit_type                         0\n",
       "lead_time                            5\n",
       "stays_in_weekend_nights              0\n",
       "stays_in_week_nights                 0\n",
       "is_repeated_guest                  358\n",
       "previous_cancellations               0\n",
       "previous_bookings_not_canceled       0\n",
       "booking_changes                      0\n",
       "days_in_waiting_list                 0\n",
       "adr                               1063\n",
       "dtype: int64"
      ]
     },
     "execution_count": 180,
     "metadata": {},
     "output_type": "execute_result"
    }
   ],
   "source": [
    "hotel.isnull().sum()"
   ]
  },
  {
   "cell_type": "code",
   "execution_count": 181,
   "metadata": {},
   "outputs": [
    {
     "name": "stdout",
     "output_type": "stream",
     "text": [
      "<class 'pandas.core.frame.DataFrame'>\n",
      "RangeIndex: 20000 entries, 0 to 19999\n",
      "Data columns (total 11 columns):\n",
      " #   Column                          Non-Null Count  Dtype  \n",
      "---  ------                          --------------  -----  \n",
      " 0   is_canceled                     20000 non-null  int64  \n",
      " 1   deposit_type                    20000 non-null  object \n",
      " 2   lead_time                       19995 non-null  float64\n",
      " 3   stays_in_weekend_nights         20000 non-null  int64  \n",
      " 4   stays_in_week_nights            20000 non-null  int64  \n",
      " 5   is_repeated_guest               19642 non-null  float64\n",
      " 6   previous_cancellations          20000 non-null  int64  \n",
      " 7   previous_bookings_not_canceled  20000 non-null  int64  \n",
      " 8   booking_changes                 20000 non-null  int64  \n",
      " 9   days_in_waiting_list            20000 non-null  int64  \n",
      " 10  adr                             18937 non-null  float64\n",
      "dtypes: float64(3), int64(7), object(1)\n",
      "memory usage: 1.7+ MB\n"
     ]
    }
   ],
   "source": [
    "hotel.info()"
   ]
  },
  {
   "cell_type": "code",
   "execution_count": 182,
   "metadata": {},
   "outputs": [
    {
     "data": {
      "text/plain": [
       "deposit_type\n",
       "No Deposit    19138\n",
       "Non Refund      834\n",
       "Refundable       28\n",
       "Name: count, dtype: int64"
      ]
     },
     "execution_count": 182,
     "metadata": {},
     "output_type": "execute_result"
    }
   ],
   "source": [
    "hotel.deposit_type.value_counts()"
   ]
  },
  {
   "cell_type": "code",
   "execution_count": 183,
   "metadata": {},
   "outputs": [
    {
     "data": {
      "text/plain": [
       "is_canceled\n",
       "0    17600\n",
       "1     2400\n",
       "Name: count, dtype: int64"
      ]
     },
     "execution_count": 183,
     "metadata": {},
     "output_type": "execute_result"
    }
   ],
   "source": [
    "hotel.is_canceled.value_counts()"
   ]
  },
  {
   "cell_type": "markdown",
   "metadata": {},
   "source": [
    "+ 종속변수 is_canceled 는 0,1 값을 갖는 범주형 변수\n",
    "+ 독립변수는 deposit_type 만 object 형식이고 나머지는 int 나 float 의 수치형 연속형 변수\n",
    "+ 결측치는 lead_time, is_repeated_guest, adr 에 각각 5, 368, 1063 개의 결측치가 존재한다. 결측치의 비율에 따라 각각 다른 결측치 대체 방식을 사용할 수 있을 것으로 보인다."
   ]
  },
  {
   "cell_type": "markdown",
   "metadata": {},
   "source": [
    "+ 종속변수에 따른 독립변수의 분포를 알아보자."
   ]
  },
  {
   "cell_type": "code",
   "execution_count": 184,
   "metadata": {},
   "outputs": [
    {
     "data": {
      "text/html": [
       "<div>\n",
       "<style scoped>\n",
       "    .dataframe tbody tr th:only-of-type {\n",
       "        vertical-align: middle;\n",
       "    }\n",
       "\n",
       "    .dataframe tbody tr th {\n",
       "        vertical-align: top;\n",
       "    }\n",
       "\n",
       "    .dataframe thead th {\n",
       "        text-align: right;\n",
       "    }\n",
       "</style>\n",
       "<table border=\"1\" class=\"dataframe\">\n",
       "  <thead>\n",
       "    <tr style=\"text-align: right;\">\n",
       "      <th></th>\n",
       "      <th>lead_time</th>\n",
       "      <th>stays_in_weekend_nights</th>\n",
       "      <th>stays_in_week_nights</th>\n",
       "      <th>is_repeated_guest</th>\n",
       "      <th>previous_cancellations</th>\n",
       "      <th>previous_bookings_not_canceled</th>\n",
       "      <th>booking_changes</th>\n",
       "      <th>days_in_waiting_list</th>\n",
       "      <th>adr</th>\n",
       "    </tr>\n",
       "    <tr>\n",
       "      <th>is_canceled</th>\n",
       "      <th></th>\n",
       "      <th></th>\n",
       "      <th></th>\n",
       "      <th></th>\n",
       "      <th></th>\n",
       "      <th></th>\n",
       "      <th></th>\n",
       "      <th></th>\n",
       "      <th></th>\n",
       "    </tr>\n",
       "  </thead>\n",
       "  <tbody>\n",
       "    <tr>\n",
       "      <th>0</th>\n",
       "      <td>78.420290</td>\n",
       "      <td>0.888750</td>\n",
       "      <td>2.361080</td>\n",
       "      <td>0.041481</td>\n",
       "      <td>0.013068</td>\n",
       "      <td>0.189886</td>\n",
       "      <td>0.293409</td>\n",
       "      <td>1.737443</td>\n",
       "      <td>101.034845</td>\n",
       "    </tr>\n",
       "    <tr>\n",
       "      <th>1</th>\n",
       "      <td>141.388333</td>\n",
       "      <td>0.920417</td>\n",
       "      <td>2.522083</td>\n",
       "      <td>0.013577</td>\n",
       "      <td>0.178333</td>\n",
       "      <td>0.016250</td>\n",
       "      <td>0.093333</td>\n",
       "      <td>3.791667</td>\n",
       "      <td>104.162354</td>\n",
       "    </tr>\n",
       "  </tbody>\n",
       "</table>\n",
       "</div>"
      ],
      "text/plain": [
       "              lead_time  stays_in_weekend_nights  stays_in_week_nights  \\\n",
       "is_canceled                                                              \n",
       "0             78.420290                 0.888750              2.361080   \n",
       "1            141.388333                 0.920417              2.522083   \n",
       "\n",
       "             is_repeated_guest  previous_cancellations  \\\n",
       "is_canceled                                              \n",
       "0                     0.041481                0.013068   \n",
       "1                     0.013577                0.178333   \n",
       "\n",
       "             previous_bookings_not_canceled  booking_changes  \\\n",
       "is_canceled                                                    \n",
       "0                                  0.189886         0.293409   \n",
       "1                                  0.016250         0.093333   \n",
       "\n",
       "             days_in_waiting_list         adr  \n",
       "is_canceled                                    \n",
       "0                        1.737443  101.034845  \n",
       "1                        3.791667  104.162354  "
      ]
     },
     "execution_count": 184,
     "metadata": {},
     "output_type": "execute_result"
    }
   ],
   "source": [
    "group_df = hotel.drop(['deposit_type'], axis = 1).groupby('is_canceled').mean()\n",
    "group_df"
   ]
  },
  {
   "cell_type": "code",
   "execution_count": 185,
   "metadata": {},
   "outputs": [
    {
     "data": {
      "image/png": "[encoded data removed]",
      "text/plain": [
       "<Figure size 2000x1400 with 10 Axes>"
      ]
     },
     "metadata": {},
     "output_type": "display_data"
    }
   ],
   "source": [
    "import matplotlib.pyplot as plt\n",
    "import seaborn as sns\n",
    "fig, axes = plt.subplots(2,5, figsize = (20, 14))\n",
    "plt.subplots_adjust(wspace=0.5)\n",
    "for i in range(9):\n",
    "    sns.barplot(x = group_df.index, y = group_df.iloc[:, i], ax = axes[i // 5][i % 5])\n",
    "\n",
    "    "
   ]
  },
  {
   "cell_type": "code",
   "execution_count": 186,
   "metadata": {},
   "outputs": [
    {
     "data": {
      "text/plain": [
       "deposit_type\n",
       "No Deposit    17552\n",
       "Refundable       28\n",
       "Non Refund       20\n",
       "Name: count, dtype: int64"
      ]
     },
     "execution_count": 186,
     "metadata": {},
     "output_type": "execute_result"
    }
   ],
   "source": [
    "hotel[hotel.is_canceled == 0].deposit_type.value_counts()"
   ]
  },
  {
   "cell_type": "code",
   "execution_count": 187,
   "metadata": {},
   "outputs": [
    {
     "data": {
      "text/plain": [
       "deposit_type\n",
       "No Deposit    1586\n",
       "Non Refund     814\n",
       "Name: count, dtype: int64"
      ]
     },
     "execution_count": 187,
     "metadata": {},
     "output_type": "execute_result"
    }
   ],
   "source": [
    "hotel[hotel.is_canceled == 1].deposit_type.value_counts()"
   ]
  },
  {
   "cell_type": "markdown",
   "metadata": {},
   "source": [
    "종속변수에 대한 독립변수의 분포를 살펴보았을 때 크게 눈에 띄는 것은 다음과 같다.\n",
    "+ lead_time, previous_cancellations, day_in_waiting_list 변수에서 is_canceled == 1 인 경우의 분포가 훨씬 크다. \n",
    "+ is_repeated_guest, previous_bookings_not_canceled, booking_changes 변수에서는 is_canceled == 0 인 경우의 분포가 훨씬 크다."
   ]
  },
  {
   "cell_type": "markdown",
   "metadata": {},
   "source": [
    "#### 2. 결측치를 탐색하고 대체 방법 및 근거를 제시하시오."
   ]
  },
  {
   "cell_type": "markdown",
   "metadata": {},
   "source": [
    "결측치가 있는 변수는 lead_time, is_repeated_guest, adr 이다."
   ]
  },
  {
   "cell_type": "code",
   "execution_count": 188,
   "metadata": {},
   "outputs": [
    {
     "data": {
      "text/html": [
       "<div>\n",
       "<style scoped>\n",
       "    .dataframe tbody tr th:only-of-type {\n",
       "        vertical-align: middle;\n",
       "    }\n",
       "\n",
       "    .dataframe tbody tr th {\n",
       "        vertical-align: top;\n",
       "    }\n",
       "\n",
       "    .dataframe thead th {\n",
       "        text-align: right;\n",
       "    }\n",
       "</style>\n",
       "<table border=\"1\" class=\"dataframe\">\n",
       "  <thead>\n",
       "    <tr style=\"text-align: right;\">\n",
       "      <th></th>\n",
       "      <th>is_canceled</th>\n",
       "      <th>deposit_type</th>\n",
       "      <th>lead_time</th>\n",
       "      <th>stays_in_weekend_nights</th>\n",
       "      <th>stays_in_week_nights</th>\n",
       "      <th>is_repeated_guest</th>\n",
       "      <th>previous_cancellations</th>\n",
       "      <th>previous_bookings_not_canceled</th>\n",
       "      <th>booking_changes</th>\n",
       "      <th>days_in_waiting_list</th>\n",
       "      <th>adr</th>\n",
       "    </tr>\n",
       "  </thead>\n",
       "  <tbody>\n",
       "    <tr>\n",
       "      <th>0</th>\n",
       "      <td>0</td>\n",
       "      <td>No Deposit</td>\n",
       "      <td>105.0</td>\n",
       "      <td>2</td>\n",
       "      <td>5</td>\n",
       "      <td>NaN</td>\n",
       "      <td>0</td>\n",
       "      <td>0</td>\n",
       "      <td>1</td>\n",
       "      <td>0</td>\n",
       "      <td>131.50</td>\n",
       "    </tr>\n",
       "    <tr>\n",
       "      <th>1</th>\n",
       "      <td>0</td>\n",
       "      <td>No Deposit</td>\n",
       "      <td>303.0</td>\n",
       "      <td>2</td>\n",
       "      <td>2</td>\n",
       "      <td>NaN</td>\n",
       "      <td>0</td>\n",
       "      <td>0</td>\n",
       "      <td>0</td>\n",
       "      <td>0</td>\n",
       "      <td>73.95</td>\n",
       "    </tr>\n",
       "    <tr>\n",
       "      <th>2</th>\n",
       "      <td>0</td>\n",
       "      <td>No Deposit</td>\n",
       "      <td>33.0</td>\n",
       "      <td>2</td>\n",
       "      <td>3</td>\n",
       "      <td>0.0</td>\n",
       "      <td>0</td>\n",
       "      <td>0</td>\n",
       "      <td>0</td>\n",
       "      <td>0</td>\n",
       "      <td>NaN</td>\n",
       "    </tr>\n",
       "    <tr>\n",
       "      <th>3</th>\n",
       "      <td>0</td>\n",
       "      <td>No Deposit</td>\n",
       "      <td>48.0</td>\n",
       "      <td>0</td>\n",
       "      <td>1</td>\n",
       "      <td>0.0</td>\n",
       "      <td>0</td>\n",
       "      <td>0</td>\n",
       "      <td>1</td>\n",
       "      <td>0</td>\n",
       "      <td>80.30</td>\n",
       "    </tr>\n",
       "    <tr>\n",
       "      <th>4</th>\n",
       "      <td>0</td>\n",
       "      <td>No Deposit</td>\n",
       "      <td>216.0</td>\n",
       "      <td>4</td>\n",
       "      <td>7</td>\n",
       "      <td>0.0</td>\n",
       "      <td>0</td>\n",
       "      <td>0</td>\n",
       "      <td>2</td>\n",
       "      <td>0</td>\n",
       "      <td>60.90</td>\n",
       "    </tr>\n",
       "  </tbody>\n",
       "</table>\n",
       "</div>"
      ],
      "text/plain": [
       "   is_canceled deposit_type  lead_time  stays_in_weekend_nights  \\\n",
       "0            0   No Deposit      105.0                        2   \n",
       "1            0   No Deposit      303.0                        2   \n",
       "2            0   No Deposit       33.0                        2   \n",
       "3            0   No Deposit       48.0                        0   \n",
       "4            0   No Deposit      216.0                        4   \n",
       "\n",
       "   stays_in_week_nights  is_repeated_guest  previous_cancellations  \\\n",
       "0                     5                NaN                       0   \n",
       "1                     2                NaN                       0   \n",
       "2                     3                0.0                       0   \n",
       "3                     1                0.0                       0   \n",
       "4                     7                0.0                       0   \n",
       "\n",
       "   previous_bookings_not_canceled  booking_changes  days_in_waiting_list  \\\n",
       "0                               0                1                     0   \n",
       "1                               0                0                     0   \n",
       "2                               0                0                     0   \n",
       "3                               0                1                     0   \n",
       "4                               0                2                     0   \n",
       "\n",
       "      adr  \n",
       "0  131.50  \n",
       "1   73.95  \n",
       "2     NaN  \n",
       "3   80.30  \n",
       "4   60.90  "
      ]
     },
     "execution_count": 188,
     "metadata": {},
     "output_type": "execute_result"
    }
   ],
   "source": [
    "hotel.head()"
   ]
  },
  {
   "cell_type": "code",
   "execution_count": 189,
   "metadata": {},
   "outputs": [
    {
     "data": {
      "text/plain": [
       "is_canceled                          0\n",
       "deposit_type                         0\n",
       "lead_time                            5\n",
       "stays_in_weekend_nights              0\n",
       "stays_in_week_nights                 0\n",
       "is_repeated_guest                  358\n",
       "previous_cancellations               0\n",
       "previous_bookings_not_canceled       0\n",
       "booking_changes                      0\n",
       "days_in_waiting_list                 0\n",
       "adr                               1063\n",
       "dtype: int64"
      ]
     },
     "execution_count": 189,
     "metadata": {},
     "output_type": "execute_result"
    }
   ],
   "source": [
    "hotel.isnull().sum()"
   ]
  },
  {
   "cell_type": "code",
   "execution_count": 190,
   "metadata": {},
   "outputs": [
    {
     "data": {
      "text/plain": [
       "lead_time            0.025\n",
       "is_repeated_guest    1.790\n",
       "adr                  5.315\n",
       "dtype: float64"
      ]
     },
     "execution_count": 190,
     "metadata": {},
     "output_type": "execute_result"
    }
   ],
   "source": [
    "hotel[['lead_time', 'is_repeated_guest', 'adr']].isnull().sum() / len(hotel) * 100"
   ]
  },
  {
   "cell_type": "markdown",
   "metadata": {},
   "source": [
    "+ 변수별 결측치 비율은 lead_time, is_repeated_guest, adr 각각 0.025%, 1,8%, 5.3% 이다.\n",
    "+ lead_time 의 경우 결측치가 매우 적기 때문에 평균으로 대치한다.\n",
    "+ is_repeated_guest 의 경우는 최빈값으로 대체한다.\n",
    "+ adr 변수의 결측치는 deposit_type 별 평균으로 대체한다."
   ]
  },
  {
   "cell_type": "code",
   "execution_count": 191,
   "metadata": {},
   "outputs": [],
   "source": [
    "hotel['lead_time'] = hotel['lead_time'].fillna(hotel['lead_time'].mean())\n",
    "# hotel['is_repeated_guest'].value_counts()\n",
    "hotel['is_repeated_guest'] = hotel['is_repeated_guest'].fillna(0.0)"
   ]
  },
  {
   "cell_type": "code",
   "execution_count": 192,
   "metadata": {},
   "outputs": [],
   "source": [
    "index1 = hotel[(hotel['deposit_type'] == 'No Deposit' ) & (hotel['adr'].isna() == True)].index\n",
    "index2 = hotel[(hotel['deposit_type'] == 'Refundable' ) & (hotel['adr'].isna() == True)].index\n",
    "index3 = hotel[(hotel['deposit_type'] == 'Non Refund' ) & (hotel['adr'].isna() == True)].index\n",
    "\n",
    "value1 = hotel[hotel.deposit_type == 'No Deposit']['adr'].mean()\n",
    "value2 = hotel[hotel.deposit_type == 'Refundable']['adr'].mean()\n",
    "value3 = hotel[hotel.deposit_type == 'Non Refund']['adr'].mean()"
   ]
  },
  {
   "cell_type": "code",
   "execution_count": 193,
   "metadata": {},
   "outputs": [],
   "source": [
    "hotel.loc[index1, 'adr'] = value1\n",
    "hotel.loc[index2, 'adr'] = value2\n",
    "hotel.loc[index3, 'adr'] = value3"
   ]
  },
  {
   "cell_type": "code",
   "execution_count": 194,
   "metadata": {},
   "outputs": [
    {
     "data": {
      "text/plain": [
       "is_canceled                       0\n",
       "deposit_type                      0\n",
       "lead_time                         0\n",
       "stays_in_weekend_nights           0\n",
       "stays_in_week_nights              0\n",
       "is_repeated_guest                 0\n",
       "previous_cancellations            0\n",
       "previous_bookings_not_canceled    0\n",
       "booking_changes                   0\n",
       "days_in_waiting_list              0\n",
       "adr                               0\n",
       "dtype: int64"
      ]
     },
     "execution_count": 194,
     "metadata": {},
     "output_type": "execute_result"
    }
   ],
   "source": [
    "hotel.isnull().sum()"
   ]
  },
  {
   "cell_type": "markdown",
   "metadata": {},
   "source": [
    "#### 3. 데이터 질을 향상시킬 수 있는 방법을 제안하시오."
   ]
  },
  {
   "cell_type": "code",
   "execution_count": 195,
   "metadata": {},
   "outputs": [
    {
     "data": {
      "text/plain": [
       "<Axes: ylabel='lead_time'>"
      ]
     },
     "execution_count": 195,
     "metadata": {},
     "output_type": "execute_result"
    },
    {
     "data": {
      "image/png": "[encoded data removed]",
      "text/plain": [
       "<Figure size 640x480 with 1 Axes>"
      ]
     },
     "metadata": {},
     "output_type": "display_data"
    }
   ],
   "source": [
    "sns.boxplot(y = hotel.lead_time)"
   ]
  },
  {
   "cell_type": "markdown",
   "metadata": {},
   "source": [
    "+ lead_time 변수의 boxplot을 그려보면 이상치가 존재하는 것을 알 수 있다. 이를 IQR 방식으로 보정해주면 데이터의 질이 올라갈 수 있다.\n",
    "+ is_repeated_guest 의 비율이 너무 차이가 심하므로 1인 경우의 데이터를 추가하는 방법"
   ]
  },
  {
   "cell_type": "code",
   "execution_count": 196,
   "metadata": {},
   "outputs": [
    {
     "data": {
      "text/plain": [
       "is_repeated_guest\n",
       "0.0    19251\n",
       "1.0      749\n",
       "Name: count, dtype: int64"
      ]
     },
     "execution_count": 196,
     "metadata": {},
     "output_type": "execute_result"
    }
   ],
   "source": [
    "hotel.is_repeated_guest.value_counts()"
   ]
  },
  {
   "cell_type": "markdown",
   "metadata": {},
   "source": [
    "#### 4. 데이터 불균형을 시각화하여 식별하고 불균형 판단 근거를 작성하시오."
   ]
  },
  {
   "cell_type": "code",
   "execution_count": 197,
   "metadata": {},
   "outputs": [
    {
     "data": {
      "image/png": "[encoded data removed]",
      "text/plain": [
       "<Figure size 640x480 with 1 Axes>"
      ]
     },
     "metadata": {},
     "output_type": "display_data"
    },
    {
     "name": "stdout",
     "output_type": "stream",
     "text": [
      "is_canceled\n",
      "0    0.88\n",
      "1    0.12\n",
      "Name: count, dtype: float64\n"
     ]
    }
   ],
   "source": [
    "sns.barplot(x = hotel.is_canceled.value_counts().index, y = hotel.is_canceled.value_counts().values)\n",
    "plt.show()\n",
    "\n",
    "print(hotel.is_canceled.value_counts() / hotel.is_canceled.value_counts().sum())"
   ]
  },
  {
   "cell_type": "markdown",
   "metadata": {},
   "source": [
    "+ 종속변수인 is_canceled 는 0과 1로 구성된 데이터이다. 0인 비율이 88%, 1인 비율이 12%로 데이터가 매우 불균형하다고 할 수 있다."
   ]
  },
  {
   "cell_type": "markdown",
   "metadata": {},
   "source": [
    "#### 5. 오버 샘플링 기법을 설명하고 비교한 뒤 2개 기법을 선정하고 근거를 제시하시오."
   ]
  },
  {
   "cell_type": "markdown",
   "metadata": {},
   "source": [
    "+ 오버 샘플링 기법은 비중이 낮은 데이터를 추가로 생성하여 데이터 불균형을 해결하는 방식이다. 언더 샘플링은 데이터의 손실 문제로 예측 성능이 저하되는 단점이 있으므로 일반적으로 오버샘플링 기법을 사용한다.\n",
    "\n",
    "Random Oversampling\n",
    "+ 소수 클래스에 속하는 데이터의 관측치를 단순 복사하는 방식으로 데이터를 증식한다.\n",
    "+ 소수 클래스에 과적합이 발생할 가능성이 있다는 단점이 있지만, 사용 방법이 간단하다는 장점이 있다.\n",
    "\n",
    "SMOTE\n",
    "+ 적은 데이터 세트에 있는 개별 데이터들의 k-최근접 이웃을 찾아 해당 데이터와 k 개 이웃들의 차이를 일정한 값으로 만들어 기존 데이터와 약간의 차이를 지닌 새로운 데이터를 생성하는 방식이다.\n",
    "+ Resampling 방식보다 속도가 느리다는 단점이 있지만 단순 복사방식이 아니므로 과적합 문제를 예방할 수 있다는 장점이 있다."
   ]
  },
  {
   "cell_type": "markdown",
   "metadata": {},
   "source": [
    "#### 6. 기법을 선정한 이유를 작성하고, 원 데이터를 포함해 3개의 데이터 세트를 구성하시오."
   ]
  },
  {
   "cell_type": "markdown",
   "metadata": {},
   "source": [
    "Random Oversampling 과 SMOTE 방식은 선택한다. 그 이유로는 Random Oversampling 은 간단한 방식으로 데이터 불균형 문제를 해결할 수 있기 때문이고, SMOTE 방식은 데이터 과적합 문제를 해결할 수 있기 때문이다."
   ]
  },
  {
   "cell_type": "code",
   "execution_count": 198,
   "metadata": {},
   "outputs": [],
   "source": [
    "from imblearn.over_sampling import RandomOverSampler, SMOTE\n",
    "hotel = pd.get_dummies(hotel, columns= ['deposit_type'], drop_first= True)"
   ]
  },
  {
   "cell_type": "code",
   "execution_count": 207,
   "metadata": {},
   "outputs": [],
   "source": [
    "X = hotel.drop(['is_canceled'], axis = 1)\n",
    "y = hotel['is_canceled']\n",
    "\n",
    "X_ra, y_ra = RandomOverSampler(random_state= 42).fit_resample(X, y)\n",
    "X_sm, y_sm = SMOTE(k_neighbors= 3 ,random_state= 42).fit_resample(X, y)"
   ]
  },
  {
   "cell_type": "markdown",
   "metadata": {},
   "source": [
    "#### 7. 오버 샘플링 데이터와 원데이터를 사용해 정확도 측면 모델 하나와 속도 측면의 모델 하나를 선정하고, 그 이유를 설명하시오."
   ]
  },
  {
   "cell_type": "markdown",
   "metadata": {},
   "source": [
    "+ 정확도 측면으로는 SMOTE, 속도 측면의 모델은 RandomOversampler 을 사용하자.\n",
    "+ RandomOversampler 은 단순 복사이므로 속도가 SMOTE 에 비해 빠르고 SMOTE 는 k 최근접 이웃 알고리즘을 이용하기 때문에 속도는 resampling 에 비해 느리지만 더 정확하다.\n",
    "+ 이 데이터 세트는 크기가 작아 RandomOverSampler 의 정확도가 더 크게 나왔지만 데이터가 더 커진다면 SMOTE가 더 좋은 성능을 띌 가능성이 높다."
   ]
  },
  {
   "cell_type": "code",
   "execution_count": 210,
   "metadata": {},
   "outputs": [
    {
     "name": "stdout",
     "output_type": "stream",
     "text": [
      "[original datasets]\n",
      "time : 1.073784589767456\n",
      "accuracy : 0.9953571428571428\n",
      "[random oversampling datasets]\n",
      "time : 1.655881643295288\n",
      "accuracy : 0.9924512987012987\n",
      "[SMOTE datasets]\n",
      "time : 2.0627546310424805\n",
      "accuracy : 0.996185064935065\n"
     ]
    }
   ],
   "source": [
    "from sklearn.ensemble import RandomForestClassifier\n",
    "from sklearn.model_selection import train_test_split\n",
    "from sklearn.metrics import roc_auc_score, accuracy_score\n",
    "import time\n",
    "\n",
    "X_train, X_test, y_train, y_test = train_test_split(X, y, test_size= 0.3, random_state= 42)\n",
    "X_ra_train, X_ra_test, y_ra_train, y_ra_test = train_test_split(X_ra, y_ra, test_size= 0.3, random_state= 42)\n",
    "X_sm_train, X_sm_test, y_sm_train, y_sm_test = train_test_split(X_sm, y_sm, test_size= 0.3, random_state= 42)\n",
    "\n",
    "rf_clf = RandomForestClassifier()\n",
    "\n",
    "start = time.time()\n",
    "rf_clf.fit(X_train, y_train)\n",
    "end = time.time()\n",
    "\n",
    "y_pred = rf_clf.predict(X_test)\n",
    "\n",
    "print('[original datasets]')\n",
    "print('time :', end - start)\n",
    "print('accuracy :', rf_clf.score(X_train,  y_train))\n",
    "\n",
    "rf_clf = RandomForestClassifier()\n",
    "\n",
    "start = time.time()\n",
    "rf_clf.fit(X_ra_train, y_ra_train)\n",
    "end = time.time()\n",
    "\n",
    "y_pred = rf_clf.predict(X_ra_test)\n",
    "\n",
    "print('[random oversampling datasets]')\n",
    "print('time :', end - start)\n",
    "print('accuracy :', rf_clf.score(X_ra_train,  y_ra_train))\n",
    "\n",
    "rf_clf = RandomForestClassifier()\n",
    "\n",
    "start = time.time()\n",
    "rf_clf.fit(X_sm_train, y_sm_train)\n",
    "end = time.time()\n",
    "\n",
    "y_pred = rf_clf.predict(X_sm_test)\n",
    "\n",
    "print('[SMOTE datasets]')\n",
    "print('time :', end - start)\n",
    "print('accuracy :', rf_clf.score(X_sm_train,  y_sm_train))"
   ]
  },
  {
   "cell_type": "markdown",
   "metadata": {},
   "source": [
    "#### 8. 원 데이터와 오버 샘플링 데이터를 가지고 각각 분류한 결과를 바탕으로, 오버 샘플링이 성능에 미친 영향에 대해 작성하시오."
   ]
  },
  {
   "cell_type": "code",
   "execution_count": 211,
   "metadata": {},
   "outputs": [
    {
     "name": "stdout",
     "output_type": "stream",
     "text": [
      "[original datasets]\n",
      "time : 1.151176929473877\n",
      "accuracy : 0.9225\n",
      "[random oversampling datasets]\n",
      "time : 1.6487255096435547\n",
      "accuracy : 0.9654356060606061\n",
      "[SMOTE datasets]\n",
      "time : 2.036102771759033\n",
      "accuracy : 0.9067234848484849\n"
     ]
    }
   ],
   "source": [
    "rf_clf = RandomForestClassifier()\n",
    "\n",
    "start = time.time()\n",
    "rf_clf.fit(X_train, y_train)\n",
    "end = time.time()\n",
    "\n",
    "y_pred = rf_clf.predict(X_test)\n",
    "\n",
    "print('[original datasets]')\n",
    "print('time :', end - start)\n",
    "print('accuracy :', rf_clf.score(X_test,  y_test))\n",
    "\n",
    "rf_clf = RandomForestClassifier()\n",
    "\n",
    "start = time.time()\n",
    "rf_clf.fit(X_ra_train, y_ra_train)\n",
    "end = time.time()\n",
    "\n",
    "y_pred = rf_clf.predict(X_ra_test)\n",
    "\n",
    "print('[random oversampling datasets]')\n",
    "print('time :', end - start)\n",
    "print('accuracy :', rf_clf.score(X_ra_test,  y_ra_test))\n",
    "\n",
    "rf_clf = RandomForestClassifier()\n",
    "\n",
    "start = time.time()\n",
    "rf_clf.fit(X_sm_train, y_sm_train)\n",
    "end = time.time()\n",
    "\n",
    "y_pred = rf_clf.predict(X_sm_test)\n",
    "\n",
    "print('[SMOTE datasets]')\n",
    "print('time :', end - start)\n",
    "print('accuracy :', rf_clf.score(X_sm_test,  y_sm_test))"
   ]
  },
  {
   "cell_type": "markdown",
   "metadata": {},
   "source": [
    "원본 데이터를 RandomForestClassifier 로 분류하였을 때 train 의 정확도는 99% 정도였으나 test 셋의 정확도는 92%로 훈련모델이 과적합 되어있었다.  \n",
    "오버샘플링은 데이터의 과적합을 방지하는 효과가 있는데 RandomOverSampler 을 사용한 모델은 test 셋의 정확도가 96.5% 로 과적합 문제를 조금은 해결했다고 할 수 있다."
   ]
  },
  {
   "cell_type": "markdown",
   "metadata": {},
   "source": [
    "## 통계분석"
   ]
  },
  {
   "cell_type": "markdown",
   "metadata": {},
   "source": [
    "데이터 : 각 문항 참고"
   ]
  },
  {
   "cell_type": "markdown",
   "metadata": {},
   "source": [
    "### 1번\n",
    "공장에서는 시제품의 농도(%) 60이라고 주장하며 품질 관리팀에서 10개의 샘플을 뽑았다. 유의수준 5%에서 다음을 검정하시오"
   ]
  },
  {
   "cell_type": "markdown",
   "metadata": {},
   "source": [
    "데이터 : (시제품 샘플 농도) 52, 50, 62, 75, 26, 45, 62, 35, 57, 14"
   ]
  },
  {
   "cell_type": "markdown",
   "metadata": {},
   "source": [
    "#### 1-1 연구가설, 귀무가설을 작성하시오."
   ]
  },
  {
   "cell_type": "markdown",
   "metadata": {},
   "source": [
    "+ H0 : 시제품의 농도가 60이다.\n",
    "+ H1 : 시제품의 농도가 60이 아니다."
   ]
  },
  {
   "cell_type": "markdown",
   "metadata": {},
   "source": [
    "#### 1-2 유효한 샘플의 수를 계산하시오."
   ]
  },
  {
   "cell_type": "markdown",
   "metadata": {},
   "source": [
    "데이터가 정규분포를 띄는지 확인하자."
   ]
  },
  {
   "cell_type": "code",
   "execution_count": null,
   "metadata": {},
   "outputs": [],
   "source": [
    "x = [52, 50, 62, 75, 26, 45, 62, 35, 57, 14]\n",
    "\n",
    "from scipy.stats import shapiro\n",
    "# H0 : 정규성을 만족한다.\n",
    "# H1 : 정규성을 만족하지 않는다.\n",
    "\n",
    "shapiro(x)"
   ]
  },
  {
   "cell_type": "markdown",
   "metadata": {},
   "source": [
    "+ 정규성 검정에서 p 값이 0.05보다 크므로 귀무가설을 기각할 수 없다. 즉 정규성을 만족한다."
   ]
  },
  {
   "cell_type": "markdown",
   "metadata": {},
   "source": [
    "+ 오차한계를 5라고 했을 때 샘플의 표준편차를 구하자."
   ]
  },
  {
   "cell_type": "code",
   "execution_count": 212,
   "metadata": {},
   "outputs": [
    {
     "name": "stdout",
     "output_type": "stream",
     "text": [
      "17.434448657758008\n"
     ]
    }
   ],
   "source": [
    "x = [52, 50, 62, 75, 26, 45, 62, 35, 57, 14]\n",
    "\n",
    "moe = 5\n",
    "a = 0.05\n",
    "std = np.std(x)\n",
    "print(std)"
   ]
  },
  {
   "cell_type": "code",
   "execution_count": 217,
   "metadata": {},
   "outputs": [
    {
     "data": {
      "text/plain": [
       "40.85590828532381"
      ]
     },
     "execution_count": 217,
     "metadata": {},
     "output_type": "execute_result"
    }
   ],
   "source": [
    "from scipy import stats\n",
    "(stats.t.ppf(q = 0.05, df = 9)*std/5) ** 2"
   ]
  },
  {
   "cell_type": "markdown",
   "metadata": {},
   "source": [
    "+ 유요한 샘플은 40 이상이다."
   ]
  },
  {
   "cell_type": "markdown",
   "metadata": {},
   "source": [
    "#### 1-3 검정통계량을 구하고 연구가설 채택 여부를 작성하시오."
   ]
  },
  {
   "cell_type": "markdown",
   "metadata": {},
   "source": [
    "+ 데이터가 정규성을 만족하므로 ttest_1samp 을 사용한다."
   ]
  },
  {
   "cell_type": "code",
   "execution_count": 220,
   "metadata": {},
   "outputs": [
    {
     "data": {
      "text/plain": [
       "TtestResult(statistic=-2.0992920807801787, pvalue=0.06519313277276138, df=9)"
      ]
     },
     "execution_count": 220,
     "metadata": {},
     "output_type": "execute_result"
    }
   ],
   "source": [
    "from scipy.stats import ttest_1samp\n",
    "ttest_1samp(x, popmean = 60)"
   ]
  },
  {
   "cell_type": "markdown",
   "metadata": {},
   "source": [
    "t 검정에서 p-value 가 0.05보다 크므로 귀무가설을 기각하지 않는다. 즉 시제품의 농도는 60이라고 할 수 있다."
   ]
  },
  {
   "cell_type": "markdown",
   "metadata": {},
   "source": [
    "### 2번\n",
    "코로나 시계열 데이터로 다음을 수행하시오."
   ]
  },
  {
   "cell_type": "markdown",
   "metadata": {},
   "source": [
    "데이터 : 지역별 코로나 확진자 수 시계열 데이터"
   ]
  },
  {
   "cell_type": "markdown",
   "metadata": {},
   "source": [
    "#### 2-1 ACF 사용해서 distancd 를 계산하시오."
   ]
  },
  {
   "cell_type": "code",
   "execution_count": 31,
   "metadata": {},
   "outputs": [
    {
     "data": {
      "text/html": [
       "<div>\n",
       "<style scoped>\n",
       "    .dataframe tbody tr th:only-of-type {\n",
       "        vertical-align: middle;\n",
       "    }\n",
       "\n",
       "    .dataframe tbody tr th {\n",
       "        vertical-align: top;\n",
       "    }\n",
       "\n",
       "    .dataframe thead th {\n",
       "        text-align: right;\n",
       "    }\n",
       "</style>\n",
       "<table border=\"1\" class=\"dataframe\">\n",
       "  <thead>\n",
       "    <tr style=\"text-align: right;\">\n",
       "      <th></th>\n",
       "      <th>종로구</th>\n",
       "      <th>중구</th>\n",
       "      <th>용산구</th>\n",
       "      <th>성동구</th>\n",
       "      <th>광진구</th>\n",
       "      <th>동대문구</th>\n",
       "      <th>중랑구</th>\n",
       "      <th>성북구</th>\n",
       "      <th>강북구</th>\n",
       "      <th>도봉구</th>\n",
       "      <th>...</th>\n",
       "      <th>강서구</th>\n",
       "      <th>구로구</th>\n",
       "      <th>금천구</th>\n",
       "      <th>영등포구</th>\n",
       "      <th>동작구</th>\n",
       "      <th>관악구</th>\n",
       "      <th>서초구</th>\n",
       "      <th>강남구</th>\n",
       "      <th>송파구</th>\n",
       "      <th>강동구</th>\n",
       "    </tr>\n",
       "  </thead>\n",
       "  <tbody>\n",
       "    <tr>\n",
       "      <th>0</th>\n",
       "      <td>37261</td>\n",
       "      <td>33753</td>\n",
       "      <td>55376</td>\n",
       "      <td>81018</td>\n",
       "      <td>96008</td>\n",
       "      <td>95433</td>\n",
       "      <td>103288</td>\n",
       "      <td>116862</td>\n",
       "      <td>75118</td>\n",
       "      <td>82254</td>\n",
       "      <td>...</td>\n",
       "      <td>148359</td>\n",
       "      <td>109973</td>\n",
       "      <td>63687</td>\n",
       "      <td>110293</td>\n",
       "      <td>106238</td>\n",
       "      <td>132305</td>\n",
       "      <td>104368</td>\n",
       "      <td>136200</td>\n",
       "      <td>176765</td>\n",
       "      <td>121926</td>\n",
       "    </tr>\n",
       "    <tr>\n",
       "      <th>1</th>\n",
       "      <td>36216</td>\n",
       "      <td>32835</td>\n",
       "      <td>53872</td>\n",
       "      <td>79030</td>\n",
       "      <td>93474</td>\n",
       "      <td>92993</td>\n",
       "      <td>100255</td>\n",
       "      <td>113609</td>\n",
       "      <td>72934</td>\n",
       "      <td>79677</td>\n",
       "      <td>...</td>\n",
       "      <td>143573</td>\n",
       "      <td>106162</td>\n",
       "      <td>61840</td>\n",
       "      <td>106171</td>\n",
       "      <td>102955</td>\n",
       "      <td>127626</td>\n",
       "      <td>100529</td>\n",
       "      <td>132333</td>\n",
       "      <td>172292</td>\n",
       "      <td>118842</td>\n",
       "    </tr>\n",
       "    <tr>\n",
       "      <th>2</th>\n",
       "      <td>35276</td>\n",
       "      <td>31878</td>\n",
       "      <td>52391</td>\n",
       "      <td>76802</td>\n",
       "      <td>91030</td>\n",
       "      <td>90277</td>\n",
       "      <td>97419</td>\n",
       "      <td>110583</td>\n",
       "      <td>70754</td>\n",
       "      <td>77878</td>\n",
       "      <td>...</td>\n",
       "      <td>139633</td>\n",
       "      <td>103573</td>\n",
       "      <td>59946</td>\n",
       "      <td>104109</td>\n",
       "      <td>100665</td>\n",
       "      <td>124805</td>\n",
       "      <td>98869</td>\n",
       "      <td>128813</td>\n",
       "      <td>167386</td>\n",
       "      <td>115846</td>\n",
       "    </tr>\n",
       "    <tr>\n",
       "      <th>3</th>\n",
       "      <td>34879</td>\n",
       "      <td>31577</td>\n",
       "      <td>51652</td>\n",
       "      <td>76108</td>\n",
       "      <td>89876</td>\n",
       "      <td>89302</td>\n",
       "      <td>96359</td>\n",
       "      <td>109500</td>\n",
       "      <td>70003</td>\n",
       "      <td>76542</td>\n",
       "      <td>...</td>\n",
       "      <td>137908</td>\n",
       "      <td>102610</td>\n",
       "      <td>59393</td>\n",
       "      <td>102916</td>\n",
       "      <td>99426</td>\n",
       "      <td>123374</td>\n",
       "      <td>96873</td>\n",
       "      <td>126296</td>\n",
       "      <td>165373</td>\n",
       "      <td>113549</td>\n",
       "    </tr>\n",
       "    <tr>\n",
       "      <th>4</th>\n",
       "      <td>34061</td>\n",
       "      <td>30903</td>\n",
       "      <td>50720</td>\n",
       "      <td>74178</td>\n",
       "      <td>87770</td>\n",
       "      <td>87345</td>\n",
       "      <td>93690</td>\n",
       "      <td>106437</td>\n",
       "      <td>68329</td>\n",
       "      <td>75119</td>\n",
       "      <td>...</td>\n",
       "      <td>134285</td>\n",
       "      <td>99938</td>\n",
       "      <td>57925</td>\n",
       "      <td>100349</td>\n",
       "      <td>96989</td>\n",
       "      <td>120413</td>\n",
       "      <td>95124</td>\n",
       "      <td>123992</td>\n",
       "      <td>161650</td>\n",
       "      <td>110649</td>\n",
       "    </tr>\n",
       "    <tr>\n",
       "      <th>...</th>\n",
       "      <td>...</td>\n",
       "      <td>...</td>\n",
       "      <td>...</td>\n",
       "      <td>...</td>\n",
       "      <td>...</td>\n",
       "      <td>...</td>\n",
       "      <td>...</td>\n",
       "      <td>...</td>\n",
       "      <td>...</td>\n",
       "      <td>...</td>\n",
       "      <td>...</td>\n",
       "      <td>...</td>\n",
       "      <td>...</td>\n",
       "      <td>...</td>\n",
       "      <td>...</td>\n",
       "      <td>...</td>\n",
       "      <td>...</td>\n",
       "      <td>...</td>\n",
       "      <td>...</td>\n",
       "      <td>...</td>\n",
       "      <td>...</td>\n",
       "    </tr>\n",
       "    <tr>\n",
       "      <th>780</th>\n",
       "      <td>0</td>\n",
       "      <td>0</td>\n",
       "      <td>0</td>\n",
       "      <td>0</td>\n",
       "      <td>0</td>\n",
       "      <td>0</td>\n",
       "      <td>0</td>\n",
       "      <td>0</td>\n",
       "      <td>0</td>\n",
       "      <td>0</td>\n",
       "      <td>...</td>\n",
       "      <td>0</td>\n",
       "      <td>0</td>\n",
       "      <td>0</td>\n",
       "      <td>0</td>\n",
       "      <td>0</td>\n",
       "      <td>0</td>\n",
       "      <td>0</td>\n",
       "      <td>0</td>\n",
       "      <td>0</td>\n",
       "      <td>0</td>\n",
       "    </tr>\n",
       "    <tr>\n",
       "      <th>781</th>\n",
       "      <td>0</td>\n",
       "      <td>0</td>\n",
       "      <td>0</td>\n",
       "      <td>0</td>\n",
       "      <td>0</td>\n",
       "      <td>0</td>\n",
       "      <td>0</td>\n",
       "      <td>0</td>\n",
       "      <td>0</td>\n",
       "      <td>0</td>\n",
       "      <td>...</td>\n",
       "      <td>0</td>\n",
       "      <td>0</td>\n",
       "      <td>0</td>\n",
       "      <td>0</td>\n",
       "      <td>0</td>\n",
       "      <td>0</td>\n",
       "      <td>0</td>\n",
       "      <td>0</td>\n",
       "      <td>0</td>\n",
       "      <td>0</td>\n",
       "    </tr>\n",
       "    <tr>\n",
       "      <th>782</th>\n",
       "      <td>0</td>\n",
       "      <td>0</td>\n",
       "      <td>0</td>\n",
       "      <td>0</td>\n",
       "      <td>0</td>\n",
       "      <td>0</td>\n",
       "      <td>0</td>\n",
       "      <td>0</td>\n",
       "      <td>0</td>\n",
       "      <td>0</td>\n",
       "      <td>...</td>\n",
       "      <td>0</td>\n",
       "      <td>0</td>\n",
       "      <td>0</td>\n",
       "      <td>0</td>\n",
       "      <td>0</td>\n",
       "      <td>0</td>\n",
       "      <td>0</td>\n",
       "      <td>0</td>\n",
       "      <td>0</td>\n",
       "      <td>0</td>\n",
       "    </tr>\n",
       "    <tr>\n",
       "      <th>783</th>\n",
       "      <td>3</td>\n",
       "      <td>0</td>\n",
       "      <td>0</td>\n",
       "      <td>0</td>\n",
       "      <td>0</td>\n",
       "      <td>0</td>\n",
       "      <td>1</td>\n",
       "      <td>2</td>\n",
       "      <td>0</td>\n",
       "      <td>0</td>\n",
       "      <td>...</td>\n",
       "      <td>1</td>\n",
       "      <td>0</td>\n",
       "      <td>0</td>\n",
       "      <td>0</td>\n",
       "      <td>0</td>\n",
       "      <td>0</td>\n",
       "      <td>0</td>\n",
       "      <td>0</td>\n",
       "      <td>1</td>\n",
       "      <td>0</td>\n",
       "    </tr>\n",
       "    <tr>\n",
       "      <th>784</th>\n",
       "      <td>3</td>\n",
       "      <td>0</td>\n",
       "      <td>0</td>\n",
       "      <td>0</td>\n",
       "      <td>0</td>\n",
       "      <td>0</td>\n",
       "      <td>1</td>\n",
       "      <td>2</td>\n",
       "      <td>0</td>\n",
       "      <td>0</td>\n",
       "      <td>...</td>\n",
       "      <td>1</td>\n",
       "      <td>0</td>\n",
       "      <td>0</td>\n",
       "      <td>0</td>\n",
       "      <td>0</td>\n",
       "      <td>0</td>\n",
       "      <td>0</td>\n",
       "      <td>0</td>\n",
       "      <td>1</td>\n",
       "      <td>0</td>\n",
       "    </tr>\n",
       "  </tbody>\n",
       "</table>\n",
       "<p>785 rows × 25 columns</p>\n",
       "</div>"
      ],
      "text/plain": [
       "       종로구     중구    용산구    성동구    광진구   동대문구     중랑구     성북구    강북구    도봉구  \\\n",
       "0    37261  33753  55376  81018  96008  95433  103288  116862  75118  82254   \n",
       "1    36216  32835  53872  79030  93474  92993  100255  113609  72934  79677   \n",
       "2    35276  31878  52391  76802  91030  90277   97419  110583  70754  77878   \n",
       "3    34879  31577  51652  76108  89876  89302   96359  109500  70003  76542   \n",
       "4    34061  30903  50720  74178  87770  87345   93690  106437  68329  75119   \n",
       "..     ...    ...    ...    ...    ...    ...     ...     ...    ...    ...   \n",
       "780      0      0      0      0      0      0       0       0      0      0   \n",
       "781      0      0      0      0      0      0       0       0      0      0   \n",
       "782      0      0      0      0      0      0       0       0      0      0   \n",
       "783      3      0      0      0      0      0       1       2      0      0   \n",
       "784      3      0      0      0      0      0       1       2      0      0   \n",
       "\n",
       "     ...     강서구     구로구    금천구    영등포구     동작구     관악구     서초구     강남구  \\\n",
       "0    ...  148359  109973  63687  110293  106238  132305  104368  136200   \n",
       "1    ...  143573  106162  61840  106171  102955  127626  100529  132333   \n",
       "2    ...  139633  103573  59946  104109  100665  124805   98869  128813   \n",
       "3    ...  137908  102610  59393  102916   99426  123374   96873  126296   \n",
       "4    ...  134285   99938  57925  100349   96989  120413   95124  123992   \n",
       "..   ...     ...     ...    ...     ...     ...     ...     ...     ...   \n",
       "780  ...       0       0      0       0       0       0       0       0   \n",
       "781  ...       0       0      0       0       0       0       0       0   \n",
       "782  ...       0       0      0       0       0       0       0       0   \n",
       "783  ...       1       0      0       0       0       0       0       0   \n",
       "784  ...       1       0      0       0       0       0       0       0   \n",
       "\n",
       "        송파구     강동구  \n",
       "0    176765  121926  \n",
       "1    172292  118842  \n",
       "2    167386  115846  \n",
       "3    165373  113549  \n",
       "4    161650  110649  \n",
       "..      ...     ...  \n",
       "780       0       0  \n",
       "781       0       0  \n",
       "782       0       0  \n",
       "783       1       0  \n",
       "784       1       0  \n",
       "\n",
       "[785 rows x 25 columns]"
      ]
     },
     "execution_count": 31,
     "metadata": {},
     "output_type": "execute_result"
    }
   ],
   "source": [
    "import pandas as pd\n",
    "import numpy as np\n",
    "from urllib.parse import quote \n",
    "# query = quote('서울특별시코로나19.csv')\n",
    "covid = pd.read_csv('https://raw.githubusercontent.com/ADPclass/ADP_book_ver01/main/data/%EC%84%9C%EC%9A%B8%ED%8A%B9%EB%B3%84%EC%8B%9C%20%EC%BD%94%EB%A1%9C%EB%82%9819.csv')\n",
    "\n",
    "covid1 = covid.drop(['날짜'], axis= 1)"
   ]
  },
  {
   "cell_type": "markdown",
   "metadata": {},
   "source": [
    "sm.tsa.stattools.acf 를 사용해 ACF distance 를 계산한다. 이때 n_lag 는 데이터의 관측 개수를 고려하여 785로 한다."
   ]
  },
  {
   "cell_type": "code",
   "execution_count": 32,
   "metadata": {},
   "outputs": [
    {
     "data": {
      "text/html": [
       "<div>\n",
       "<style scoped>\n",
       "    .dataframe tbody tr th:only-of-type {\n",
       "        vertical-align: middle;\n",
       "    }\n",
       "\n",
       "    .dataframe tbody tr th {\n",
       "        vertical-align: top;\n",
       "    }\n",
       "\n",
       "    .dataframe thead th {\n",
       "        text-align: right;\n",
       "    }\n",
       "</style>\n",
       "<table border=\"1\" class=\"dataframe\">\n",
       "  <thead>\n",
       "    <tr style=\"text-align: right;\">\n",
       "      <th></th>\n",
       "      <th>종로구</th>\n",
       "      <th>중구</th>\n",
       "      <th>용산구</th>\n",
       "      <th>성동구</th>\n",
       "      <th>광진구</th>\n",
       "      <th>동대문구</th>\n",
       "      <th>중랑구</th>\n",
       "      <th>성북구</th>\n",
       "      <th>강북구</th>\n",
       "      <th>도봉구</th>\n",
       "      <th>...</th>\n",
       "      <th>강서구</th>\n",
       "      <th>구로구</th>\n",
       "      <th>금천구</th>\n",
       "      <th>영등포구</th>\n",
       "      <th>동작구</th>\n",
       "      <th>관악구</th>\n",
       "      <th>서초구</th>\n",
       "      <th>강남구</th>\n",
       "      <th>송파구</th>\n",
       "      <th>강동구</th>\n",
       "    </tr>\n",
       "  </thead>\n",
       "  <tbody>\n",
       "    <tr>\n",
       "      <th>0</th>\n",
       "      <td>1.000000</td>\n",
       "      <td>1.000000</td>\n",
       "      <td>1.000000</td>\n",
       "      <td>1.000000</td>\n",
       "      <td>1.000000</td>\n",
       "      <td>1.000000</td>\n",
       "      <td>1.000000</td>\n",
       "      <td>1.000000</td>\n",
       "      <td>1.000000</td>\n",
       "      <td>1.000000</td>\n",
       "      <td>...</td>\n",
       "      <td>1.000000</td>\n",
       "      <td>1.000000</td>\n",
       "      <td>1.000000</td>\n",
       "      <td>1.000000</td>\n",
       "      <td>1.000000</td>\n",
       "      <td>1.000000</td>\n",
       "      <td>1.000000</td>\n",
       "      <td>1.000000</td>\n",
       "      <td>1.000000</td>\n",
       "      <td>1.000000</td>\n",
       "    </tr>\n",
       "    <tr>\n",
       "      <th>1</th>\n",
       "      <td>0.965624</td>\n",
       "      <td>0.966025</td>\n",
       "      <td>0.965807</td>\n",
       "      <td>0.964843</td>\n",
       "      <td>0.965118</td>\n",
       "      <td>0.966179</td>\n",
       "      <td>0.964429</td>\n",
       "      <td>0.964386</td>\n",
       "      <td>0.964873</td>\n",
       "      <td>0.964677</td>\n",
       "      <td>...</td>\n",
       "      <td>0.963102</td>\n",
       "      <td>0.964896</td>\n",
       "      <td>0.964495</td>\n",
       "      <td>0.964211</td>\n",
       "      <td>0.964682</td>\n",
       "      <td>0.964599</td>\n",
       "      <td>0.964920</td>\n",
       "      <td>0.965594</td>\n",
       "      <td>0.965216</td>\n",
       "      <td>0.964788</td>\n",
       "    </tr>\n",
       "    <tr>\n",
       "      <th>2</th>\n",
       "      <td>0.932172</td>\n",
       "      <td>0.932933</td>\n",
       "      <td>0.932148</td>\n",
       "      <td>0.930035</td>\n",
       "      <td>0.930705</td>\n",
       "      <td>0.932781</td>\n",
       "      <td>0.929547</td>\n",
       "      <td>0.929349</td>\n",
       "      <td>0.930425</td>\n",
       "      <td>0.930168</td>\n",
       "      <td>...</td>\n",
       "      <td>0.927079</td>\n",
       "      <td>0.930870</td>\n",
       "      <td>0.929726</td>\n",
       "      <td>0.929708</td>\n",
       "      <td>0.930160</td>\n",
       "      <td>0.930349</td>\n",
       "      <td>0.931073</td>\n",
       "      <td>0.931913</td>\n",
       "      <td>0.930854</td>\n",
       "      <td>0.930000</td>\n",
       "    </tr>\n",
       "    <tr>\n",
       "      <th>3</th>\n",
       "      <td>0.899077</td>\n",
       "      <td>0.900435</td>\n",
       "      <td>0.899075</td>\n",
       "      <td>0.895739</td>\n",
       "      <td>0.896734</td>\n",
       "      <td>0.900063</td>\n",
       "      <td>0.895251</td>\n",
       "      <td>0.894822</td>\n",
       "      <td>0.896665</td>\n",
       "      <td>0.895849</td>\n",
       "      <td>...</td>\n",
       "      <td>0.891603</td>\n",
       "      <td>0.897198</td>\n",
       "      <td>0.895662</td>\n",
       "      <td>0.895164</td>\n",
       "      <td>0.895834</td>\n",
       "      <td>0.896316</td>\n",
       "      <td>0.897017</td>\n",
       "      <td>0.898790</td>\n",
       "      <td>0.897147</td>\n",
       "      <td>0.895648</td>\n",
       "    </tr>\n",
       "    <tr>\n",
       "      <th>4</th>\n",
       "      <td>0.865542</td>\n",
       "      <td>0.867391</td>\n",
       "      <td>0.865682</td>\n",
       "      <td>0.860691</td>\n",
       "      <td>0.862274</td>\n",
       "      <td>0.866781</td>\n",
       "      <td>0.860302</td>\n",
       "      <td>0.859554</td>\n",
       "      <td>0.862291</td>\n",
       "      <td>0.861332</td>\n",
       "      <td>...</td>\n",
       "      <td>0.855502</td>\n",
       "      <td>0.862796</td>\n",
       "      <td>0.860914</td>\n",
       "      <td>0.860051</td>\n",
       "      <td>0.860964</td>\n",
       "      <td>0.861660</td>\n",
       "      <td>0.863028</td>\n",
       "      <td>0.865697</td>\n",
       "      <td>0.862857</td>\n",
       "      <td>0.861294</td>\n",
       "    </tr>\n",
       "    <tr>\n",
       "      <th>...</th>\n",
       "      <td>...</td>\n",
       "      <td>...</td>\n",
       "      <td>...</td>\n",
       "      <td>...</td>\n",
       "      <td>...</td>\n",
       "      <td>...</td>\n",
       "      <td>...</td>\n",
       "      <td>...</td>\n",
       "      <td>...</td>\n",
       "      <td>...</td>\n",
       "      <td>...</td>\n",
       "      <td>...</td>\n",
       "      <td>...</td>\n",
       "      <td>...</td>\n",
       "      <td>...</td>\n",
       "      <td>...</td>\n",
       "      <td>...</td>\n",
       "      <td>...</td>\n",
       "      <td>...</td>\n",
       "      <td>...</td>\n",
       "      <td>...</td>\n",
       "    </tr>\n",
       "    <tr>\n",
       "      <th>780</th>\n",
       "      <td>-0.017175</td>\n",
       "      <td>-0.017212</td>\n",
       "      <td>-0.017232</td>\n",
       "      <td>-0.015171</td>\n",
       "      <td>-0.015231</td>\n",
       "      <td>-0.016054</td>\n",
       "      <td>-0.016019</td>\n",
       "      <td>-0.015739</td>\n",
       "      <td>-0.015857</td>\n",
       "      <td>-0.015638</td>\n",
       "      <td>...</td>\n",
       "      <td>-0.015340</td>\n",
       "      <td>-0.016170</td>\n",
       "      <td>-0.015477</td>\n",
       "      <td>-0.016447</td>\n",
       "      <td>-0.016157</td>\n",
       "      <td>-0.016273</td>\n",
       "      <td>-0.016151</td>\n",
       "      <td>-0.016955</td>\n",
       "      <td>-0.015392</td>\n",
       "      <td>-0.015228</td>\n",
       "    </tr>\n",
       "    <tr>\n",
       "      <th>781</th>\n",
       "      <td>-0.013889</td>\n",
       "      <td>-0.013915</td>\n",
       "      <td>-0.013929</td>\n",
       "      <td>-0.012270</td>\n",
       "      <td>-0.012320</td>\n",
       "      <td>-0.012982</td>\n",
       "      <td>-0.012970</td>\n",
       "      <td>-0.012738</td>\n",
       "      <td>-0.012831</td>\n",
       "      <td>-0.012644</td>\n",
       "      <td>...</td>\n",
       "      <td>-0.012420</td>\n",
       "      <td>-0.013083</td>\n",
       "      <td>-0.012523</td>\n",
       "      <td>-0.013303</td>\n",
       "      <td>-0.013069</td>\n",
       "      <td>-0.013163</td>\n",
       "      <td>-0.013059</td>\n",
       "      <td>-0.013717</td>\n",
       "      <td>-0.012449</td>\n",
       "      <td>-0.012334</td>\n",
       "    </tr>\n",
       "    <tr>\n",
       "      <th>782</th>\n",
       "      <td>-0.010519</td>\n",
       "      <td>-0.010542</td>\n",
       "      <td>-0.010562</td>\n",
       "      <td>-0.009290</td>\n",
       "      <td>-0.009335</td>\n",
       "      <td>-0.009836</td>\n",
       "      <td>-0.009829</td>\n",
       "      <td>-0.009646</td>\n",
       "      <td>-0.009726</td>\n",
       "      <td>-0.009589</td>\n",
       "      <td>...</td>\n",
       "      <td>-0.009417</td>\n",
       "      <td>-0.009909</td>\n",
       "      <td>-0.009490</td>\n",
       "      <td>-0.010075</td>\n",
       "      <td>-0.009899</td>\n",
       "      <td>-0.009972</td>\n",
       "      <td>-0.009907</td>\n",
       "      <td>-0.010415</td>\n",
       "      <td>-0.009434</td>\n",
       "      <td>-0.009360</td>\n",
       "    </tr>\n",
       "    <tr>\n",
       "      <th>783</th>\n",
       "      <td>-0.007108</td>\n",
       "      <td>-0.007135</td>\n",
       "      <td>-0.007144</td>\n",
       "      <td>-0.006282</td>\n",
       "      <td>-0.006309</td>\n",
       "      <td>-0.006655</td>\n",
       "      <td>-0.006652</td>\n",
       "      <td>-0.006522</td>\n",
       "      <td>-0.006586</td>\n",
       "      <td>-0.006479</td>\n",
       "      <td>...</td>\n",
       "      <td>-0.006374</td>\n",
       "      <td>-0.006704</td>\n",
       "      <td>-0.006427</td>\n",
       "      <td>-0.006808</td>\n",
       "      <td>-0.006687</td>\n",
       "      <td>-0.006742</td>\n",
       "      <td>-0.006686</td>\n",
       "      <td>-0.007044</td>\n",
       "      <td>-0.006380</td>\n",
       "      <td>-0.006323</td>\n",
       "    </tr>\n",
       "    <tr>\n",
       "      <th>784</th>\n",
       "      <td>-0.003608</td>\n",
       "      <td>-0.003619</td>\n",
       "      <td>-0.003624</td>\n",
       "      <td>-0.003182</td>\n",
       "      <td>-0.003199</td>\n",
       "      <td>-0.003373</td>\n",
       "      <td>-0.003378</td>\n",
       "      <td>-0.003309</td>\n",
       "      <td>-0.003344</td>\n",
       "      <td>-0.003294</td>\n",
       "      <td>...</td>\n",
       "      <td>-0.003242</td>\n",
       "      <td>-0.003414</td>\n",
       "      <td>-0.003263</td>\n",
       "      <td>-0.003472</td>\n",
       "      <td>-0.003399</td>\n",
       "      <td>-0.003435</td>\n",
       "      <td>-0.003409</td>\n",
       "      <td>-0.003576</td>\n",
       "      <td>-0.003233</td>\n",
       "      <td>-0.003204</td>\n",
       "    </tr>\n",
       "  </tbody>\n",
       "</table>\n",
       "<p>785 rows × 25 columns</p>\n",
       "</div>"
      ],
      "text/plain": [
       "          종로구        중구       용산구       성동구       광진구      동대문구       중랑구  \\\n",
       "0    1.000000  1.000000  1.000000  1.000000  1.000000  1.000000  1.000000   \n",
       "1    0.965624  0.966025  0.965807  0.964843  0.965118  0.966179  0.964429   \n",
       "2    0.932172  0.932933  0.932148  0.930035  0.930705  0.932781  0.929547   \n",
       "3    0.899077  0.900435  0.899075  0.895739  0.896734  0.900063  0.895251   \n",
       "4    0.865542  0.867391  0.865682  0.860691  0.862274  0.866781  0.860302   \n",
       "..        ...       ...       ...       ...       ...       ...       ...   \n",
       "780 -0.017175 -0.017212 -0.017232 -0.015171 -0.015231 -0.016054 -0.016019   \n",
       "781 -0.013889 -0.013915 -0.013929 -0.012270 -0.012320 -0.012982 -0.012970   \n",
       "782 -0.010519 -0.010542 -0.010562 -0.009290 -0.009335 -0.009836 -0.009829   \n",
       "783 -0.007108 -0.007135 -0.007144 -0.006282 -0.006309 -0.006655 -0.006652   \n",
       "784 -0.003608 -0.003619 -0.003624 -0.003182 -0.003199 -0.003373 -0.003378   \n",
       "\n",
       "          성북구       강북구       도봉구  ...       강서구       구로구       금천구  \\\n",
       "0    1.000000  1.000000  1.000000  ...  1.000000  1.000000  1.000000   \n",
       "1    0.964386  0.964873  0.964677  ...  0.963102  0.964896  0.964495   \n",
       "2    0.929349  0.930425  0.930168  ...  0.927079  0.930870  0.929726   \n",
       "3    0.894822  0.896665  0.895849  ...  0.891603  0.897198  0.895662   \n",
       "4    0.859554  0.862291  0.861332  ...  0.855502  0.862796  0.860914   \n",
       "..        ...       ...       ...  ...       ...       ...       ...   \n",
       "780 -0.015739 -0.015857 -0.015638  ... -0.015340 -0.016170 -0.015477   \n",
       "781 -0.012738 -0.012831 -0.012644  ... -0.012420 -0.013083 -0.012523   \n",
       "782 -0.009646 -0.009726 -0.009589  ... -0.009417 -0.009909 -0.009490   \n",
       "783 -0.006522 -0.006586 -0.006479  ... -0.006374 -0.006704 -0.006427   \n",
       "784 -0.003309 -0.003344 -0.003294  ... -0.003242 -0.003414 -0.003263   \n",
       "\n",
       "         영등포구       동작구       관악구       서초구       강남구       송파구       강동구  \n",
       "0    1.000000  1.000000  1.000000  1.000000  1.000000  1.000000  1.000000  \n",
       "1    0.964211  0.964682  0.964599  0.964920  0.965594  0.965216  0.964788  \n",
       "2    0.929708  0.930160  0.930349  0.931073  0.931913  0.930854  0.930000  \n",
       "3    0.895164  0.895834  0.896316  0.897017  0.898790  0.897147  0.895648  \n",
       "4    0.860051  0.860964  0.861660  0.863028  0.865697  0.862857  0.861294  \n",
       "..        ...       ...       ...       ...       ...       ...       ...  \n",
       "780 -0.016447 -0.016157 -0.016273 -0.016151 -0.016955 -0.015392 -0.015228  \n",
       "781 -0.013303 -0.013069 -0.013163 -0.013059 -0.013717 -0.012449 -0.012334  \n",
       "782 -0.010075 -0.009899 -0.009972 -0.009907 -0.010415 -0.009434 -0.009360  \n",
       "783 -0.006808 -0.006687 -0.006742 -0.006686 -0.007044 -0.006380 -0.006323  \n",
       "784 -0.003472 -0.003399 -0.003435 -0.003409 -0.003576 -0.003233 -0.003204  \n",
       "\n",
       "[785 rows x 25 columns]"
      ]
     },
     "execution_count": 32,
     "metadata": {},
     "output_type": "execute_result"
    }
   ],
   "source": [
    "import statsmodels.api as sm\n",
    "from statsmodels.tsa.arima_process import ArmaProcess\n",
    "\n",
    "def acf(x, n_lags):\n",
    "    return sm.tsa.stattools.acf(x, nlags = n_lags)\n",
    "\n",
    "n_lags = 785\n",
    "lag_arr = np.repeat(n_lags, covid1.shape[1])\n",
    "acf_list = list(map(acf, covid1.transpose().to_numpy(), lag_arr))\n",
    "acf_df = pd.DataFrame(acf_list).transpose()\n",
    "acf_df.columns = covid1.columns\n",
    "\n",
    "acf_df"
   ]
  },
  {
   "cell_type": "markdown",
   "metadata": {},
   "source": [
    "#### 2-2 계층적 군집 분석을 위해 덴드로그램을 작성하시오."
   ]
  },
  {
   "cell_type": "code",
   "execution_count": 40,
   "metadata": {},
   "outputs": [
    {
     "data": {
      "text/html": [
       "<div>\n",
       "<style scoped>\n",
       "    .dataframe tbody tr th:only-of-type {\n",
       "        vertical-align: middle;\n",
       "    }\n",
       "\n",
       "    .dataframe tbody tr th {\n",
       "        vertical-align: top;\n",
       "    }\n",
       "\n",
       "    .dataframe thead th {\n",
       "        text-align: right;\n",
       "    }\n",
       "</style>\n",
       "<table border=\"1\" class=\"dataframe\">\n",
       "  <thead>\n",
       "    <tr style=\"text-align: right;\">\n",
       "      <th></th>\n",
       "      <th>0</th>\n",
       "      <th>1</th>\n",
       "      <th>2</th>\n",
       "      <th>3</th>\n",
       "      <th>4</th>\n",
       "      <th>5</th>\n",
       "      <th>6</th>\n",
       "      <th>7</th>\n",
       "      <th>8</th>\n",
       "      <th>9</th>\n",
       "      <th>...</th>\n",
       "      <th>775</th>\n",
       "      <th>776</th>\n",
       "      <th>777</th>\n",
       "      <th>778</th>\n",
       "      <th>779</th>\n",
       "      <th>780</th>\n",
       "      <th>781</th>\n",
       "      <th>782</th>\n",
       "      <th>783</th>\n",
       "      <th>784</th>\n",
       "    </tr>\n",
       "  </thead>\n",
       "  <tbody>\n",
       "    <tr>\n",
       "      <th>종로구</th>\n",
       "      <td>1.0</td>\n",
       "      <td>0.965624</td>\n",
       "      <td>0.932172</td>\n",
       "      <td>0.899077</td>\n",
       "      <td>0.865542</td>\n",
       "      <td>0.832363</td>\n",
       "      <td>0.794512</td>\n",
       "      <td>0.761958</td>\n",
       "      <td>0.729971</td>\n",
       "      <td>0.699409</td>\n",
       "      <td>...</td>\n",
       "      <td>-0.032352</td>\n",
       "      <td>-0.029599</td>\n",
       "      <td>-0.026741</td>\n",
       "      <td>-0.023738</td>\n",
       "      <td>-0.020635</td>\n",
       "      <td>-0.017175</td>\n",
       "      <td>-0.013889</td>\n",
       "      <td>-0.010519</td>\n",
       "      <td>-0.007108</td>\n",
       "      <td>-0.003608</td>\n",
       "    </tr>\n",
       "    <tr>\n",
       "      <th>중구</th>\n",
       "      <td>1.0</td>\n",
       "      <td>0.966025</td>\n",
       "      <td>0.932933</td>\n",
       "      <td>0.900435</td>\n",
       "      <td>0.867391</td>\n",
       "      <td>0.834610</td>\n",
       "      <td>0.796898</td>\n",
       "      <td>0.764614</td>\n",
       "      <td>0.733020</td>\n",
       "      <td>0.702617</td>\n",
       "      <td>...</td>\n",
       "      <td>-0.032460</td>\n",
       "      <td>-0.029706</td>\n",
       "      <td>-0.026830</td>\n",
       "      <td>-0.023818</td>\n",
       "      <td>-0.020699</td>\n",
       "      <td>-0.017212</td>\n",
       "      <td>-0.013915</td>\n",
       "      <td>-0.010542</td>\n",
       "      <td>-0.007135</td>\n",
       "      <td>-0.003619</td>\n",
       "    </tr>\n",
       "    <tr>\n",
       "      <th>용산구</th>\n",
       "      <td>1.0</td>\n",
       "      <td>0.965807</td>\n",
       "      <td>0.932148</td>\n",
       "      <td>0.899075</td>\n",
       "      <td>0.865682</td>\n",
       "      <td>0.832234</td>\n",
       "      <td>0.798381</td>\n",
       "      <td>0.765454</td>\n",
       "      <td>0.733336</td>\n",
       "      <td>0.702647</td>\n",
       "      <td>...</td>\n",
       "      <td>-0.032290</td>\n",
       "      <td>-0.029516</td>\n",
       "      <td>-0.026637</td>\n",
       "      <td>-0.023616</td>\n",
       "      <td>-0.020484</td>\n",
       "      <td>-0.017232</td>\n",
       "      <td>-0.013929</td>\n",
       "      <td>-0.010562</td>\n",
       "      <td>-0.007144</td>\n",
       "      <td>-0.003624</td>\n",
       "    </tr>\n",
       "    <tr>\n",
       "      <th>성동구</th>\n",
       "      <td>1.0</td>\n",
       "      <td>0.964843</td>\n",
       "      <td>0.930035</td>\n",
       "      <td>0.895739</td>\n",
       "      <td>0.860691</td>\n",
       "      <td>0.826010</td>\n",
       "      <td>0.789577</td>\n",
       "      <td>0.755252</td>\n",
       "      <td>0.721447</td>\n",
       "      <td>0.689063</td>\n",
       "      <td>...</td>\n",
       "      <td>-0.028496</td>\n",
       "      <td>-0.026046</td>\n",
       "      <td>-0.023505</td>\n",
       "      <td>-0.020839</td>\n",
       "      <td>-0.018086</td>\n",
       "      <td>-0.015171</td>\n",
       "      <td>-0.012270</td>\n",
       "      <td>-0.009290</td>\n",
       "      <td>-0.006282</td>\n",
       "      <td>-0.003182</td>\n",
       "    </tr>\n",
       "    <tr>\n",
       "      <th>광진구</th>\n",
       "      <td>1.0</td>\n",
       "      <td>0.965118</td>\n",
       "      <td>0.930705</td>\n",
       "      <td>0.896734</td>\n",
       "      <td>0.862274</td>\n",
       "      <td>0.828063</td>\n",
       "      <td>0.793461</td>\n",
       "      <td>0.759914</td>\n",
       "      <td>0.727410</td>\n",
       "      <td>0.696133</td>\n",
       "      <td>...</td>\n",
       "      <td>-0.028500</td>\n",
       "      <td>-0.026029</td>\n",
       "      <td>-0.023499</td>\n",
       "      <td>-0.020853</td>\n",
       "      <td>-0.018098</td>\n",
       "      <td>-0.015231</td>\n",
       "      <td>-0.012320</td>\n",
       "      <td>-0.009335</td>\n",
       "      <td>-0.006309</td>\n",
       "      <td>-0.003199</td>\n",
       "    </tr>\n",
       "  </tbody>\n",
       "</table>\n",
       "<p>5 rows × 785 columns</p>\n",
       "</div>"
      ],
      "text/plain": [
       "     0         1         2         3         4         5         6    \\\n",
       "종로구  1.0  0.965624  0.932172  0.899077  0.865542  0.832363  0.794512   \n",
       "중구   1.0  0.966025  0.932933  0.900435  0.867391  0.834610  0.796898   \n",
       "용산구  1.0  0.965807  0.932148  0.899075  0.865682  0.832234  0.798381   \n",
       "성동구  1.0  0.964843  0.930035  0.895739  0.860691  0.826010  0.789577   \n",
       "광진구  1.0  0.965118  0.930705  0.896734  0.862274  0.828063  0.793461   \n",
       "\n",
       "          7         8         9    ...       775       776       777  \\\n",
       "종로구  0.761958  0.729971  0.699409  ... -0.032352 -0.029599 -0.026741   \n",
       "중구   0.764614  0.733020  0.702617  ... -0.032460 -0.029706 -0.026830   \n",
       "용산구  0.765454  0.733336  0.702647  ... -0.032290 -0.029516 -0.026637   \n",
       "성동구  0.755252  0.721447  0.689063  ... -0.028496 -0.026046 -0.023505   \n",
       "광진구  0.759914  0.727410  0.696133  ... -0.028500 -0.026029 -0.023499   \n",
       "\n",
       "          778       779       780       781       782       783       784  \n",
       "종로구 -0.023738 -0.020635 -0.017175 -0.013889 -0.010519 -0.007108 -0.003608  \n",
       "중구  -0.023818 -0.020699 -0.017212 -0.013915 -0.010542 -0.007135 -0.003619  \n",
       "용산구 -0.023616 -0.020484 -0.017232 -0.013929 -0.010562 -0.007144 -0.003624  \n",
       "성동구 -0.020839 -0.018086 -0.015171 -0.012270 -0.009290 -0.006282 -0.003182  \n",
       "광진구 -0.020853 -0.018098 -0.015231 -0.012320 -0.009335 -0.006309 -0.003199  \n",
       "\n",
       "[5 rows x 785 columns]"
      ]
     },
     "execution_count": 40,
     "metadata": {},
     "output_type": "execute_result"
    }
   ],
   "source": [
    "acf_df = acf_df.T\n",
    "acf_df.head()"
   ]
  },
  {
   "cell_type": "markdown",
   "metadata": {},
   "source": [
    "+ 위 acf_df 데이터로 계층적 군집분석을 실시한다."
   ]
  },
  {
   "cell_type": "code",
   "execution_count": 54,
   "metadata": {},
   "outputs": [],
   "source": [
    "# plotting 환경 설정\n",
    "import matplotlib.pyplot as plt\n",
    "plt.rcParams['figure.figsize'] = (15,5) # 그래프 크기\n",
    "plt.rcParams['font.family'] = 'Malgun Gothic' # 글꼴\n",
    "plt.rcParams['font.size'] = 12 # 글꼴 크기\n",
    "plt.rcParams['axes.unicode_minus'] = False # 마이너스 표기"
   ]
  },
  {
   "cell_type": "code",
   "execution_count": 55,
   "metadata": {},
   "outputs": [
    {
     "data": {
      "image/png": "[encoded data removed]",
      "text/plain": [
       "<Figure size 1500x500 with 1 Axes>"
      ]
     },
     "metadata": {},
     "output_type": "display_data"
    }
   ],
   "source": [
    "import matplotlib.pyplot as plt\n",
    "from scipy.cluster.hierarchy import linkage, dendrogram\n",
    "\n",
    "average = linkage(acf_df, method= 'average', metric='euclidean')\n",
    "\n",
    "labellist = acf_df.index\n",
    "\n",
    "# 덴드로그램 그리기\n",
    "dendrogram(average,\n",
    "           orientation= 'top',\n",
    "           labels = labellist,\n",
    "           distance_sort='descending',\n",
    "           color_threshold= 0.25,\n",
    "           show_leaf_counts=True)\n",
    "plt.axhline(y = 0.25, color = 'black')\n",
    "\n",
    "plt.show()"
   ]
  },
  {
   "cell_type": "markdown",
   "metadata": {},
   "source": [
    "### 3번\n",
    "사회과학, 자연과학, 공학 세 개 학과의 평점 조사표를 보고 학과와 성적이 관계있는지 검정하시오."
   ]
  },
  {
   "cell_type": "code",
   "execution_count": 59,
   "metadata": {},
   "outputs": [
    {
     "data": {
      "text/html": [
       "<div>\n",
       "<style scoped>\n",
       "    .dataframe tbody tr th:only-of-type {\n",
       "        vertical-align: middle;\n",
       "    }\n",
       "\n",
       "    .dataframe tbody tr th {\n",
       "        vertical-align: top;\n",
       "    }\n",
       "\n",
       "    .dataframe thead th {\n",
       "        text-align: right;\n",
       "    }\n",
       "</style>\n",
       "<table border=\"1\" class=\"dataframe\">\n",
       "  <thead>\n",
       "    <tr style=\"text-align: right;\">\n",
       "      <th></th>\n",
       "      <th>사회과학</th>\n",
       "      <th>자연과학</th>\n",
       "      <th>공학</th>\n",
       "    </tr>\n",
       "  </thead>\n",
       "  <tbody>\n",
       "    <tr>\n",
       "      <th>3.5~4.5</th>\n",
       "      <td>16</td>\n",
       "      <td>12</td>\n",
       "      <td>18</td>\n",
       "    </tr>\n",
       "    <tr>\n",
       "      <th>2.5~3.5</th>\n",
       "      <td>30</td>\n",
       "      <td>20</td>\n",
       "      <td>13</td>\n",
       "    </tr>\n",
       "    <tr>\n",
       "      <th>1.5~2.5</th>\n",
       "      <td>12</td>\n",
       "      <td>3</td>\n",
       "      <td>14</td>\n",
       "    </tr>\n",
       "  </tbody>\n",
       "</table>\n",
       "</div>"
      ],
      "text/plain": [
       "         사회과학  자연과학  공학\n",
       "3.5~4.5    16    12  18\n",
       "2.5~3.5    30    20  13\n",
       "1.5~2.5    12     3  14"
      ]
     },
     "execution_count": 59,
     "metadata": {},
     "output_type": "execute_result"
    }
   ],
   "source": [
    "사회 = [16,30, 12]\n",
    "자연 = [12, 20, 3]\n",
    "공학 = [18, 13, 14]\n",
    "\n",
    "table = pd.DataFrame({'사회과학' : 사회, '자연과학' : 자연, '공학' : 공학}, index = ['3.5~4.5' , '2.5~3.5', '1.5~2.5'])\n",
    "table"
   ]
  },
  {
   "cell_type": "markdown",
   "metadata": {},
   "source": [
    "#### 3-1 연구가설, 귀무가설을 작성하시오."
   ]
  },
  {
   "cell_type": "markdown",
   "metadata": {},
   "source": [
    "+ H0 : 학과와 성적이 독립적이다.\n",
    "+ H1 : 학과와 성적이 독립이 아니다."
   ]
  },
  {
   "cell_type": "markdown",
   "metadata": {},
   "source": [
    "#### 3-2 학과와 성적이 독립일 때 기댓값을 구하시오."
   ]
  },
  {
   "cell_type": "markdown",
   "metadata": {},
   "source": [
    "+ 독립성 검정시에는 카이제곱 검정을 수행한다."
   ]
  },
  {
   "cell_type": "code",
   "execution_count": 66,
   "metadata": {},
   "outputs": [
    {
     "name": "stdout",
     "output_type": "stream",
     "text": [
      "검정통계량 : 10.199441509990177\n",
      "pvalue : 0.03719883770303157\n",
      "자유도 : 4\n",
      "기댓값 : \n",
      "               사회과학       자연과학         공학\n",
      "3.5~4.5  19.333333  11.666667  15.000000\n",
      "2.5~3.5  26.478261  15.978261  20.543478\n",
      "1.5~2.5  12.188406   7.355072   9.456522\n"
     ]
    }
   ],
   "source": [
    "from scipy.stats import chi2_contingency\n",
    "statistic, pvalue, df, expect = chi2_contingency(table)\n",
    "\n",
    "expect = pd.DataFrame(expect , columns = table.columns, index = table.index)\n",
    "\n",
    "print('검정통계량 :', statistic)\n",
    "print('pvalue :', pvalue)\n",
    "print('자유도 :', df)\n",
    "print('기댓값 : \\n', expect)\n"
   ]
  },
  {
   "cell_type": "markdown",
   "metadata": {},
   "source": [
    "#### 3-3 검정통계량을 구하고 연구가설 채택 여부를 작성하시오."
   ]
  },
  {
   "cell_type": "markdown",
   "metadata": {},
   "source": [
    "+ 검정 통계량은 10.199이고 pvalue 가 0.05보다 작으므로 귀무가설을 기각한다. 즉 학과와 성적이 독립이 아니다. 관련성이 있다."
   ]
  }
 ],
 "metadata": {
  "kernelspec": {
   "display_name": "base",
   "language": "python",
   "name": "python3"
  },
  "language_info": {
   "codemirror_mode": {
    "name": "ipython",
    "version": 3
   },
   "file_extension": ".py",
   "mimetype": "text/x-python",
   "name": "python",
   "nbconvert_exporter": "python",
   "pygments_lexer": "ipython3",
   "version": "3.10.9"
  }
 },
 "nbformat": 4,
 "nbformat_minor": 2
}
