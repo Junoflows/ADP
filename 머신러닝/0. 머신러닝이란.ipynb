{
 "cells": [
  {
   "cell_type": "markdown",
   "metadata": {},
   "source": [
    "## 0. 머신러닝이란"
   ]
  },
  {
   "cell_type": "markdown",
   "metadata": {},
   "source": [
    "+ 머신러닝은 데이터의 훈련 샘플들을 학습해 데이터의 규칙과 패턴을 학습하여 결과를 예측하는 알고리즘과 시스템을 연구하는 분야이다.\n",
    "+ 통계학에서 유래된 머신러닝 기법들이 많다.\n",
    "+ 머신러닝에서는 데이터에 대한 규칙을 프로그래밍으로 구현하지 않아도 파이썬 API 기반의 라이브러리로 손쉽게 모델을 구축할 수 있다."
   ]
  },
  {
   "cell_type": "markdown",
   "metadata": {},
   "source": [
    "### Steps"
   ]
  },
  {
   "cell_type": "markdown",
   "metadata": {},
   "source": [
    "1. 데이터 확인\n",
    "> 독립변수 vs 종속변수 확인  \n",
    "> 연속형 vs 범주형 확인  \n",
    "> 적용가능한 분석모델 확인(회귀, 분류, 비지도 학습)\n",
    "\n",
    "2. 전처리\n",
    "> 표준화(평균 0, 표준편차 1) 또는 MinMax 정규화  \n",
    "> 결측치 확인 후 처리  \n",
    "> 이상치 확인 후 처리\n",
    "\n",
    "3. 데이터 분할\n",
    "> 학습 : 검증 : 평가 = 7 : 2 : 1 또는 8 : 1 : 1  \n",
    "> 교차검증방법 적용 가능\n",
    "\n",
    "4. 모델학습\n",
    "> 머신러닝 알고리즘 적용\n",
    "> 회귀 / 분류 / 비지도 학습  \n",
    "> 최적모델을 결정하기 위해 하이퍼파라미터 탐색 및 조절\n",
    "\n",
    "5. 성능평가\n",
    "> 평가셋에 최종 모델을 적용  \n",
    "> 평가셋에 대한 정확도를 머신러닝 분석에 대한 성능으로 제시"
   ]
  },
  {
   "cell_type": "markdown",
   "metadata": {},
   "source": [
    "### 지도학습 & 비지도 학습\n",
    "+ 분류분석 : 학습된 데이터로 종속변수의 Class 예측\n",
    "+ 회귀분석 : 종속변수의 값을 예측 / 종속변수와 독립변수의 관계 정량화\n",
    "+ 군집분석 : 데이터의 특성에 따라 묶음으로 유형별 특징을 분석\n",
    "+ 차원축소 : 다차원의 데이터 셋을 축소하여 새로운 차원의 데이터 셋으로 변환"
   ]
  },
  {
   "cell_type": "markdown",
   "metadata": {},
   "source": [
    "#### 지도학습\n",
    "분류\n",
    "+ Logistic, Naive Bayes, Decision Tree, SVM, 인공신경망, 앙상블(배깅, 랜덤포레스트, 부스팅)\n",
    "\n",
    "회귀\n",
    "+ 선형 : 단변량, 다변량, 자기회귀\n",
    "+ 비선형 : SVM, Decision Tree, 인공신경망, 앙상블"
   ]
  },
  {
   "cell_type": "markdown",
   "metadata": {},
   "source": [
    "#### 비지도학습\n",
    "군집분석\n",
    "+ 계층적 군집분석 - Agglomerative Clustering\n",
    "+ 비계층적 군집분석 - (K-modes, K-means), (DBSCAN, GMM)\n",
    "\n",
    "차원축소\n",
    "+ PCA, FA, SVD, NMF, T-SNE, LDA"
   ]
  }
 ],
 "metadata": {
  "language_info": {
   "name": "python"
  }
 },
 "nbformat": 4,
 "nbformat_minor": 2
}
