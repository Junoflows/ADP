{
 "cells": [
  {
   "cell_type": "markdown",
   "metadata": {},
   "source": [
    "## 7. 인공신경망\n"
   ]
  },
  {
   "cell_type": "markdown",
   "metadata": {},
   "source": [
    "### 7.1 특징\n",
    "+ 인공신경망 모형은 동물의 뇌신경계를 모방하여 분류 또는 예측하기 위해 만들어진 모형이다. 인공신경망에서는 입력은 인간의 뇌의 시냅스에 해당하며 개별 신호의 강도에 따라 가중되며, 활성 함수는 인공신경망의 출력을 계산한다.\n",
    "+ 인공신경망은 가중치를 반복적으로 조정하며 학습하며 뉴런들은 링크로 연결되어 있고, 각 링크에는 수치적인 가중치가 있다. 인공신경망은 신경망의 가중치를 초기화하고 훈련 데이터를 통해 가중치를 갱신하여 신경망의 구조를 선택하고, 활용할 학습 알고리즘을 결정한 후 신경망을 훈련시킨다.\n"
   ]
  },
  {
   "cell_type": "markdown",
   "metadata": {},
   "source": [
    "가. 구조\n",
    "+ 입력 링크에서 여러 신호를 받아서 새로운 활성화 수준을 계산하고, 출력 링크로 출력 신호를 보낸다.\n",
    "+ 입력신호는 미가공 데이터 또는 다른 뉴런으로 출력이 될 수 있으며, 출력신호는 문제의 최종적인 해가 되거나 다른 뉴런에 입력될 수 있다.\n",
    "\n",
    "나. 뉴런의 계산\n",
    "+ 뉴런은 활성화 함수를 사용하며, 활성화 함수를 이용해 출력을 결정하며 입력신호의 가중치 합을 계산하여 임계값과 비교한다.\n",
    "+ 가중치 합이 임계값보다 작으면 뉴런의 출력은 -1, 같거나 크면 +1 을 출력한다.\n",
    "\n",
    "다. 뉴런의 활성화 함수\n",
    "+ 시그모이드 함수의 경우 로지스틱 회귀분석과 유사하며, 0~1의 확률값을 가진다.\n",
    "+ softmax 함수 : 표준화지수 함수로도 불리며, 출력값이 여러 개로 주어지고 목표치가 다범주인 경우 각 범주에 속할 사후확률을 제공하는 함수이다.\n",
    "+ Relu 함수 : max(0, x)로 최근 딥러닝에 많이 활용하는 함수이다."
   ]
  },
  {
   "cell_type": "markdown",
   "metadata": {},
   "source": [
    "### 7.2 sklearn.neural_network.MLPClassifier\n",
    "\n",
    "> class sklearn.neural_network.MLPClassifier(hidden_layer_sizes=(100,), activation='relu', *,\n",
    "solver='adam', alpha=0.0001, batch_size='auto', learning_rate='constant',\n",
    "learning_rate_init=0.001, power_t=0.5, max_iter=200, shuffle=True, random_state=None,\n",
    "tol=0.0001, verbose=False, warm_start=False, momentum=0.9, nesterovs_momentum=True,\n",
    "early_stopping=False, validation_fraction=0.1, beta_1=0.9, beta_2=0.999, epsilon=1e-08,\n",
    "n_iter_no_change=10, max_fun=15000)"
   ]
  },
  {
   "cell_type": "markdown",
   "metadata": {},
   "source": [
    "### 7.3 조정 할만한 매개변수\n",
    "1. hidden_layer_sizes\n",
    "> tuple, length = n_layers -2, default = (100,)\n",
    "\n",
    "2. activation {'identity', 'logistic', 'tanh', 'relu'}, default = 'relu\n",
    "> 'identity' : 선형함수  \n",
    "'logistic' : 시그모이드 함수, f(x) = 1 / (1+ exp(-x)) 값을 리턴  \n",
    "'tanh' : 탄젠트 함수 f(x) = tanh(x) 값을 리턴  \n",
    "'relu' : 수정된 선형 함수, f(x) = max(0, x) 값을 리턴\n",
    "\n",
    "3. solver {'lbfgs', 'sgd', 'adam'}, default = 'adam'\n",
    "> 'lbfgs; : quasi-Newton 방법 계열의 최적화 도구로 0 또는 함수의 극대값과 극소값을 찾는데 사용되는 방법  \n",
    "'sgd' : 경사하강법  \n",
    "'adam' : 확률적 기울기 기반 옵티마이저  \n",
    "큰 데이터 셋에는 adam, 작은 데이터 셋에는 lbfgs 를 추천"
   ]
  },
  {
   "cell_type": "markdown",
   "metadata": {},
   "source": [
    "### 7.4 인공신경망 분류 실습\n",
    "credit 데이터의 train 데이터로 credit.rating(기간 내 대출 상환 여부)을 분류하는 인공신경망 모델 만들어라"
   ]
  },
  {
   "cell_type": "code",
   "execution_count": 1,
   "metadata": {},
   "outputs": [
    {
     "name": "stdout",
     "output_type": "stream",
     "text": [
      "      pred_T[0]  pred_F[0]\n",
      "T[0]         38         52\n",
      "F[0]         30        180\n",
      "train Accuracy : 0.93\n",
      "test Accuracy : 0.7266666666666667\n",
      "recall score : 0.8571428571428571\n",
      "precision score : 0.7758620689655172\n",
      "f1 score : 0.8144796380090498\n",
      "roc_auc score : 0.726984126984127\n"
     ]
    },
    {
     "data": {
      "image/png": "[encoded data removed]",
      "text/plain": [
       "<Figure size 640x480 with 1 Axes>"
      ]
     },
     "metadata": {},
     "output_type": "display_data"
    }
   ],
   "source": [
    "import pandas as pd\n",
    "import warnings\n",
    "warnings.filterwarnings(action='ignore')\n",
    "import matplotlib.pyplot as plt\n",
    "\n",
    "credit = pd.read_csv('https://raw.githubusercontent.com/phong0104/Alex_Lee_SNU_EduTech/9e65152ae7b230d9c940d03dbdc9e468f69cf426/Certificate/(2)%20%EB%8D%B0%EC%9D%B4%ED%84%B0%EB%B6%84%EC%84%9D%20%EC%A0%84%EB%AC%B8%EA%B0%80%20%EC%8B%A4%EA%B8%B0/Ver.2/data/credit_final.csv')\n",
    "X = credit.drop(['credit.rating'], axis = 1)\n",
    "y = credit['credit.rating']\n",
    "\n",
    "\n",
    "from sklearn.model_selection import train_test_split\n",
    "from sklearn.preprocessing import StandardScaler\n",
    "from sklearn.neural_network import MLPClassifier\n",
    "from sklearn.metrics import confusion_matrix, classification_report, f1_score, recall_score, precision_score, roc_auc_score, RocCurveDisplay\n",
    "scaler = StandardScaler()\n",
    "X_scaled = scaler.fit_transform(X)\n",
    "\n",
    "X_train, X_test, y_train, y_test = train_test_split(X_scaled,y,stratify=y, test_size = 0.3, random_state = 42)\n",
    "mlp_clf = MLPClassifier()\n",
    "mlp_clf.fit(X_train, y_train)\n",
    "\n",
    "y_pred = mlp_clf.predict(X_test)\n",
    "\n",
    "# 오차행렬\n",
    "print(pd.DataFrame(confusion_matrix(y_test, y_pred), index = ['T[0]', 'F[0]'], columns= ['pred_T[0]', 'pred_F[0]']))\n",
    "\n",
    "# 평가지표\n",
    "print('train Accuracy :', mlp_clf.score(X_train, y_train))\n",
    "print('test Accuracy :', mlp_clf.score(X_test, y_test))\n",
    "print('recall score :', recall_score(y_test , y_pred))\n",
    "print('precision score :', precision_score(y_test , y_pred))\n",
    "print('f1 score :', f1_score(y_test , y_pred))\n",
    "print('roc_auc score :', roc_auc_score(y_test, mlp_clf.predict_proba(X_test)[:,1]))\n",
    "\n",
    "# ROC 곡선 시각화\n",
    "RocCurveDisplay.from_estimator(mlp_clf, X_test, y_test)\n",
    "plt.show()\n",
    "# 스케일링 안했을 때 : 0.55\n",
    "# 스케일링 했을 때 : 0.74"
   ]
  },
  {
   "cell_type": "markdown",
   "metadata": {},
   "source": [
    "GridSearchCV 사용"
   ]
  },
  {
   "cell_type": "code",
   "execution_count": 11,
   "metadata": {},
   "outputs": [
    {
     "data": {
      "text/plain": [
       "{'activation': 'relu',\n",
       " 'alpha': 0.0001,\n",
       " 'batch_size': 'auto',\n",
       " 'beta_1': 0.9,\n",
       " 'beta_2': 0.999,\n",
       " 'early_stopping': False,\n",
       " 'epsilon': 1e-08,\n",
       " 'hidden_layer_sizes': (100,),\n",
       " 'learning_rate': 'constant',\n",
       " 'learning_rate_init': 0.001,\n",
       " 'max_fun': 15000,\n",
       " 'max_iter': 200,\n",
       " 'momentum': 0.9,\n",
       " 'n_iter_no_change': 10,\n",
       " 'nesterovs_momentum': True,\n",
       " 'power_t': 0.5,\n",
       " 'random_state': None,\n",
       " 'shuffle': True,\n",
       " 'solver': 'adam',\n",
       " 'tol': 0.0001,\n",
       " 'validation_fraction': 0.1,\n",
       " 'verbose': False,\n",
       " 'warm_start': False}"
      ]
     },
     "execution_count": 11,
     "metadata": {},
     "output_type": "execute_result"
    }
   ],
   "source": [
    "MLPClassifier().get_params()"
   ]
  },
  {
   "cell_type": "code",
   "execution_count": 12,
   "metadata": {},
   "outputs": [
    {
     "data": {
      "text/plain": [
       "{'activation': 'tanh', 'hidden_layer_sizes': (150,), 'solver': 'adam'}"
      ]
     },
     "execution_count": 12,
     "metadata": {},
     "output_type": "execute_result"
    }
   ],
   "source": [
    "param_grid = {'activation' : ['relu', 'tanh'], 'hidden_layer_sizes' : [(100,), (150,), (200,)],\n",
    "              'solver' : ['adam', 'sgd']}\n",
    "from sklearn.model_selection import GridSearchCV\n",
    "mlp = MLPClassifier()\n",
    "grid_mlp = GridSearchCV(mlp, param_grid)\n",
    "grid_mlp.fit(X_train, y_train)\n",
    "\n",
    "grid_mlp.best_params_"
   ]
  },
  {
   "cell_type": "code",
   "execution_count": 19,
   "metadata": {},
   "outputs": [
    {
     "data": {
      "text/html": [
       "<div>\n",
       "<style scoped>\n",
       "    .dataframe tbody tr th:only-of-type {\n",
       "        vertical-align: middle;\n",
       "    }\n",
       "\n",
       "    .dataframe tbody tr th {\n",
       "        vertical-align: top;\n",
       "    }\n",
       "\n",
       "    .dataframe thead th {\n",
       "        text-align: right;\n",
       "    }\n",
       "</style>\n",
       "<table border=\"1\" class=\"dataframe\">\n",
       "  <thead>\n",
       "    <tr style=\"text-align: right;\">\n",
       "      <th></th>\n",
       "      <th>activation</th>\n",
       "      <th>hidden_layer_sizes</th>\n",
       "      <th>solver</th>\n",
       "      <th>mean_test_score</th>\n",
       "    </tr>\n",
       "  </thead>\n",
       "  <tbody>\n",
       "    <tr>\n",
       "      <th>0</th>\n",
       "      <td>tanh</td>\n",
       "      <td>(150,)</td>\n",
       "      <td>adam</td>\n",
       "      <td>0.771429</td>\n",
       "    </tr>\n",
       "    <tr>\n",
       "      <th>1</th>\n",
       "      <td>tanh</td>\n",
       "      <td>(100,)</td>\n",
       "      <td>adam</td>\n",
       "      <td>0.768571</td>\n",
       "    </tr>\n",
       "    <tr>\n",
       "      <th>2</th>\n",
       "      <td>tanh</td>\n",
       "      <td>(100,)</td>\n",
       "      <td>sgd</td>\n",
       "      <td>0.768571</td>\n",
       "    </tr>\n",
       "    <tr>\n",
       "      <th>3</th>\n",
       "      <td>tanh</td>\n",
       "      <td>(200,)</td>\n",
       "      <td>adam</td>\n",
       "      <td>0.765714</td>\n",
       "    </tr>\n",
       "    <tr>\n",
       "      <th>4</th>\n",
       "      <td>tanh</td>\n",
       "      <td>(200,)</td>\n",
       "      <td>sgd</td>\n",
       "      <td>0.765714</td>\n",
       "    </tr>\n",
       "    <tr>\n",
       "      <th>5</th>\n",
       "      <td>tanh</td>\n",
       "      <td>(150,)</td>\n",
       "      <td>sgd</td>\n",
       "      <td>0.761429</td>\n",
       "    </tr>\n",
       "    <tr>\n",
       "      <th>6</th>\n",
       "      <td>relu</td>\n",
       "      <td>(100,)</td>\n",
       "      <td>sgd</td>\n",
       "      <td>0.754286</td>\n",
       "    </tr>\n",
       "    <tr>\n",
       "      <th>7</th>\n",
       "      <td>relu</td>\n",
       "      <td>(150,)</td>\n",
       "      <td>sgd</td>\n",
       "      <td>0.752857</td>\n",
       "    </tr>\n",
       "    <tr>\n",
       "      <th>8</th>\n",
       "      <td>relu</td>\n",
       "      <td>(200,)</td>\n",
       "      <td>sgd</td>\n",
       "      <td>0.750000</td>\n",
       "    </tr>\n",
       "    <tr>\n",
       "      <th>9</th>\n",
       "      <td>relu</td>\n",
       "      <td>(150,)</td>\n",
       "      <td>adam</td>\n",
       "      <td>0.735714</td>\n",
       "    </tr>\n",
       "    <tr>\n",
       "      <th>10</th>\n",
       "      <td>relu</td>\n",
       "      <td>(100,)</td>\n",
       "      <td>adam</td>\n",
       "      <td>0.732857</td>\n",
       "    </tr>\n",
       "    <tr>\n",
       "      <th>11</th>\n",
       "      <td>relu</td>\n",
       "      <td>(200,)</td>\n",
       "      <td>adam</td>\n",
       "      <td>0.732857</td>\n",
       "    </tr>\n",
       "  </tbody>\n",
       "</table>\n",
       "</div>"
      ],
      "text/plain": [
       "   activation hidden_layer_sizes solver  mean_test_score\n",
       "0        tanh             (150,)   adam         0.771429\n",
       "1        tanh             (100,)   adam         0.768571\n",
       "2        tanh             (100,)    sgd         0.768571\n",
       "3        tanh             (200,)   adam         0.765714\n",
       "4        tanh             (200,)    sgd         0.765714\n",
       "5        tanh             (150,)    sgd         0.761429\n",
       "6        relu             (100,)    sgd         0.754286\n",
       "7        relu             (150,)    sgd         0.752857\n",
       "8        relu             (200,)    sgd         0.750000\n",
       "9        relu             (150,)   adam         0.735714\n",
       "10       relu             (100,)   adam         0.732857\n",
       "11       relu             (200,)   adam         0.732857"
      ]
     },
     "execution_count": 19,
     "metadata": {},
     "output_type": "execute_result"
    }
   ],
   "source": [
    "result = pd.DataFrame(grid_mlp.cv_results_['params'])\n",
    "result['mean_test_score'] = grid_mlp.cv_results_['mean_test_score']\n",
    "result.sort_values(by = 'mean_test_score', ascending=False).reset_index(drop = True)"
   ]
  },
  {
   "cell_type": "code",
   "execution_count": 20,
   "metadata": {},
   "outputs": [
    {
     "name": "stdout",
     "output_type": "stream",
     "text": [
      "      pred_T[0]  pred_F[0]\n",
      "T[0]         42         48\n",
      "F[0]         26        184\n",
      "train Accuracy : 0.8971428571428571\n",
      "test Accuracy : 0.7533333333333333\n",
      "recall score : 0.8761904761904762\n",
      "precision score : 0.7931034482758621\n",
      "f1 score : 0.832579185520362\n",
      "roc_auc score : 0.7926984126984128\n"
     ]
    },
    {
     "data": {
      "image/png": "[encoded data removed]",
      "text/plain": [
       "<Figure size 640x480 with 1 Axes>"
      ]
     },
     "metadata": {},
     "output_type": "display_data"
    }
   ],
   "source": [
    "mlp_clf = MLPClassifier(activation='tanh', hidden_layer_sizes=(150,), solver='adam')\n",
    "mlp_clf.fit(X_train, y_train)\n",
    "\n",
    "y_pred = mlp_clf.predict(X_test)\n",
    "\n",
    "# 오차행렬\n",
    "print(pd.DataFrame(confusion_matrix(y_test, y_pred), index = ['T[0]', 'F[0]'], columns= ['pred_T[0]', 'pred_F[0]']))\n",
    "\n",
    "# 평가지표\n",
    "print('train Accuracy :', mlp_clf.score(X_train, y_train))\n",
    "print('test Accuracy :', mlp_clf.score(X_test, y_test))\n",
    "print('recall score :', recall_score(y_test , y_pred))\n",
    "print('precision score :', precision_score(y_test , y_pred))\n",
    "print('f1 score :', f1_score(y_test , y_pred))\n",
    "print('roc_auc score :', roc_auc_score(y_test, mlp_clf.predict_proba(X_test)[:,1]))\n",
    "\n",
    "# ROC 곡선 시각화\n",
    "RocCurveDisplay.from_estimator(mlp_clf, X_test, y_test)\n",
    "plt.show()"
   ]
  },
  {
   "cell_type": "markdown",
   "metadata": {},
   "source": [
    "### 7.5 인공신경망(회귀) 실습"
   ]
  },
  {
   "cell_type": "code",
   "execution_count": 25,
   "metadata": {},
   "outputs": [
    {
     "data": {
      "text/html": [
       "<div>\n",
       "<style scoped>\n",
       "    .dataframe tbody tr th:only-of-type {\n",
       "        vertical-align: middle;\n",
       "    }\n",
       "\n",
       "    .dataframe tbody tr th {\n",
       "        vertical-align: top;\n",
       "    }\n",
       "\n",
       "    .dataframe thead th {\n",
       "        text-align: right;\n",
       "    }\n",
       "</style>\n",
       "<table border=\"1\" class=\"dataframe\">\n",
       "  <thead>\n",
       "    <tr style=\"text-align: right;\">\n",
       "      <th></th>\n",
       "      <th>id</th>\n",
       "      <th>date</th>\n",
       "      <th>price</th>\n",
       "      <th>bedrooms</th>\n",
       "      <th>bathrooms</th>\n",
       "      <th>sqft_living</th>\n",
       "      <th>sqft_lot</th>\n",
       "      <th>floors</th>\n",
       "      <th>waterfront</th>\n",
       "      <th>view</th>\n",
       "      <th>condition</th>\n",
       "      <th>grade</th>\n",
       "      <th>sqft_above</th>\n",
       "      <th>sqft_basement</th>\n",
       "      <th>yr_built</th>\n",
       "      <th>yr_renovated</th>\n",
       "      <th>sqft_living15</th>\n",
       "      <th>sqft_lot15</th>\n",
       "    </tr>\n",
       "  </thead>\n",
       "  <tbody>\n",
       "    <tr>\n",
       "      <th>0</th>\n",
       "      <td>7129300520</td>\n",
       "      <td>20141013T000000</td>\n",
       "      <td>221900.0</td>\n",
       "      <td>3</td>\n",
       "      <td>1.00</td>\n",
       "      <td>1180</td>\n",
       "      <td>5650</td>\n",
       "      <td>1.0</td>\n",
       "      <td>standard</td>\n",
       "      <td>0</td>\n",
       "      <td>3</td>\n",
       "      <td>7</td>\n",
       "      <td>1180</td>\n",
       "      <td>0</td>\n",
       "      <td>1955</td>\n",
       "      <td>0</td>\n",
       "      <td>1340</td>\n",
       "      <td>5650</td>\n",
       "    </tr>\n",
       "    <tr>\n",
       "      <th>1</th>\n",
       "      <td>6414100192</td>\n",
       "      <td>20141209T000000</td>\n",
       "      <td>538000.0</td>\n",
       "      <td>3</td>\n",
       "      <td>2.25</td>\n",
       "      <td>2570</td>\n",
       "      <td>7242</td>\n",
       "      <td>2.0</td>\n",
       "      <td>standard</td>\n",
       "      <td>0</td>\n",
       "      <td>3</td>\n",
       "      <td>7</td>\n",
       "      <td>2170</td>\n",
       "      <td>400</td>\n",
       "      <td>1951</td>\n",
       "      <td>1991</td>\n",
       "      <td>1690</td>\n",
       "      <td>7639</td>\n",
       "    </tr>\n",
       "    <tr>\n",
       "      <th>2</th>\n",
       "      <td>5631500400</td>\n",
       "      <td>20150225T000000</td>\n",
       "      <td>180000.0</td>\n",
       "      <td>2</td>\n",
       "      <td>1.00</td>\n",
       "      <td>770</td>\n",
       "      <td>10000</td>\n",
       "      <td>1.0</td>\n",
       "      <td>standard</td>\n",
       "      <td>0</td>\n",
       "      <td>3</td>\n",
       "      <td>6</td>\n",
       "      <td>770</td>\n",
       "      <td>0</td>\n",
       "      <td>1933</td>\n",
       "      <td>0</td>\n",
       "      <td>2720</td>\n",
       "      <td>8062</td>\n",
       "    </tr>\n",
       "    <tr>\n",
       "      <th>3</th>\n",
       "      <td>2487200875</td>\n",
       "      <td>20141209T000000</td>\n",
       "      <td>604000.0</td>\n",
       "      <td>4</td>\n",
       "      <td>3.00</td>\n",
       "      <td>1960</td>\n",
       "      <td>5000</td>\n",
       "      <td>1.0</td>\n",
       "      <td>standard</td>\n",
       "      <td>0</td>\n",
       "      <td>5</td>\n",
       "      <td>7</td>\n",
       "      <td>1050</td>\n",
       "      <td>910</td>\n",
       "      <td>1965</td>\n",
       "      <td>0</td>\n",
       "      <td>1360</td>\n",
       "      <td>5000</td>\n",
       "    </tr>\n",
       "    <tr>\n",
       "      <th>4</th>\n",
       "      <td>1954400510</td>\n",
       "      <td>20150218T000000</td>\n",
       "      <td>510000.0</td>\n",
       "      <td>3</td>\n",
       "      <td>2.00</td>\n",
       "      <td>1680</td>\n",
       "      <td>8080</td>\n",
       "      <td>1.0</td>\n",
       "      <td>standard</td>\n",
       "      <td>0</td>\n",
       "      <td>3</td>\n",
       "      <td>8</td>\n",
       "      <td>1680</td>\n",
       "      <td>0</td>\n",
       "      <td>1987</td>\n",
       "      <td>0</td>\n",
       "      <td>1800</td>\n",
       "      <td>7503</td>\n",
       "    </tr>\n",
       "  </tbody>\n",
       "</table>\n",
       "</div>"
      ],
      "text/plain": [
       "           id             date     price  bedrooms  bathrooms  sqft_living  \\\n",
       "0  7129300520  20141013T000000  221900.0         3       1.00         1180   \n",
       "1  6414100192  20141209T000000  538000.0         3       2.25         2570   \n",
       "2  5631500400  20150225T000000  180000.0         2       1.00          770   \n",
       "3  2487200875  20141209T000000  604000.0         4       3.00         1960   \n",
       "4  1954400510  20150218T000000  510000.0         3       2.00         1680   \n",
       "\n",
       "   sqft_lot  floors waterfront  view  condition  grade  sqft_above  \\\n",
       "0      5650     1.0   standard     0          3      7        1180   \n",
       "1      7242     2.0   standard     0          3      7        2170   \n",
       "2     10000     1.0   standard     0          3      6         770   \n",
       "3      5000     1.0   standard     0          5      7        1050   \n",
       "4      8080     1.0   standard     0          3      8        1680   \n",
       "\n",
       "   sqft_basement  yr_built  yr_renovated  sqft_living15  sqft_lot15  \n",
       "0              0      1955             0           1340        5650  \n",
       "1            400      1951          1991           1690        7639  \n",
       "2              0      1933             0           2720        8062  \n",
       "3            910      1965             0           1360        5000  \n",
       "4              0      1987             0           1800        7503  "
      ]
     },
     "execution_count": 25,
     "metadata": {},
     "output_type": "execute_result"
    }
   ],
   "source": [
    "import pandas as pd\n",
    "import numpy as np\n",
    "kc_house = pd.read_csv('https://raw.githubusercontent.com/phong0104/Alex_Lee_SNU_EduTech/9e65152ae7b230d9c940d03dbdc9e468f69cf426/Certificate/(2)%20%EB%8D%B0%EC%9D%B4%ED%84%B0%EB%B6%84%EC%84%9D%20%EC%A0%84%EB%AC%B8%EA%B0%80%20%EC%8B%A4%EA%B8%B0/Ver.2/data/kc_house_data.csv')\n",
    "kc_house.head()"
   ]
  },
  {
   "cell_type": "code",
   "execution_count": 39,
   "metadata": {},
   "outputs": [
    {
     "name": "stdout",
     "output_type": "stream",
     "text": [
      "train r2 : -1.3378515493921723\n",
      "test r2 : -1.2462980220552797\n",
      "mse : 324290254375.2244\n",
      "rmse : 569464.8842336325\n"
     ]
    }
   ],
   "source": [
    "X = kc_house.drop(['id', 'date', 'price'], axis = 1)\n",
    "y = kc_house['price']\n",
    "\n",
    "X = pd.get_dummies(X, columns = ['waterfront'], drop_first= True)\n",
    "\n",
    "from sklearn.model_selection import train_test_split\n",
    "from sklearn.preprocessing import StandardScaler\n",
    "from sklearn.neural_network import MLPRegressor\n",
    "from sklearn.metrics import mean_squared_error, mean_absolute_error\n",
    "\n",
    "X_train, X_test, y_train, y_test = train_test_split(X, y, test_size = 0.3, random_state= 42)\n",
    "scaler = StandardScaler()\n",
    "X_train = scaler.fit_transform(X_train)\n",
    "X_test = scaler.fit_transform(X_test)\n",
    "\n",
    "mlp_reg = MLPRegressor()\n",
    "mlp_reg.fit(X_train, y_train)\n",
    "\n",
    "y_pred = mlp_reg.predict(X_test)\n",
    "\n",
    "print('train r2 :', mlp_reg.score(X_train, y_train))\n",
    "print('test r2 :', mlp_reg.score(X_test, y_test))\n",
    "\n",
    "mse = mean_squared_error(y_test, y_pred)\n",
    "print('mse :', mse)\n",
    "print('rmse :', np.sqrt(mse))\n",
    "\n",
    "# 스케일링 전\n",
    "## train r2 : 0.53, test r2 : 0.52, rmse : 262789\n",
    "# 스케일링 후\n",
    "## train r2 : -1.26, test r2 : -1.17, rmse : 560084"
   ]
  },
  {
   "cell_type": "code",
   "execution_count": 40,
   "metadata": {},
   "outputs": [
    {
     "name": "stdout",
     "output_type": "stream",
     "text": [
      "train r2 : 0.8259415714160281\n",
      "test r2 : 0.7369276067318574\n",
      "mse : 37978848974.798035\n",
      "rmse : 194881.6281099838\n"
     ]
    }
   ],
   "source": [
    "mlpr = MLPRegressor(hidden_layer_sizes=(64,64,64,64,64), activation= 'relu', solver='adam', max_iter = 1000)\n",
    "mlpr.fit(X_train, y_train)\n",
    "\n",
    "y_pred = mlpr.predict(X_test)\n",
    "\n",
    "print('train r2 :', mlpr.score(X_train, y_train))\n",
    "print('test r2 :', mlpr.score(X_test, y_test))\n",
    "\n",
    "mse = mean_squared_error(y_test, y_pred)\n",
    "print('mse :', mse)\n",
    "print('rmse :', np.sqrt(mse))"
   ]
  }
 ],
 "metadata": {
  "kernelspec": {
   "display_name": "Python 3 (ipykernel)",
   "language": "python",
   "name": "python3"
  },
  "language_info": {
   "codemirror_mode": {
    "name": "ipython",
    "version": 3
   },
   "file_extension": ".py",
   "mimetype": "text/x-python",
   "name": "python",
   "nbconvert_exporter": "python",
   "pygments_lexer": "ipython3",
   "version": "3.10.9"
  }
 },
 "nbformat": 4,
 "nbformat_minor": 2
}
