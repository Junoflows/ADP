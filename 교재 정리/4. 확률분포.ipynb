{
 "cells": [
  {
   "cell_type": "markdown",
   "metadata": {},
   "source": [
    "## 4-1 특수한 이산형 확률분포들"
   ]
  },
  {
   "cell_type": "markdown",
   "metadata": {},
   "source": [
    "베르누이 분포"
   ]
  },
  {
   "cell_type": "code",
   "execution_count": 4,
   "metadata": {},
   "outputs": [
    {
     "name": "stdout",
     "output_type": "stream",
     "text": [
      "0.3 0.21\n"
     ]
    }
   ],
   "source": [
    "# 베르누이 분포\n",
    "p = 0.3\n",
    "q = 1-p\n",
    "E = p\n",
    "V = p*q\n",
    "\n",
    "from scipy.stats import bernoulli\n",
    "E2, V2 = bernoulli.stats(p)\n",
    "print(E2, V2)"
   ]
  },
  {
   "cell_type": "markdown",
   "metadata": {},
   "source": [
    "이항분포"
   ]
  },
  {
   "cell_type": "code",
   "execution_count": 5,
   "metadata": {},
   "outputs": [
    {
     "name": "stdout",
     "output_type": "stream",
     "text": [
      "0.30000000000000004 0.2700000000000001\n",
      "0.30000000000000004 0.2700000000000001\n"
     ]
    }
   ],
   "source": [
    "# 이항분포\n",
    "from scipy.stats import binom\n",
    "import numpy as np\n",
    "import math\n",
    "\n",
    "fac = math.factorial\n",
    "def combi(a, b):\n",
    "    result = fac(a) / fac(b) / fac(a-b)\n",
    "    return result\n",
    "\n",
    "# 퇴사 확률 0.1, 근로자 3명 뽑음\n",
    "n, p = 3, 0.1\n",
    "E = n*p\n",
    "V = n*p*(1-p)\n",
    "print(E,V)\n",
    "\n",
    "E2 , V2 = binom.stats(n, p)\n",
    "print(E2, V2)"
   ]
  },
  {
   "cell_type": "code",
   "execution_count": 6,
   "metadata": {},
   "outputs": [
    {
     "name": "stdout",
     "output_type": "stream",
     "text": [
      "0.24300000000000005\n",
      "0.243\n"
     ]
    }
   ],
   "source": [
    "# 확률질량함수 구하기 : 3명 중에서 1명이 퇴사할 확률은?\n",
    "X = 1\n",
    "pmf = combi(n, X)*p**X * (1-p)**(n-X)\n",
    "\n",
    "print(pmf)\n",
    "print(binom.pmf(X,n,p))"
   ]
  },
  {
   "cell_type": "code",
   "execution_count": 7,
   "metadata": {},
   "outputs": [
    {
     "name": "stdout",
     "output_type": "stream",
     "text": [
      "0.9720000000000001\n",
      "0.972\n"
     ]
    }
   ],
   "source": [
    "# 누적질량함수 : 1명 이하로 떠날 확률\n",
    "cdf = 0\n",
    "for i in range(0, X+1):\n",
    "    cdf += binom.pmf(i,n,p)\n",
    "\n",
    "print(cdf)\n",
    "print(binom.cdf(X,n,p))"
   ]
  },
  {
   "cell_type": "code",
   "execution_count": 8,
   "metadata": {},
   "outputs": [
    {
     "name": "stdout",
     "output_type": "stream",
     "text": [
      "0.02798160072416065\n",
      "0.027869264218675572\n"
     ]
    }
   ],
   "source": [
    "# 이항분포의 정규분포 근사\n",
    "from scipy.stats import norm\n",
    "x, n, p = 10, 30, 0.5\n",
    "result_b = binom.pmf(x,n,p)\n",
    "E = n*p\n",
    "std = np.sqrt(n*p*(1-p))\n",
    "\n",
    "zstat1 = (x-0.5-E)/std\n",
    "zstat2 = (x+0.5-E)/std\n",
    "\n",
    "result_n = norm.cdf(zstat2) - norm.cdf(zstat1)\n",
    "\n",
    "print(result_b)\n",
    "print(result_n)"
   ]
  },
  {
   "cell_type": "code",
   "execution_count": 9,
   "metadata": {},
   "outputs": [
    {
     "name": "stdout",
     "output_type": "stream",
     "text": [
      "0.01671588409593141\n",
      "0.018132788707821854\n"
     ]
    }
   ],
   "source": [
    "# 이항분포의 푸아송분포 근사\n",
    "from scipy.stats import poisson\n",
    "x, n, p = 10, 100, 0.05\n",
    "\n",
    "b_result = binom.pmf(x,n,p)\n",
    "E = n*p\n",
    "p_result = poisson.pmf(x,E)\n",
    "print(b_result)\n",
    "print(p_result)\n"
   ]
  },
  {
   "cell_type": "markdown",
   "metadata": {},
   "source": [
    "음이항분포\n",
    "+ 성공확률이 p인 베르누이 시행을 독립적으로 반복 시행할 때 k번 성공할 때까지의 시행횟수"
   ]
  },
  {
   "cell_type": "code",
   "execution_count": 10,
   "metadata": {},
   "outputs": [
    {
     "name": "stdout",
     "output_type": "stream",
     "text": [
      "0.12347999999999996\n",
      "0.12348\n",
      "0.47177999999999987\n",
      "0.47178\n"
     ]
    }
   ],
   "source": [
    "# 음이항분포\n",
    "# A가 승리할 확률이 0.3, 5번 경기를 치를 때\n",
    "from scipy.stats import nbinom\n",
    "\n",
    "n = 5 # 총 시행 횟수\n",
    "k = 2 # 총 성공 횟수\n",
    "p = 0.3 # 성공확률\n",
    "q = 1-p # 실패확률\n",
    "\n",
    "x = n - k\n",
    "E = k*q / p\n",
    "V = k*q / p**2\n",
    "pmf = combi(x+k-1, k-1) * p **k * q ** x\n",
    "E2, V2 = nbinom.stats(k, p)\n",
    "pkg_pmf, pkg_cdf = nbinom.pmf(x,k,p), nbinom.cdf(x,k,p)\n",
    "cdf = 0\n",
    "for i in range(0, x+1):\n",
    "    cdf += nbinom.pmf(i,k,p)\n",
    "\n",
    "\n",
    "print(pmf)\n",
    "print(pkg_pmf)\n",
    "\n",
    "print(cdf)\n",
    "print(pkg_cdf)"
   ]
  },
  {
   "cell_type": "markdown",
   "metadata": {},
   "source": [
    "기하분포\n",
    "+ 성공확률이 p인 베르누이 시행을 처음 성공할 때까지의 시행횟수"
   ]
  },
  {
   "cell_type": "code",
   "execution_count": 18,
   "metadata": {},
   "outputs": [
    {
     "name": "stdout",
     "output_type": "stream",
     "text": [
      "0.11574074074074076\n",
      "0.4212962962962962\n"
     ]
    }
   ],
   "source": [
    "# 기하분포\n",
    "# 하나의 주사위를 3번 던질 때 세번째 시행에서 숫자가 처음으로 6이 나올 확률은? pmf\n",
    "# 주사위 3번 던질 때 6이 나오면 멈춘다고 할 때 멈출 확률? cdf\n",
    "from scipy.stats import geom\n",
    "n = 3\n",
    "p = 1/6\n",
    "q = 1-p\n",
    "\n",
    "x = n\n",
    "E, V = geom.stats(p, moments = 'mv')\n",
    "pkg_pmf, pkg_cdf = geom.pmf(x, p), geom.cdf(x, p)\n",
    "\n",
    "print(pkg_pmf)\n",
    "print(pkg_cdf)"
   ]
  },
  {
   "cell_type": "markdown",
   "metadata": {},
   "source": [
    "초기하분포\n",
    "+ 크기 N의 유한모집단 중 크기 n의 확률표본을 뽑는 경우, N개 중 k개는 성공, 나머지 (N-k)개는 실패로 분류하여 비복원 추출할 때 성공 횟수\n",
    "+ $X$ ~ $HG(N, k, n)$"
   ]
  },
  {
   "cell_type": "code",
   "execution_count": 21,
   "metadata": {},
   "outputs": [
    {
     "name": "stdout",
     "output_type": "stream",
     "text": [
      "0.2 0.1781818181818182\n",
      "0.1818181818181818\n",
      "0.990909090909091\n"
     ]
    }
   ],
   "source": [
    "# 초기화 분포\n",
    "# 상자 속에 빨간 공이 90개, 파란공이 10개 들어있다.\n",
    "# 2회 비복원 추출할 때 1개가 파란공일 확률\n",
    "from scipy.stats import hypergeom\n",
    "\n",
    "N = 100 # 모집단\n",
    "k = 10 # 성공요소\n",
    "n = 2 # 시행횟수\n",
    "x = 1 # 확인하고자 하는 사건\n",
    "P = k/N # 모비율\n",
    "\n",
    "E, V = hypergeom.stats(N, k, n)\n",
    "print(E, V)\n",
    "\n",
    "pmf = hypergeom.pmf(x, N, k, n)\n",
    "\n",
    "# 누적확률잘량함수 : 파란공을 1개 이하로 선택할 확률\n",
    "cdf = hypergeom.cdf(x, N, k, n)\n",
    "\n",
    "print(pmf)\n",
    "print(cdf)"
   ]
  },
  {
   "cell_type": "code",
   "execution_count": 22,
   "metadata": {},
   "outputs": [
    {
     "name": "stdout",
     "output_type": "stream",
     "text": [
      "0.18000000000000005\n",
      "0.1818181818181818\n"
     ]
    }
   ],
   "source": [
    "# 초기하 분포의 이항분포 근사\n",
    "from scipy.stats import norm\n",
    "\n",
    "result_b = binom.pmf(x, n, P)\n",
    "result_h = hypergeom.pmf(x, N, k, n)\n",
    "\n",
    "print(result_b)\n",
    "print(result_h)"
   ]
  },
  {
   "cell_type": "markdown",
   "metadata": {},
   "source": [
    "푸아송 분포\n",
    "+ 단위시간, 단위면적, 단위공간 내에서 발생하는 어떤 사건의 횟수의 확률분포\n",
    "+ $X$ ~ $P(\\lambda)$"
   ]
  },
  {
   "cell_type": "code",
   "execution_count": 26,
   "metadata": {},
   "outputs": [
    {
     "name": "stdout",
     "output_type": "stream",
     "text": [
      "3.0 3.0\n",
      "0.16803135574154085\n",
      "0.8152632445237722\n"
     ]
    }
   ],
   "source": [
    "# 푸아송 분포\n",
    "from scipy.stats import poisson\n",
    "\n",
    "# 주말 저녁 시간 당 평균 6명이 응급실에 올 경우,\n",
    "# 어떤 주말 저녁 30분 내 4명이 도착할 확률은?\n",
    "\n",
    "x = 4 # 구간 내 사건 횟수\n",
    "lam = 3 # 구간 내 평균\n",
    "\n",
    "E, V = poisson.stats(lam, moments = 'mv')\n",
    "print(E, V)\n",
    "\n",
    "pmf = poisson.pmf(x, lam)\n",
    "\n",
    "# 누적확률질량함수 : 4명 이하로 도착할 확률은?\n",
    "cdf = poisson.cdf(x, lam)\n",
    "\n",
    "print(pmf)\n",
    "print(cdf)"
   ]
  },
  {
   "cell_type": "code",
   "execution_count": 27,
   "metadata": {},
   "outputs": [
    {
     "name": "stdout",
     "output_type": "stream",
     "text": [
      "0.007383492859331415\n",
      "0.00581630651834512\n"
     ]
    }
   ],
   "source": [
    "# 푸아송 분포의 정규분포 근사\n",
    "from scipy.stats import norm\n",
    "import numpy as np\n",
    "\n",
    "x = 10\n",
    "lam = 20\n",
    "E = V = lam\n",
    "sigma = np.sqrt(V)\n",
    "\n",
    "zstat1 = (x-0.5-lam)/sigma\n",
    "zstat2 = (x+0.5-lam)/sigma\n",
    "\n",
    "n_result = norm.cdf(zstat2) - norm.cdf(zstat1)\n",
    "p_result = poisson.pmf(x, lam)\n",
    "\n",
    "print(n_result)\n",
    "print(p_result)"
   ]
  },
  {
   "cell_type": "markdown",
   "metadata": {},
   "source": [
    "## 4-2 특수한 연속형 확률분포들"
   ]
  },
  {
   "cell_type": "markdown",
   "metadata": {},
   "source": [
    "균일분포\n",
    "+ $X$ ~ $U(a,b)$"
   ]
  },
  {
   "cell_type": "code",
   "execution_count": 29,
   "metadata": {},
   "outputs": [
    {
     "name": "stdout",
     "output_type": "stream",
     "text": [
      "15.0 75.0\n",
      "1.481929911190439\n"
     ]
    }
   ],
   "source": [
    "# 균일분포\n",
    "# 버스가 오전 7시부터 15분 간격으로 출발한다.\n",
    "# 승객이 정류장에 도착하는 시간은 7시에서 7시 30분 사이에 균등분포를 따른다\n",
    "# 승객이 5분 미만 기다릴 확률은?\n",
    "\n",
    "a = 0\n",
    "b = 30\n",
    "\n",
    "range_ = [(10, 15), (25, 30)] # 구할 범위\n",
    "p = 1/(b-a)\n",
    "cdf\n",
    "for (x1, x2) in range_:\n",
    "    cdf += (x2-x1) * p\n",
    "\n",
    "E = (b+a)/2\n",
    "V = (b-a)**2 / 12\n",
    "\n",
    "print(E,V)\n",
    "print(cdf)"
   ]
  },
  {
   "cell_type": "markdown",
   "metadata": {},
   "source": [
    "정규분포와 표준정규분포"
   ]
  },
  {
   "cell_type": "code",
   "execution_count": 31,
   "metadata": {},
   "outputs": [
    {
     "name": "stdout",
     "output_type": "stream",
     "text": [
      "0.6687123293258339\n"
     ]
    }
   ],
   "source": [
    "# 정규분포\n",
    "# 확률변수 X가 정규분포 N(30, 64) 를 따를 때 26 ~ 46 구간의 확률은?\n",
    "from scipy.stats import norm\n",
    "import numpy as np\n",
    "E = 30\n",
    "V = 64\n",
    "S = np.sqrt(64)\n",
    "x1 = 26\n",
    "x2 = 46\n",
    "z1 = (x1-E) / S\n",
    "z2 = (x2-E) / S\n",
    "\n",
    "cdf = norm.cdf(z2) - norm.cdf(z1)\n",
    "print(cdf) "
   ]
  },
  {
   "cell_type": "code",
   "execution_count": 34,
   "metadata": {},
   "outputs": [
    {
     "name": "stdout",
     "output_type": "stream",
     "text": [
      "0.950004209703559\n"
     ]
    }
   ],
   "source": [
    "# 표준정규분포\n",
    "# 확률번수 X가 표준정규분포를 따를 때 -1.96 ~ 1.96 구간의 확률은?\n",
    "\n",
    "E = 0\n",
    "V = 1\n",
    "S = 1\n",
    "x1 = -1.96\n",
    "x2 = 1.96\n",
    "z1 = (x1-E) / S\n",
    "z2 = (x2-E) / S\n",
    "\n",
    "cdf = norm.cdf(z2) - norm.cdf(z1)\n",
    "print(cdf)"
   ]
  },
  {
   "cell_type": "markdown",
   "metadata": {},
   "source": [
    "지수분포\n",
    "+ 한 번의 사건이 발생할 때까지 소요되는 시간의 분포\n",
    "+ $X$ ~ $\\epsilon(\\lambda)$"
   ]
  },
  {
   "cell_type": "code",
   "execution_count": 35,
   "metadata": {},
   "outputs": [
    {
     "name": "stdout",
     "output_type": "stream",
     "text": [
      "0.486582880967408\n"
     ]
    }
   ],
   "source": [
    "# 지수분포\n",
    "# 자동차들 사이 시간 간격이 평균 3분인 지수확률 분포를 따르는 경우, \n",
    "# 연속한 두 대의 차량이 도착하는 시간이 2분 이내일 확률은?\n",
    "from scipy.stats import expon\n",
    "\n",
    "lam = 1/3 # lambda : 단위시간 동안 평균적으로 발생한 사건 = 3분동안 1건, 1분동안 1/3건\n",
    "x = 2 # 사건이 일어날 때까지 걸린 시간\n",
    "\n",
    "E = 1/lam\n",
    "V = 1/(lam**2)\n",
    "\n",
    "# scaledp 1/lam 을 입력해주어야 함\n",
    "cdf = expon.cdf(x, scale = 1/lam)\n",
    "\n",
    "print(cdf)"
   ]
  },
  {
   "cell_type": "markdown",
   "metadata": {},
   "source": [
    "감마분포\n",
    "+ $\\alpha$ 번의 사건이 발생할 때까지의 대기시간 분포로 지수분포의 일반화된 상태\n",
    "+ $X$ ~ $\\Gamma(\\alpha, \\beta)$"
   ]
  },
  {
   "cell_type": "code",
   "execution_count": 36,
   "metadata": {},
   "outputs": [
    {
     "name": "stdout",
     "output_type": "stream",
     "text": [
      "0.7059195777218992\n"
     ]
    }
   ],
   "source": [
    "# 감마분포\n",
    "from scipy.stats import gamma\n",
    "# 낚시를 하는데 어부가 물고리를 30분에 한 마리씩 잡는다.\n",
    "# 4마리를 잡을 때까지 걸리는 시간이 1시간에서 3시간 사이일 확률은?\n",
    "\n",
    "lam = 2\n",
    "beta = 1/lam\n",
    "alpha = 4\n",
    "\n",
    "E = alpha * alpha\n",
    "V = alpha * beta **2\n",
    "range_ = (1,3)\n",
    "\n",
    "# scale 에 beta 입력\n",
    "cdf = gamma.cdf(range_[1], alpha, scale = beta) - gamma.cdf(range_[0], alpha, scale = beta)\n",
    "print(cdf)"
   ]
  },
  {
   "cell_type": "code",
   "execution_count": 37,
   "metadata": {},
   "outputs": [
    {
     "name": "stdout",
     "output_type": "stream",
     "text": [
      "0.8197394858298082\n"
     ]
    }
   ],
   "source": [
    "# 배송시간이 alpha = 20, lambda = 1.6 인 감마분포를 따를 때\n",
    "# 20개 철판을 배송할 때 15분 이내로 걸릴 확률은?\n",
    "\n",
    "lam = 1.6\n",
    "beta = 1/lam\n",
    "alpha = 20\n",
    "\n",
    "E = alpha * alpha\n",
    "V = alpha * beta **2\n",
    "range_ = (0, 15)\n",
    "\n",
    "# scale 에 beta 입력\n",
    "cdf = gamma.cdf(range_[1], alpha, scale = beta) - gamma.cdf(range_[0], alpha, scale = beta)\n",
    "print(cdf)"
   ]
  },
  {
   "cell_type": "markdown",
   "metadata": {},
   "source": [
    "카이제곱 분포\n",
    "+ 모집단이 정규분포일 때 모분산 추정/검정 시 사용\n",
    "+ 비모수 검정 중에서 범주형 변수에 대한 적합도, 독립성, 동질성 검정 시 사용"
   ]
  },
  {
   "cell_type": "markdown",
   "metadata": {},
   "source": [
    "t 분포\n",
    "+ 모분산을 모르는 상황에서 표본 평균 추정/검정\n",
    "+ 소표본에서 사용하고 표본이 30을 넘어가면 보통 표본정규분포로 수렴"
   ]
  },
  {
   "cell_type": "markdown",
   "metadata": {},
   "source": [
    "F분포\n",
    "+ 두 모집단의 모분산 비의 추정/검정"
   ]
  },
  {
   "cell_type": "markdown",
   "metadata": {},
   "source": [
    "## 연습문제"
   ]
  },
  {
   "cell_type": "markdown",
   "metadata": {},
   "source": [
    "1. 어느 사격선수가 과녁의 정중앙을 맞힐 확률이 80%라고 한다. 이 선수가 총 5번 사격을 할 때 평균적으로 몇번 정중앙을 맞히는지 구하시오."
   ]
  },
  {
   "cell_type": "code",
   "execution_count": 43,
   "metadata": {},
   "outputs": [
    {
     "name": "stdout",
     "output_type": "stream",
     "text": [
      "4.0\n"
     ]
    }
   ],
   "source": [
    "# 이항분포\n",
    "from scipy.stats import binom\n",
    "n = 5\n",
    "p = 0.8\n",
    "\n",
    "E, V = binom.stats(n, p)\n",
    "print(E)"
   ]
  },
  {
   "cell_type": "markdown",
   "metadata": {},
   "source": [
    "2. 전체 청소년의 40%가 11시 이전에 잠을 잔다고 하면, 임의로 선택한 10명의 청소년 중에 3명이 11시 이전에 잠을 잘 확률을 계산하시오"
   ]
  },
  {
   "cell_type": "code",
   "execution_count": 45,
   "metadata": {},
   "outputs": [
    {
     "data": {
      "text/plain": [
       "0.21499084799999976"
      ]
     },
     "execution_count": 45,
     "metadata": {},
     "output_type": "execute_result"
    }
   ],
   "source": [
    "# 이항분포\n",
    "from scipy.stats import binom\n",
    "\n",
    "n = 10\n",
    "p = 0.4\n",
    "x = 3\n",
    "\n",
    "binom.pmf(x,n,p)"
   ]
  },
  {
   "cell_type": "markdown",
   "metadata": {},
   "source": [
    "3. 어느 아파트 단지에서 밤 11시부터 새벽 2시 사이에 배달되는 음식 배달 건수는 시간 당 평균 5건이다.  \n",
    "    음식 배달 건수의 분포가 푸아송분포를 따른다면 오늘 새벽 12시와 1시 사이에 배달이 1건만 발생할 확률을 구하라"
   ]
  },
  {
   "cell_type": "code",
   "execution_count": 49,
   "metadata": {},
   "outputs": [
    {
     "data": {
      "text/plain": [
       "0.03"
      ]
     },
     "execution_count": 49,
     "metadata": {},
     "output_type": "execute_result"
    }
   ],
   "source": [
    "# 푸아송 분포\n",
    "from scipy.stats import poisson\n",
    "\n",
    "lam = 5\n",
    "x = 1\n",
    "\n",
    "round(poisson.pmf(x, lam),2)"
   ]
  },
  {
   "cell_type": "markdown",
   "metadata": {},
   "source": [
    "4. A 대학교 B전공 시험의 성적 분포는 평균이 65, 표준편차 12인 정규분포를 따른다.  \n",
    "    최고 점수부터 10% 까지를 A+로 분류한다면, A+ 를 받기 위해 최소 몇점을 받아야 하는가?\n",
    "    "
   ]
  },
  {
   "cell_type": "code",
   "execution_count": 55,
   "metadata": {},
   "outputs": [
    {
     "name": "stdout",
     "output_type": "stream",
     "text": [
      "80.3786187865352\n"
     ]
    }
   ],
   "source": [
    "# 정규분포\n",
    "from scipy.stats import norm\n",
    "\n",
    "m = 65\n",
    "s = 12\n",
    "\n",
    "z = norm.ppf(0.9) # z값을 구해주는 함수\n",
    "\n",
    "x = z * s + m\n",
    "print(x)"
   ]
  },
  {
   "cell_type": "code",
   "execution_count": null,
   "metadata": {},
   "outputs": [],
   "source": []
  }
 ],
 "metadata": {
  "kernelspec": {
   "display_name": "base",
   "language": "python",
   "name": "python3"
  },
  "language_info": {
   "codemirror_mode": {
    "name": "ipython",
    "version": 3
   },
   "file_extension": ".py",
   "mimetype": "text/x-python",
   "name": "python",
   "nbconvert_exporter": "python",
   "pygments_lexer": "ipython3",
   "version": "3.10.9"
  }
 },
 "nbformat": 4,
 "nbformat_minor": 2
}
