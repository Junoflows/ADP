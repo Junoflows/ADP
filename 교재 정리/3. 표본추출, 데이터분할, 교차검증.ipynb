{
 "cells": [
  {
   "cell_type": "markdown",
   "metadata": {},
   "source": [
    "## 3-1 표본추출"
   ]
  },
  {
   "cell_type": "code",
   "execution_count": 1,
   "metadata": {},
   "outputs": [],
   "source": [
    "# plotting 환경 설정\n",
    "import matplotlib.pyplot as plt\n",
    "plt.rcParams['figure.figsize'] = (5,5) # 그래프 크기\n",
    "plt.rcParams['font.family'] = 'Malgun Gothic' # 글꼴\n",
    "plt.rcParams['font.size'] = 12 # 글꼴 크기\n",
    "plt.rcParams['axes.unicode_minus'] = False # 마이너스 표기"
   ]
  },
  {
   "cell_type": "markdown",
   "metadata": {},
   "source": [
    "단순랜덤추출법\n",
    "+ 각 샘플에 번호를 부여하여 임의의 n개를 추출하는 방법"
   ]
  },
  {
   "cell_type": "code",
   "execution_count": 10,
   "metadata": {},
   "outputs": [
    {
     "data": {
      "text/html": [
       "<div>\n",
       "<style scoped>\n",
       "    .dataframe tbody tr th:only-of-type {\n",
       "        vertical-align: middle;\n",
       "    }\n",
       "\n",
       "    .dataframe tbody tr th {\n",
       "        vertical-align: top;\n",
       "    }\n",
       "\n",
       "    .dataframe thead th {\n",
       "        text-align: right;\n",
       "    }\n",
       "</style>\n",
       "<table border=\"1\" class=\"dataframe\">\n",
       "  <thead>\n",
       "    <tr style=\"text-align: right;\">\n",
       "      <th></th>\n",
       "      <th>sepal length</th>\n",
       "      <th>sepal width</th>\n",
       "      <th>petal length</th>\n",
       "      <th>petal width</th>\n",
       "      <th>target</th>\n",
       "    </tr>\n",
       "  </thead>\n",
       "  <tbody>\n",
       "    <tr>\n",
       "      <th>0</th>\n",
       "      <td>5.1</td>\n",
       "      <td>3.5</td>\n",
       "      <td>1.4</td>\n",
       "      <td>0.2</td>\n",
       "      <td>0.0</td>\n",
       "    </tr>\n",
       "    <tr>\n",
       "      <th>1</th>\n",
       "      <td>4.9</td>\n",
       "      <td>3.0</td>\n",
       "      <td>1.4</td>\n",
       "      <td>0.2</td>\n",
       "      <td>0.0</td>\n",
       "    </tr>\n",
       "    <tr>\n",
       "      <th>2</th>\n",
       "      <td>4.7</td>\n",
       "      <td>3.2</td>\n",
       "      <td>1.3</td>\n",
       "      <td>0.2</td>\n",
       "      <td>0.0</td>\n",
       "    </tr>\n",
       "    <tr>\n",
       "      <th>3</th>\n",
       "      <td>4.6</td>\n",
       "      <td>3.1</td>\n",
       "      <td>1.5</td>\n",
       "      <td>0.2</td>\n",
       "      <td>0.0</td>\n",
       "    </tr>\n",
       "    <tr>\n",
       "      <th>4</th>\n",
       "      <td>5.0</td>\n",
       "      <td>3.6</td>\n",
       "      <td>1.4</td>\n",
       "      <td>0.2</td>\n",
       "      <td>0.0</td>\n",
       "    </tr>\n",
       "  </tbody>\n",
       "</table>\n",
       "</div>"
      ],
      "text/plain": [
       "   sepal length  sepal width  petal length  petal width  target\n",
       "0           5.1          3.5           1.4          0.2     0.0\n",
       "1           4.9          3.0           1.4          0.2     0.0\n",
       "2           4.7          3.2           1.3          0.2     0.0\n",
       "3           4.6          3.1           1.5          0.2     0.0\n",
       "4           5.0          3.6           1.4          0.2     0.0"
      ]
     },
     "execution_count": 10,
     "metadata": {},
     "output_type": "execute_result"
    }
   ],
   "source": [
    "import pandas as pd\n",
    "import numpy as np\n",
    "from sklearn.datasets import load_iris\n",
    "\n",
    "data = load_iris()\n",
    "iris_columns = list(data['feature_names'] + ['target'])\n",
    "iris = pd.DataFrame(np.c_[data['data'], data['target']], columns= [col.replace(' (cm)', '') for col in iris_columns])\n",
    "iris.head()"
   ]
  },
  {
   "cell_type": "code",
   "execution_count": 19,
   "metadata": {},
   "outputs": [
    {
     "data": {
      "text/html": [
       "<div>\n",
       "<style scoped>\n",
       "    .dataframe tbody tr th:only-of-type {\n",
       "        vertical-align: middle;\n",
       "    }\n",
       "\n",
       "    .dataframe tbody tr th {\n",
       "        vertical-align: top;\n",
       "    }\n",
       "\n",
       "    .dataframe thead th {\n",
       "        text-align: right;\n",
       "    }\n",
       "</style>\n",
       "<table border=\"1\" class=\"dataframe\">\n",
       "  <thead>\n",
       "    <tr style=\"text-align: right;\">\n",
       "      <th></th>\n",
       "      <th>sepal length</th>\n",
       "      <th>sepal width</th>\n",
       "      <th>petal length</th>\n",
       "      <th>petal width</th>\n",
       "      <th>target</th>\n",
       "    </tr>\n",
       "  </thead>\n",
       "  <tbody>\n",
       "    <tr>\n",
       "      <th>73</th>\n",
       "      <td>6.1</td>\n",
       "      <td>2.8</td>\n",
       "      <td>4.7</td>\n",
       "      <td>1.2</td>\n",
       "      <td>1.0</td>\n",
       "    </tr>\n",
       "    <tr>\n",
       "      <th>18</th>\n",
       "      <td>5.7</td>\n",
       "      <td>3.8</td>\n",
       "      <td>1.7</td>\n",
       "      <td>0.3</td>\n",
       "      <td>0.0</td>\n",
       "    </tr>\n",
       "    <tr>\n",
       "      <th>118</th>\n",
       "      <td>7.7</td>\n",
       "      <td>2.6</td>\n",
       "      <td>6.9</td>\n",
       "      <td>2.3</td>\n",
       "      <td>2.0</td>\n",
       "    </tr>\n",
       "  </tbody>\n",
       "</table>\n",
       "</div>"
      ],
      "text/plain": [
       "     sepal length  sepal width  petal length  petal width  target\n",
       "73            6.1          2.8           4.7          1.2     1.0\n",
       "18            5.7          3.8           1.7          0.3     0.0\n",
       "118           7.7          2.6           6.9          2.3     2.0"
      ]
     },
     "execution_count": 19,
     "metadata": {},
     "output_type": "execute_result"
    }
   ],
   "source": [
    "# 복원하지 않고 3개를 랜덤추출\n",
    "iris.sample(n = 3, replace = False, random_state= 42)"
   ]
  },
  {
   "cell_type": "code",
   "execution_count": 18,
   "metadata": {},
   "outputs": [
    {
     "data": {
      "text/html": [
       "<div>\n",
       "<style scoped>\n",
       "    .dataframe tbody tr th:only-of-type {\n",
       "        vertical-align: middle;\n",
       "    }\n",
       "\n",
       "    .dataframe tbody tr th {\n",
       "        vertical-align: top;\n",
       "    }\n",
       "\n",
       "    .dataframe thead th {\n",
       "        text-align: right;\n",
       "    }\n",
       "</style>\n",
       "<table border=\"1\" class=\"dataframe\">\n",
       "  <thead>\n",
       "    <tr style=\"text-align: right;\">\n",
       "      <th></th>\n",
       "      <th>sepal length</th>\n",
       "      <th>sepal width</th>\n",
       "      <th>petal length</th>\n",
       "      <th>petal width</th>\n",
       "      <th>target</th>\n",
       "    </tr>\n",
       "  </thead>\n",
       "  <tbody>\n",
       "    <tr>\n",
       "      <th>73</th>\n",
       "      <td>6.1</td>\n",
       "      <td>2.8</td>\n",
       "      <td>4.7</td>\n",
       "      <td>1.2</td>\n",
       "      <td>1.0</td>\n",
       "    </tr>\n",
       "    <tr>\n",
       "      <th>18</th>\n",
       "      <td>5.7</td>\n",
       "      <td>3.8</td>\n",
       "      <td>1.7</td>\n",
       "      <td>0.3</td>\n",
       "      <td>0.0</td>\n",
       "    </tr>\n",
       "    <tr>\n",
       "      <th>118</th>\n",
       "      <td>7.7</td>\n",
       "      <td>2.6</td>\n",
       "      <td>6.9</td>\n",
       "      <td>2.3</td>\n",
       "      <td>2.0</td>\n",
       "    </tr>\n",
       "    <tr>\n",
       "      <th>78</th>\n",
       "      <td>6.0</td>\n",
       "      <td>2.9</td>\n",
       "      <td>4.5</td>\n",
       "      <td>1.5</td>\n",
       "      <td>1.0</td>\n",
       "    </tr>\n",
       "  </tbody>\n",
       "</table>\n",
       "</div>"
      ],
      "text/plain": [
       "     sepal length  sepal width  petal length  petal width  target\n",
       "73            6.1          2.8           4.7          1.2     1.0\n",
       "18            5.7          3.8           1.7          0.3     0.0\n",
       "118           7.7          2.6           6.9          2.3     2.0\n",
       "78            6.0          2.9           4.5          1.5     1.0"
      ]
     },
     "execution_count": 18,
     "metadata": {},
     "output_type": "execute_result"
    }
   ],
   "source": [
    "# frac 파라미터로 전체 데이터의 3%를 랜덤추출\n",
    "iris.sample(frac = 0.03, random_state= 42)"
   ]
  },
  {
   "cell_type": "code",
   "execution_count": 26,
   "metadata": {},
   "outputs": [
    {
     "name": "stdout",
     "output_type": "stream",
     "text": [
      "random.sample : ['a', 5, 'c', 1]\n",
      "np.random.choice : ['4' '2' '2' 'b']\n"
     ]
    }
   ],
   "source": [
    "# 리스트에서 단순랜덤추출\n",
    "import random\n",
    "\n",
    "data_list = [1,2,3,4,5, 'a', 'b', 'c']\n",
    "print('random.sample :', random.sample(data_list, 4))\n",
    "print('np.random.choice :', np.random.choice(data_list, 4, replace= True))"
   ]
  },
  {
   "cell_type": "code",
   "execution_count": 30,
   "metadata": {},
   "outputs": [
    {
     "name": "stdout",
     "output_type": "stream",
     "text": [
      "[0 2 8]\n",
      "[[0.0466921  0.54865268 0.57543522]\n",
      " [0.90200326 0.65774118 0.67795742]]\n"
     ]
    }
   ],
   "source": [
    "# [참고] 난수 생성\n",
    "print(np.random.randint(0, 10, 3))\n",
    "print(np.random.rand(2,3))"
   ]
  },
  {
   "cell_type": "markdown",
   "metadata": {},
   "source": [
    "계통추출법\n",
    "+ 단순랜덤추출법의 변형된 방식\n",
    "+ N개 모집단에서 n개 추출할 때, N/n으로 구간을 나누고 그 구간에 있는 K개의 샘플 중에 임의로 하나 선택한다."
   ]
  },
  {
   "cell_type": "code",
   "execution_count": 46,
   "metadata": {},
   "outputs": [
    {
     "name": "stdout",
     "output_type": "stream",
     "text": [
      "N : 150, n : 8, K : 18\n"
     ]
    },
    {
     "data": {
      "text/html": [
       "<div>\n",
       "<style scoped>\n",
       "    .dataframe tbody tr th:only-of-type {\n",
       "        vertical-align: middle;\n",
       "    }\n",
       "\n",
       "    .dataframe tbody tr th {\n",
       "        vertical-align: top;\n",
       "    }\n",
       "\n",
       "    .dataframe thead th {\n",
       "        text-align: right;\n",
       "    }\n",
       "</style>\n",
       "<table border=\"1\" class=\"dataframe\">\n",
       "  <thead>\n",
       "    <tr style=\"text-align: right;\">\n",
       "      <th></th>\n",
       "      <th>sepal length</th>\n",
       "      <th>sepal width</th>\n",
       "      <th>petal length</th>\n",
       "      <th>petal width</th>\n",
       "      <th>target</th>\n",
       "    </tr>\n",
       "  </thead>\n",
       "  <tbody>\n",
       "    <tr>\n",
       "      <th>11</th>\n",
       "      <td>4.8</td>\n",
       "      <td>3.4</td>\n",
       "      <td>1.6</td>\n",
       "      <td>0.2</td>\n",
       "      <td>0.0</td>\n",
       "    </tr>\n",
       "    <tr>\n",
       "      <th>29</th>\n",
       "      <td>4.7</td>\n",
       "      <td>3.2</td>\n",
       "      <td>1.6</td>\n",
       "      <td>0.2</td>\n",
       "      <td>0.0</td>\n",
       "    </tr>\n",
       "    <tr>\n",
       "      <th>47</th>\n",
       "      <td>4.6</td>\n",
       "      <td>3.2</td>\n",
       "      <td>1.4</td>\n",
       "      <td>0.2</td>\n",
       "      <td>0.0</td>\n",
       "    </tr>\n",
       "    <tr>\n",
       "      <th>65</th>\n",
       "      <td>6.7</td>\n",
       "      <td>3.1</td>\n",
       "      <td>4.4</td>\n",
       "      <td>1.4</td>\n",
       "      <td>1.0</td>\n",
       "    </tr>\n",
       "    <tr>\n",
       "      <th>83</th>\n",
       "      <td>6.0</td>\n",
       "      <td>2.7</td>\n",
       "      <td>5.1</td>\n",
       "      <td>1.6</td>\n",
       "      <td>1.0</td>\n",
       "    </tr>\n",
       "    <tr>\n",
       "      <th>101</th>\n",
       "      <td>5.8</td>\n",
       "      <td>2.7</td>\n",
       "      <td>5.1</td>\n",
       "      <td>1.9</td>\n",
       "      <td>2.0</td>\n",
       "    </tr>\n",
       "    <tr>\n",
       "      <th>119</th>\n",
       "      <td>6.0</td>\n",
       "      <td>2.2</td>\n",
       "      <td>5.0</td>\n",
       "      <td>1.5</td>\n",
       "      <td>2.0</td>\n",
       "    </tr>\n",
       "    <tr>\n",
       "      <th>137</th>\n",
       "      <td>6.4</td>\n",
       "      <td>3.1</td>\n",
       "      <td>5.5</td>\n",
       "      <td>1.8</td>\n",
       "      <td>2.0</td>\n",
       "    </tr>\n",
       "  </tbody>\n",
       "</table>\n",
       "</div>"
      ],
      "text/plain": [
       "     sepal length  sepal width  petal length  petal width  target\n",
       "11            4.8          3.4           1.6          0.2     0.0\n",
       "29            4.7          3.2           1.6          0.2     0.0\n",
       "47            4.6          3.2           1.4          0.2     0.0\n",
       "65            6.7          3.1           4.4          1.4     1.0\n",
       "83            6.0          2.7           5.1          1.6     1.0\n",
       "101           5.8          2.7           5.1          1.9     2.0\n",
       "119           6.0          2.2           5.0          1.5     2.0\n",
       "137           6.4          3.1           5.5          1.8     2.0"
      ]
     },
     "execution_count": 46,
     "metadata": {},
     "output_type": "execute_result"
    }
   ],
   "source": [
    "# 계통추출법으로 표본 추출\n",
    "data, n = iris, 8\n",
    "\n",
    "N = len(data)\n",
    "K = N // n\n",
    "\n",
    "idx = data[:K].sample(1).index\n",
    "\n",
    "sys_df = pd.DataFrame()\n",
    "while len(sys_df) < n:\n",
    "    sys_df = pd.concat([sys_df, data.loc[idx, :]], axis = 0)\n",
    "    idx += K\n",
    "\n",
    "print('N : {}, n : {}, K : {}'.format(N, n, K))\n",
    "\n",
    "sys_df"
   ]
  },
  {
   "cell_type": "markdown",
   "metadata": {},
   "source": [
    "집락추출법\n",
    "+ 군집별로 랜덤추출법을 수행하여 포본을 얻는 방법\n",
    "+ 지역표본추출과 다단계표본추출이 이에 해당\n",
    "+ 군집과 군집은 비교적 유사한 특징을 띈다."
   ]
  },
  {
   "cell_type": "markdown",
   "metadata": {},
   "source": [
    "층화추출법\n",
    "+ 계층별로 랜덤추출법을 수행하여 표본을 얻는 방법\n",
    "+ 각 층 내 요소들은 유사하지만 층과 층의 요소들은 상이하다."
   ]
  },
  {
   "cell_type": "code",
   "execution_count": 48,
   "metadata": {},
   "outputs": [
    {
     "data": {
      "text/plain": [
       "target\n",
       "0.0    50\n",
       "1.0    50\n",
       "2.0    50\n",
       "Name: count, dtype: int64"
      ]
     },
     "execution_count": 48,
     "metadata": {},
     "output_type": "execute_result"
    }
   ],
   "source": [
    "# target 을 층 혹은 집락이라고 가정\n",
    "# 원본 데이터 분포 확인\n",
    "\n",
    "iris['target'].value_counts()"
   ]
  },
  {
   "cell_type": "code",
   "execution_count": 65,
   "metadata": {},
   "outputs": [
    {
     "name": "stdout",
     "output_type": "stream",
     "text": [
      "target\n",
      "0.0    3.0\n",
      "1.0    3.0\n",
      "2.0    3.0\n",
      "Name: proportion, dtype: float64\n",
      "     sepal length  sepal width  petal length  petal width  target\n",
      "14            5.8          4.0           1.2          0.2     0.0\n",
      "44            5.1          3.8           1.9          0.4     0.0\n",
      "25            5.0          3.0           1.6          0.2     0.0\n",
      "72            6.3          2.5           4.9          1.5     1.0\n",
      "51            6.4          3.2           4.5          1.5     1.0\n",
      "84            5.4          3.0           4.5          1.5     1.0\n",
      "141           6.9          3.1           5.1          2.3     2.0\n",
      "132           6.4          2.8           5.6          2.2     2.0\n",
      "136           6.3          3.4           5.6          2.4     2.0\n"
     ]
    }
   ],
   "source": [
    "# 데이터, 층/집락 정보를 가진 컬럼명, 추출 표본 개수\n",
    "sampling_num = 9\n",
    "\n",
    "# 비례층화추출법 : 원본 데이터의 비율대로 추출\n",
    "levels = iris['target'].unique()\n",
    "prop_val = iris['target'].value_counts(normalize= True)\n",
    "num = prop_val * sampling_num\n",
    "print(num)\n",
    "\n",
    "result = pd.DataFrame()\n",
    "\n",
    "for level in levels:\n",
    "    temp_df = iris[iris['target'] == level].sample(int(num[level]))\n",
    "    result = pd.concat([result, temp_df], axis = 0)\n",
    "\n",
    "print(result)"
   ]
  },
  {
   "cell_type": "code",
   "execution_count": 69,
   "metadata": {},
   "outputs": [
    {
     "data": {
      "text/html": [
       "<div>\n",
       "<style scoped>\n",
       "    .dataframe tbody tr th:only-of-type {\n",
       "        vertical-align: middle;\n",
       "    }\n",
       "\n",
       "    .dataframe tbody tr th {\n",
       "        vertical-align: top;\n",
       "    }\n",
       "\n",
       "    .dataframe thead th {\n",
       "        text-align: right;\n",
       "    }\n",
       "</style>\n",
       "<table border=\"1\" class=\"dataframe\">\n",
       "  <thead>\n",
       "    <tr style=\"text-align: right;\">\n",
       "      <th></th>\n",
       "      <th>sepal length</th>\n",
       "      <th>sepal width</th>\n",
       "      <th>petal length</th>\n",
       "      <th>petal width</th>\n",
       "      <th>target</th>\n",
       "    </tr>\n",
       "  </thead>\n",
       "  <tbody>\n",
       "    <tr>\n",
       "      <th>17</th>\n",
       "      <td>5.1</td>\n",
       "      <td>3.5</td>\n",
       "      <td>1.4</td>\n",
       "      <td>0.3</td>\n",
       "      <td>0.0</td>\n",
       "    </tr>\n",
       "    <tr>\n",
       "      <th>33</th>\n",
       "      <td>5.5</td>\n",
       "      <td>4.2</td>\n",
       "      <td>1.4</td>\n",
       "      <td>0.2</td>\n",
       "      <td>0.0</td>\n",
       "    </tr>\n",
       "    <tr>\n",
       "      <th>96</th>\n",
       "      <td>5.7</td>\n",
       "      <td>2.9</td>\n",
       "      <td>4.2</td>\n",
       "      <td>1.3</td>\n",
       "      <td>1.0</td>\n",
       "    </tr>\n",
       "    <tr>\n",
       "      <th>69</th>\n",
       "      <td>5.6</td>\n",
       "      <td>2.5</td>\n",
       "      <td>3.9</td>\n",
       "      <td>1.1</td>\n",
       "      <td>1.0</td>\n",
       "    </tr>\n",
       "    <tr>\n",
       "      <th>91</th>\n",
       "      <td>6.1</td>\n",
       "      <td>3.0</td>\n",
       "      <td>4.6</td>\n",
       "      <td>1.4</td>\n",
       "      <td>1.0</td>\n",
       "    </tr>\n",
       "    <tr>\n",
       "      <th>50</th>\n",
       "      <td>7.0</td>\n",
       "      <td>3.2</td>\n",
       "      <td>4.7</td>\n",
       "      <td>1.4</td>\n",
       "      <td>1.0</td>\n",
       "    </tr>\n",
       "    <tr>\n",
       "      <th>84</th>\n",
       "      <td>5.4</td>\n",
       "      <td>3.0</td>\n",
       "      <td>4.5</td>\n",
       "      <td>1.5</td>\n",
       "      <td>1.0</td>\n",
       "    </tr>\n",
       "    <tr>\n",
       "      <th>130</th>\n",
       "      <td>7.4</td>\n",
       "      <td>2.8</td>\n",
       "      <td>6.1</td>\n",
       "      <td>1.9</td>\n",
       "      <td>2.0</td>\n",
       "    </tr>\n",
       "    <tr>\n",
       "      <th>126</th>\n",
       "      <td>6.2</td>\n",
       "      <td>2.8</td>\n",
       "      <td>4.8</td>\n",
       "      <td>1.8</td>\n",
       "      <td>2.0</td>\n",
       "    </tr>\n",
       "    <tr>\n",
       "      <th>120</th>\n",
       "      <td>6.9</td>\n",
       "      <td>3.2</td>\n",
       "      <td>5.7</td>\n",
       "      <td>2.3</td>\n",
       "      <td>2.0</td>\n",
       "    </tr>\n",
       "  </tbody>\n",
       "</table>\n",
       "</div>"
      ],
      "text/plain": [
       "     sepal length  sepal width  petal length  petal width  target\n",
       "17            5.1          3.5           1.4          0.3     0.0\n",
       "33            5.5          4.2           1.4          0.2     0.0\n",
       "96            5.7          2.9           4.2          1.3     1.0\n",
       "69            5.6          2.5           3.9          1.1     1.0\n",
       "91            6.1          3.0           4.6          1.4     1.0\n",
       "50            7.0          3.2           4.7          1.4     1.0\n",
       "84            5.4          3.0           4.5          1.5     1.0\n",
       "130           7.4          2.8           6.1          1.9     2.0\n",
       "126           6.2          2.8           4.8          1.8     2.0\n",
       "120           6.9          3.2           5.7          2.3     2.0"
      ]
     },
     "execution_count": 69,
     "metadata": {},
     "output_type": "execute_result"
    }
   ],
   "source": [
    "# 불비례층화추출법 : 임의로 정한 특정 비율대로 샘플링\n",
    "sampling_num, proportion = 10, {0:0.2, 1:0.5, 2:0.3}\n",
    "\n",
    "levels = list(proportion.keys())\n",
    "prop_val = np.array(list(proportion.values()))\n",
    "num = prop_val * sampling_num\n",
    "\n",
    "result = pd.DataFrame()\n",
    "for level in levels:\n",
    "    temp_df = iris[iris['target'] == level].sample(int(num[level]))\n",
    "    result = pd.concat([result, temp_df], axis = 0)\n",
    "\n",
    "result"
   ]
  },
  {
   "cell_type": "markdown",
   "metadata": {},
   "source": [
    "## 3-2 데이터분할\n",
    "+ 과적합을 피하기 위함"
   ]
  },
  {
   "cell_type": "markdown",
   "metadata": {},
   "source": [
    "일반적 데이터 분할(7:3) 및 홀드아웃 방법(5:5)"
   ]
  },
  {
   "cell_type": "code",
   "execution_count": 73,
   "metadata": {},
   "outputs": [
    {
     "name": "stdout",
     "output_type": "stream",
     "text": [
      "(105, 4) (45, 4)\n",
      "(75, 4) (75, 4)\n"
     ]
    }
   ],
   "source": [
    "from sklearn.model_selection import train_test_split\n",
    "X = iris.drop('target', axis=1)\n",
    "y = iris['target']\n",
    "\n",
    "# 일반적 데이터 분할\n",
    "X_train, X_test, y_train, y_test = train_test_split(X, y, test_size= 0.3, random_state= 42)\n",
    "print(X_train.shape, X_test.shape)\n",
    "\n",
    "# 홀드아웃\n",
    "X_train, X_test, y_train, y_test = train_test_split(X, y, test_size= 0.5, random_state= 42)\n",
    "print(X_train.shape, X_test.shape)"
   ]
  },
  {
   "cell_type": "markdown",
   "metadata": {},
   "source": [
    "shuffle split\n",
    "+ 무작위 순열 교차 검증에 사용"
   ]
  },
  {
   "cell_type": "code",
   "execution_count": 92,
   "metadata": {},
   "outputs": [
    {
     "name": "stdout",
     "output_type": "stream",
     "text": [
      "sample 0 => train_index : [ 77 112  43], test_index : [ 31 103   3]\n",
      "\tX_train의 비율 : 0.75, X_test의 비율 : 0.25\n",
      "\ty_train의 타겟구성 : Counter({2.0: 41, 1.0: 37, 0.0: 34})\n",
      "\ty_test의 타겟구성 : Counter({0.0: 16, 1.0: 13, 2.0: 9}) \n",
      "\n",
      "sample 1 => train_index : [45 55 87], test_index : [ 85 149 102]\n",
      "\tX_train의 비율 : 0.75, X_test의 비율 : 0.25\n",
      "\ty_train의 타겟구성 : Counter({0.0: 41, 2.0: 36, 1.0: 35})\n",
      "\ty_test의 타겟구성 : Counter({1.0: 15, 2.0: 14, 0.0: 9}) \n",
      "\n",
      "sample 2 => train_index : [39  6 56], test_index : [ 90 127 121]\n",
      "\tX_train의 비율 : 0.75, X_test의 비율 : 0.25\n",
      "\ty_train의 타겟구성 : Counter({1.0: 39, 0.0: 38, 2.0: 35})\n",
      "\ty_test의 타겟구성 : Counter({2.0: 15, 0.0: 12, 1.0: 11}) \n",
      "\n",
      "sample 3 => train_index : [ 68 111 114], test_index : [ 44 133  20]\n",
      "\tX_train의 비율 : 0.75, X_test의 비율 : 0.25\n",
      "\ty_train의 타겟구성 : Counter({2.0: 38, 1.0: 37, 0.0: 37})\n",
      "\ty_test의 타겟구성 : Counter({0.0: 13, 1.0: 13, 2.0: 12}) \n",
      "\n"
     ]
    }
   ],
   "source": [
    "from sklearn.model_selection import ShuffleSplit\n",
    "from collections import Counter\n",
    "\n",
    "# n_split : fold개수, shuffle : 데이터 분할 전 shuffle 여부\n",
    "kf = ShuffleSplit(n_splits= 4, test_size= 0.25)\n",
    "\n",
    "for i, (train_index, test_index) in enumerate(kf.split(X)):\n",
    "    print('sample {} => train_index : {}, test_index : {}'.format(i, train_index[:3], test_index[:3]))\n",
    "    X_train, X_test, y_train, y_test = X.iloc[train_index, :], X.iloc[test_index, :], y.iloc[train_index], y.iloc[test_index]\n",
    "    print('\\tX_train의 비율 : {:.2f}, X_test의 비율 : {:.2f}'.format(len(X_train)/len(X), len(X_test)/ len(X)))\n",
    "    print('\\ty_train의 타겟구성 :', Counter(y_train))\n",
    "    print('\\ty_test의 타겟구성 :', Counter(y_test), '\\n')"
   ]
  },
  {
   "cell_type": "markdown",
   "metadata": {},
   "source": [
    "K-fold 분할\n",
    "+ K개의 집단으로 분할하고 K-1, 1 를 학습용, 검증용으로 삼는 방법"
   ]
  },
  {
   "cell_type": "code",
   "execution_count": 87,
   "metadata": {},
   "outputs": [
    {
     "name": "stdout",
     "output_type": "stream",
     "text": [
      "sample 0 => train_index : [38 39 40], test_index : [0 1 2]\n",
      "\tX_train의 비율 : 0.75, X_test의 비율 : 0.25\n",
      "\ty_train의 타겟구성 : Counter({1.0: 50, 2.0: 50, 0.0: 12})\n",
      "\ty_test의 타겟구성 : Counter({0.0: 38})\n",
      "sample 1 => train_index : [0 1 2], test_index : [38 39 40]\n",
      "\tX_train의 비율 : 0.75, X_test의 비율 : 0.25\n",
      "\ty_train의 타겟구성 : Counter({2.0: 50, 0.0: 38, 1.0: 24})\n",
      "\ty_test의 타겟구성 : Counter({1.0: 26, 0.0: 12})\n",
      "sample 2 => train_index : [0 1 2], test_index : [76 77 78]\n",
      "\tX_train의 비율 : 0.75, X_test의 비율 : 0.25\n",
      "\ty_train의 타겟구성 : Counter({0.0: 50, 2.0: 37, 1.0: 26})\n",
      "\ty_test의 타겟구성 : Counter({1.0: 24, 2.0: 13})\n",
      "sample 3 => train_index : [0 1 2], test_index : [113 114 115]\n",
      "\tX_train의 비율 : 0.75, X_test의 비율 : 0.25\n",
      "\ty_train의 타겟구성 : Counter({0.0: 50, 1.0: 50, 2.0: 13})\n",
      "\ty_test의 타겟구성 : Counter({2.0: 37})\n"
     ]
    }
   ],
   "source": [
    "from sklearn.model_selection import KFold\n",
    "from collections import Counter\n",
    "\n",
    "# n_split : fold개수, shuffle : 데이터 분할 전 shuffle 여부\n",
    "kf = KFold(n_splits= 4, shuffle= False)\n",
    "\n",
    "for i, (train_index, test_index) in enumerate(kf.split(X)):\n",
    "    print('sample {} => train_index : {}, test_index : {}'.format(i, train_index[:3], test_index[:3]))\n",
    "    X_train, X_test, y_train, y_test = X.iloc[train_index, :], X.iloc[test_index, :], y.iloc[train_index], y.iloc[test_index]\n",
    "    print('\\tX_train의 비율 : {:.2f}, X_test의 비율 : {:.2f}'.format(len(X_train)/len(X), len(X_test)/ len(X)))\n",
    "    print('\\ty_train의 타겟구성 :', Counter(y_train))\n",
    "    print('\\ty_test의 타겟구성 :', Counter(y_test))"
   ]
  },
  {
   "cell_type": "markdown",
   "metadata": {},
   "source": [
    "Stratified K-fold 분할\n",
    "+ k-fold 인데 fold별로 클래스들의 비율이 모두 같도록"
   ]
  },
  {
   "cell_type": "code",
   "execution_count": 93,
   "metadata": {},
   "outputs": [
    {
     "name": "stdout",
     "output_type": "stream",
     "text": [
      "sample 0 => train_index : [13 14 15], test_index : [0 1 2]\n",
      "\tX_train의 비율 : 0.75, X_test의 비율 : 0.25\n",
      "\ty_train의 타겟구성 : Counter({1.0: 38, 0.0: 37, 2.0: 37})\n",
      "\ty_test의 타겟구성 : Counter({0.0: 13, 2.0: 13, 1.0: 12})\n",
      "sample 1 => train_index : [0 1 2], test_index : [13 14 15]\n",
      "\tX_train의 비율 : 0.75, X_test의 비율 : 0.25\n",
      "\ty_train의 타겟구성 : Counter({1.0: 38, 0.0: 37, 2.0: 37})\n",
      "\ty_test의 타겟구성 : Counter({0.0: 13, 2.0: 13, 1.0: 12})\n",
      "sample 2 => train_index : [0 1 2], test_index : [26 27 28]\n",
      "\tX_train의 비율 : 0.75, X_test의 비율 : 0.25\n",
      "\ty_train의 타겟구성 : Counter({0.0: 38, 2.0: 38, 1.0: 37})\n",
      "\ty_test의 타겟구성 : Counter({1.0: 13, 0.0: 12, 2.0: 12})\n",
      "sample 3 => train_index : [0 1 2], test_index : [38 39 40]\n",
      "\tX_train의 비율 : 0.75, X_test의 비율 : 0.25\n",
      "\ty_train의 타겟구성 : Counter({0.0: 38, 2.0: 38, 1.0: 37})\n",
      "\ty_test의 타겟구성 : Counter({1.0: 13, 0.0: 12, 2.0: 12})\n"
     ]
    }
   ],
   "source": [
    "from sklearn.model_selection import StratifiedKFold\n",
    "skf = StratifiedKFold(n_splits= 4)\n",
    "\n",
    "# 분할 시 y를 고려해야 하므로 split에 y를 입력\n",
    "for i, (train_index, test_index) in enumerate(skf.split(X, y)):\n",
    "    print('sample {} => train_index : {}, test_index : {}'.format(i, train_index[:3], test_index[:3]))\n",
    "    X_train, X_test, y_train, y_test = X.iloc[train_index, :], X.iloc[test_index, :], y.iloc[train_index], y.iloc[test_index]\n",
    "    print('\\tX_train의 비율 : {:.2f}, X_test의 비율 : {:.2f}'.format(len(X_train)/len(X), len(X_test)/ len(X)))\n",
    "    print('\\ty_train의 타겟구성 :', Counter(y_train))\n",
    "    print('\\ty_test의 타겟구성 :', Counter(y_test))"
   ]
  },
  {
   "cell_type": "markdown",
   "metadata": {},
   "source": [
    "## 3-3 교차 검증"
   ]
  },
  {
   "cell_type": "markdown",
   "metadata": {},
   "source": [
    "분할 샘플들로 교차 검증"
   ]
  },
  {
   "cell_type": "code",
   "execution_count": 95,
   "metadata": {},
   "outputs": [],
   "source": [
    "import warnings\n",
    "warnings.filterwarnings(action= 'ignore')"
   ]
  },
  {
   "cell_type": "code",
   "execution_count": 96,
   "metadata": {},
   "outputs": [
    {
     "name": "stdout",
     "output_type": "stream",
     "text": [
      "   fit_time  score_time  test_score  train_score\n",
      "0  0.019461    0.001988    0.973684     0.964286\n",
      "1  0.008093    0.001933    0.973684     0.973214\n",
      "2  0.008022    0.001929    0.945946     0.982301\n",
      "3  0.008309    0.000964    1.000000     0.964602\n"
     ]
    }
   ],
   "source": [
    "from sklearn.model_selection import cross_validate, StratifiedKFold\n",
    "from sklearn.linear_model import LogisticRegression\n",
    "\n",
    "X = iris.drop('target', axis = 1)\n",
    "y = iris['target']\n",
    "\n",
    "lr = LogisticRegression()\n",
    "SKF = StratifiedKFold(n_splits=4)\n",
    "result = cross_validate(lr, X, y, cv = SKF, return_train_score=True) # 교차검증\n",
    "print(pd.DataFrame(result))\n"
   ]
  },
  {
   "cell_type": "markdown",
   "metadata": {},
   "source": [
    "GridsearchCV 로 교차 검증"
   ]
  },
  {
   "cell_type": "code",
   "execution_count": 102,
   "metadata": {},
   "outputs": [
    {
     "name": "stdout",
     "output_type": "stream",
     "text": [
      "0.9733285917496444\n",
      "{'C': 1, 'max_iter': 100, 'solver': 'lbfgs'}\n",
      "    mean_fit_time  std_fit_time  mean_score_time  std_score_time param_C  \\\n",
      "0        0.006520      0.002325         0.002021        0.000707    0.01   \n",
      "1        0.003000      0.000706         0.001752        0.000433    0.01   \n",
      "2        0.009463      0.004254         0.001635        0.000661    0.01   \n",
      "3        0.001999      0.000708         0.001251        0.000434    0.01   \n",
      "4        0.001541      0.001672         0.000250        0.000433    0.01   \n",
      "5        0.000751      0.000830         0.000405        0.000425    0.01   \n",
      "6        0.008215      0.008235         0.000000        0.000000     0.1   \n",
      "7        0.000000      0.000000         0.000000        0.000000     0.1   \n",
      "8        0.007819      0.006940         0.000250        0.000433     0.1   \n",
      "9        0.003392      0.005875         0.000276        0.000479     0.1   \n",
      "10       0.004935      0.006443         0.000000        0.000000     0.1   \n",
      "11       0.000000      0.000000         0.000000        0.000000     0.1   \n",
      "12       0.009786      0.005661         0.000248        0.000430       1   \n",
      "13       0.003138      0.004253         0.000000        0.000000       1   \n",
      "14       0.008166      0.002037         0.002196        0.000438       1   \n",
      "15       0.002038      0.003530         0.000513        0.000889       1   \n",
      "16       0.003571      0.003910         0.004064        0.004064       1   \n",
      "17       0.002046      0.003544         0.002542        0.003328       1   \n",
      "\n",
      "   param_max_iter param_solver  \\\n",
      "0             100        lbfgs   \n",
      "1             100    liblinear   \n",
      "2             200        lbfgs   \n",
      "3             200    liblinear   \n",
      "4             300        lbfgs   \n",
      "5             300    liblinear   \n",
      "6             100        lbfgs   \n",
      "7             100    liblinear   \n",
      "8             200        lbfgs   \n",
      "9             200    liblinear   \n",
      "10            300        lbfgs   \n",
      "11            300    liblinear   \n",
      "12            100        lbfgs   \n",
      "13            100    liblinear   \n",
      "14            200        lbfgs   \n",
      "15            200    liblinear   \n",
      "16            300        lbfgs   \n",
      "17            300    liblinear   \n",
      "\n",
      "                                               params  split0_test_score  \\\n",
      "0     {'C': 0.01, 'max_iter': 100, 'solver': 'lbfgs'}           0.815789   \n",
      "1   {'C': 0.01, 'max_iter': 100, 'solver': 'liblin...           0.684211   \n",
      "2     {'C': 0.01, 'max_iter': 200, 'solver': 'lbfgs'}           0.815789   \n",
      "3   {'C': 0.01, 'max_iter': 200, 'solver': 'liblin...           0.684211   \n",
      "4     {'C': 0.01, 'max_iter': 300, 'solver': 'lbfgs'}           0.815789   \n",
      "5   {'C': 0.01, 'max_iter': 300, 'solver': 'liblin...           0.684211   \n",
      "6      {'C': 0.1, 'max_iter': 100, 'solver': 'lbfgs'}           0.894737   \n",
      "7   {'C': 0.1, 'max_iter': 100, 'solver': 'libline...           0.815789   \n",
      "8      {'C': 0.1, 'max_iter': 200, 'solver': 'lbfgs'}           0.894737   \n",
      "9   {'C': 0.1, 'max_iter': 200, 'solver': 'libline...           0.815789   \n",
      "10     {'C': 0.1, 'max_iter': 300, 'solver': 'lbfgs'}           0.894737   \n",
      "11  {'C': 0.1, 'max_iter': 300, 'solver': 'libline...           0.815789   \n",
      "12       {'C': 1, 'max_iter': 100, 'solver': 'lbfgs'}           0.973684   \n",
      "13   {'C': 1, 'max_iter': 100, 'solver': 'liblinear'}           1.000000   \n",
      "14       {'C': 1, 'max_iter': 200, 'solver': 'lbfgs'}           0.973684   \n",
      "15   {'C': 1, 'max_iter': 200, 'solver': 'liblinear'}           1.000000   \n",
      "16       {'C': 1, 'max_iter': 300, 'solver': 'lbfgs'}           0.973684   \n",
      "17   {'C': 1, 'max_iter': 300, 'solver': 'liblinear'}           1.000000   \n",
      "\n",
      "    split1_test_score  split2_test_score  split3_test_score  mean_test_score  \\\n",
      "0            0.894737           0.783784           0.945946         0.860064   \n",
      "1            0.684211           0.648649           0.648649         0.666430   \n",
      "2            0.894737           0.783784           0.945946         0.860064   \n",
      "3            0.684211           0.648649           0.648649         0.666430   \n",
      "4            0.894737           0.783784           0.945946         0.860064   \n",
      "5            0.684211           0.648649           0.648649         0.666430   \n",
      "6            0.947368           0.945946           1.000000         0.947013   \n",
      "7            0.842105           0.837838           0.783784         0.819879   \n",
      "8            0.947368           0.945946           1.000000         0.947013   \n",
      "9            0.842105           0.837838           0.783784         0.819879   \n",
      "10           0.947368           0.945946           1.000000         0.947013   \n",
      "11           0.842105           0.837838           0.783784         0.819879   \n",
      "12           0.973684           0.945946           1.000000         0.973329   \n",
      "13           0.947368           0.864865           1.000000         0.953058   \n",
      "14           0.973684           0.945946           1.000000         0.973329   \n",
      "15           0.947368           0.864865           1.000000         0.953058   \n",
      "16           0.973684           0.945946           1.000000         0.973329   \n",
      "17           0.947368           0.864865           1.000000         0.953058   \n",
      "\n",
      "    std_test_score  rank_test_score  \n",
      "0         0.063947               10  \n",
      "1         0.017781               16  \n",
      "2         0.063947               10  \n",
      "3         0.017781               16  \n",
      "4         0.063947               10  \n",
      "5         0.017781               16  \n",
      "6         0.037221                7  \n",
      "7         0.023109               13  \n",
      "8         0.037221                7  \n",
      "9         0.023109               13  \n",
      "10        0.037221                7  \n",
      "11        0.023109               13  \n",
      "12        0.019114                1  \n",
      "13        0.055266                4  \n",
      "14        0.019114                1  \n",
      "15        0.055266                4  \n",
      "16        0.019114                1  \n",
      "17        0.055266                4  \n"
     ]
    }
   ],
   "source": [
    "from sklearn.model_selection import GridSearchCV\n",
    "\n",
    "lr = LogisticRegression()\n",
    "param_grid = {'C' : [0.01, 0.1, 1], 'solver' : ['lbfgs', 'liblinear'], 'max_iter' : [100, 200, 300]}\n",
    "SKF = StratifiedKFold(n_splits=4)\n",
    "\n",
    "lr_grid = GridSearchCV(lr, param_grid=param_grid, cv = SKF)\n",
    "lr_grid.fit(X, y)\n",
    "\n",
    "print(lr_grid.best_score_)\n",
    "print(lr_grid.best_params_)\n",
    "print(pd.DataFrame(lr_grid.cv_results_))"
   ]
  },
  {
   "cell_type": "markdown",
   "metadata": {},
   "source": [
    "## 연습문제"
   ]
  },
  {
   "cell_type": "markdown",
   "metadata": {},
   "source": [
    "1. 랜덤포레스트 알고리즘의 파라미터 max_depth 의 후보 4개를 토대로 교차분석을 진행하고 그 결과를 표로 나타내시오"
   ]
  },
  {
   "cell_type": "code",
   "execution_count": 103,
   "metadata": {},
   "outputs": [
    {
     "data": {
      "text/html": [
       "<div>\n",
       "<style scoped>\n",
       "    .dataframe tbody tr th:only-of-type {\n",
       "        vertical-align: middle;\n",
       "    }\n",
       "\n",
       "    .dataframe tbody tr th {\n",
       "        vertical-align: top;\n",
       "    }\n",
       "\n",
       "    .dataframe thead th {\n",
       "        text-align: right;\n",
       "    }\n",
       "</style>\n",
       "<table border=\"1\" class=\"dataframe\">\n",
       "  <thead>\n",
       "    <tr style=\"text-align: right;\">\n",
       "      <th></th>\n",
       "      <th>age</th>\n",
       "      <th>job</th>\n",
       "      <th>marital</th>\n",
       "      <th>education</th>\n",
       "      <th>default</th>\n",
       "      <th>balance</th>\n",
       "      <th>housing</th>\n",
       "      <th>loan</th>\n",
       "      <th>contact</th>\n",
       "      <th>month</th>\n",
       "      <th>y</th>\n",
       "    </tr>\n",
       "  </thead>\n",
       "  <tbody>\n",
       "    <tr>\n",
       "      <th>0</th>\n",
       "      <td>30</td>\n",
       "      <td>unemployed</td>\n",
       "      <td>married</td>\n",
       "      <td>primary</td>\n",
       "      <td>no</td>\n",
       "      <td>1787</td>\n",
       "      <td>no</td>\n",
       "      <td>no</td>\n",
       "      <td>cellular</td>\n",
       "      <td>oct</td>\n",
       "      <td>no</td>\n",
       "    </tr>\n",
       "    <tr>\n",
       "      <th>1</th>\n",
       "      <td>33</td>\n",
       "      <td>services</td>\n",
       "      <td>married</td>\n",
       "      <td>secondary</td>\n",
       "      <td>no</td>\n",
       "      <td>4789</td>\n",
       "      <td>yes</td>\n",
       "      <td>yes</td>\n",
       "      <td>cellular</td>\n",
       "      <td>may</td>\n",
       "      <td>no</td>\n",
       "    </tr>\n",
       "    <tr>\n",
       "      <th>2</th>\n",
       "      <td>35</td>\n",
       "      <td>management</td>\n",
       "      <td>single</td>\n",
       "      <td>tertiary</td>\n",
       "      <td>no</td>\n",
       "      <td>1350</td>\n",
       "      <td>yes</td>\n",
       "      <td>no</td>\n",
       "      <td>cellular</td>\n",
       "      <td>apr</td>\n",
       "      <td>no</td>\n",
       "    </tr>\n",
       "    <tr>\n",
       "      <th>3</th>\n",
       "      <td>30</td>\n",
       "      <td>management</td>\n",
       "      <td>married</td>\n",
       "      <td>tertiary</td>\n",
       "      <td>no</td>\n",
       "      <td>1476</td>\n",
       "      <td>yes</td>\n",
       "      <td>yes</td>\n",
       "      <td>unknown</td>\n",
       "      <td>jun</td>\n",
       "      <td>no</td>\n",
       "    </tr>\n",
       "    <tr>\n",
       "      <th>4</th>\n",
       "      <td>59</td>\n",
       "      <td>blue-collar</td>\n",
       "      <td>married</td>\n",
       "      <td>secondary</td>\n",
       "      <td>no</td>\n",
       "      <td>0</td>\n",
       "      <td>yes</td>\n",
       "      <td>no</td>\n",
       "      <td>unknown</td>\n",
       "      <td>may</td>\n",
       "      <td>no</td>\n",
       "    </tr>\n",
       "  </tbody>\n",
       "</table>\n",
       "</div>"
      ],
      "text/plain": [
       "   age          job  marital  education default  balance housing loan  \\\n",
       "0   30   unemployed  married    primary      no     1787      no   no   \n",
       "1   33     services  married  secondary      no     4789     yes  yes   \n",
       "2   35   management   single   tertiary      no     1350     yes   no   \n",
       "3   30   management  married   tertiary      no     1476     yes  yes   \n",
       "4   59  blue-collar  married  secondary      no        0     yes   no   \n",
       "\n",
       "    contact month   y  \n",
       "0  cellular   oct  no  \n",
       "1  cellular   may  no  \n",
       "2  cellular   apr  no  \n",
       "3   unknown   jun  no  \n",
       "4   unknown   may  no  "
      ]
     },
     "execution_count": 103,
     "metadata": {},
     "output_type": "execute_result"
    }
   ],
   "source": [
    "df = pd.read_csv('./data/practice1_bank.csv')\n",
    "df.head()"
   ]
  },
  {
   "cell_type": "code",
   "execution_count": 111,
   "metadata": {},
   "outputs": [
    {
     "name": "stdout",
     "output_type": "stream",
     "text": [
      "{'unemployed': 0, 'services': 1, 'management': 2, 'blue-collar': 3, 'self-employed': 4, 'technician': 5, 'entrepreneur': 6, 'admin.': 7, 'student': 8, 'housemaid': 9, 'retired': 10, 'unknown': 11} \n",
      "\n",
      "{'married': 0, 'single': 1, 'divorced': 2} \n",
      "\n",
      "{'primary': 0, 'secondary': 1, 'tertiary': 2, 'unknown': 3} \n",
      "\n",
      "{'no': 0, 'yes': 1} \n",
      "\n",
      "{'no': 0, 'yes': 1} \n",
      "\n",
      "{'no': 0, 'yes': 1} \n",
      "\n",
      "{'cellular': 0, 'unknown': 1, 'telephone': 2} \n",
      "\n",
      "{'oct': 0, 'may': 1, 'apr': 2, 'jun': 3, 'feb': 4, 'aug': 5, 'jan': 6, 'jul': 7, 'nov': 8, 'sep': 9, 'mar': 10, 'dec': 11} \n",
      "\n",
      "{'no': 0, 'yes': 1} \n",
      "\n",
      "   age  job  marital  education  default  balance  housing  loan  contact  \\\n",
      "0   30    0        0          0        0     1787        0     0        0   \n",
      "1   33    1        0          1        0     4789        1     1        0   \n",
      "2   35    2        1          2        0     1350        1     0        0   \n",
      "3   30    2        0          2        0     1476        1     1        1   \n",
      "4   59    3        0          1        0        0        1     0        1   \n",
      "\n",
      "   month  y  \n",
      "0      0  0  \n",
      "1      1  0  \n",
      "2      2  0  \n",
      "3      3  0  \n",
      "4      1  0  \n"
     ]
    }
   ],
   "source": [
    "# 범주형 변수들을 레이블 인코딩을 통해 전처리\n",
    "df2 = df.copy()\n",
    "for col in [i for i in df.columns if df[i].dtypes == object]:\n",
    "    DICT = dict(zip(df[col].unique(), [i for i in range(df[col].nunique())]))\n",
    "    print(DICT, '\\n')\n",
    "    df2[col] = df2[col].map(DICT)\n",
    "\n",
    "print(df2.head())"
   ]
  },
  {
   "cell_type": "code",
   "execution_count": 112,
   "metadata": {},
   "outputs": [
    {
     "name": "stdout",
     "output_type": "stream",
     "text": [
      "{'max_depth': 5}\n",
      "0.8849811763555469\n",
      "   mean_fit_time  std_fit_time  mean_score_time  std_score_time  \\\n",
      "0       0.171997      0.028823         0.010274        0.003261   \n",
      "1       0.179385      0.005825         0.010914        0.002318   \n",
      "2       0.194614      0.002979         0.006655        0.003145   \n",
      "3       0.218488      0.010164         0.010877        0.003340   \n",
      "\n",
      "  param_max_depth            params  split0_test_score  split1_test_score  \\\n",
      "0               3  {'max_depth': 3}           0.883978           0.884956   \n",
      "1               4  {'max_depth': 4}           0.883978           0.884956   \n",
      "2               5  {'max_depth': 5}           0.885083           0.884956   \n",
      "3               6  {'max_depth': 6}           0.885083           0.884956   \n",
      "\n",
      "   split2_test_score  split3_test_score  split4_test_score  mean_test_score  \\\n",
      "0           0.884956           0.884956           0.884956         0.884760   \n",
      "1           0.884956           0.884956           0.884956         0.884760   \n",
      "2           0.884956           0.884956           0.884956         0.884981   \n",
      "3           0.881637           0.886062           0.886062         0.884760   \n",
      "\n",
      "   std_test_score  rank_test_score  \n",
      "0        0.000391                2  \n",
      "1        0.000391                2  \n",
      "2        0.000051                1  \n",
      "3        0.001630                4  \n"
     ]
    }
   ],
   "source": [
    "from sklearn.ensemble import RandomForestClassifier\n",
    "from sklearn.model_selection import GridSearchCV, StratifiedKFold\n",
    "\n",
    "X = df2.drop('y', axis= 1)\n",
    "y = df2['y']\n",
    "\n",
    "param_grid = {'max_depth' : [3,4,5,6]}\n",
    "rf_clf = RandomForestClassifier()\n",
    "SKF = StratifiedKFold(n_splits=5) # train_test_split(x,y, stratify = y, test_size = 0.2) 를 5번 시행한 것\n",
    "grid = GridSearchCV(rf_clf, param_grid= param_grid, cv = SKF)\n",
    "grid.fit(X, y)\n",
    "\n",
    "print(grid.best_params_)\n",
    "print(grid.best_score_)\n",
    "print(pd.DataFrame(grid.cv_results_))"
   ]
  },
  {
   "cell_type": "code",
   "execution_count": null,
   "metadata": {},
   "outputs": [],
   "source": []
  }
 ],
 "metadata": {
  "kernelspec": {
   "display_name": "base",
   "language": "python",
   "name": "python3"
  },
  "language_info": {
   "codemirror_mode": {
    "name": "ipython",
    "version": 3
   },
   "file_extension": ".py",
   "mimetype": "text/x-python",
   "name": "python",
   "nbconvert_exporter": "python",
   "pygments_lexer": "ipython3",
   "version": "3.10.9"
  }
 },
 "nbformat": 4,
 "nbformat_minor": 2
}
