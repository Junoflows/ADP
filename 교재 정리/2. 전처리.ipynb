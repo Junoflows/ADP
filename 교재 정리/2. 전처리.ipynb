{
 "cells": [
  {
   "cell_type": "markdown",
   "metadata": {},
   "source": [
    "## 2-1 결측치 처리"
   ]
  },
  {
   "cell_type": "markdown",
   "metadata": {},
   "source": [
    "+ 0 등 상수로 대치\n",
    "+ 대푯값으로 대치\n",
    "+ 단순확률대치법\n",
    "+ 시계열 데이터의 경우 보간법\n",
    "+ 결측치가 극소수이거나 대다수인 경우, 데이터의 행이나 열을 삭제"
   ]
  },
  {
   "cell_type": "markdown",
   "metadata": {},
   "source": [
    "결측치 확인"
   ]
  },
  {
   "cell_type": "code",
   "execution_count": 2,
   "metadata": {},
   "outputs": [
    {
     "data": {
      "text/html": [
       "<div>\n",
       "<style scoped>\n",
       "    .dataframe tbody tr th:only-of-type {\n",
       "        vertical-align: middle;\n",
       "    }\n",
       "\n",
       "    .dataframe tbody tr th {\n",
       "        vertical-align: top;\n",
       "    }\n",
       "\n",
       "    .dataframe thead th {\n",
       "        text-align: right;\n",
       "    }\n",
       "</style>\n",
       "<table border=\"1\" class=\"dataframe\">\n",
       "  <thead>\n",
       "    <tr style=\"text-align: right;\">\n",
       "      <th></th>\n",
       "      <th>Alcohol</th>\n",
       "      <th>Malicacid</th>\n",
       "      <th>Ash</th>\n",
       "      <th>Magnesium</th>\n",
       "      <th>Hue</th>\n",
       "    </tr>\n",
       "  </thead>\n",
       "  <tbody>\n",
       "    <tr>\n",
       "      <th>0</th>\n",
       "      <td>14.23</td>\n",
       "      <td>1.71</td>\n",
       "      <td>2.43</td>\n",
       "      <td>127</td>\n",
       "      <td>1.04</td>\n",
       "    </tr>\n",
       "    <tr>\n",
       "      <th>1</th>\n",
       "      <td>13.20</td>\n",
       "      <td>1.78</td>\n",
       "      <td>2.14</td>\n",
       "      <td>100</td>\n",
       "      <td>1.05</td>\n",
       "    </tr>\n",
       "    <tr>\n",
       "      <th>2</th>\n",
       "      <td>13.16</td>\n",
       "      <td>2.36</td>\n",
       "      <td>2.67</td>\n",
       "      <td>101</td>\n",
       "      <td>1.03</td>\n",
       "    </tr>\n",
       "    <tr>\n",
       "      <th>3</th>\n",
       "      <td>14.37</td>\n",
       "      <td>1.95</td>\n",
       "      <td>2.50</td>\n",
       "      <td>113</td>\n",
       "      <td>0.86</td>\n",
       "    </tr>\n",
       "    <tr>\n",
       "      <th>4</th>\n",
       "      <td>13.24</td>\n",
       "      <td>2.59</td>\n",
       "      <td>2.87</td>\n",
       "      <td>118</td>\n",
       "      <td>1.04</td>\n",
       "    </tr>\n",
       "  </tbody>\n",
       "</table>\n",
       "</div>"
      ],
      "text/plain": [
       "   Alcohol  Malicacid   Ash  Magnesium   Hue\n",
       "0    14.23       1.71  2.43        127  1.04\n",
       "1    13.20       1.78  2.14        100  1.05\n",
       "2    13.16       2.36  2.67        101  1.03\n",
       "3    14.37       1.95  2.50        113  0.86\n",
       "4    13.24       2.59  2.87        118  1.04"
      ]
     },
     "execution_count": 2,
     "metadata": {},
     "output_type": "execute_result"
    }
   ],
   "source": [
    "import pandas as pd\n",
    "import numpy as np\n",
    "import warnings\n",
    "warnings.filterwarnings(action = 'ignore')\n",
    "\n",
    "wine = pd.read_csv('./data/2-1_wine.csv', index_col= 0)\n",
    "wine = wine[['Alcohol', 'Malicacid', 'Ash', 'Magnesium', 'Hue']]\n",
    "wine.head()"
   ]
  },
  {
   "cell_type": "code",
   "execution_count": 6,
   "metadata": {},
   "outputs": [
    {
     "data": {
      "text/plain": [
       "Alcohol      0\n",
       "Malicacid    0\n",
       "Ash          0\n",
       "Magnesium    0\n",
       "Hue          0\n",
       "dtype: int64"
      ]
     },
     "execution_count": 6,
     "metadata": {},
     "output_type": "execute_result"
    }
   ],
   "source": [
    "wine.isnull().sum()"
   ]
  },
  {
   "cell_type": "code",
   "execution_count": 16,
   "metadata": {},
   "outputs": [
    {
     "data": {
      "text/plain": [
       "Alcohol      23\n",
       "Malicacid     0\n",
       "Ash          22\n",
       "Magnesium     0\n",
       "Hue           0\n",
       "dtype: int64"
      ]
     },
     "execution_count": 16,
     "metadata": {},
     "output_type": "execute_result"
    }
   ],
   "source": [
    "# 결측치가 없어 임의로 결측치 입력\n",
    "from numpy.random import randint\n",
    "wine_m = wine.copy()\n",
    "\n",
    "for col in ['Ash', 'Alcohol']:\n",
    "    random_idx = randint(0, len(wine), 25)\n",
    "    wine_m.loc[random_idx, col] = np.nan\n",
    "\n",
    "wine_m.isnull().sum()"
   ]
  },
  {
   "cell_type": "code",
   "execution_count": null,
   "metadata": {},
   "outputs": [],
   "source": [
    "# !pip install missingno"
   ]
  },
  {
   "cell_type": "code",
   "execution_count": 30,
   "metadata": {},
   "outputs": [
    {
     "name": "stderr",
     "output_type": "stream",
     "text": [
      "c:\\Users\\USER\\anaconda3\\lib\\site-packages\\missingno\\missingno.py:61: UserWarning: Plotting a sparkline on an existing axis is not currently supported. To remove this warning, set sparkline=False.\n",
      "  warnings.warn(\n"
     ]
    },
    {
     "data": {
      "text/plain": [
       "Text(0, 0.5, '결측치 생성 데이터')"
      ]
     },
     "execution_count": 30,
     "metadata": {},
     "output_type": "execute_result"
    },
    {
     "data": {
      "image/png": "[encoded data removed]",
      "text/plain": [
       "<Figure size 800x400 with 2 Axes>"
      ]
     },
     "metadata": {},
     "output_type": "display_data"
    }
   ],
   "source": [
    "# plotting 환경 설정\n",
    "import matplotlib.pyplot as plt\n",
    "plt.rcParams['figure.figsize'] = (5,5) # 그래프 크기\n",
    "plt.rcParams['font.family'] = 'Malgun Gothic' # 글꼴\n",
    "plt.rcParams['font.size'] = 12 # 글꼴 크기\n",
    "plt.rcParams['axes.unicode_minus'] = False # 마이너스 표기\n",
    "\n",
    "fig, ax = plt.subplots(1,2,figsize = (8,4))\n",
    "plt.subplots_adjust(wspace= 0.5)\n",
    "\n",
    "import missingno as msno\n",
    "msno.matrix(df = wine, figsize = (5,5), ax = ax[0], label_rotation= 90)\n",
    "ax[0].set_ylabel('원본데이터')\n",
    "\n",
    "msno.matrix(df = wine_m, figsize = (5,5), ax = ax[1], label_rotation= 90)\n",
    "ax[1].set_ylabel('결측치 생성 데이터')"
   ]
  },
  {
   "cell_type": "markdown",
   "metadata": {},
   "source": [
    "0 으로 대치 & 상수로 대치"
   ]
  },
  {
   "cell_type": "code",
   "execution_count": 32,
   "metadata": {},
   "outputs": [
    {
     "data": {
      "text/html": [
       "<div>\n",
       "<style scoped>\n",
       "    .dataframe tbody tr th:only-of-type {\n",
       "        vertical-align: middle;\n",
       "    }\n",
       "\n",
       "    .dataframe tbody tr th {\n",
       "        vertical-align: top;\n",
       "    }\n",
       "\n",
       "    .dataframe thead th {\n",
       "        text-align: right;\n",
       "    }\n",
       "</style>\n",
       "<table border=\"1\" class=\"dataframe\">\n",
       "  <thead>\n",
       "    <tr style=\"text-align: right;\">\n",
       "      <th></th>\n",
       "      <th>Alcohol</th>\n",
       "      <th>Ash</th>\n",
       "    </tr>\n",
       "  </thead>\n",
       "  <tbody>\n",
       "    <tr>\n",
       "      <th>0</th>\n",
       "      <td>14.23</td>\n",
       "      <td>2.43</td>\n",
       "    </tr>\n",
       "    <tr>\n",
       "      <th>1</th>\n",
       "      <td>13.20</td>\n",
       "      <td>2.14</td>\n",
       "    </tr>\n",
       "    <tr>\n",
       "      <th>2</th>\n",
       "      <td>13.16</td>\n",
       "      <td>2.67</td>\n",
       "    </tr>\n",
       "    <tr>\n",
       "      <th>3</th>\n",
       "      <td>14.37</td>\n",
       "      <td>2.50</td>\n",
       "    </tr>\n",
       "    <tr>\n",
       "      <th>4</th>\n",
       "      <td>13.24</td>\n",
       "      <td>2.87</td>\n",
       "    </tr>\n",
       "    <tr>\n",
       "      <th>5</th>\n",
       "      <td>NaN</td>\n",
       "      <td>NaN</td>\n",
       "    </tr>\n",
       "    <tr>\n",
       "      <th>6</th>\n",
       "      <td>14.39</td>\n",
       "      <td>2.45</td>\n",
       "    </tr>\n",
       "    <tr>\n",
       "      <th>7</th>\n",
       "      <td>14.06</td>\n",
       "      <td>2.61</td>\n",
       "    </tr>\n",
       "    <tr>\n",
       "      <th>8</th>\n",
       "      <td>NaN</td>\n",
       "      <td>2.17</td>\n",
       "    </tr>\n",
       "    <tr>\n",
       "      <th>9</th>\n",
       "      <td>NaN</td>\n",
       "      <td>2.27</td>\n",
       "    </tr>\n",
       "  </tbody>\n",
       "</table>\n",
       "</div>"
      ],
      "text/plain": [
       "   Alcohol   Ash\n",
       "0    14.23  2.43\n",
       "1    13.20  2.14\n",
       "2    13.16  2.67\n",
       "3    14.37  2.50\n",
       "4    13.24  2.87\n",
       "5      NaN   NaN\n",
       "6    14.39  2.45\n",
       "7    14.06  2.61\n",
       "8      NaN  2.17\n",
       "9      NaN  2.27"
      ]
     },
     "execution_count": 32,
     "metadata": {},
     "output_type": "execute_result"
    }
   ],
   "source": [
    "# 대치 전 : wine_m\n",
    "wine_m[['Alcohol', 'Ash']].head(10)"
   ]
  },
  {
   "cell_type": "code",
   "execution_count": 35,
   "metadata": {},
   "outputs": [
    {
     "data": {
      "text/html": [
       "<div>\n",
       "<style scoped>\n",
       "    .dataframe tbody tr th:only-of-type {\n",
       "        vertical-align: middle;\n",
       "    }\n",
       "\n",
       "    .dataframe tbody tr th {\n",
       "        vertical-align: top;\n",
       "    }\n",
       "\n",
       "    .dataframe thead th {\n",
       "        text-align: right;\n",
       "    }\n",
       "</style>\n",
       "<table border=\"1\" class=\"dataframe\">\n",
       "  <thead>\n",
       "    <tr style=\"text-align: right;\">\n",
       "      <th></th>\n",
       "      <th>Alcohol</th>\n",
       "      <th>Ash</th>\n",
       "    </tr>\n",
       "  </thead>\n",
       "  <tbody>\n",
       "    <tr>\n",
       "      <th>0</th>\n",
       "      <td>14.23</td>\n",
       "      <td>2.43</td>\n",
       "    </tr>\n",
       "    <tr>\n",
       "      <th>1</th>\n",
       "      <td>13.20</td>\n",
       "      <td>2.14</td>\n",
       "    </tr>\n",
       "    <tr>\n",
       "      <th>2</th>\n",
       "      <td>13.16</td>\n",
       "      <td>2.67</td>\n",
       "    </tr>\n",
       "    <tr>\n",
       "      <th>3</th>\n",
       "      <td>14.37</td>\n",
       "      <td>2.50</td>\n",
       "    </tr>\n",
       "    <tr>\n",
       "      <th>4</th>\n",
       "      <td>13.24</td>\n",
       "      <td>2.87</td>\n",
       "    </tr>\n",
       "    <tr>\n",
       "      <th>5</th>\n",
       "      <td>0.00</td>\n",
       "      <td>0.00</td>\n",
       "    </tr>\n",
       "    <tr>\n",
       "      <th>6</th>\n",
       "      <td>14.39</td>\n",
       "      <td>2.45</td>\n",
       "    </tr>\n",
       "    <tr>\n",
       "      <th>7</th>\n",
       "      <td>14.06</td>\n",
       "      <td>2.61</td>\n",
       "    </tr>\n",
       "    <tr>\n",
       "      <th>8</th>\n",
       "      <td>0.00</td>\n",
       "      <td>2.17</td>\n",
       "    </tr>\n",
       "    <tr>\n",
       "      <th>9</th>\n",
       "      <td>0.00</td>\n",
       "      <td>2.27</td>\n",
       "    </tr>\n",
       "  </tbody>\n",
       "</table>\n",
       "</div>"
      ],
      "text/plain": [
       "   Alcohol   Ash\n",
       "0    14.23  2.43\n",
       "1    13.20  2.14\n",
       "2    13.16  2.67\n",
       "3    14.37  2.50\n",
       "4    13.24  2.87\n",
       "5     0.00  0.00\n",
       "6    14.39  2.45\n",
       "7    14.06  2.61\n",
       "8     0.00  2.17\n",
       "9     0.00  2.27"
      ]
     },
     "execution_count": 35,
     "metadata": {},
     "output_type": "execute_result"
    }
   ],
   "source": [
    "# 0으로 대치\n",
    "wine_imp = wine_m[['Alcohol', 'Ash']].fillna(0)\n",
    "wine_imp[['Alcohol', 'Ash']].head(10)"
   ]
  },
  {
   "cell_type": "code",
   "execution_count": 36,
   "metadata": {},
   "outputs": [
    {
     "data": {
      "text/html": [
       "<div>\n",
       "<style scoped>\n",
       "    .dataframe tbody tr th:only-of-type {\n",
       "        vertical-align: middle;\n",
       "    }\n",
       "\n",
       "    .dataframe tbody tr th {\n",
       "        vertical-align: top;\n",
       "    }\n",
       "\n",
       "    .dataframe thead th {\n",
       "        text-align: right;\n",
       "    }\n",
       "</style>\n",
       "<table border=\"1\" class=\"dataframe\">\n",
       "  <thead>\n",
       "    <tr style=\"text-align: right;\">\n",
       "      <th></th>\n",
       "      <th>Alcohol</th>\n",
       "      <th>Ash</th>\n",
       "    </tr>\n",
       "  </thead>\n",
       "  <tbody>\n",
       "    <tr>\n",
       "      <th>0</th>\n",
       "      <td>14.23</td>\n",
       "      <td>2.43</td>\n",
       "    </tr>\n",
       "    <tr>\n",
       "      <th>1</th>\n",
       "      <td>13.20</td>\n",
       "      <td>2.14</td>\n",
       "    </tr>\n",
       "    <tr>\n",
       "      <th>2</th>\n",
       "      <td>13.16</td>\n",
       "      <td>2.67</td>\n",
       "    </tr>\n",
       "    <tr>\n",
       "      <th>3</th>\n",
       "      <td>14.37</td>\n",
       "      <td>2.50</td>\n",
       "    </tr>\n",
       "    <tr>\n",
       "      <th>4</th>\n",
       "      <td>13.24</td>\n",
       "      <td>2.87</td>\n",
       "    </tr>\n",
       "    <tr>\n",
       "      <th>5</th>\n",
       "      <td>100.00</td>\n",
       "      <td>100.00</td>\n",
       "    </tr>\n",
       "    <tr>\n",
       "      <th>6</th>\n",
       "      <td>14.39</td>\n",
       "      <td>2.45</td>\n",
       "    </tr>\n",
       "    <tr>\n",
       "      <th>7</th>\n",
       "      <td>14.06</td>\n",
       "      <td>2.61</td>\n",
       "    </tr>\n",
       "    <tr>\n",
       "      <th>8</th>\n",
       "      <td>100.00</td>\n",
       "      <td>2.17</td>\n",
       "    </tr>\n",
       "    <tr>\n",
       "      <th>9</th>\n",
       "      <td>100.00</td>\n",
       "      <td>2.27</td>\n",
       "    </tr>\n",
       "  </tbody>\n",
       "</table>\n",
       "</div>"
      ],
      "text/plain": [
       "   Alcohol     Ash\n",
       "0    14.23    2.43\n",
       "1    13.20    2.14\n",
       "2    13.16    2.67\n",
       "3    14.37    2.50\n",
       "4    13.24    2.87\n",
       "5   100.00  100.00\n",
       "6    14.39    2.45\n",
       "7    14.06    2.61\n",
       "8   100.00    2.17\n",
       "9   100.00    2.27"
      ]
     },
     "execution_count": 36,
     "metadata": {},
     "output_type": "execute_result"
    }
   ],
   "source": [
    "# 100으로 대치\n",
    "wine_imp = wine_m[['Alcohol', 'Ash']].fillna(100)\n",
    "wine_imp[['Alcohol', 'Ash']].head(10)"
   ]
  },
  {
   "cell_type": "markdown",
   "metadata": {},
   "source": [
    "대푯값으로 채우는 방법\n",
    "> 평균값, 중앙값, 최빈값 등"
   ]
  },
  {
   "cell_type": "code",
   "execution_count": 37,
   "metadata": {},
   "outputs": [
    {
     "data": {
      "text/html": [
       "<div>\n",
       "<style scoped>\n",
       "    .dataframe tbody tr th:only-of-type {\n",
       "        vertical-align: middle;\n",
       "    }\n",
       "\n",
       "    .dataframe tbody tr th {\n",
       "        vertical-align: top;\n",
       "    }\n",
       "\n",
       "    .dataframe thead th {\n",
       "        text-align: right;\n",
       "    }\n",
       "</style>\n",
       "<table border=\"1\" class=\"dataframe\">\n",
       "  <thead>\n",
       "    <tr style=\"text-align: right;\">\n",
       "      <th></th>\n",
       "      <th>Alcohol</th>\n",
       "      <th>Ash</th>\n",
       "    </tr>\n",
       "  </thead>\n",
       "  <tbody>\n",
       "    <tr>\n",
       "      <th>0</th>\n",
       "      <td>14.23</td>\n",
       "      <td>2.43</td>\n",
       "    </tr>\n",
       "    <tr>\n",
       "      <th>1</th>\n",
       "      <td>13.20</td>\n",
       "      <td>2.14</td>\n",
       "    </tr>\n",
       "    <tr>\n",
       "      <th>2</th>\n",
       "      <td>13.16</td>\n",
       "      <td>2.67</td>\n",
       "    </tr>\n",
       "    <tr>\n",
       "      <th>3</th>\n",
       "      <td>14.37</td>\n",
       "      <td>2.50</td>\n",
       "    </tr>\n",
       "    <tr>\n",
       "      <th>4</th>\n",
       "      <td>13.24</td>\n",
       "      <td>2.87</td>\n",
       "    </tr>\n",
       "    <tr>\n",
       "      <th>5</th>\n",
       "      <td>NaN</td>\n",
       "      <td>NaN</td>\n",
       "    </tr>\n",
       "    <tr>\n",
       "      <th>6</th>\n",
       "      <td>14.39</td>\n",
       "      <td>2.45</td>\n",
       "    </tr>\n",
       "    <tr>\n",
       "      <th>7</th>\n",
       "      <td>14.06</td>\n",
       "      <td>2.61</td>\n",
       "    </tr>\n",
       "    <tr>\n",
       "      <th>8</th>\n",
       "      <td>NaN</td>\n",
       "      <td>2.17</td>\n",
       "    </tr>\n",
       "    <tr>\n",
       "      <th>9</th>\n",
       "      <td>NaN</td>\n",
       "      <td>2.27</td>\n",
       "    </tr>\n",
       "  </tbody>\n",
       "</table>\n",
       "</div>"
      ],
      "text/plain": [
       "   Alcohol   Ash\n",
       "0    14.23  2.43\n",
       "1    13.20  2.14\n",
       "2    13.16  2.67\n",
       "3    14.37  2.50\n",
       "4    13.24  2.87\n",
       "5      NaN   NaN\n",
       "6    14.39  2.45\n",
       "7    14.06  2.61\n",
       "8      NaN  2.17\n",
       "9      NaN  2.27"
      ]
     },
     "execution_count": 37,
     "metadata": {},
     "output_type": "execute_result"
    }
   ],
   "source": [
    "# 대표값으로 채우기 전\n",
    "wine_m[['Alcohol', 'Ash']].head(10)"
   ]
  },
  {
   "cell_type": "code",
   "execution_count": 46,
   "metadata": {},
   "outputs": [
    {
     "data": {
      "text/html": [
       "<div>\n",
       "<style scoped>\n",
       "    .dataframe tbody tr th:only-of-type {\n",
       "        vertical-align: middle;\n",
       "    }\n",
       "\n",
       "    .dataframe tbody tr th {\n",
       "        vertical-align: top;\n",
       "    }\n",
       "\n",
       "    .dataframe thead th {\n",
       "        text-align: right;\n",
       "    }\n",
       "</style>\n",
       "<table border=\"1\" class=\"dataframe\">\n",
       "  <thead>\n",
       "    <tr style=\"text-align: right;\">\n",
       "      <th></th>\n",
       "      <th>Alcohol</th>\n",
       "      <th>Ash</th>\n",
       "    </tr>\n",
       "  </thead>\n",
       "  <tbody>\n",
       "    <tr>\n",
       "      <th>0</th>\n",
       "      <td>14.230000</td>\n",
       "      <td>2.430000</td>\n",
       "    </tr>\n",
       "    <tr>\n",
       "      <th>1</th>\n",
       "      <td>13.200000</td>\n",
       "      <td>2.140000</td>\n",
       "    </tr>\n",
       "    <tr>\n",
       "      <th>2</th>\n",
       "      <td>13.160000</td>\n",
       "      <td>2.670000</td>\n",
       "    </tr>\n",
       "    <tr>\n",
       "      <th>3</th>\n",
       "      <td>14.370000</td>\n",
       "      <td>2.500000</td>\n",
       "    </tr>\n",
       "    <tr>\n",
       "      <th>4</th>\n",
       "      <td>13.240000</td>\n",
       "      <td>2.870000</td>\n",
       "    </tr>\n",
       "    <tr>\n",
       "      <th>5</th>\n",
       "      <td>12.962387</td>\n",
       "      <td>2.371218</td>\n",
       "    </tr>\n",
       "    <tr>\n",
       "      <th>6</th>\n",
       "      <td>14.390000</td>\n",
       "      <td>2.450000</td>\n",
       "    </tr>\n",
       "    <tr>\n",
       "      <th>7</th>\n",
       "      <td>14.060000</td>\n",
       "      <td>2.610000</td>\n",
       "    </tr>\n",
       "    <tr>\n",
       "      <th>8</th>\n",
       "      <td>12.962387</td>\n",
       "      <td>2.170000</td>\n",
       "    </tr>\n",
       "    <tr>\n",
       "      <th>9</th>\n",
       "      <td>12.962387</td>\n",
       "      <td>2.270000</td>\n",
       "    </tr>\n",
       "  </tbody>\n",
       "</table>\n",
       "</div>"
      ],
      "text/plain": [
       "     Alcohol       Ash\n",
       "0  14.230000  2.430000\n",
       "1  13.200000  2.140000\n",
       "2  13.160000  2.670000\n",
       "3  14.370000  2.500000\n",
       "4  13.240000  2.870000\n",
       "5  12.962387  2.371218\n",
       "6  14.390000  2.450000\n",
       "7  14.060000  2.610000\n",
       "8  12.962387  2.170000\n",
       "9  12.962387  2.270000"
      ]
     },
     "execution_count": 46,
     "metadata": {},
     "output_type": "execute_result"
    }
   ],
   "source": [
    "# 결측치를 대푯값 mean 으로 대치한 데이터\n",
    "# wine_imp1 = wine_m[['Alcohol', 'Ash']].fillna(wine_m[['Alcohol', 'Ash']].mean)\n",
    "wine_m[['Alcohol', 'Ash']].fillna(wine_m[['Alcohol', 'Ash']].mean()).head(10) # mean, median"
   ]
  },
  {
   "cell_type": "code",
   "execution_count": 63,
   "metadata": {},
   "outputs": [
    {
     "data": {
      "text/plain": [
       "Index([13.05, 12.37, 12.08, 12.29, 12.42, 13.88,  12.6, 14.22,  13.5, 13.49,\n",
       "       ...\n",
       "       13.86, 12.21, 13.34, 12.17, 13.67, 12.64, 13.72, 13.56, 13.74, 13.27],\n",
       "      dtype='float64', name='Alcohol', length=113)"
      ]
     },
     "execution_count": 63,
     "metadata": {},
     "output_type": "execute_result"
    }
   ],
   "source": [
    "wine_m['Alcohol'].value_counts(ascending= False).index"
   ]
  },
  {
   "cell_type": "code",
   "execution_count": 66,
   "metadata": {},
   "outputs": [
    {
     "data": {
      "text/plain": [
       "0    2.43\n",
       "1    2.14\n",
       "2    2.67\n",
       "3    2.50\n",
       "4    2.87\n",
       "5    2.30\n",
       "6    2.45\n",
       "7    2.61\n",
       "8    2.17\n",
       "9    2.27\n",
       "Name: Ash, dtype: float64"
      ]
     },
     "execution_count": 66,
     "metadata": {},
     "output_type": "execute_result"
    }
   ],
   "source": [
    "# 최빈값으로 바꾸기\n",
    "# value_counts(ascending = False)로 내림차순 정렬하고 제일 큰 것으로 대치\n",
    "wine_m['Alcohol'].fillna(wine_m['Alcohol'].value_counts(ascending= False).index[0]).head(10)\n",
    "wine_m['Ash'].fillna(wine_m['Ash'].value_counts(ascending= False).index[0]).head(10)"
   ]
  },
  {
   "cell_type": "markdown",
   "metadata": {},
   "source": [
    "단순확률대치법\n",
    "- 유사한 데이터 셋에서 랜덤하게 샘플링한 값으로 대치하는 방법\n",
    "- 다른 데이터셋을 사용하므로 ADP 에는 사용하지 않을듯?\n"
   ]
  },
  {
   "cell_type": "markdown",
   "metadata": {},
   "source": [
    "다른 변수들로 모델링하여 결측값을 예측하는 방법"
   ]
  },
  {
   "cell_type": "code",
   "execution_count": 79,
   "metadata": {},
   "outputs": [
    {
     "data": {
      "text/html": [
       "<div>\n",
       "<style scoped>\n",
       "    .dataframe tbody tr th:only-of-type {\n",
       "        vertical-align: middle;\n",
       "    }\n",
       "\n",
       "    .dataframe tbody tr th {\n",
       "        vertical-align: top;\n",
       "    }\n",
       "\n",
       "    .dataframe thead th {\n",
       "        text-align: right;\n",
       "    }\n",
       "</style>\n",
       "<table border=\"1\" class=\"dataframe\">\n",
       "  <thead>\n",
       "    <tr style=\"text-align: right;\">\n",
       "      <th></th>\n",
       "      <th>Alcohol</th>\n",
       "      <th>Malicacid</th>\n",
       "      <th>Ash</th>\n",
       "      <th>Magnesium</th>\n",
       "      <th>Hue</th>\n",
       "    </tr>\n",
       "  </thead>\n",
       "  <tbody>\n",
       "    <tr>\n",
       "      <th>0</th>\n",
       "      <td>14.230000</td>\n",
       "      <td>1.71</td>\n",
       "      <td>2.43</td>\n",
       "      <td>127.0</td>\n",
       "      <td>1.04</td>\n",
       "    </tr>\n",
       "    <tr>\n",
       "      <th>1</th>\n",
       "      <td>13.200000</td>\n",
       "      <td>1.78</td>\n",
       "      <td>2.14</td>\n",
       "      <td>100.0</td>\n",
       "      <td>1.05</td>\n",
       "    </tr>\n",
       "    <tr>\n",
       "      <th>2</th>\n",
       "      <td>13.160000</td>\n",
       "      <td>2.36</td>\n",
       "      <td>2.67</td>\n",
       "      <td>101.0</td>\n",
       "      <td>1.03</td>\n",
       "    </tr>\n",
       "    <tr>\n",
       "      <th>3</th>\n",
       "      <td>14.370000</td>\n",
       "      <td>1.95</td>\n",
       "      <td>2.50</td>\n",
       "      <td>113.0</td>\n",
       "      <td>0.86</td>\n",
       "    </tr>\n",
       "    <tr>\n",
       "      <th>4</th>\n",
       "      <td>13.240000</td>\n",
       "      <td>2.59</td>\n",
       "      <td>2.87</td>\n",
       "      <td>118.0</td>\n",
       "      <td>1.04</td>\n",
       "    </tr>\n",
       "    <tr>\n",
       "      <th>5</th>\n",
       "      <td>13.940000</td>\n",
       "      <td>1.76</td>\n",
       "      <td>2.56</td>\n",
       "      <td>112.0</td>\n",
       "      <td>1.05</td>\n",
       "    </tr>\n",
       "    <tr>\n",
       "      <th>6</th>\n",
       "      <td>14.390000</td>\n",
       "      <td>1.87</td>\n",
       "      <td>2.45</td>\n",
       "      <td>96.0</td>\n",
       "      <td>1.02</td>\n",
       "    </tr>\n",
       "    <tr>\n",
       "      <th>7</th>\n",
       "      <td>14.060000</td>\n",
       "      <td>2.15</td>\n",
       "      <td>2.61</td>\n",
       "      <td>121.0</td>\n",
       "      <td>1.06</td>\n",
       "    </tr>\n",
       "    <tr>\n",
       "      <th>8</th>\n",
       "      <td>13.056667</td>\n",
       "      <td>1.64</td>\n",
       "      <td>2.17</td>\n",
       "      <td>97.0</td>\n",
       "      <td>1.08</td>\n",
       "    </tr>\n",
       "    <tr>\n",
       "      <th>9</th>\n",
       "      <td>12.830000</td>\n",
       "      <td>1.35</td>\n",
       "      <td>2.27</td>\n",
       "      <td>98.0</td>\n",
       "      <td>1.01</td>\n",
       "    </tr>\n",
       "  </tbody>\n",
       "</table>\n",
       "</div>"
      ],
      "text/plain": [
       "     Alcohol  Malicacid   Ash  Magnesium   Hue\n",
       "0  14.230000       1.71  2.43      127.0  1.04\n",
       "1  13.200000       1.78  2.14      100.0  1.05\n",
       "2  13.160000       2.36  2.67      101.0  1.03\n",
       "3  14.370000       1.95  2.50      113.0  0.86\n",
       "4  13.240000       2.59  2.87      118.0  1.04\n",
       "5  13.940000       1.76  2.56      112.0  1.05\n",
       "6  14.390000       1.87  2.45       96.0  1.02\n",
       "7  14.060000       2.15  2.61      121.0  1.06\n",
       "8  13.056667       1.64  2.17       97.0  1.08\n",
       "9  12.830000       1.35  2.27       98.0  1.01"
      ]
     },
     "execution_count": 79,
     "metadata": {},
     "output_type": "execute_result"
    }
   ],
   "source": [
    "# KNNImputer로 결측치를 대치\n",
    "from sklearn.impute import KNNImputer\n",
    "imputer = KNNImputer(n_neighbors=3)\n",
    "wine_imp3 = imputer.fit_transform(wine_m)\n",
    "wine_imp3 = pd.DataFrame(wine_imp3, columns= wine_m.columns)\n",
    "wine_imp3.head(10)"
   ]
  },
  {
   "cell_type": "code",
   "execution_count": 80,
   "metadata": {},
   "outputs": [
    {
     "data": {
      "text/plain": [
       "Alcohol      0\n",
       "Malicacid    0\n",
       "Ash          0\n",
       "Magnesium    0\n",
       "Hue          0\n",
       "dtype: int64"
      ]
     },
     "execution_count": 80,
     "metadata": {},
     "output_type": "execute_result"
    }
   ],
   "source": [
    "wine_imp3.isnull().sum()"
   ]
  },
  {
   "cell_type": "markdown",
   "metadata": {},
   "source": [
    "보간법\n",
    "> 선형보간법, 다항식보간법, 스플라인보간법"
   ]
  },
  {
   "cell_type": "code",
   "execution_count": 92,
   "metadata": {},
   "outputs": [
    {
     "data": {
      "text/html": [
       "<div>\n",
       "<style scoped>\n",
       "    .dataframe tbody tr th:only-of-type {\n",
       "        vertical-align: middle;\n",
       "    }\n",
       "\n",
       "    .dataframe tbody tr th {\n",
       "        vertical-align: top;\n",
       "    }\n",
       "\n",
       "    .dataframe thead th {\n",
       "        text-align: right;\n",
       "    }\n",
       "</style>\n",
       "<table border=\"1\" class=\"dataframe\">\n",
       "  <thead>\n",
       "    <tr style=\"text-align: right;\">\n",
       "      <th></th>\n",
       "      <th>Alcohol</th>\n",
       "      <th>Malicacid</th>\n",
       "      <th>Ash</th>\n",
       "      <th>Magnesium</th>\n",
       "      <th>Hue</th>\n",
       "    </tr>\n",
       "  </thead>\n",
       "  <tbody>\n",
       "    <tr>\n",
       "      <th>0</th>\n",
       "      <td>14.230000</td>\n",
       "      <td>1.71</td>\n",
       "      <td>2.43</td>\n",
       "      <td>127</td>\n",
       "      <td>1.04</td>\n",
       "    </tr>\n",
       "    <tr>\n",
       "      <th>1</th>\n",
       "      <td>13.200000</td>\n",
       "      <td>1.78</td>\n",
       "      <td>2.14</td>\n",
       "      <td>100</td>\n",
       "      <td>1.05</td>\n",
       "    </tr>\n",
       "    <tr>\n",
       "      <th>2</th>\n",
       "      <td>13.160000</td>\n",
       "      <td>2.36</td>\n",
       "      <td>2.67</td>\n",
       "      <td>101</td>\n",
       "      <td>1.03</td>\n",
       "    </tr>\n",
       "    <tr>\n",
       "      <th>3</th>\n",
       "      <td>14.370000</td>\n",
       "      <td>1.95</td>\n",
       "      <td>2.50</td>\n",
       "      <td>113</td>\n",
       "      <td>0.86</td>\n",
       "    </tr>\n",
       "    <tr>\n",
       "      <th>4</th>\n",
       "      <td>13.240000</td>\n",
       "      <td>2.59</td>\n",
       "      <td>2.87</td>\n",
       "      <td>118</td>\n",
       "      <td>1.04</td>\n",
       "    </tr>\n",
       "    <tr>\n",
       "      <th>5</th>\n",
       "      <td>13.815000</td>\n",
       "      <td>1.76</td>\n",
       "      <td>2.66</td>\n",
       "      <td>112</td>\n",
       "      <td>1.05</td>\n",
       "    </tr>\n",
       "    <tr>\n",
       "      <th>6</th>\n",
       "      <td>14.390000</td>\n",
       "      <td>1.87</td>\n",
       "      <td>2.45</td>\n",
       "      <td>96</td>\n",
       "      <td>1.02</td>\n",
       "    </tr>\n",
       "    <tr>\n",
       "      <th>7</th>\n",
       "      <td>14.060000</td>\n",
       "      <td>2.15</td>\n",
       "      <td>2.61</td>\n",
       "      <td>121</td>\n",
       "      <td>1.06</td>\n",
       "    </tr>\n",
       "    <tr>\n",
       "      <th>8</th>\n",
       "      <td>14.073333</td>\n",
       "      <td>1.64</td>\n",
       "      <td>2.17</td>\n",
       "      <td>97</td>\n",
       "      <td>1.08</td>\n",
       "    </tr>\n",
       "    <tr>\n",
       "      <th>9</th>\n",
       "      <td>14.086667</td>\n",
       "      <td>1.35</td>\n",
       "      <td>2.27</td>\n",
       "      <td>98</td>\n",
       "      <td>1.01</td>\n",
       "    </tr>\n",
       "  </tbody>\n",
       "</table>\n",
       "</div>"
      ],
      "text/plain": [
       "     Alcohol  Malicacid   Ash  Magnesium   Hue\n",
       "0  14.230000       1.71  2.43        127  1.04\n",
       "1  13.200000       1.78  2.14        100  1.05\n",
       "2  13.160000       2.36  2.67        101  1.03\n",
       "3  14.370000       1.95  2.50        113  0.86\n",
       "4  13.240000       2.59  2.87        118  1.04\n",
       "5  13.815000       1.76  2.66        112  1.05\n",
       "6  14.390000       1.87  2.45         96  1.02\n",
       "7  14.060000       2.15  2.61        121  1.06\n",
       "8  14.073333       1.64  2.17         97  1.08\n",
       "9  14.086667       1.35  2.27         98  1.01"
      ]
     },
     "execution_count": 92,
     "metadata": {},
     "output_type": "execute_result"
    }
   ],
   "source": [
    "# 선형보간법으로 결측치를 대치\n",
    "# zero, slinear, quadratic, cubic 0,1,2,3차\n",
    "wine_imp4 = wine_m.interpolate(method = 'linear') \n",
    "wine_imp4.head(10)"
   ]
  },
  {
   "cell_type": "code",
   "execution_count": 84,
   "metadata": {},
   "outputs": [
    {
     "data": {
      "text/plain": [
       "Alcohol      0\n",
       "Malicacid    0\n",
       "Ash          0\n",
       "Magnesium    0\n",
       "Hue          0\n",
       "dtype: int64"
      ]
     },
     "execution_count": 84,
     "metadata": {},
     "output_type": "execute_result"
    }
   ],
   "source": [
    "wine_imp4.isnull().sum()"
   ]
  },
  {
   "cell_type": "markdown",
   "metadata": {},
   "source": [
    "## 2-2 이상치 처리"
   ]
  },
  {
   "cell_type": "markdown",
   "metadata": {},
   "source": [
    "1. ESD(Extreme studentized deviation)\n",
    "    + 평균 - 3*표준편차 < normal data < 평균 + 3*표준편차\n",
    "2. 기하평균 - 2.5*표준편차 < normal data < 기하평균 + 2.5*표준편차\n",
    "3. Q1 - 1.5*IQR < normal data < Q3 + 1.5*IQR\n",
    "4. 군집 분석을 통한 이상치 진단 : DBSCAN 군집 분석을 통해 -1로 분류되는 값을 이상치로 진단"
   ]
  },
  {
   "cell_type": "code",
   "execution_count": 16,
   "metadata": {},
   "outputs": [
    {
     "data": {
      "text/html": [
       "<div>\n",
       "<style scoped>\n",
       "    .dataframe tbody tr th:only-of-type {\n",
       "        vertical-align: middle;\n",
       "    }\n",
       "\n",
       "    .dataframe tbody tr th {\n",
       "        vertical-align: top;\n",
       "    }\n",
       "\n",
       "    .dataframe thead th {\n",
       "        text-align: right;\n",
       "    }\n",
       "</style>\n",
       "<table border=\"1\" class=\"dataframe\">\n",
       "  <thead>\n",
       "    <tr style=\"text-align: right;\">\n",
       "      <th></th>\n",
       "      <th>Alcohol</th>\n",
       "      <th>Malicacid</th>\n",
       "      <th>Ash</th>\n",
       "      <th>Magnesium</th>\n",
       "      <th>Hue</th>\n",
       "    </tr>\n",
       "  </thead>\n",
       "  <tbody>\n",
       "    <tr>\n",
       "      <th>0</th>\n",
       "      <td>14.23</td>\n",
       "      <td>1.71</td>\n",
       "      <td>2.43</td>\n",
       "      <td>127</td>\n",
       "      <td>1.04</td>\n",
       "    </tr>\n",
       "    <tr>\n",
       "      <th>1</th>\n",
       "      <td>13.20</td>\n",
       "      <td>1.78</td>\n",
       "      <td>2.14</td>\n",
       "      <td>100</td>\n",
       "      <td>1.05</td>\n",
       "    </tr>\n",
       "    <tr>\n",
       "      <th>2</th>\n",
       "      <td>13.16</td>\n",
       "      <td>2.36</td>\n",
       "      <td>2.67</td>\n",
       "      <td>101</td>\n",
       "      <td>1.03</td>\n",
       "    </tr>\n",
       "    <tr>\n",
       "      <th>3</th>\n",
       "      <td>14.37</td>\n",
       "      <td>1.95</td>\n",
       "      <td>2.50</td>\n",
       "      <td>113</td>\n",
       "      <td>0.86</td>\n",
       "    </tr>\n",
       "    <tr>\n",
       "      <th>4</th>\n",
       "      <td>13.24</td>\n",
       "      <td>2.59</td>\n",
       "      <td>2.87</td>\n",
       "      <td>118</td>\n",
       "      <td>1.04</td>\n",
       "    </tr>\n",
       "  </tbody>\n",
       "</table>\n",
       "</div>"
      ],
      "text/plain": [
       "   Alcohol  Malicacid   Ash  Magnesium   Hue\n",
       "0    14.23       1.71  2.43        127  1.04\n",
       "1    13.20       1.78  2.14        100  1.05\n",
       "2    13.16       2.36  2.67        101  1.03\n",
       "3    14.37       1.95  2.50        113  0.86\n",
       "4    13.24       2.59  2.87        118  1.04"
      ]
     },
     "execution_count": 16,
     "metadata": {},
     "output_type": "execute_result"
    }
   ],
   "source": [
    "wine = pd.read_csv('./data/2-1_wine.csv', index_col = 0)\n",
    "wine = wine[['Alcohol','Malicacid', 'Ash', 'Magnesium', 'Hue']]\n",
    "wine.head()"
   ]
  },
  {
   "cell_type": "code",
   "execution_count": 17,
   "metadata": {},
   "outputs": [
    {
     "data": {
      "text/plain": [
       "Index([123, 137, 173], dtype='int64')"
      ]
     },
     "execution_count": 17,
     "metadata": {},
     "output_type": "execute_result"
    }
   ],
   "source": [
    "# Malicacid 변수 이상치 찾기\n",
    "IQR = wine.Malicacid.quantile(0.75) - wine.Malicacid.quantile(0.25)\n",
    "top = wine.Malicacid.quantile(0.75) + IQR * 1.5\n",
    "bottom = wine.Malicacid.quantile(0.25) - IQR * 1.5\n",
    "\n",
    "# 상한보다 크고 하한보다 작은 데이터 찾기\n",
    "out_id = wine[(wine.Malicacid >= top) | (wine.Malicacid <= bottom)].index\n",
    "out_id"
   ]
  },
  {
   "cell_type": "markdown",
   "metadata": {},
   "source": [
    "절단"
   ]
  },
  {
   "cell_type": "code",
   "execution_count": 4,
   "metadata": {},
   "outputs": [],
   "source": [
    "prep_df = wine[['Malicacid']].drop(out_id, axis = 0)"
   ]
  },
  {
   "cell_type": "code",
   "execution_count": 7,
   "metadata": {},
   "outputs": [
    {
     "data": {
      "image/png": "[encoded data removed]",
      "text/plain": [
       "<Figure size 640x480 with 2 Axes>"
      ]
     },
     "metadata": {},
     "output_type": "display_data"
    }
   ],
   "source": [
    "import matplotlib.pyplot as plt\n",
    "fig, axes = plt.subplots(1,2)\n",
    "for data, ax in zip([wine[['Malicacid']], prep_df], axes):\n",
    "    data.boxplot(ax = ax)\n",
    "\n",
    "plt.show()"
   ]
  },
  {
   "cell_type": "markdown",
   "metadata": {},
   "source": [
    "조정\n",
    "+ 이상치를 상한과 하한값으로 보정"
   ]
  },
  {
   "cell_type": "code",
   "execution_count": 14,
   "metadata": {},
   "outputs": [],
   "source": [
    "prep_df2 = wine[['Malicacid']].clip(bottom, top) # clip(min, max) 상한, 하한의 밖의 값을 상한과 하한으로 대치"
   ]
  },
  {
   "cell_type": "code",
   "execution_count": 13,
   "metadata": {},
   "outputs": [
    {
     "data": {
      "image/png": "[encoded data removed]",
      "text/plain": [
       "<Figure size 640x480 with 2 Axes>"
      ]
     },
     "metadata": {},
     "output_type": "display_data"
    }
   ],
   "source": [
    "import matplotlib.pyplot as plt\n",
    "fig, axes = plt.subplots(1,2)\n",
    "for data, ax in zip([wine[['Malicacid']], prep_df2], axes):\n",
    "    data.boxplot(ax = ax)\n",
    "\n",
    "plt.show()"
   ]
  },
  {
   "cell_type": "markdown",
   "metadata": {},
   "source": [
    "클리핑\n",
    "+ 이상치의 상한과 하한을 특정값으로 지정해서 해당값으로 조정\n",
    "+ 이상치에 대한 확실한 정보를 가지고 있을 때"
   ]
  },
  {
   "cell_type": "code",
   "execution_count": 15,
   "metadata": {},
   "outputs": [
    {
     "data": {
      "image/png": "[encoded data removed]",
      "text/plain": [
       "<Figure size 640x480 with 2 Axes>"
      ]
     },
     "metadata": {},
     "output_type": "display_data"
    }
   ],
   "source": [
    "# 클리핑\n",
    "prep_df3 = wine[['Malicacid']].clip(1, 5)\n",
    "\n",
    "import matplotlib.pyplot as plt\n",
    "fig, axes = plt.subplots(1,2)\n",
    "for data, ax in zip([wine[['Malicacid']], prep_df3], axes):\n",
    "    data.boxplot(ax = ax)\n",
    "\n",
    "plt.show()"
   ]
  },
  {
   "cell_type": "markdown",
   "metadata": {},
   "source": [
    "## 2-3 클래스 불균형 처리\n",
    "+ 오버샘플링 : RandomOverSampler, SMOTE 등\n",
    "+ 언더샘플링 : RandomUnderSampler 등"
   ]
  },
  {
   "cell_type": "markdown",
   "metadata": {},
   "source": [
    "실제 데이터들은 클래스가 불균형한 경향이 있는데, 소수 클래스의 데이터 수가 부족한 경우가 많으므로 주로 오버샘플링을 실시함"
   ]
  },
  {
   "cell_type": "code",
   "execution_count": 40,
   "metadata": {},
   "outputs": [
    {
     "name": "stdout",
     "output_type": "stream",
     "text": [
      "   mean radius  mean texture  mean area  target\n",
      "0        17.99         10.38     1001.0     0.0\n",
      "1        20.57         17.77     1326.0     0.0\n",
      "2        19.69         21.25     1203.0     0.0\n",
      "original data class 분포 \n",
      " target\n",
      "1.0    357\n",
      "0.0    212\n",
      "Name: count, dtype: int64\n",
      "imbalanced data class 분포 \n",
      " target\n",
      "1.0    250\n",
      "0.0     50\n",
      "Name: count, dtype: int64\n"
     ]
    }
   ],
   "source": [
    "# 클래스 분균형 데이터 생성\n",
    "from sklearn.datasets import load_breast_cancer\n",
    "import pandas as pd\n",
    "import numpy as np\n",
    "from collections import Counter\n",
    "\n",
    "data = load_breast_cancer()\n",
    "df = pd.DataFrame(np.c_[data.data, data.target], columns = list(data.feature_names) + ['target'])\n",
    "\n",
    "# 3개의 feature와 target 추출\n",
    "df = df[['mean radius', 'mean texture', 'mean area', 'target']]\n",
    "print(df.head(3))\n",
    "print('original data class 분포 \\n', df.target.value_counts())\n",
    "\n",
    "# 클래스 불균형한 imb_df 생성\n",
    "df1 = df[df.target == 0].sample(50)\n",
    "df2 = df[df.target == 1].sample(250)\n",
    "\n",
    "imb_df = pd.concat([df1, df2]).reset_index(drop = True)\n",
    "print('imbalanced data class 분포 \\n',imb_df.target.value_counts())\n",
    "\n",
    "features = imb_df.drop('target', axis = 1)\n",
    "target = imb_df.target"
   ]
  },
  {
   "cell_type": "markdown",
   "metadata": {},
   "source": [
    "랜덤오버샘플링\n",
    "+ 소수 클래스를 단순 복제하여 균형을 맞춰주는 것\n",
    "+ 동일한 데이터의 개수가 늘어난 것으로 과적합의 위험이 있음"
   ]
  },
  {
   "cell_type": "code",
   "execution_count": 66,
   "metadata": {},
   "outputs": [
    {
     "name": "stdout",
     "output_type": "stream",
     "text": [
      "imbalance data class 분포 \n",
      " target\n",
      "1.0    250\n",
      "0.0     50\n",
      "Name: count, dtype: int64\n",
      "oversampled data class 분포 \n",
      " target\n",
      "0.0    250\n",
      "1.0    250\n",
      "Name: count, dtype: int64\n"
     ]
    },
    {
     "data": {
      "image/png": "[encoded data removed]",
      "text/plain": [
       "<Figure size 640x480 with 2 Axes>"
      ]
     },
     "metadata": {},
     "output_type": "display_data"
    }
   ],
   "source": [
    "from imblearn.over_sampling import RandomOverSampler\n",
    "os = RandomOverSampler(random_state=0)\n",
    "bal_features, bal_target = os.fit_resample(features, target)\n",
    "print('imbalance data class 분포 \\n', target.value_counts())\n",
    "print('oversampled data class 분포 \\n', bal_target.value_counts())\n",
    "\n",
    "import seaborn as sns\n",
    "over_df1 = pd.DataFrame(np.c_[bal_features, bal_target], columns = imb_df.columns)\n",
    "\n",
    "import matplotlib.pyplot as plt\n",
    "fig, ax = plt.subplots(1,2)\n",
    "sns.scatterplot(x = 'mean radius', y = 'mean texture', hue='target', data = imb_df, ax = ax[0],\n",
    "                alpha = 0.5, style = 'target', markers= ['s', '>'])\n",
    "ax[0].set_title('imbalanced')\n",
    "\n",
    "sns.scatterplot(x = 'mean radius', y = 'mean texture', hue='target', data = over_df1, ax = ax[1],\n",
    "                alpha = 0.5, style = 'target', markers= ['s', '>'])\n",
    "ax[1].set_title('oversampled')\n",
    "plt.show()"
   ]
  },
  {
   "cell_type": "markdown",
   "metadata": {},
   "source": [
    "SMOTE\n",
    "+ 임의의 소수 클래스 데이터로 부터 인근 소수 클래스 사이에 새로운 데이터를 생성"
   ]
  },
  {
   "cell_type": "code",
   "execution_count": 68,
   "metadata": {},
   "outputs": [
    {
     "name": "stdout",
     "output_type": "stream",
     "text": [
      "imbalance data class 분포 \n",
      " target\n",
      "1.0    250\n",
      "0.0     50\n",
      "Name: count, dtype: int64\n",
      "oversampled data class 분포 \n",
      " target\n",
      "0.0    250\n",
      "1.0    250\n",
      "Name: count, dtype: int64\n"
     ]
    },
    {
     "data": {
      "image/png": "[encoded data removed]",
      "text/plain": [
       "<Figure size 640x480 with 2 Axes>"
      ]
     },
     "metadata": {},
     "output_type": "display_data"
    }
   ],
   "source": [
    "from imblearn.over_sampling import SMOTE\n",
    "os = SMOTE(k_neighbors= 3, random_state= 0)\n",
    "bal_features, bal_target = os.fit_resample(features, target)\n",
    "print('imbalance data class 분포 \\n', target.value_counts())\n",
    "print('oversampled data class 분포 \\n', bal_target.value_counts())\n",
    "\n",
    "import seaborn as sns\n",
    "over_df2 = pd.DataFrame(np.c_[bal_features, bal_target], columns = imb_df.columns)\n",
    "\n",
    "import matplotlib.pyplot as plt\n",
    "fig, ax = plt.subplots(1,2)\n",
    "sns.scatterplot(x = 'mean radius', y = 'mean texture', hue='target', data = imb_df, ax = ax[0],\n",
    "                alpha = 0.5, style = 'target', markers= ['s', '>'])\n",
    "ax[0].set_title('imbalanced')\n",
    "\n",
    "sns.scatterplot(x = 'mean radius', y = 'mean texture', hue='target', data = over_df2, ax = ax[1],\n",
    "                alpha = 0.5, style = 'target', markers= ['s', '>'])\n",
    "ax[1].set_title('oversampled')\n",
    "plt.show()"
   ]
  },
  {
   "cell_type": "markdown",
   "metadata": {},
   "source": [
    "> 같은 방식으로 BorderlineSMOTE, KMeansSMOTE, SVMSMOTE, ADASYN 의 SMOTE 오버샘플링 방법이 있음"
   ]
  },
  {
   "cell_type": "code",
   "execution_count": 75,
   "metadata": {},
   "outputs": [
    {
     "name": "stdout",
     "output_type": "stream",
     "text": [
      "imbalance data class 분포 \n",
      " target\n",
      "1.0    250\n",
      "0.0     50\n",
      "Name: count, dtype: int64\n",
      "oversampled data class 분포 \n",
      " target\n",
      "0.0    252\n",
      "1.0    250\n",
      "Name: count, dtype: int64\n"
     ]
    },
    {
     "data": {
      "image/png": "[encoded data removed]",
      "text/plain": [
       "<Figure size 640x480 with 2 Axes>"
      ]
     },
     "metadata": {},
     "output_type": "display_data"
    }
   ],
   "source": [
    "from imblearn.over_sampling import KMeansSMOTE\n",
    "os = KMeansSMOTE(k_neighbors= 3, random_state= 0)\n",
    "bal_features, bal_target = os.fit_resample(features, target)\n",
    "print('imbalance data class 분포 \\n', target.value_counts())\n",
    "print('oversampled data class 분포 \\n', bal_target.value_counts())\n",
    "\n",
    "import seaborn as sns\n",
    "over_df3 = pd.DataFrame(np.c_[bal_features, bal_target], columns = imb_df.columns)\n",
    "\n",
    "import matplotlib.pyplot as plt\n",
    "fig, ax = plt.subplots(1,2)\n",
    "sns.scatterplot(x = 'mean radius', y = 'mean texture', hue='target', data = imb_df, ax = ax[0],\n",
    "                alpha = 0.5, style = 'target', markers= ['s', '>'])\n",
    "ax[0].set_title('imbalanced')\n",
    "\n",
    "sns.scatterplot(x = 'mean radius', y = 'mean texture', hue='target', data = over_df3, ax = ax[1],\n",
    "                alpha = 0.5, style = 'target', markers= ['s', '>'])\n",
    "ax[1].set_title('oversampled')\n",
    "plt.show()"
   ]
  },
  {
   "cell_type": "markdown",
   "metadata": {},
   "source": [
    "오버샘플링된 데이터로 분류 학습 및 결과 비교"
   ]
  },
  {
   "cell_type": "code",
   "execution_count": 76,
   "metadata": {},
   "outputs": [
    {
     "data": {
      "text/html": [
       "<div>\n",
       "<style scoped>\n",
       "    .dataframe tbody tr th:only-of-type {\n",
       "        vertical-align: middle;\n",
       "    }\n",
       "\n",
       "    .dataframe tbody tr th {\n",
       "        vertical-align: top;\n",
       "    }\n",
       "\n",
       "    .dataframe thead th {\n",
       "        text-align: right;\n",
       "    }\n",
       "</style>\n",
       "<table border=\"1\" class=\"dataframe\">\n",
       "  <thead>\n",
       "    <tr style=\"text-align: right;\">\n",
       "      <th></th>\n",
       "      <th>no oversampled</th>\n",
       "      <th>RandomOverSampler</th>\n",
       "      <th>SMOTE</th>\n",
       "      <th>KMeansSMOTE</th>\n",
       "    </tr>\n",
       "  </thead>\n",
       "  <tbody>\n",
       "    <tr>\n",
       "      <th>train acc</th>\n",
       "      <td>0.937778</td>\n",
       "      <td>0.906667</td>\n",
       "      <td>0.874667</td>\n",
       "      <td>0.957447</td>\n",
       "    </tr>\n",
       "    <tr>\n",
       "      <th>test acc</th>\n",
       "      <td>0.92</td>\n",
       "      <td>0.904</td>\n",
       "      <td>0.848</td>\n",
       "      <td>0.97619</td>\n",
       "    </tr>\n",
       "    <tr>\n",
       "      <th>f1 score</th>\n",
       "      <td>0.951613</td>\n",
       "      <td>0.892857</td>\n",
       "      <td>0.837607</td>\n",
       "      <td>0.97479</td>\n",
       "    </tr>\n",
       "    <tr>\n",
       "      <th>roc_auc score</th>\n",
       "      <td>0.961538</td>\n",
       "      <td>0.959572</td>\n",
       "      <td>0.945749</td>\n",
       "      <td>0.998482</td>\n",
       "    </tr>\n",
       "  </tbody>\n",
       "</table>\n",
       "</div>"
      ],
      "text/plain": [
       "              no oversampled RandomOverSampler     SMOTE KMeansSMOTE\n",
       "train acc           0.937778          0.906667  0.874667    0.957447\n",
       "test acc                0.92             0.904     0.848     0.97619\n",
       "f1 score            0.951613          0.892857  0.837607     0.97479\n",
       "roc_auc score       0.961538          0.959572  0.945749    0.998482"
      ]
     },
     "execution_count": 76,
     "metadata": {},
     "output_type": "execute_result"
    }
   ],
   "source": [
    "from sklearn.linear_model import LogisticRegression\n",
    "from sklearn.model_selection import train_test_split\n",
    "from sklearn.metrics import f1_score, roc_auc_score\n",
    "\n",
    "data = [imb_df, over_df1, over_df2, over_df3]\n",
    "data_title = ['no oversampled', 'RandomOverSampler', 'SMOTE', 'KMeansSMOTE']\n",
    "\n",
    "scores = pd.DataFrame(index = ['train acc', 'test acc', 'f1 score', 'roc_auc score'], columns = data_title)\n",
    "\n",
    "for df, title in zip(data, data_title):\n",
    "    X = df.drop('target', axis = 1)\n",
    "    y = df.target\n",
    "\n",
    "    X_train, X_test, y_train, y_test = train_test_split(X, y, random_state = 42)\n",
    "    lr = LogisticRegression()\n",
    "    lr.fit(X_train, y_train)\n",
    "    y_pred = lr.predict(X_test)\n",
    "    scores.loc['train acc', title] = lr.score(X_train, y_train)\n",
    "    scores.loc['test acc', title] = lr.score(X_test, y_test)\n",
    "    scores.loc['f1 score', title] = f1_score(y_test, y_pred)\n",
    "    scores.loc['roc_auc score', title] = roc_auc_score(y_test, lr.predict_proba(X_test)[:,1])\n",
    "\n",
    "scores\n",
    "# KMeansSMOTE 가 가장 좋다"
   ]
  },
  {
   "cell_type": "markdown",
   "metadata": {},
   "source": [
    "## 2-4 변수변환"
   ]
  },
  {
   "cell_type": "markdown",
   "metadata": {},
   "source": [
    "+ 신경망 모델, 거리기반 모델 : 반드시 스케일링이 필요\n",
    "+ 트리 기반 모델 : 스케일링이 필수는 아님"
   ]
  },
  {
   "cell_type": "markdown",
   "metadata": {},
   "source": [
    "### 2.4.1 수치형 변수변환"
   ]
  },
  {
   "cell_type": "markdown",
   "metadata": {},
   "source": [
    "- 선형변환 : MinMaxScaling, StandardScaling, Robust Scaling, Quantile Scaling\n",
    "- 비선형변환 : 로그변환, Box-cox, Yeo-Johnson 등"
   ]
  }
 ],
 "metadata": {
  "kernelspec": {
   "display_name": "base",
   "language": "python",
   "name": "python3"
  },
  "language_info": {
   "codemirror_mode": {
    "name": "ipython",
    "version": 3
   },
   "file_extension": ".py",
   "mimetype": "text/x-python",
   "name": "python",
   "nbconvert_exporter": "python",
   "pygments_lexer": "ipython3",
   "version": "3.10.9"
  }
 },
 "nbformat": 4,
 "nbformat_minor": 2
}
