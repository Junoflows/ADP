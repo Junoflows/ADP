{
 "cells": [
  {
   "cell_type": "markdown",
   "metadata": {},
   "source": [
    "## 연습문제"
   ]
  },
  {
   "cell_type": "markdown",
   "metadata": {},
   "source": [
    "### EDA"
   ]
  },
  {
   "cell_type": "markdown",
   "metadata": {},
   "source": [
    "1. 다음 데이터를 탐색적 분석하세요  \n",
    "age : 나이, job : 직업, marital : 결혼상태, education : 학력, default : 신용 불이행 여부, balance : 은행잔고  \n",
    "housing : 부동산 대출 여부, loan : 개인 대출 여부, contact : 연락 수단, month : 마지막 연락한 달  \n",
    "y : 고객의 정기예금 가입 여부(종속변수)"
   ]
  },
  {
   "cell_type": "code",
   "execution_count": null,
   "metadata": {},
   "outputs": [],
   "source": [
    "import pandas as pd\n",
    "\n",
    "df = pd.read_csv('./data/practice1_bank.csv')\n",
    "df.head()\n",
    "# 기본 정보 확인\n",
    "df.info()\n",
    "\n",
    "## 결측치는 존재하지 않고 질적변수가 job, marital, education, default, housing, loan, contact, month, y 이다.\n",
    "## 양적변수는 age, balance 이다.\n",
    "# 기술 통계량 확인\n",
    "df.describe(include=['int64'])\n",
    "# 기술 통계량 확인\n",
    "df.describe(include=['object'])\n",
    "\n",
    "## 대부분의 사람이 신용불량자가 아님을 알 수 있다.\n",
    "qual = ['job', 'marital', 'education', 'default', 'housing', 'loan', 'contact', 'month', 'y']\n",
    "quan = ['age', 'balance']\n",
    "\n",
    "# 질적변수 시각화\n",
    "import matplotlib.pyplot as plt\n",
    "\n",
    "fig, axes = plt.subplots(3, 3, figsize = (15, 10))\n",
    "plt.subplots_adjust(wspace= 0.5, hspace= 0.5)\n",
    "\n",
    "for i, col in enumerate(qual):\n",
    "    axes[i // 3, i % 3].barh(df[col].value_counts().index, df[col].value_counts().values)\n",
    "    axes[i // 3, i % 3].set_title(col)\n",
    "# 양적변수 시각화\n",
    "fig, axes = plt.subplots(2, 2, figsize = (15, 10))\n",
    "plt.subplots_adjust(wspace= 0.5, hspace= 0.5)\n",
    "\n",
    "for i, col in enumerate(quan):\n",
    "    axes[i, 0].hist(df[col])\n",
    "    axes[i, 1].boxplot(df[col], vert = False)\n",
    "    axes[i, 0].set_title(col)\n",
    "    axes[i, 1].set_title(col)"
   ]
  },
  {
   "cell_type": "markdown",
   "metadata": {},
   "source": [
    "2. 어느 회사의 연도별 임금상승률이다. 평균 임금상승률을 구하기 위해 어떤 대표값을 설정해야하는가?  \n",
    "data = [0.04, 0.04, 0.05, 0.10, 0.08]"
   ]
  },
  {
   "cell_type": "code",
   "execution_count": null,
   "metadata": {},
   "outputs": [],
   "source": [
    "from scipy.stats.mstats import gmean\n",
    "\n",
    "data = [0.04, 0.03, 0.05, 0.10, 0.08]\n",
    "data1 = [1+x for x in data]\n",
    "gmean(data1) - 1\n",
    "\n",
    "# 평균 임금상승률은 5.9%"
   ]
  },
  {
   "cell_type": "markdown",
   "metadata": {},
   "source": [
    "3. 출근할 때 시속 3km/h, 퇴근할 때 시속 6km/h 일 때 평균속도를 구하라"
   ]
  },
  {
   "cell_type": "code",
   "execution_count": null,
   "metadata": {},
   "outputs": [],
   "source": [
    "# 평균속도를 구할 때는 조화평균을 사용한다.\n",
    "from scipy.stats.mstats import hmean\n",
    "\n",
    "hmean([3, 6]) # 평균속도는 4km/h"
   ]
  },
  {
   "cell_type": "markdown",
   "metadata": {},
   "source": [
    "4. A = [200, 49], B = [190, 36] 방금 구매한 A, B 물품이 모두 210 이라면 상대적으로 어느 것이 더 무거운가? [평균, 분산]"
   ]
  },
  {
   "cell_type": "code",
   "execution_count": null,
   "metadata": {},
   "outputs": [],
   "source": [
    "# 표준화한 점수로 비교하자.\n",
    "\n",
    "import numpy as np\n",
    "z1 = (210-200) / np.sqrt(49)\n",
    "z2 = (210-190) / np.sqrt(36)\n",
    "\n",
    "z1, z2 # z2 가 더 크므로 z2가 상대적으로 더 무겁다."
   ]
  },
  {
   "cell_type": "markdown",
   "metadata": {},
   "source": [
    "5. A = [10, 1], B = [8, 1] A와 B 중 어느 것의 용돈 격차가 더 심한가? [평균, 표준편차]"
   ]
  },
  {
   "cell_type": "code",
   "execution_count": null,
   "metadata": {},
   "outputs": [],
   "source": [
    "# 변동계수를 이용해 단위가 다른 두 집단의 차이를 비교\n",
    "a = 2 / 10\n",
    "b = 1 / 8\n",
    "\n",
    "a, b # a가 변동계수가 더 크므로 a가 용돈 격차가 더 심하다."
   ]
  },
  {
   "cell_type": "markdown",
   "metadata": {},
   "source": [
    "### 전처리"
   ]
  },
  {
   "cell_type": "markdown",
   "metadata": {},
   "source": [
    "1. 데이터의 결측치와 이상치를 확인하고 합리적인 전처리를 진행하라"
   ]
  },
  {
   "cell_type": "code",
   "execution_count": 29,
   "metadata": {},
   "outputs": [
    {
     "data": {
      "text/html": [
       "<div>\n",
       "<style scoped>\n",
       "    .dataframe tbody tr th:only-of-type {\n",
       "        vertical-align: middle;\n",
       "    }\n",
       "\n",
       "    .dataframe tbody tr th {\n",
       "        vertical-align: top;\n",
       "    }\n",
       "\n",
       "    .dataframe thead th {\n",
       "        text-align: right;\n",
       "    }\n",
       "</style>\n",
       "<table border=\"1\" class=\"dataframe\">\n",
       "  <thead>\n",
       "    <tr style=\"text-align: right;\">\n",
       "      <th></th>\n",
       "      <th>age</th>\n",
       "      <th>job</th>\n",
       "      <th>marital</th>\n",
       "      <th>education</th>\n",
       "      <th>default</th>\n",
       "      <th>balance</th>\n",
       "      <th>housing</th>\n",
       "      <th>loan</th>\n",
       "      <th>contact</th>\n",
       "      <th>month</th>\n",
       "      <th>y</th>\n",
       "    </tr>\n",
       "  </thead>\n",
       "  <tbody>\n",
       "    <tr>\n",
       "      <th>0</th>\n",
       "      <td>30</td>\n",
       "      <td>unemployed</td>\n",
       "      <td>married</td>\n",
       "      <td>primary</td>\n",
       "      <td>no</td>\n",
       "      <td>1787</td>\n",
       "      <td>no</td>\n",
       "      <td>no</td>\n",
       "      <td>cellular</td>\n",
       "      <td>oct</td>\n",
       "      <td>no</td>\n",
       "    </tr>\n",
       "    <tr>\n",
       "      <th>1</th>\n",
       "      <td>33</td>\n",
       "      <td>services</td>\n",
       "      <td>married</td>\n",
       "      <td>secondary</td>\n",
       "      <td>no</td>\n",
       "      <td>4789</td>\n",
       "      <td>yes</td>\n",
       "      <td>yes</td>\n",
       "      <td>cellular</td>\n",
       "      <td>may</td>\n",
       "      <td>no</td>\n",
       "    </tr>\n",
       "    <tr>\n",
       "      <th>2</th>\n",
       "      <td>35</td>\n",
       "      <td>management</td>\n",
       "      <td>single</td>\n",
       "      <td>tertiary</td>\n",
       "      <td>no</td>\n",
       "      <td>1350</td>\n",
       "      <td>yes</td>\n",
       "      <td>no</td>\n",
       "      <td>cellular</td>\n",
       "      <td>apr</td>\n",
       "      <td>no</td>\n",
       "    </tr>\n",
       "    <tr>\n",
       "      <th>3</th>\n",
       "      <td>30</td>\n",
       "      <td>management</td>\n",
       "      <td>married</td>\n",
       "      <td>tertiary</td>\n",
       "      <td>no</td>\n",
       "      <td>1476</td>\n",
       "      <td>yes</td>\n",
       "      <td>yes</td>\n",
       "      <td>unknown</td>\n",
       "      <td>jun</td>\n",
       "      <td>no</td>\n",
       "    </tr>\n",
       "    <tr>\n",
       "      <th>4</th>\n",
       "      <td>59</td>\n",
       "      <td>blue-collar</td>\n",
       "      <td>married</td>\n",
       "      <td>secondary</td>\n",
       "      <td>no</td>\n",
       "      <td>0</td>\n",
       "      <td>yes</td>\n",
       "      <td>no</td>\n",
       "      <td>unknown</td>\n",
       "      <td>may</td>\n",
       "      <td>no</td>\n",
       "    </tr>\n",
       "    <tr>\n",
       "      <th>...</th>\n",
       "      <td>...</td>\n",
       "      <td>...</td>\n",
       "      <td>...</td>\n",
       "      <td>...</td>\n",
       "      <td>...</td>\n",
       "      <td>...</td>\n",
       "      <td>...</td>\n",
       "      <td>...</td>\n",
       "      <td>...</td>\n",
       "      <td>...</td>\n",
       "      <td>...</td>\n",
       "    </tr>\n",
       "    <tr>\n",
       "      <th>4516</th>\n",
       "      <td>33</td>\n",
       "      <td>services</td>\n",
       "      <td>married</td>\n",
       "      <td>secondary</td>\n",
       "      <td>no</td>\n",
       "      <td>-333</td>\n",
       "      <td>yes</td>\n",
       "      <td>no</td>\n",
       "      <td>cellular</td>\n",
       "      <td>jul</td>\n",
       "      <td>no</td>\n",
       "    </tr>\n",
       "    <tr>\n",
       "      <th>4517</th>\n",
       "      <td>57</td>\n",
       "      <td>self-employed</td>\n",
       "      <td>married</td>\n",
       "      <td>tertiary</td>\n",
       "      <td>yes</td>\n",
       "      <td>-3313</td>\n",
       "      <td>yes</td>\n",
       "      <td>yes</td>\n",
       "      <td>unknown</td>\n",
       "      <td>may</td>\n",
       "      <td>no</td>\n",
       "    </tr>\n",
       "    <tr>\n",
       "      <th>4518</th>\n",
       "      <td>57</td>\n",
       "      <td>technician</td>\n",
       "      <td>married</td>\n",
       "      <td>secondary</td>\n",
       "      <td>no</td>\n",
       "      <td>295</td>\n",
       "      <td>no</td>\n",
       "      <td>no</td>\n",
       "      <td>cellular</td>\n",
       "      <td>aug</td>\n",
       "      <td>no</td>\n",
       "    </tr>\n",
       "    <tr>\n",
       "      <th>4519</th>\n",
       "      <td>28</td>\n",
       "      <td>blue-collar</td>\n",
       "      <td>married</td>\n",
       "      <td>secondary</td>\n",
       "      <td>no</td>\n",
       "      <td>1137</td>\n",
       "      <td>no</td>\n",
       "      <td>no</td>\n",
       "      <td>cellular</td>\n",
       "      <td>feb</td>\n",
       "      <td>no</td>\n",
       "    </tr>\n",
       "    <tr>\n",
       "      <th>4520</th>\n",
       "      <td>44</td>\n",
       "      <td>entrepreneur</td>\n",
       "      <td>single</td>\n",
       "      <td>tertiary</td>\n",
       "      <td>no</td>\n",
       "      <td>1136</td>\n",
       "      <td>yes</td>\n",
       "      <td>yes</td>\n",
       "      <td>cellular</td>\n",
       "      <td>apr</td>\n",
       "      <td>no</td>\n",
       "    </tr>\n",
       "  </tbody>\n",
       "</table>\n",
       "<p>4521 rows × 11 columns</p>\n",
       "</div>"
      ],
      "text/plain": [
       "      age            job  marital  education default  balance housing loan  \\\n",
       "0      30     unemployed  married    primary      no     1787      no   no   \n",
       "1      33       services  married  secondary      no     4789     yes  yes   \n",
       "2      35     management   single   tertiary      no     1350     yes   no   \n",
       "3      30     management  married   tertiary      no     1476     yes  yes   \n",
       "4      59    blue-collar  married  secondary      no        0     yes   no   \n",
       "...   ...            ...      ...        ...     ...      ...     ...  ...   \n",
       "4516   33       services  married  secondary      no     -333     yes   no   \n",
       "4517   57  self-employed  married   tertiary     yes    -3313     yes  yes   \n",
       "4518   57     technician  married  secondary      no      295      no   no   \n",
       "4519   28    blue-collar  married  secondary      no     1137      no   no   \n",
       "4520   44   entrepreneur   single   tertiary      no     1136     yes  yes   \n",
       "\n",
       "       contact month   y  \n",
       "0     cellular   oct  no  \n",
       "1     cellular   may  no  \n",
       "2     cellular   apr  no  \n",
       "3      unknown   jun  no  \n",
       "4      unknown   may  no  \n",
       "...        ...   ...  ..  \n",
       "4516  cellular   jul  no  \n",
       "4517   unknown   may  no  \n",
       "4518  cellular   aug  no  \n",
       "4519  cellular   feb  no  \n",
       "4520  cellular   apr  no  \n",
       "\n",
       "[4521 rows x 11 columns]"
      ]
     },
     "execution_count": 29,
     "metadata": {},
     "output_type": "execute_result"
    }
   ],
   "source": [
    "import pandas as pd\n",
    "import numpy as np\n",
    "import matplotlib.pyplot as plt\n",
    "import seaborn as sns\n",
    "\n",
    "df = pd.read_csv('./data/practice1_bank.csv')\n",
    "df"
   ]
  },
  {
   "cell_type": "code",
   "execution_count": 30,
   "metadata": {},
   "outputs": [
    {
     "name": "stdout",
     "output_type": "stream",
     "text": [
      "<class 'pandas.core.frame.DataFrame'>\n",
      "RangeIndex: 4521 entries, 0 to 4520\n",
      "Data columns (total 11 columns):\n",
      " #   Column     Non-Null Count  Dtype \n",
      "---  ------     --------------  ----- \n",
      " 0   age        4521 non-null   int64 \n",
      " 1   job        4521 non-null   object\n",
      " 2   marital    4521 non-null   object\n",
      " 3   education  4521 non-null   object\n",
      " 4   default    4521 non-null   object\n",
      " 5   balance    4521 non-null   int64 \n",
      " 6   housing    4521 non-null   object\n",
      " 7   loan       4521 non-null   object\n",
      " 8   contact    4521 non-null   object\n",
      " 9   month      4521 non-null   object\n",
      " 10  y          4521 non-null   object\n",
      "dtypes: int64(2), object(9)\n",
      "memory usage: 388.6+ KB\n"
     ]
    }
   ],
   "source": [
    "# 결측치 확인\n",
    "df.info() # 결측치는 없는 것으로 보임"
   ]
  },
  {
   "cell_type": "code",
   "execution_count": 31,
   "metadata": {},
   "outputs": [
    {
     "data": {
      "image/png": "[encoded data removed]",
      "text/plain": [
       "<Figure size 640x480 with 1 Axes>"
      ]
     },
     "metadata": {},
     "output_type": "display_data"
    }
   ],
   "source": [
    "# 양적변수인 balance 의 데이터 분포를 확인하자.\n",
    "plt.boxplot(df.balance, vert = False)\n",
    "plt.show()\n",
    "\n",
    "# 이상치로 보이는 데이터가 존재한다.\n",
    "# IQR 방식으로 이상치를 확인해보자."
   ]
  },
  {
   "cell_type": "code",
   "execution_count": 33,
   "metadata": {},
   "outputs": [
    {
     "data": {
      "text/plain": [
       "1       4789\n",
       "10      9374\n",
       "16      4073\n",
       "25      5883\n",
       "30      4189\n",
       "        ... \n",
       "4464    4554\n",
       "4473    4790\n",
       "4489    6945\n",
       "4500    4196\n",
       "4517   -3313\n",
       "Name: balance, Length: 506, dtype: int64"
      ]
     },
     "execution_count": 33,
     "metadata": {},
     "output_type": "execute_result"
    }
   ],
   "source": [
    "IQR = df.balance.quantile(0.75) - df.balance.quantile(0.25)\n",
    "top = df.balance.quantile(0.75) + 1.5*IQR\n",
    "down = df.balance.quantile(0.25) - 1.5*IQR\n",
    "\n",
    "# 이상치 값 찾기\n",
    "outlier = df[(df.balance > top) | (df.balance < down)]\n",
    "outlier.balance"
   ]
  },
  {
   "cell_type": "code",
   "execution_count": null,
   "metadata": {},
   "outputs": [],
   "source": [
    "# 이상치 처리하기\n",
    "## 위에서 정의한 top, down 을 벗어나는 데이터를 top, down 으로 이동해준다.\n",
    "top_index = df[(df.balance > top)].balance.index\n",
    "down_index = df[(df.balance < down)].balance.index\n",
    "df.loc[top_index, 'balance'] = np.nan\n",
    "df.loc[top_index, 'balance'] = top\n",
    "df.loc[down_index, 'balance'] = np.nan\n",
    "df.loc[down_index, 'balance'] = down"
   ]
  },
  {
   "cell_type": "code",
   "execution_count": 28,
   "metadata": {},
   "outputs": [
    {
     "data": {
      "image/png": "[encoded data removed]",
      "text/plain": [
       "<Figure size 640x480 with 1 Axes>"
      ]
     },
     "metadata": {},
     "output_type": "display_data"
    }
   ],
   "source": [
    "# balance 의 데이터 분포를 다시 확인하자.\n",
    "plt.boxplot(df.balance, vert = False)\n",
    "plt.show()\n",
    "\n",
    "# 이상치가 사라졌음을 알 수 있다."
   ]
  },
  {
   "cell_type": "markdown",
   "metadata": {},
   "source": [
    "2. 범주형 변수를 전처리 하는 방법을 2가지 이상 설명하고, 각 범주형 변수에 대한 적절한 전처리를 진행하세요"
   ]
  },
  {
   "cell_type": "markdown",
   "metadata": {},
   "source": [
    "레이블 인코딩\n",
    "+ 문자열인 수준들을 숫자로 매핑하는 변수변환이다. 서열척도 변수에 사용한다.\n",
    "\n",
    "더미코딩\n",
    "+ 범주형 변수의 수준의 개수보다 한 개 적게 변수를 만들어서 다중공선성을 방지하도록 가변수를 만드는 방법이다.\n",
    "+ 수준이 너무 많게 되면 특징의 개수도 많아져서 학습 시간이나 메모리가 급증할 수 있다."
   ]
  },
  {
   "cell_type": "code",
   "execution_count": 34,
   "metadata": {},
   "outputs": [
    {
     "name": "stdout",
     "output_type": "stream",
     "text": [
      "<class 'pandas.core.frame.DataFrame'>\n",
      "RangeIndex: 4521 entries, 0 to 4520\n",
      "Data columns (total 11 columns):\n",
      " #   Column     Non-Null Count  Dtype \n",
      "---  ------     --------------  ----- \n",
      " 0   age        4521 non-null   int64 \n",
      " 1   job        4521 non-null   object\n",
      " 2   marital    4521 non-null   object\n",
      " 3   education  4521 non-null   object\n",
      " 4   default    4521 non-null   object\n",
      " 5   balance    4521 non-null   int64 \n",
      " 6   housing    4521 non-null   object\n",
      " 7   loan       4521 non-null   object\n",
      " 8   contact    4521 non-null   object\n",
      " 9   month      4521 non-null   object\n",
      " 10  y          4521 non-null   object\n",
      "dtypes: int64(2), object(9)\n",
      "memory usage: 388.6+ KB\n"
     ]
    }
   ],
   "source": [
    "df.info()"
   ]
  },
  {
   "cell_type": "code",
   "execution_count": 36,
   "metadata": {},
   "outputs": [
    {
     "data": {
      "text/html": [
       "<div>\n",
       "<style scoped>\n",
       "    .dataframe tbody tr th:only-of-type {\n",
       "        vertical-align: middle;\n",
       "    }\n",
       "\n",
       "    .dataframe tbody tr th {\n",
       "        vertical-align: top;\n",
       "    }\n",
       "\n",
       "    .dataframe thead th {\n",
       "        text-align: right;\n",
       "    }\n",
       "</style>\n",
       "<table border=\"1\" class=\"dataframe\">\n",
       "  <thead>\n",
       "    <tr style=\"text-align: right;\">\n",
       "      <th></th>\n",
       "      <th>job</th>\n",
       "      <th>marital</th>\n",
       "      <th>education</th>\n",
       "      <th>default</th>\n",
       "      <th>housing</th>\n",
       "      <th>loan</th>\n",
       "      <th>contact</th>\n",
       "      <th>month</th>\n",
       "      <th>y</th>\n",
       "    </tr>\n",
       "  </thead>\n",
       "  <tbody>\n",
       "    <tr>\n",
       "      <th>count</th>\n",
       "      <td>4521</td>\n",
       "      <td>4521</td>\n",
       "      <td>4521</td>\n",
       "      <td>4521</td>\n",
       "      <td>4521</td>\n",
       "      <td>4521</td>\n",
       "      <td>4521</td>\n",
       "      <td>4521</td>\n",
       "      <td>4521</td>\n",
       "    </tr>\n",
       "    <tr>\n",
       "      <th>unique</th>\n",
       "      <td>12</td>\n",
       "      <td>3</td>\n",
       "      <td>4</td>\n",
       "      <td>2</td>\n",
       "      <td>2</td>\n",
       "      <td>2</td>\n",
       "      <td>3</td>\n",
       "      <td>12</td>\n",
       "      <td>2</td>\n",
       "    </tr>\n",
       "    <tr>\n",
       "      <th>top</th>\n",
       "      <td>management</td>\n",
       "      <td>married</td>\n",
       "      <td>secondary</td>\n",
       "      <td>no</td>\n",
       "      <td>yes</td>\n",
       "      <td>no</td>\n",
       "      <td>cellular</td>\n",
       "      <td>may</td>\n",
       "      <td>no</td>\n",
       "    </tr>\n",
       "    <tr>\n",
       "      <th>freq</th>\n",
       "      <td>969</td>\n",
       "      <td>2797</td>\n",
       "      <td>2306</td>\n",
       "      <td>4445</td>\n",
       "      <td>2559</td>\n",
       "      <td>3830</td>\n",
       "      <td>2896</td>\n",
       "      <td>1398</td>\n",
       "      <td>4000</td>\n",
       "    </tr>\n",
       "  </tbody>\n",
       "</table>\n",
       "</div>"
      ],
      "text/plain": [
       "               job  marital  education default housing  loan   contact month  \\\n",
       "count         4521     4521       4521    4521    4521  4521      4521  4521   \n",
       "unique          12        3          4       2       2     2         3    12   \n",
       "top     management  married  secondary      no     yes    no  cellular   may   \n",
       "freq           969     2797       2306    4445    2559  3830      2896  1398   \n",
       "\n",
       "           y  \n",
       "count   4521  \n",
       "unique     2  \n",
       "top       no  \n",
       "freq    4000  "
      ]
     },
     "execution_count": 36,
     "metadata": {},
     "output_type": "execute_result"
    }
   ],
   "source": [
    "df.describe(include= 'object')"
   ]
  },
  {
   "cell_type": "code",
   "execution_count": 37,
   "metadata": {},
   "outputs": [
    {
     "data": {
      "text/plain": [
       "array(['primary', 'secondary', 'tertiary', 'unknown'], dtype=object)"
      ]
     },
     "execution_count": 37,
     "metadata": {},
     "output_type": "execute_result"
    }
   ],
   "source": [
    "df['education'].unique()"
   ]
  },
  {
   "cell_type": "code",
   "execution_count": 38,
   "metadata": {},
   "outputs": [
    {
     "data": {
      "text/html": [
       "<div>\n",
       "<style scoped>\n",
       "    .dataframe tbody tr th:only-of-type {\n",
       "        vertical-align: middle;\n",
       "    }\n",
       "\n",
       "    .dataframe tbody tr th {\n",
       "        vertical-align: top;\n",
       "    }\n",
       "\n",
       "    .dataframe thead th {\n",
       "        text-align: right;\n",
       "    }\n",
       "</style>\n",
       "<table border=\"1\" class=\"dataframe\">\n",
       "  <thead>\n",
       "    <tr style=\"text-align: right;\">\n",
       "      <th></th>\n",
       "      <th>age</th>\n",
       "      <th>education</th>\n",
       "      <th>default</th>\n",
       "      <th>balance</th>\n",
       "      <th>housing</th>\n",
       "      <th>loan</th>\n",
       "      <th>y</th>\n",
       "      <th>job_blue-collar</th>\n",
       "      <th>job_entrepreneur</th>\n",
       "      <th>job_housemaid</th>\n",
       "      <th>...</th>\n",
       "      <th>month_dec</th>\n",
       "      <th>month_feb</th>\n",
       "      <th>month_jan</th>\n",
       "      <th>month_jul</th>\n",
       "      <th>month_jun</th>\n",
       "      <th>month_mar</th>\n",
       "      <th>month_may</th>\n",
       "      <th>month_nov</th>\n",
       "      <th>month_oct</th>\n",
       "      <th>month_sep</th>\n",
       "    </tr>\n",
       "  </thead>\n",
       "  <tbody>\n",
       "    <tr>\n",
       "      <th>0</th>\n",
       "      <td>30</td>\n",
       "      <td>1</td>\n",
       "      <td>0</td>\n",
       "      <td>1787</td>\n",
       "      <td>0</td>\n",
       "      <td>0</td>\n",
       "      <td>0</td>\n",
       "      <td>False</td>\n",
       "      <td>False</td>\n",
       "      <td>False</td>\n",
       "      <td>...</td>\n",
       "      <td>False</td>\n",
       "      <td>False</td>\n",
       "      <td>False</td>\n",
       "      <td>False</td>\n",
       "      <td>False</td>\n",
       "      <td>False</td>\n",
       "      <td>False</td>\n",
       "      <td>False</td>\n",
       "      <td>True</td>\n",
       "      <td>False</td>\n",
       "    </tr>\n",
       "    <tr>\n",
       "      <th>1</th>\n",
       "      <td>33</td>\n",
       "      <td>2</td>\n",
       "      <td>0</td>\n",
       "      <td>4789</td>\n",
       "      <td>1</td>\n",
       "      <td>1</td>\n",
       "      <td>0</td>\n",
       "      <td>False</td>\n",
       "      <td>False</td>\n",
       "      <td>False</td>\n",
       "      <td>...</td>\n",
       "      <td>False</td>\n",
       "      <td>False</td>\n",
       "      <td>False</td>\n",
       "      <td>False</td>\n",
       "      <td>False</td>\n",
       "      <td>False</td>\n",
       "      <td>True</td>\n",
       "      <td>False</td>\n",
       "      <td>False</td>\n",
       "      <td>False</td>\n",
       "    </tr>\n",
       "    <tr>\n",
       "      <th>2</th>\n",
       "      <td>35</td>\n",
       "      <td>3</td>\n",
       "      <td>0</td>\n",
       "      <td>1350</td>\n",
       "      <td>1</td>\n",
       "      <td>0</td>\n",
       "      <td>0</td>\n",
       "      <td>False</td>\n",
       "      <td>False</td>\n",
       "      <td>False</td>\n",
       "      <td>...</td>\n",
       "      <td>False</td>\n",
       "      <td>False</td>\n",
       "      <td>False</td>\n",
       "      <td>False</td>\n",
       "      <td>False</td>\n",
       "      <td>False</td>\n",
       "      <td>False</td>\n",
       "      <td>False</td>\n",
       "      <td>False</td>\n",
       "      <td>False</td>\n",
       "    </tr>\n",
       "    <tr>\n",
       "      <th>3</th>\n",
       "      <td>30</td>\n",
       "      <td>3</td>\n",
       "      <td>0</td>\n",
       "      <td>1476</td>\n",
       "      <td>1</td>\n",
       "      <td>1</td>\n",
       "      <td>0</td>\n",
       "      <td>False</td>\n",
       "      <td>False</td>\n",
       "      <td>False</td>\n",
       "      <td>...</td>\n",
       "      <td>False</td>\n",
       "      <td>False</td>\n",
       "      <td>False</td>\n",
       "      <td>False</td>\n",
       "      <td>True</td>\n",
       "      <td>False</td>\n",
       "      <td>False</td>\n",
       "      <td>False</td>\n",
       "      <td>False</td>\n",
       "      <td>False</td>\n",
       "    </tr>\n",
       "    <tr>\n",
       "      <th>4</th>\n",
       "      <td>59</td>\n",
       "      <td>2</td>\n",
       "      <td>0</td>\n",
       "      <td>0</td>\n",
       "      <td>1</td>\n",
       "      <td>0</td>\n",
       "      <td>0</td>\n",
       "      <td>True</td>\n",
       "      <td>False</td>\n",
       "      <td>False</td>\n",
       "      <td>...</td>\n",
       "      <td>False</td>\n",
       "      <td>False</td>\n",
       "      <td>False</td>\n",
       "      <td>False</td>\n",
       "      <td>False</td>\n",
       "      <td>False</td>\n",
       "      <td>True</td>\n",
       "      <td>False</td>\n",
       "      <td>False</td>\n",
       "      <td>False</td>\n",
       "    </tr>\n",
       "  </tbody>\n",
       "</table>\n",
       "<p>5 rows × 33 columns</p>\n",
       "</div>"
      ],
      "text/plain": [
       "   age  education  default  balance  housing  loan  y  job_blue-collar  \\\n",
       "0   30          1        0     1787        0     0  0            False   \n",
       "1   33          2        0     4789        1     1  0            False   \n",
       "2   35          3        0     1350        1     0  0            False   \n",
       "3   30          3        0     1476        1     1  0            False   \n",
       "4   59          2        0        0        1     0  0             True   \n",
       "\n",
       "   job_entrepreneur  job_housemaid  ...  month_dec  month_feb  month_jan  \\\n",
       "0             False          False  ...      False      False      False   \n",
       "1             False          False  ...      False      False      False   \n",
       "2             False          False  ...      False      False      False   \n",
       "3             False          False  ...      False      False      False   \n",
       "4             False          False  ...      False      False      False   \n",
       "\n",
       "   month_jul  month_jun  month_mar  month_may  month_nov  month_oct  month_sep  \n",
       "0      False      False      False      False      False       True      False  \n",
       "1      False      False      False       True      False      False      False  \n",
       "2      False      False      False      False      False      False      False  \n",
       "3      False       True      False      False      False      False      False  \n",
       "4      False      False      False       True      False      False      False  \n",
       "\n",
       "[5 rows x 33 columns]"
      ]
     },
     "execution_count": 38,
     "metadata": {},
     "output_type": "execute_result"
    }
   ],
   "source": [
    "# 변수 수준들에 서열이 있는 경우 레이블 인코딩을 사용하고 서열이 없는 경우 더미코딩을 사용하자.\n",
    "## 레이블 인코딩\n",
    "col1 = ['default', 'housing', 'loan', 'y']\n",
    "for col in col1:\n",
    "    df[col] = df[col].map({'yes' : 1, 'no' : 0})\n",
    "\n",
    "df['education'] = df['education'].map({'unknown' : 0, 'primary' : 1, 'secondary' : 2, 'tertiary' : 3})\n",
    "\n",
    "## 더미코딩\n",
    "df = pd.get_dummies(df, columns= ['job', 'marital', 'contact', 'month'], drop_first= True)\n",
    "\n",
    "df.head()"
   ]
  },
  {
   "cell_type": "markdown",
   "metadata": {},
   "source": [
    "3. 수치형 변수를 전처리 하는 방법을 2가지 이상 설명하고, 각 수치형 변수에 대한 적절한 전처리를 진행하세요"
   ]
  },
  {
   "cell_type": "markdown",
   "metadata": {},
   "source": [
    "표준화 스케일링\n",
    "+ 각 특성별로 표준점수를 구하는 변수변환 방법으로 평균을 0, 분산을 1로 변경하여 모든 특성이 같은 크기를 가지게 한다.\n",
    "+ 표준점수인 z는 원수치인 x가 평균에서 얼마나 떨어져 있는지를 나타내고 음수이면 평균이하, 양수이면 평균 이상이다.\n",
    "\n",
    "최대최소 스케일링\n",
    "+ 모든 특성이 정확하게 0과 1 사이에 위치하도록 데이터를 변경하는 방법이다.\n",
    "+ 변환 후의 평균이 정확히 0이 됮 않고 이상치의 영향을 받기 쉽다.\n",
    "\n",
    "표준화 스케일링 방법을 이용하자."
   ]
  },
  {
   "cell_type": "code",
   "execution_count": 43,
   "metadata": {},
   "outputs": [
    {
     "data": {
      "text/html": [
       "<div>\n",
       "<style scoped>\n",
       "    .dataframe tbody tr th:only-of-type {\n",
       "        vertical-align: middle;\n",
       "    }\n",
       "\n",
       "    .dataframe tbody tr th {\n",
       "        vertical-align: top;\n",
       "    }\n",
       "\n",
       "    .dataframe thead th {\n",
       "        text-align: right;\n",
       "    }\n",
       "</style>\n",
       "<table border=\"1\" class=\"dataframe\">\n",
       "  <thead>\n",
       "    <tr style=\"text-align: right;\">\n",
       "      <th></th>\n",
       "      <th>age</th>\n",
       "      <th>education</th>\n",
       "      <th>default</th>\n",
       "      <th>balance</th>\n",
       "      <th>housing</th>\n",
       "      <th>loan</th>\n",
       "      <th>y</th>\n",
       "      <th>job_blue-collar</th>\n",
       "      <th>job_entrepreneur</th>\n",
       "      <th>job_housemaid</th>\n",
       "      <th>...</th>\n",
       "      <th>month_dec</th>\n",
       "      <th>month_feb</th>\n",
       "      <th>month_jan</th>\n",
       "      <th>month_jul</th>\n",
       "      <th>month_jun</th>\n",
       "      <th>month_mar</th>\n",
       "      <th>month_may</th>\n",
       "      <th>month_nov</th>\n",
       "      <th>month_oct</th>\n",
       "      <th>month_sep</th>\n",
       "    </tr>\n",
       "  </thead>\n",
       "  <tbody>\n",
       "    <tr>\n",
       "      <th>0</th>\n",
       "      <td>30</td>\n",
       "      <td>1</td>\n",
       "      <td>0</td>\n",
       "      <td>0.121072</td>\n",
       "      <td>0</td>\n",
       "      <td>0</td>\n",
       "      <td>0</td>\n",
       "      <td>False</td>\n",
       "      <td>False</td>\n",
       "      <td>False</td>\n",
       "      <td>...</td>\n",
       "      <td>False</td>\n",
       "      <td>False</td>\n",
       "      <td>False</td>\n",
       "      <td>False</td>\n",
       "      <td>False</td>\n",
       "      <td>False</td>\n",
       "      <td>False</td>\n",
       "      <td>False</td>\n",
       "      <td>True</td>\n",
       "      <td>False</td>\n",
       "    </tr>\n",
       "    <tr>\n",
       "      <th>1</th>\n",
       "      <td>33</td>\n",
       "      <td>2</td>\n",
       "      <td>0</td>\n",
       "      <td>1.118644</td>\n",
       "      <td>1</td>\n",
       "      <td>1</td>\n",
       "      <td>0</td>\n",
       "      <td>False</td>\n",
       "      <td>False</td>\n",
       "      <td>False</td>\n",
       "      <td>...</td>\n",
       "      <td>False</td>\n",
       "      <td>False</td>\n",
       "      <td>False</td>\n",
       "      <td>False</td>\n",
       "      <td>False</td>\n",
       "      <td>False</td>\n",
       "      <td>True</td>\n",
       "      <td>False</td>\n",
       "      <td>False</td>\n",
       "      <td>False</td>\n",
       "    </tr>\n",
       "    <tr>\n",
       "      <th>2</th>\n",
       "      <td>35</td>\n",
       "      <td>3</td>\n",
       "      <td>0</td>\n",
       "      <td>-0.024144</td>\n",
       "      <td>1</td>\n",
       "      <td>0</td>\n",
       "      <td>0</td>\n",
       "      <td>False</td>\n",
       "      <td>False</td>\n",
       "      <td>False</td>\n",
       "      <td>...</td>\n",
       "      <td>False</td>\n",
       "      <td>False</td>\n",
       "      <td>False</td>\n",
       "      <td>False</td>\n",
       "      <td>False</td>\n",
       "      <td>False</td>\n",
       "      <td>False</td>\n",
       "      <td>False</td>\n",
       "      <td>False</td>\n",
       "      <td>False</td>\n",
       "    </tr>\n",
       "    <tr>\n",
       "      <th>3</th>\n",
       "      <td>30</td>\n",
       "      <td>3</td>\n",
       "      <td>0</td>\n",
       "      <td>0.017726</td>\n",
       "      <td>1</td>\n",
       "      <td>1</td>\n",
       "      <td>0</td>\n",
       "      <td>False</td>\n",
       "      <td>False</td>\n",
       "      <td>False</td>\n",
       "      <td>...</td>\n",
       "      <td>False</td>\n",
       "      <td>False</td>\n",
       "      <td>False</td>\n",
       "      <td>False</td>\n",
       "      <td>True</td>\n",
       "      <td>False</td>\n",
       "      <td>False</td>\n",
       "      <td>False</td>\n",
       "      <td>False</td>\n",
       "      <td>False</td>\n",
       "    </tr>\n",
       "    <tr>\n",
       "      <th>4</th>\n",
       "      <td>59</td>\n",
       "      <td>2</td>\n",
       "      <td>0</td>\n",
       "      <td>-0.472753</td>\n",
       "      <td>1</td>\n",
       "      <td>0</td>\n",
       "      <td>0</td>\n",
       "      <td>True</td>\n",
       "      <td>False</td>\n",
       "      <td>False</td>\n",
       "      <td>...</td>\n",
       "      <td>False</td>\n",
       "      <td>False</td>\n",
       "      <td>False</td>\n",
       "      <td>False</td>\n",
       "      <td>False</td>\n",
       "      <td>False</td>\n",
       "      <td>True</td>\n",
       "      <td>False</td>\n",
       "      <td>False</td>\n",
       "      <td>False</td>\n",
       "    </tr>\n",
       "  </tbody>\n",
       "</table>\n",
       "<p>5 rows × 33 columns</p>\n",
       "</div>"
      ],
      "text/plain": [
       "   age  education  default   balance  housing  loan  y  job_blue-collar  \\\n",
       "0   30          1        0  0.121072        0     0  0            False   \n",
       "1   33          2        0  1.118644        1     1  0            False   \n",
       "2   35          3        0 -0.024144        1     0  0            False   \n",
       "3   30          3        0  0.017726        1     1  0            False   \n",
       "4   59          2        0 -0.472753        1     0  0             True   \n",
       "\n",
       "   job_entrepreneur  job_housemaid  ...  month_dec  month_feb  month_jan  \\\n",
       "0             False          False  ...      False      False      False   \n",
       "1             False          False  ...      False      False      False   \n",
       "2             False          False  ...      False      False      False   \n",
       "3             False          False  ...      False      False      False   \n",
       "4             False          False  ...      False      False      False   \n",
       "\n",
       "   month_jul  month_jun  month_mar  month_may  month_nov  month_oct  month_sep  \n",
       "0      False      False      False      False      False       True      False  \n",
       "1      False      False      False       True      False      False      False  \n",
       "2      False      False      False      False      False      False      False  \n",
       "3      False       True      False      False      False      False      False  \n",
       "4      False      False      False       True      False      False      False  \n",
       "\n",
       "[5 rows x 33 columns]"
      ]
     },
     "execution_count": 43,
     "metadata": {},
     "output_type": "execute_result"
    }
   ],
   "source": [
    "from sklearn.preprocessing import StandardScaler\n",
    "\n",
    "scaler = StandardScaler()\n",
    "df['balance'] = scaler.fit_transform(df[['balance']])\n",
    "\n",
    "df.head()"
   ]
  },
  {
   "cell_type": "markdown",
   "metadata": {},
   "source": [
    "4. 해당 데이터에 클래스 불균형이 있는지 확인하고 그렇게 생각한 이유를 작성하세요."
   ]
  },
  {
   "cell_type": "code",
   "execution_count": 44,
   "metadata": {},
   "outputs": [
    {
     "data": {
      "text/plain": [
       "y\n",
       "0    4000\n",
       "1     521\n",
       "Name: count, dtype: int64"
      ]
     },
     "execution_count": 44,
     "metadata": {},
     "output_type": "execute_result"
    }
   ],
   "source": [
    "df['y'].value_counts()"
   ]
  },
  {
   "cell_type": "code",
   "execution_count": 48,
   "metadata": {},
   "outputs": [
    {
     "data": {
      "image/png": "[encoded data removed]",
      "text/plain": [
       "<Figure size 640x480 with 1 Axes>"
      ]
     },
     "metadata": {},
     "output_type": "display_data"
    }
   ],
   "source": [
    "plt.barh(df['y'].value_counts().index,df['y'].value_counts().values)\n",
    "plt.yticks(df['y'].value_counts().index)\n",
    "plt.show()\n",
    "\n",
    "# 종속변수 y 의 값 분포가 비율 차이가 약 8배 정도 나므로 클래스 불균형이 존재한다."
   ]
  },
  {
   "cell_type": "markdown",
   "metadata": {},
   "source": [
    "5. 클래스 불균형이 있는 데이터를 처리하는 방법들 중 2가지를 들어 그 방법의 장단점을 서술하고 그 중 하나를 선택하여 전처리를 진행하라"
   ]
  },
  {
   "cell_type": "markdown",
   "metadata": {},
   "source": [
    "오버샘플링\n",
    "+ 데이터 세트의 균형을 맞추기 위해 소수 클래스의 데이터를 다수 클래스의 데이터 수 만큼 만드는 것이다.\n",
    "+ 대표적으로 랜덤 오버 샘플링과 SMOTE 이 있다.\n",
    "+ 랜덤 오버샘플링은 단순 복제로 소수 클래스의 데이터 양을 늘리는 것으로 과적합의 위험이 있다.\n",
    "+ SMOTE 는 KNN 알고리즘을 사용해 K개의 중간 지점에 데이터를 생성하는 것으로 오버피팅의 위험이 적지만 새로운 데이터나 작은 데이터 세트에는 사용하기 어렵다.\n",
    "\n",
    "언더샘플링\n",
    "+ 데이터 세트의 균형을 맞추기 위해 다수 클래스를 소수 클래스 수로 줄이는 것이다.\n",
    "+ 대표적으로 랜덤언더샘플링이 있다.\n",
    "+ 언더샘플링을 하게 되면 데이터의 정보가 손실되기 때문에 과소적합의 위험이 있으며 설명력이 떨어질 수 있다.\n",
    "\n",
    "해당 데이터는 크기가 크지 않으므로 정보 손실의 우려로 오버샘플링이 적절하다."
   ]
  },
  {
   "cell_type": "code",
   "execution_count": 51,
   "metadata": {},
   "outputs": [
    {
     "name": "stdout",
     "output_type": "stream",
     "text": [
      "y\n",
      "0    2799\n",
      "1     365\n",
      "Name: count, dtype: int64\n",
      "y\n",
      "0    2799\n",
      "1    2799\n",
      "Name: count, dtype: int64\n"
     ]
    }
   ],
   "source": [
    "from imblearn.over_sampling import SMOTE\n",
    "\n",
    "X = df.drop(['y'], axis = 1)\n",
    "y = df['y']\n",
    "\n",
    "from sklearn.model_selection import train_test_split\n",
    "\n",
    "X_train, X_test, y_train, y_test = train_test_split(X, y, stratify = y, test_size = 0.3 , random_state= 42)\n",
    "sm = SMOTE()\n",
    "X_sm_train, y_sm_train = sm.fit_resample(X_train, y_train)\n",
    "\n",
    "print(y_train.value_counts())\n",
    "print(y_sm_train.value_counts())"
   ]
  },
  {
   "cell_type": "markdown",
   "metadata": {},
   "source": [
    "### 표본추출, 데이터 분할, 교차검증"
   ]
  },
  {
   "cell_type": "markdown",
   "metadata": {},
   "source": [
    "1. 랜덤포레스트 알고리즘의 파라미터 max_depth 의 후보 4개를 토대로 교차분석을 진행하고 그 결과를 표로 나타내시오"
   ]
  },
  {
   "cell_type": "code",
   "execution_count": 52,
   "metadata": {},
   "outputs": [
    {
     "data": {
      "text/html": [
       "<div>\n",
       "<style scoped>\n",
       "    .dataframe tbody tr th:only-of-type {\n",
       "        vertical-align: middle;\n",
       "    }\n",
       "\n",
       "    .dataframe tbody tr th {\n",
       "        vertical-align: top;\n",
       "    }\n",
       "\n",
       "    .dataframe thead th {\n",
       "        text-align: right;\n",
       "    }\n",
       "</style>\n",
       "<table border=\"1\" class=\"dataframe\">\n",
       "  <thead>\n",
       "    <tr style=\"text-align: right;\">\n",
       "      <th></th>\n",
       "      <th>age</th>\n",
       "      <th>job</th>\n",
       "      <th>marital</th>\n",
       "      <th>education</th>\n",
       "      <th>default</th>\n",
       "      <th>balance</th>\n",
       "      <th>housing</th>\n",
       "      <th>loan</th>\n",
       "      <th>contact</th>\n",
       "      <th>month</th>\n",
       "      <th>y</th>\n",
       "    </tr>\n",
       "  </thead>\n",
       "  <tbody>\n",
       "    <tr>\n",
       "      <th>0</th>\n",
       "      <td>30</td>\n",
       "      <td>unemployed</td>\n",
       "      <td>married</td>\n",
       "      <td>primary</td>\n",
       "      <td>no</td>\n",
       "      <td>1787</td>\n",
       "      <td>no</td>\n",
       "      <td>no</td>\n",
       "      <td>cellular</td>\n",
       "      <td>oct</td>\n",
       "      <td>no</td>\n",
       "    </tr>\n",
       "    <tr>\n",
       "      <th>1</th>\n",
       "      <td>33</td>\n",
       "      <td>services</td>\n",
       "      <td>married</td>\n",
       "      <td>secondary</td>\n",
       "      <td>no</td>\n",
       "      <td>4789</td>\n",
       "      <td>yes</td>\n",
       "      <td>yes</td>\n",
       "      <td>cellular</td>\n",
       "      <td>may</td>\n",
       "      <td>no</td>\n",
       "    </tr>\n",
       "    <tr>\n",
       "      <th>2</th>\n",
       "      <td>35</td>\n",
       "      <td>management</td>\n",
       "      <td>single</td>\n",
       "      <td>tertiary</td>\n",
       "      <td>no</td>\n",
       "      <td>1350</td>\n",
       "      <td>yes</td>\n",
       "      <td>no</td>\n",
       "      <td>cellular</td>\n",
       "      <td>apr</td>\n",
       "      <td>no</td>\n",
       "    </tr>\n",
       "    <tr>\n",
       "      <th>3</th>\n",
       "      <td>30</td>\n",
       "      <td>management</td>\n",
       "      <td>married</td>\n",
       "      <td>tertiary</td>\n",
       "      <td>no</td>\n",
       "      <td>1476</td>\n",
       "      <td>yes</td>\n",
       "      <td>yes</td>\n",
       "      <td>unknown</td>\n",
       "      <td>jun</td>\n",
       "      <td>no</td>\n",
       "    </tr>\n",
       "    <tr>\n",
       "      <th>4</th>\n",
       "      <td>59</td>\n",
       "      <td>blue-collar</td>\n",
       "      <td>married</td>\n",
       "      <td>secondary</td>\n",
       "      <td>no</td>\n",
       "      <td>0</td>\n",
       "      <td>yes</td>\n",
       "      <td>no</td>\n",
       "      <td>unknown</td>\n",
       "      <td>may</td>\n",
       "      <td>no</td>\n",
       "    </tr>\n",
       "  </tbody>\n",
       "</table>\n",
       "</div>"
      ],
      "text/plain": [
       "   age          job  marital  education default  balance housing loan  \\\n",
       "0   30   unemployed  married    primary      no     1787      no   no   \n",
       "1   33     services  married  secondary      no     4789     yes  yes   \n",
       "2   35   management   single   tertiary      no     1350     yes   no   \n",
       "3   30   management  married   tertiary      no     1476     yes  yes   \n",
       "4   59  blue-collar  married  secondary      no        0     yes   no   \n",
       "\n",
       "    contact month   y  \n",
       "0  cellular   oct  no  \n",
       "1  cellular   may  no  \n",
       "2  cellular   apr  no  \n",
       "3   unknown   jun  no  \n",
       "4   unknown   may  no  "
      ]
     },
     "execution_count": 52,
     "metadata": {},
     "output_type": "execute_result"
    }
   ],
   "source": [
    "df = pd.read_csv('./data/practice1_bank.csv')\n",
    "df.head()"
   ]
  },
  {
   "cell_type": "code",
   "execution_count": 54,
   "metadata": {},
   "outputs": [
    {
     "data": {
      "text/html": [
       "<div>\n",
       "<style scoped>\n",
       "    .dataframe tbody tr th:only-of-type {\n",
       "        vertical-align: middle;\n",
       "    }\n",
       "\n",
       "    .dataframe tbody tr th {\n",
       "        vertical-align: top;\n",
       "    }\n",
       "\n",
       "    .dataframe thead th {\n",
       "        text-align: right;\n",
       "    }\n",
       "</style>\n",
       "<table border=\"1\" class=\"dataframe\">\n",
       "  <thead>\n",
       "    <tr style=\"text-align: right;\">\n",
       "      <th></th>\n",
       "      <th>age</th>\n",
       "      <th>education</th>\n",
       "      <th>default</th>\n",
       "      <th>balance</th>\n",
       "      <th>housing</th>\n",
       "      <th>loan</th>\n",
       "      <th>y</th>\n",
       "      <th>job_blue-collar</th>\n",
       "      <th>job_entrepreneur</th>\n",
       "      <th>job_housemaid</th>\n",
       "      <th>...</th>\n",
       "      <th>month_dec</th>\n",
       "      <th>month_feb</th>\n",
       "      <th>month_jan</th>\n",
       "      <th>month_jul</th>\n",
       "      <th>month_jun</th>\n",
       "      <th>month_mar</th>\n",
       "      <th>month_may</th>\n",
       "      <th>month_nov</th>\n",
       "      <th>month_oct</th>\n",
       "      <th>month_sep</th>\n",
       "    </tr>\n",
       "  </thead>\n",
       "  <tbody>\n",
       "    <tr>\n",
       "      <th>0</th>\n",
       "      <td>30</td>\n",
       "      <td>1</td>\n",
       "      <td>0</td>\n",
       "      <td>1787</td>\n",
       "      <td>0</td>\n",
       "      <td>0</td>\n",
       "      <td>0</td>\n",
       "      <td>False</td>\n",
       "      <td>False</td>\n",
       "      <td>False</td>\n",
       "      <td>...</td>\n",
       "      <td>False</td>\n",
       "      <td>False</td>\n",
       "      <td>False</td>\n",
       "      <td>False</td>\n",
       "      <td>False</td>\n",
       "      <td>False</td>\n",
       "      <td>False</td>\n",
       "      <td>False</td>\n",
       "      <td>True</td>\n",
       "      <td>False</td>\n",
       "    </tr>\n",
       "    <tr>\n",
       "      <th>1</th>\n",
       "      <td>33</td>\n",
       "      <td>2</td>\n",
       "      <td>0</td>\n",
       "      <td>4789</td>\n",
       "      <td>1</td>\n",
       "      <td>1</td>\n",
       "      <td>0</td>\n",
       "      <td>False</td>\n",
       "      <td>False</td>\n",
       "      <td>False</td>\n",
       "      <td>...</td>\n",
       "      <td>False</td>\n",
       "      <td>False</td>\n",
       "      <td>False</td>\n",
       "      <td>False</td>\n",
       "      <td>False</td>\n",
       "      <td>False</td>\n",
       "      <td>True</td>\n",
       "      <td>False</td>\n",
       "      <td>False</td>\n",
       "      <td>False</td>\n",
       "    </tr>\n",
       "    <tr>\n",
       "      <th>2</th>\n",
       "      <td>35</td>\n",
       "      <td>3</td>\n",
       "      <td>0</td>\n",
       "      <td>1350</td>\n",
       "      <td>1</td>\n",
       "      <td>0</td>\n",
       "      <td>0</td>\n",
       "      <td>False</td>\n",
       "      <td>False</td>\n",
       "      <td>False</td>\n",
       "      <td>...</td>\n",
       "      <td>False</td>\n",
       "      <td>False</td>\n",
       "      <td>False</td>\n",
       "      <td>False</td>\n",
       "      <td>False</td>\n",
       "      <td>False</td>\n",
       "      <td>False</td>\n",
       "      <td>False</td>\n",
       "      <td>False</td>\n",
       "      <td>False</td>\n",
       "    </tr>\n",
       "    <tr>\n",
       "      <th>3</th>\n",
       "      <td>30</td>\n",
       "      <td>3</td>\n",
       "      <td>0</td>\n",
       "      <td>1476</td>\n",
       "      <td>1</td>\n",
       "      <td>1</td>\n",
       "      <td>0</td>\n",
       "      <td>False</td>\n",
       "      <td>False</td>\n",
       "      <td>False</td>\n",
       "      <td>...</td>\n",
       "      <td>False</td>\n",
       "      <td>False</td>\n",
       "      <td>False</td>\n",
       "      <td>False</td>\n",
       "      <td>True</td>\n",
       "      <td>False</td>\n",
       "      <td>False</td>\n",
       "      <td>False</td>\n",
       "      <td>False</td>\n",
       "      <td>False</td>\n",
       "    </tr>\n",
       "    <tr>\n",
       "      <th>4</th>\n",
       "      <td>59</td>\n",
       "      <td>2</td>\n",
       "      <td>0</td>\n",
       "      <td>0</td>\n",
       "      <td>1</td>\n",
       "      <td>0</td>\n",
       "      <td>0</td>\n",
       "      <td>True</td>\n",
       "      <td>False</td>\n",
       "      <td>False</td>\n",
       "      <td>...</td>\n",
       "      <td>False</td>\n",
       "      <td>False</td>\n",
       "      <td>False</td>\n",
       "      <td>False</td>\n",
       "      <td>False</td>\n",
       "      <td>False</td>\n",
       "      <td>True</td>\n",
       "      <td>False</td>\n",
       "      <td>False</td>\n",
       "      <td>False</td>\n",
       "    </tr>\n",
       "  </tbody>\n",
       "</table>\n",
       "<p>5 rows × 33 columns</p>\n",
       "</div>"
      ],
      "text/plain": [
       "   age  education  default  balance  housing  loan  y  job_blue-collar  \\\n",
       "0   30          1        0     1787        0     0  0            False   \n",
       "1   33          2        0     4789        1     1  0            False   \n",
       "2   35          3        0     1350        1     0  0            False   \n",
       "3   30          3        0     1476        1     1  0            False   \n",
       "4   59          2        0        0        1     0  0             True   \n",
       "\n",
       "   job_entrepreneur  job_housemaid  ...  month_dec  month_feb  month_jan  \\\n",
       "0             False          False  ...      False      False      False   \n",
       "1             False          False  ...      False      False      False   \n",
       "2             False          False  ...      False      False      False   \n",
       "3             False          False  ...      False      False      False   \n",
       "4             False          False  ...      False      False      False   \n",
       "\n",
       "   month_jul  month_jun  month_mar  month_may  month_nov  month_oct  month_sep  \n",
       "0      False      False      False      False      False       True      False  \n",
       "1      False      False      False       True      False      False      False  \n",
       "2      False      False      False      False      False      False      False  \n",
       "3      False       True      False      False      False      False      False  \n",
       "4      False      False      False       True      False      False      False  \n",
       "\n",
       "[5 rows x 33 columns]"
      ]
     },
     "execution_count": 54,
     "metadata": {},
     "output_type": "execute_result"
    }
   ],
   "source": [
    "# 변수 인코딩을 실시하자.\n",
    "# 변수 수준들에 서열이 있는 경우 레이블 인코딩을 사용하고 서열이 없는 경우 더미코딩을 사용하자.\n",
    "## 레이블 인코딩\n",
    "col1 = ['default', 'housing', 'loan', 'y']\n",
    "for col in col1:\n",
    "    df[col] = df[col].map({'yes' : 1, 'no' : 0})\n",
    "\n",
    "df['education'] = df['education'].map({'unknown' : 0, 'primary' : 1, 'secondary' : 2, 'tertiary' : 3})\n",
    "\n",
    "## 더미코딩\n",
    "df = pd.get_dummies(df, columns= ['job', 'marital', 'contact', 'month'], drop_first= True)\n",
    "\n",
    "df.head()"
   ]
  },
  {
   "cell_type": "code",
   "execution_count": 60,
   "metadata": {},
   "outputs": [
    {
     "name": "stdout",
     "output_type": "stream",
     "text": [
      "{'max_depth': 3}\n"
     ]
    },
    {
     "data": {
      "text/html": [
       "<div>\n",
       "<style scoped>\n",
       "    .dataframe tbody tr th:only-of-type {\n",
       "        vertical-align: middle;\n",
       "    }\n",
       "\n",
       "    .dataframe tbody tr th {\n",
       "        vertical-align: top;\n",
       "    }\n",
       "\n",
       "    .dataframe thead th {\n",
       "        text-align: right;\n",
       "    }\n",
       "</style>\n",
       "<table border=\"1\" class=\"dataframe\">\n",
       "  <thead>\n",
       "    <tr style=\"text-align: right;\">\n",
       "      <th></th>\n",
       "      <th>mean_fit_time</th>\n",
       "      <th>std_fit_time</th>\n",
       "      <th>mean_score_time</th>\n",
       "      <th>std_score_time</th>\n",
       "      <th>param_max_depth</th>\n",
       "      <th>params</th>\n",
       "      <th>split0_test_score</th>\n",
       "      <th>split1_test_score</th>\n",
       "      <th>split2_test_score</th>\n",
       "      <th>split3_test_score</th>\n",
       "      <th>split4_test_score</th>\n",
       "      <th>mean_test_score</th>\n",
       "      <th>std_test_score</th>\n",
       "      <th>rank_test_score</th>\n",
       "    </tr>\n",
       "  </thead>\n",
       "  <tbody>\n",
       "    <tr>\n",
       "      <th>0</th>\n",
       "      <td>0.132085</td>\n",
       "      <td>0.002757</td>\n",
       "      <td>0.001564</td>\n",
       "      <td>0.001999</td>\n",
       "      <td>3</td>\n",
       "      <td>{'max_depth': 3}</td>\n",
       "      <td>0.884676</td>\n",
       "      <td>0.884676</td>\n",
       "      <td>0.884676</td>\n",
       "      <td>0.884676</td>\n",
       "      <td>0.884494</td>\n",
       "      <td>0.884640</td>\n",
       "      <td>0.000073</td>\n",
       "      <td>1</td>\n",
       "    </tr>\n",
       "    <tr>\n",
       "      <th>1</th>\n",
       "      <td>0.133838</td>\n",
       "      <td>0.008678</td>\n",
       "      <td>0.003075</td>\n",
       "      <td>0.003235</td>\n",
       "      <td>4</td>\n",
       "      <td>{'max_depth': 4}</td>\n",
       "      <td>0.884676</td>\n",
       "      <td>0.884676</td>\n",
       "      <td>0.884676</td>\n",
       "      <td>0.884676</td>\n",
       "      <td>0.884494</td>\n",
       "      <td>0.884640</td>\n",
       "      <td>0.000073</td>\n",
       "      <td>1</td>\n",
       "    </tr>\n",
       "    <tr>\n",
       "      <th>2</th>\n",
       "      <td>0.146015</td>\n",
       "      <td>0.002881</td>\n",
       "      <td>0.006334</td>\n",
       "      <td>0.004259</td>\n",
       "      <td>5</td>\n",
       "      <td>{'max_depth': 5}</td>\n",
       "      <td>0.884676</td>\n",
       "      <td>0.884676</td>\n",
       "      <td>0.884676</td>\n",
       "      <td>0.883096</td>\n",
       "      <td>0.884494</td>\n",
       "      <td>0.884324</td>\n",
       "      <td>0.000618</td>\n",
       "      <td>3</td>\n",
       "    </tr>\n",
       "    <tr>\n",
       "      <th>3</th>\n",
       "      <td>0.149972</td>\n",
       "      <td>0.001527</td>\n",
       "      <td>0.005947</td>\n",
       "      <td>0.005835</td>\n",
       "      <td>6</td>\n",
       "      <td>{'max_depth': 6}</td>\n",
       "      <td>0.884676</td>\n",
       "      <td>0.883096</td>\n",
       "      <td>0.884676</td>\n",
       "      <td>0.883096</td>\n",
       "      <td>0.884494</td>\n",
       "      <td>0.884008</td>\n",
       "      <td>0.000747</td>\n",
       "      <td>4</td>\n",
       "    </tr>\n",
       "  </tbody>\n",
       "</table>\n",
       "</div>"
      ],
      "text/plain": [
       "   mean_fit_time  std_fit_time  mean_score_time  std_score_time  \\\n",
       "0       0.132085      0.002757         0.001564        0.001999   \n",
       "1       0.133838      0.008678         0.003075        0.003235   \n",
       "2       0.146015      0.002881         0.006334        0.004259   \n",
       "3       0.149972      0.001527         0.005947        0.005835   \n",
       "\n",
       "  param_max_depth            params  split0_test_score  split1_test_score  \\\n",
       "0               3  {'max_depth': 3}           0.884676           0.884676   \n",
       "1               4  {'max_depth': 4}           0.884676           0.884676   \n",
       "2               5  {'max_depth': 5}           0.884676           0.884676   \n",
       "3               6  {'max_depth': 6}           0.884676           0.883096   \n",
       "\n",
       "   split2_test_score  split3_test_score  split4_test_score  mean_test_score  \\\n",
       "0           0.884676           0.884676           0.884494         0.884640   \n",
       "1           0.884676           0.884676           0.884494         0.884640   \n",
       "2           0.884676           0.883096           0.884494         0.884324   \n",
       "3           0.884676           0.883096           0.884494         0.884008   \n",
       "\n",
       "   std_test_score  rank_test_score  \n",
       "0        0.000073                1  \n",
       "1        0.000073                1  \n",
       "2        0.000618                3  \n",
       "3        0.000747                4  "
      ]
     },
     "execution_count": 60,
     "metadata": {},
     "output_type": "execute_result"
    }
   ],
   "source": [
    "from sklearn.model_selection import train_test_split, GridSearchCV\n",
    "from sklearn.ensemble import RandomForestClassifier\n",
    "\n",
    "X = df.drop(['y'], axis = 1)\n",
    "y = df['y']\n",
    "\n",
    "X_train, X_test, y_train, y_test = train_test_split(X, y, stratify = y, test_size=0.3, random_state= 42)\n",
    "\n",
    "rf_clf = RandomForestClassifier()\n",
    "param_grid = {'max_depth' : [3,4,5,6]}\n",
    "\n",
    "grid_rf = GridSearchCV(rf_clf, param_grid, cv = 5)\n",
    "grid_rf.fit(X_train, y_train)\n",
    "\n",
    "print(grid_rf.best_params_)\n",
    "pd.DataFrame(grid_rf.cv_results_)"
   ]
  },
  {
   "cell_type": "markdown",
   "metadata": {},
   "source": [
    "### 확률분포"
   ]
  },
  {
   "cell_type": "markdown",
   "metadata": {},
   "source": [
    "1. 어느 사격선수가 과녁의 정중앙을 맞힐 확률이 80%라고 한다. 이 선수가 총 5번 사격을 할 때 평균적으로 몇번 정중앙을 맞히는지 구하시오."
   ]
  },
  {
   "cell_type": "code",
   "execution_count": 63,
   "metadata": {},
   "outputs": [
    {
     "data": {
      "text/plain": [
       "(4.0, 0.7999999999999998)"
      ]
     },
     "execution_count": 63,
     "metadata": {},
     "output_type": "execute_result"
    }
   ],
   "source": [
    "# 이항분포 분포\n",
    "from scipy.stats import binom\n",
    "binom.stats(5, 0.8) # 평균 4번"
   ]
  },
  {
   "cell_type": "markdown",
   "metadata": {},
   "source": [
    "2. 전체 청소년의 40%가 11시 이전에 잠을 잔다고 하면, 임의로 선택한 10명의 청소년 중에 3명이 11시 이전에 잠을 잘 확률을 계산하시오"
   ]
  },
  {
   "cell_type": "code",
   "execution_count": 70,
   "metadata": {},
   "outputs": [
    {
     "data": {
      "text/plain": [
       "0.21499084799999976"
      ]
     },
     "execution_count": 70,
     "metadata": {},
     "output_type": "execute_result"
    }
   ],
   "source": [
    "# 이항분포\n",
    "# 분포함수(누적확률질량함수)\n",
    "binom.pmf(3, 10, 0.4)"
   ]
  },
  {
   "cell_type": "markdown",
   "metadata": {},
   "source": [
    "3. 어느 아파트 단지에서 밤 11시부터 새벽 2시 사이에 배달되는 음식 배달 건수는 시간 당 평균 5건이다.  \n",
    "    음식 배달 건수의 분포가 푸아송분포를 따른다면 오늘 새벽 12시와 1시 사이에 배달이 1건만 발생할 확률을 구하라"
   ]
  },
  {
   "cell_type": "code",
   "execution_count": 69,
   "metadata": {},
   "outputs": [
    {
     "data": {
      "text/plain": [
       "0.03368973499542734"
      ]
     },
     "execution_count": 69,
     "metadata": {},
     "output_type": "execute_result"
    }
   ],
   "source": [
    "x = 1\n",
    "lam = 5\n",
    "\n",
    "from scipy.stats import poisson\n",
    "\n",
    "poisson.pmf(x, lam)"
   ]
  },
  {
   "cell_type": "markdown",
   "metadata": {},
   "source": [
    "4. A 대학교 B전공 시험의 성적 분포는 평균이 65, 표준편차 12인 정규분포를 따른다.  \n",
    "    최고 점수부터 10% 까지를 A+로 분류한다면, A+ 를 받기 위해 최소 몇점을 받아야 하는가?\n",
    "    "
   ]
  },
  {
   "cell_type": "code",
   "execution_count": 68,
   "metadata": {},
   "outputs": [
    {
     "data": {
      "text/plain": [
       "80.3786187865352"
      ]
     },
     "execution_count": 68,
     "metadata": {},
     "output_type": "execute_result"
    }
   ],
   "source": [
    "from scipy.stats import norm\n",
    "z = norm.ppf(0.9)\n",
    "# (x-65) / 12 = norm.ppf(0.9)\n",
    "z * 12 + 65 # 81점"
   ]
  },
  {
   "cell_type": "markdown",
   "metadata": {},
   "source": [
    "### 추정과 가설검정"
   ]
  },
  {
   "cell_type": "markdown",
   "metadata": {},
   "source": [
    "1. 다음 데이터의 모분산 정보가 없을 때, 다음 데이터의 모평균에 대한 95% 신뢰수준의 신뢰구간을 구하시오. 또한, 다음 데이터의 모표준편차가 3이라는 것을 알고 있을 때, 다음 데이터의 모평균에 대한 95% 신뢰수준의 신뢰구간을 구하시오."
   ]
  },
  {
   "cell_type": "markdown",
   "metadata": {},
   "source": [
    "data = [10, 19, 15, 11, 13, 14, 18]"
   ]
  },
  {
   "cell_type": "code",
   "execution_count": 10,
   "metadata": {},
   "outputs": [
    {
     "name": "stdout",
     "output_type": "stream",
     "text": [
      "신뢰구간 11.185329064313652 ~ 17.38609950711492\n",
      "신뢰구간 12.063324022113047 ~ 16.508104549315526\n"
     ]
    }
   ],
   "source": [
    "data = [10, 19, 15, 11, 13, 14, 18]\n",
    "\n",
    "# 모분산 정보가 없을 때\n",
    "import numpy as np\n",
    "from scipy.stats import t, norm\n",
    "\n",
    "x = np.mean(data) # 표본평균\n",
    "n = len(data) # 표본 크기\n",
    "s = np.std(data, ddof = 1) # 표본표준편차\n",
    "conf_a = 0.05\n",
    "df = n-1\n",
    "\n",
    "SE = s / np.sqrt(n)\n",
    "conf_t = t.ppf(1 - conf_a/2, df)\n",
    "ME = conf_t*SE\n",
    "\n",
    "print('신뢰구간 {} ~ {}'.format(x-ME, x+ME))\n",
    "\n",
    "# 모분산 정보가 있을 때\n",
    "sigma = 3\n",
    "conf_z = norm.ppf(1-conf_a/2)\n",
    "SE = sigma / np.sqrt(n)\n",
    "ME = conf_z * SE\n",
    "\n",
    "print('신뢰구간 {} ~ {}'.format(x-ME, x+ME))"
   ]
  },
  {
   "cell_type": "markdown",
   "metadata": {},
   "source": [
    "2. 어느 제조회사의 불량률이 5%로 알려져 있다면, 95% 신뢰수준에서 오차의 한계가 3%가 되도록 하는 최소표본 사이즈를 구하시오."
   ]
  },
  {
   "cell_type": "code",
   "execution_count": 11,
   "metadata": {},
   "outputs": [
    {
     "data": {
      "text/plain": [
       "202.74365998107885"
      ]
     },
     "execution_count": 11,
     "metadata": {},
     "output_type": "execute_result"
    }
   ],
   "source": [
    "p = 0.05\n",
    "\n",
    "ME = 0.03\n",
    "conf_a = 0.05\n",
    "zstats = norm.ppf(1-conf_a/2)\n",
    "# SE = np.sqrt(p*(1-p) / n)\n",
    "\n",
    "# ME < zstats*SE\n",
    "\n",
    "size = p*(1-p)*zstats**2 / ME**2 # 203개"
   ]
  },
  {
   "cell_type": "markdown",
   "metadata": {},
   "source": [
    "3. 임의로 추출한 표본 30개의 분산을 계산했더니 50일 때, 신뢰도 95%로 모분산의 신뢰구간을 추정하시오."
   ]
  },
  {
   "cell_type": "code",
   "execution_count": 17,
   "metadata": {},
   "outputs": [
    {
     "name": "stdout",
     "output_type": "stream",
     "text": [
      "신뢰구간 31.71 ~ 90.36\n"
     ]
    }
   ],
   "source": [
    "from scipy.stats import chi2\n",
    "n = 30\n",
    "v = 50\n",
    "df = n-1\n",
    "conf_a = 0.05\n",
    "\n",
    "conf_c1 = chi2.ppf(1-conf_a/2, df)\n",
    "conf_c2 = chi2.ppf(conf_a/2, df)\n",
    "\n",
    "CI1 = df * v / conf_c1\n",
    "CI2 = df * v / conf_c2\n",
    "\n",
    "print('신뢰구간 {:.2f} ~ {:.2f}'.format(CI1, CI2))"
   ]
  },
  {
   "cell_type": "markdown",
   "metadata": {},
   "source": [
    "4. 어느 뽑기 기계에서 20번 뽑기를 했더니 5개가 미니카였다. 해당 뽑기 기계에 있는 장난가들 중 미니카의 비율을 P라고 하면, 모비율 P에 대한 95% 신뢰구간을 구하시오."
   ]
  },
  {
   "cell_type": "code",
   "execution_count": 18,
   "metadata": {},
   "outputs": [
    {
     "name": "stdout",
     "output_type": "stream",
     "text": [
      "신뢰구간 0.060227303217750994 ~ 0.439772696782249\n"
     ]
    }
   ],
   "source": [
    "p = 5 / 20 # 표본비율\n",
    "n = 20\n",
    "\n",
    "conf_a = 0.05\n",
    "zstats = norm.ppf(1-conf_a/2)\n",
    "SE = np.sqrt(p*(1-p) / n)\n",
    "ME = zstats * SE\n",
    "\n",
    "print('신뢰구간 {} ~ {}'.format(p-ME, p+ME))"
   ]
  },
  {
   "cell_type": "markdown",
   "metadata": {},
   "source": [
    "5. A 국가의 성인 남성의 흡연율이 35% 라고 발표하였으나 B는 그것보다 더 높은 수치를 예상했다. 이에 성인 남성 중 450명을 임의 추출하여 조사한 결과 180명이 흡연자인 것을 확인하였다. 이에 대하여 귀무가설과 대립가설을 세우고, 검정통계량을 계산하여 검정 결과를 서술하시오."
   ]
  },
  {
   "cell_type": "code",
   "execution_count": 20,
   "metadata": {},
   "outputs": [
    {
     "name": "stdout",
     "output_type": "stream",
     "text": [
      "임계값 : 1.6448536269514722, 검정통계량 : 2.2237479499833053\n",
      "유의수준 :0.05, 유의확률 :0.013082703570710397\n"
     ]
    }
   ],
   "source": [
    "# H0 : 성인 남성의 흡연율이 35% 이다.\n",
    "# H1 : 성인 남성의 흡연율이 35% 보다 크다.\n",
    "# 단측 검정\n",
    "n = 450\n",
    "p = 180 / 450 # 표본비율\n",
    "p0 = 0.35\n",
    "test_a = 0.05\n",
    "\n",
    "SE = np.sqrt(p0*(1-p0) / n)\n",
    "zstats = (p - p0) / SE\n",
    "\n",
    "sp = 1-norm.cdf(zstats)\n",
    "cv = norm.ppf(1-test_a)\n",
    "\n",
    "print('임계값 : {}, 검정통계량 : {}'.format(cv, zstats))\n",
    "print('유의수준 :{}, 유의확률 :{}'.format(test_a, sp))\n",
    "\n",
    "# 유의확률이 유의수준 0.05보다 작으므로 귀무가설을 기각. 즉 성인 남성의 흡연율이 35% 보다 크다."
   ]
  },
  {
   "cell_type": "markdown",
   "metadata": {},
   "source": [
    "6. 모평균을 모르는 상황에서 표본의 정보를 통해 모분산이 10인지 아닌지 여부를 검정하고자 한다. 50개의 표본을 임의로 추출하여 계산한 결과 표본의 분산은 8.8로 나타났다. 이에 대해 귀무가설과 대립가설을 세우고, 검정통계량을 계산하여 검정 결과를 서술하시오. (유의수준 0.05)"
   ]
  },
  {
   "cell_type": "code",
   "execution_count": 21,
   "metadata": {},
   "outputs": [
    {
     "data": {
      "text/plain": [
       "0.29066626821562375"
      ]
     },
     "execution_count": 21,
     "metadata": {},
     "output_type": "execute_result"
    }
   ],
   "source": [
    "# H0 : 모분산이 10이다.\n",
    "# H1 : 모분산이 10이 아니다.\n",
    "\n",
    "from scipy.stats import chi2\n",
    "n = 50\n",
    "v = 8.8\n",
    "df = n-1\n",
    "v0 = 10\n",
    "test_a = 0.05\n",
    "\n",
    "cstats = df*v / v0\n",
    "\n",
    "if chi2.cdf(cstats, df) < 0.5:\n",
    "    sp = chi2.cdf(cstats, df)*2\n",
    "else:\n",
    "    sp = (1-chi2.cdf(cstats, df))*2\n",
    "\n",
    "cv1 = chi2.ppf(test_a /2, df)"
   ]
  },
  {
   "cell_type": "code",
   "execution_count": null,
   "metadata": {},
   "outputs": [],
   "source": []
  },
  {
   "cell_type": "markdown",
   "metadata": {},
   "source": [
    "### 비모수 검정"
   ]
  },
  {
   "cell_type": "markdown",
   "metadata": {},
   "source": [
    "1. 아래 그래프는 A, B, C 동별 입주민의 주민대표 찬반 투표 결과를 나타낸다. 동별 찬반 비율이 동일한 지 귀무가설과 대립가설을 설정하고, 검정 통계량을 계산하여 검정하시오. (유의수준 0.05)"
   ]
  },
  {
   "cell_type": "code",
   "execution_count": 9,
   "metadata": {},
   "outputs": [
    {
     "name": "stdout",
     "output_type": "stream",
     "text": [
      "     A   B   C\n",
      "찬성  50  60  65\n",
      "반대  45  32  55\n",
      "검정통계량 : 3.6673765482546967\n",
      "p-value : 0.1598230083055444\n"
     ]
    }
   ],
   "source": [
    "import pandas as pd\n",
    "table = pd.DataFrame([[50, 60, 65], [45, 32, 55]], columns= ['A', 'B', 'C'], index = ['찬성', '반대'])\n",
    "print(table)\n",
    "\n",
    "# H0 : 동별 찬반 비율이 동일하다.\n",
    "# H1 : 동별 찬반 비율이 동일하지 않다.\n",
    "\n",
    "# 동질성 검정을 실시하자.\n",
    "from scipy.stats import chi2_contingency\n",
    "\n",
    "# chi2_contingency(table)\n",
    "statistic, pvalue, df, expect = chi2_contingency(table)\n",
    "print('검정통계량 :', statistic)\n",
    "print('p-value :', pvalue)\n",
    "\n",
    "# pvalue 가 유의수준 0.05보다 크므로 귀무가설을 기각할 수 없다. 즉 동별 찬반 비율이 동일하다."
   ]
  },
  {
   "cell_type": "markdown",
   "metadata": {},
   "source": [
    "2. 특정 캠페인에 노출되기 전과 후의 캠페인 주제에 대한 지지 여부를 기록한 데이터이다. 캠페인 전후의 지지 비율이 차이가 있는지 귀무가설과 대립가설을 설정하고, 검정통계량을 계산하여 검정하시오.\n"
   ]
  },
  {
   "cell_type": "code",
   "execution_count": 16,
   "metadata": {},
   "outputs": [
    {
     "name": "stdout",
     "output_type": "stream",
     "text": [
      "    before  after\n",
      "0        1      0\n",
      "1        1      1\n",
      "2        1      1\n",
      "3        0      1\n",
      "4        1      0\n",
      "5        0      1\n",
      "6        1      0\n",
      "7        1      1\n",
      "8        0      0\n",
      "9        1      0\n",
      "10       1      0\n",
      "11       0      1\n",
      "12       0      1\n",
      "13       0      1\n",
      "14       0      1\n",
      "15       0      0\n",
      "16       0      0\n",
      "17       1      0\n",
      "18       1      0\n",
      "19       1      1\n",
      "20       0      1\n",
      "21       1      1\n",
      "22       0      1\n",
      "23       0      1\n",
      "24       0      1\n",
      "25       1      1\n",
      "26       1      0\n",
      "27       1      0\n",
      "28       0      1\n",
      "29       0      1\n",
      "30       0      0\n"
     ]
    }
   ],
   "source": [
    "data = pd.read_csv('https://raw.githubusercontent.com/algoboni/pythoncodebook1-1/main/practice6_ba.csv', index_col= 0)\n",
    "print(data)"
   ]
  },
  {
   "cell_type": "code",
   "execution_count": 20,
   "metadata": {},
   "outputs": [
    {
     "name": "stdout",
     "output_type": "stream",
     "text": [
      "ShapiroResult(statistic=0.7896208763122559, pvalue=3.335928340675309e-05)\n"
     ]
    },
    {
     "data": {
      "text/plain": [
       "TtestResult(statistic=-0.6485065517506755, pvalue=0.5215908504704979, df=30)"
      ]
     },
     "execution_count": 20,
     "metadata": {},
     "output_type": "execute_result"
    }
   ],
   "source": [
    "# 정규성 검정\n",
    "from scipy.stats import shapiro\n",
    "\n",
    "# 정규성 검정의 가설검정\n",
    "# H0 : 데이터의 분포가 정규성을 만족한다.\n",
    "# H1 : 데이터의 분포가 정규성을 만족하지 않는다.\n",
    "print(shapiro(data['before'] - data['after']))\n",
    "\n",
    "# pvalue 가 0.05보다 크므로 귀무가설을 기각할 수 없다. 즉 데이터의 분포가 정규성을 만족한다.\n",
    "\n",
    "# 정규성을 만족하므로 대응표본 T 검정을 실시한다.\n",
    "# H0 : 켐페인 전후의 지지 비율이 같다.\n",
    "# H1 : 켐페인 전후의 지지 비율이 다르다.\n",
    "\n",
    "from scipy.stats import ttest_rel\n",
    "\n",
    "ttest_rel(data['before'], data['after'], alternative='two-sided')\n",
    "\n",
    "# p-value 가 0.05보다 크므로 귀무가설을 기각할 수 없다. 즉 켐페인 전후의 지지 비율이 같다고 할 수 있다."
   ]
  },
  {
   "cell_type": "code",
   "execution_count": null,
   "metadata": {},
   "outputs": [],
   "source": [
    "# pvalue 가 0.05보다 작으므로 귀무가설을 기각한다. 즉 데이터의 분포가 정규성을 만족하지 않는다.\n",
    "\n",
    "# 정규성을 만족하지 않으므로 윌콕슨 부호검정을 실시한다.\n",
    "# H0 : 켐페인 전후의 지지 비율이 같다.\n",
    "# H1 : 켐페인 전후의 지지 비율이 다르다.\n",
    "\n",
    "from scipy.stats import wilcoxon\n",
    "\n",
    "wilcoxon(data['before'], data['after'])\n",
    "\n",
    "# p-value 가 0.05보다 크므로 귀무가설을 기각할 수 없다. 즉 켐페인 전후의 지지 비율이 같다고 할 수 있다."
   ]
  },
  {
   "cell_type": "markdown",
   "metadata": {},
   "source": [
    "3. 다음의 T와 F가 무작위로 나열되어 있다고 불 수 있는지 귀무가설과 대립가설을 설정하고, 검정통계량을 계산하여 검정하시오."
   ]
  },
  {
   "cell_type": "code",
   "execution_count": 24,
   "metadata": {},
   "outputs": [
    {
     "name": "stdout",
     "output_type": "stream",
     "text": [
      "검정통계량 : 2.1866069605669876\n",
      "p-value : 0.028771228782561286\n"
     ]
    }
   ],
   "source": [
    "data = [1,0,0,1,0,1,0,1,1,0,0,1,0,1,0,1,0,1]\n",
    "\n",
    "# 일표본 Run 검정을 실시한다.\n",
    "# H0 : 0, 1이 무작위로 나열되어 있다.\n",
    "# H1 : 0, 1이 무작위로 나열되어 있지 않다.\n",
    "\n",
    "from statsmodels.sandbox.stats.runs import runstest_1samp\n",
    "\n",
    "statistic, pvalue = runstest_1samp(data)\n",
    "print('검정통계량 :', statistic)\n",
    "print('p-value :', pvalue)\n",
    "\n",
    "# p-value 가 0.05보다 작으므로 귀무가설을 기각한다. 즉 무작위로 나열되어 있지 않다."
   ]
  },
  {
   "cell_type": "markdown",
   "metadata": {},
   "source": [
    "4. 20대보다 30대가 기대하는 연봉상승률이 더 높다는 주장이 있다. 이 주장이 타당한지를 확인해보기 위해서 20대 10명과 30대 8명을 임의로 추출하여 기대하는 연봉상승률을 다음과 같이 정리하였다. 이 주장을 검정하기 위한 귀무가설과 대립가설을 설정하고, 검정통계량을 계산하여 검정하시오."
   ]
  },
  {
   "cell_type": "code",
   "execution_count": 59,
   "metadata": {},
   "outputs": [
    {
     "name": "stdout",
     "output_type": "stream",
     "text": [
      "ShapiroResult(statistic=0.9171079993247986, pvalue=0.33346471190452576)\n",
      "ShapiroResult(statistic=0.9105510115623474, pvalue=0.35795992612838745)\n"
     ]
    },
    {
     "data": {
      "text/plain": [
       "Ttest_indResult(statistic=-2.6954739912264585, pvalue=0.007959429891479889)"
      ]
     },
     "execution_count": 59,
     "metadata": {},
     "output_type": "execute_result"
    }
   ],
   "source": [
    "A = [3.0, 3.5, 2.0, 2.8, 5.0, 0, 2.3, 2.8, 3.3, 3.5]\n",
    "B = [3.5, 5.5, 5.0, 5.0, 10.0, 8.0, 2.5, 3.0]\n",
    "\n",
    "# 데이터의 정규성을 검정하자.\n",
    "# H0 : 정규분포를 만족한다.\n",
    "# H1 : 정규분포를 만족하지 않는다.\n",
    "\n",
    "print(shapiro(A))\n",
    "print(shapiro(B))\n",
    "\n",
    "# A, B 모두 pvalue 가 0.05보다 크므로 귀무가설을 기각할 수 없다. 즉 정규성을 만족한다.\n",
    "\n",
    "# 등분산성을 검정하자.\n",
    "# H0 : 등분산성을 만족한다.\n",
    "# H1 : 등분산성을 만족하지 않는다.\n",
    "\n",
    "from scipy.stats import levene\n",
    "\n",
    "levene(A, B)\n",
    "\n",
    "# pvalue 가 0.05보다 크므로 귀무가설을 기각할 수 없다. 즉 등분산성을 만족한다.\n",
    "\n",
    "# 독립표본 T 검정을 실시하자.\n",
    "# H0 : 20대, 30대의 연봉상승률이 같다.\n",
    "# H1 : 20대, 30대의 연봉상승률이 30대가 더 크다.\n",
    "from scipy.stats import ttest_ind\n",
    "\n",
    "ttest_ind(A, B, equal_var = True, alternative='less') \n",
    "\n",
    "# pvalue가 0.05보다 작으므로 귀무가설을 기각한다. 즉 20대, 30대의 연봉상승률이 30대가 더 크다."
   ]
  },
  {
   "cell_type": "markdown",
   "metadata": {},
   "source": [
    "5. 양식, 한식, 중식에 대해 5명의 선호도를 나타내는 표이다. '선호하지 않는다' 를 1, '보통이다' 를 2, '선호한다' 를 3으로 응답하였다. 음식 종류에 따라 선호도 차이가 있는지 귀무가설과 대립가설을 설정하고, 검정 통계량을 계산하여 검정하시오."
   ]
  },
  {
   "cell_type": "code",
   "execution_count": 64,
   "metadata": {},
   "outputs": [
    {
     "name": "stdout",
     "output_type": "stream",
     "text": [
      "   양식  한식  중식\n",
      "A   1   1   2\n",
      "B   3   3   3\n",
      "C   1   3   3\n",
      "D   3   1   3\n",
      "E   1   1   1\n"
     ]
    },
    {
     "data": {
      "text/plain": [
       "Chi2ContingencyResult(statistic=2.341269841269841, pvalue=0.9687222421496073, dof=8, expected_freq=array([[1.2, 1.2, 1.6],\n",
       "       [2.7, 2.7, 3.6],\n",
       "       [2.1, 2.1, 2.8],\n",
       "       [2.1, 2.1, 2.8],\n",
       "       [0.9, 0.9, 1.2]]))"
      ]
     },
     "execution_count": 64,
     "metadata": {},
     "output_type": "execute_result"
    }
   ],
   "source": [
    "data = pd.DataFrame([[1,3,1,3,1], [1,3,3,1,1], [2,3,3,3,1]], columns = ['A', 'B', 'C','D','E'], index = ['양식', '한식', '중식']).T\n",
    "print(data)\n",
    "\n",
    "# 동질성 검정\n",
    "# H0 : 음식 종류 별 선호도 차이가 없다.\n",
    "# H1 : 음식 종류 별 선호도 차이가 있다.\n",
    "chi2_contingency(data)\n",
    "\n",
    "# p-value 가 0.05보다 크므로 귀무가설을 기각할 수 없다. 즉 선호도 차이가 없다.\n"
   ]
  },
  {
   "cell_type": "markdown",
   "metadata": {},
   "source": [
    "6. 임의로 추출한 A, B, C 지역 학생들의 키가 다음과 같다. 지역별 학생들의 키가 차이가 있는지 검정하기 위한 귀무가설과 대립가설을 설정하고, 검정통계량을 계산하여 검정하시오."
   ]
  },
  {
   "cell_type": "code",
   "execution_count": 65,
   "metadata": {},
   "outputs": [
    {
     "name": "stdout",
     "output_type": "stream",
     "text": [
      "ShapiroResult(statistic=0.9315201640129089, pvalue=0.5300142765045166)\n",
      "ShapiroResult(statistic=0.9561489820480347, pvalue=0.7572823166847229)\n",
      "ShapiroResult(statistic=0.9159915447235107, pvalue=0.32473188638687134)\n"
     ]
    },
    {
     "data": {
      "text/plain": [
       "<class 'statsmodels.stats.base.HolderTuple'>\n",
       "statistic = 0.592941176470588\n",
       "pvalue = 0.5754904115781195\n",
       "df = (2.0, 7.919191919191919)\n",
       "df_num = 2.0\n",
       "df_denom = 7.919191919191919\n",
       "nobs_t = 15.0\n",
       "n_groups = 3\n",
       "means = array([1.8, 2.4, 1.8])\n",
       "nobs = array([5., 5., 5.])\n",
       "vars_ = array([1.2, 0.8, 1.2])\n",
       "use_var = 'unequal'\n",
       "welch_correction = True\n",
       "tuple = (0.592941176470588, 0.5754904115781195)"
      ]
     },
     "execution_count": 65,
     "metadata": {},
     "output_type": "execute_result"
    }
   ],
   "source": [
    "A = [177,167,188,189,152,159,184,175]\n",
    "B = [151,177,150,187,167,166,179,161,174]\n",
    "C = [173,151,156,182,188,175,150,165,176,183]\n",
    "\n",
    "# 각 지역의 학생들의 키가 정규분포를 띄는지 확인하자.\n",
    "print(shapiro(A))\n",
    "print(shapiro(B))\n",
    "print(shapiro(C))\n",
    "\n",
    "# 모든 집단이 정규성을 만족한다.\n",
    "# 등분산성을 만족하는지 확인하자.\n",
    "\n",
    "levene(A, B, C)\n",
    "\n",
    "# 등분산성을 만족하지 않는다.\n",
    "# 정규성은 만족하고 등분산성을 만족하지 않으므로 welch's ANOVA 분석을 실시하자.\n",
    "\n",
    "from statsmodels.stats.oneway import anova_oneway\n",
    "\n",
    "df = data.melt().dropna()\n",
    "anova_oneway(data = df.value, groups = df.variable, use_var = 'unequal')\n",
    "\n",
    "# p-value 가 0.05보다 크므로 귀무가설을 기각하지 않는다. 평균이 같다고 할 수 있다."
   ]
  },
  {
   "cell_type": "markdown",
   "metadata": {},
   "source": [
    "### 공분산과 상관계수"
   ]
  },
  {
   "cell_type": "markdown",
   "metadata": {},
   "source": [
    "1. 어느 고등학교에서 임의로 추출한 9명의 학생들의 수학과 영어 성적이 다음과 같다. 다음 학생들의 성적에 대한 피어슨 상관계수와 스피어만 순위상관계수를 구하고, 각 상관계수가 통계적으로 유의한지 여부를 확인하시오. 해당 피어슨 상관계수의 신뢰수준 90% 의 신뢰구간을 계산하시오."
   ]
  },
  {
   "cell_type": "code",
   "execution_count": 75,
   "metadata": {},
   "outputs": [
    {
     "name": "stdout",
     "output_type": "stream",
     "text": [
      "SignificanceResult(statistic=0.8151548326115373, pvalue=0.007423781373494626)\n",
      "PearsonRResult(statistic=0.7454392939220784, pvalue=0.021141520899581337)\n"
     ]
    }
   ],
   "source": [
    "math = [96,93,63,89,85,84,66,62,90]\n",
    "eng = [98,90,74,84,69,69,73,61,98]\n",
    "\n",
    "data = pd.DataFrame([math, eng], index = ['math', 'eng']).T\n",
    "\n",
    "data.corr(method = 'spearman')\n",
    "\n",
    "from scipy.stats import spearmanr, pearsonr\n",
    "\n",
    "print(spearmanr(math, eng))\n",
    "print(pearsonr(math, eng))\n",
    "\n",
    "# 두 계수모두 통계적으로 유의함."
   ]
  },
  {
   "cell_type": "markdown",
   "metadata": {},
   "source": [
    "2. 두 변수 X, Y 의 표준편차는 각각 4,5 이고 공분산이 4인 경우, 두 변수의 상관계수를 구하시오."
   ]
  },
  {
   "cell_type": "code",
   "execution_count": 77,
   "metadata": {},
   "outputs": [
    {
     "data": {
      "text/plain": [
       "5.0"
      ]
     },
     "execution_count": 77,
     "metadata": {},
     "output_type": "execute_result"
    }
   ],
   "source": [
    "xs, ys = 4, 5\n",
    "cov = 4\n",
    "cov / 4*5"
   ]
  },
  {
   "cell_type": "markdown",
   "metadata": {},
   "source": [
    "### 회귀분석"
   ]
  },
  {
   "cell_type": "markdown",
   "metadata": {},
   "source": [
    "1. 다음은 인도 벵갈루루의 집값 데이터이다. 데이터는 집의 특징을 나타내는 입력 변수들과 집값의 출력 변수로 구성되어 있다. 선형 회귀분석을 수행하시오."
   ]
  },
  {
   "cell_type": "code",
   "execution_count": 95,
   "metadata": {},
   "outputs": [
    {
     "data": {
      "text/html": [
       "<table class=\"simpletable\">\n",
       "<caption>OLS Regression Results</caption>\n",
       "<tr>\n",
       "  <th>Dep. Variable:</th>          <td>price</td>      <th>  R-squared:         </th> <td>   0.521</td> \n",
       "</tr>\n",
       "<tr>\n",
       "  <th>Model:</th>                   <td>OLS</td>       <th>  Adj. R-squared:    </th> <td>   0.520</td> \n",
       "</tr>\n",
       "<tr>\n",
       "  <th>Method:</th>             <td>Least Squares</td>  <th>  F-statistic:       </th> <td>   1017.</td> \n",
       "</tr>\n",
       "<tr>\n",
       "  <th>Date:</th>             <td>Sun, 29 Oct 2023</td> <th>  Prob (F-statistic):</th>  <td>  0.00</td>  \n",
       "</tr>\n",
       "<tr>\n",
       "  <th>Time:</th>                 <td>17:29:27</td>     <th>  Log-Likelihood:    </th> <td> -42786.</td> \n",
       "</tr>\n",
       "<tr>\n",
       "  <th>No. Observations:</th>      <td>  7495</td>      <th>  AIC:               </th> <td>8.559e+04</td>\n",
       "</tr>\n",
       "<tr>\n",
       "  <th>Df Residuals:</th>          <td>  7486</td>      <th>  BIC:               </th> <td>8.565e+04</td>\n",
       "</tr>\n",
       "<tr>\n",
       "  <th>Df Model:</th>              <td>     8</td>      <th>                     </th>     <td> </td>    \n",
       "</tr>\n",
       "<tr>\n",
       "  <th>Covariance Type:</th>      <td>nonrobust</td>    <th>                     </th>     <td> </td>    \n",
       "</tr>\n",
       "</table>\n",
       "<table class=\"simpletable\">\n",
       "<tr>\n",
       "          <td></td>            <th>coef</th>     <th>std err</th>      <th>t</th>      <th>P>|t|</th>  <th>[0.025</th>    <th>0.975]</th>  \n",
       "</tr>\n",
       "<tr>\n",
       "  <th>const</th>            <td>  -59.2399</td> <td>    3.826</td> <td>  -15.483</td> <td> 0.000</td> <td>  -66.740</td> <td>  -51.739</td>\n",
       "</tr>\n",
       "<tr>\n",
       "  <th>availability</th>     <td>   -2.2666</td> <td>    2.052</td> <td>   -1.104</td> <td> 0.269</td> <td>   -6.290</td> <td>    1.757</td>\n",
       "</tr>\n",
       "<tr>\n",
       "  <th>size</th>             <td>   -1.2000</td> <td>    1.051</td> <td>   -1.142</td> <td> 0.254</td> <td>   -3.261</td> <td>    0.861</td>\n",
       "</tr>\n",
       "<tr>\n",
       "  <th>total_sqft</th>       <td>    0.0536</td> <td>    0.001</td> <td>   45.532</td> <td> 0.000</td> <td>    0.051</td> <td>    0.056</td>\n",
       "</tr>\n",
       "<tr>\n",
       "  <th>bath</th>             <td>   32.5548</td> <td>    1.766</td> <td>   18.429</td> <td> 0.000</td> <td>   29.092</td> <td>   36.018</td>\n",
       "</tr>\n",
       "<tr>\n",
       "  <th>balcony</th>          <td>   -0.8327</td> <td>    1.168</td> <td>   -0.713</td> <td> 0.476</td> <td>   -3.122</td> <td>    1.457</td>\n",
       "</tr>\n",
       "<tr>\n",
       "  <th>area_type_Carpet</th> <td>   -0.8348</td> <td>   10.371</td> <td>   -0.080</td> <td> 0.936</td> <td>  -21.166</td> <td>   19.496</td>\n",
       "</tr>\n",
       "<tr>\n",
       "  <th>area_type_Plot</th>   <td>   82.9016</td> <td>    5.183</td> <td>   15.994</td> <td> 0.000</td> <td>   72.741</td> <td>   93.062</td>\n",
       "</tr>\n",
       "<tr>\n",
       "  <th>area_type_Super</th>  <td>    0.4783</td> <td>    2.375</td> <td>    0.201</td> <td> 0.840</td> <td>   -4.176</td> <td>    5.133</td>\n",
       "</tr>\n",
       "</table>\n",
       "<table class=\"simpletable\">\n",
       "<tr>\n",
       "  <th>Omnibus:</th>       <td>9791.187</td> <th>  Durbin-Watson:     </th>   <td>   2.052</td>  \n",
       "</tr>\n",
       "<tr>\n",
       "  <th>Prob(Omnibus):</th>  <td> 0.000</td>  <th>  Jarque-Bera (JB):  </th> <td>25193500.073</td>\n",
       "</tr>\n",
       "<tr>\n",
       "  <th>Skew:</th>           <td> 6.314</td>  <th>  Prob(JB):          </th>   <td>    0.00</td>  \n",
       "</tr>\n",
       "<tr>\n",
       "  <th>Kurtosis:</th>       <td>286.749</td> <th>  Cond. No.          </th>   <td>2.19e+04</td>  \n",
       "</tr>\n",
       "</table><br/><br/>Notes:<br/>[1] Standard Errors assume that the covariance matrix of the errors is correctly specified.<br/>[2] The condition number is large, 2.19e+04. This might indicate that there are<br/>strong multicollinearity or other numerical problems."
      ],
      "text/plain": [
       "<class 'statsmodels.iolib.summary.Summary'>\n",
       "\"\"\"\n",
       "                            OLS Regression Results                            \n",
       "==============================================================================\n",
       "Dep. Variable:                  price   R-squared:                       0.521\n",
       "Model:                            OLS   Adj. R-squared:                  0.520\n",
       "Method:                 Least Squares   F-statistic:                     1017.\n",
       "Date:                Sun, 29 Oct 2023   Prob (F-statistic):               0.00\n",
       "Time:                        17:29:27   Log-Likelihood:                -42786.\n",
       "No. Observations:                7495   AIC:                         8.559e+04\n",
       "Df Residuals:                    7486   BIC:                         8.565e+04\n",
       "Df Model:                           8                                         \n",
       "Covariance Type:            nonrobust                                         \n",
       "====================================================================================\n",
       "                       coef    std err          t      P>|t|      [0.025      0.975]\n",
       "------------------------------------------------------------------------------------\n",
       "const              -59.2399      3.826    -15.483      0.000     -66.740     -51.739\n",
       "availability        -2.2666      2.052     -1.104      0.269      -6.290       1.757\n",
       "size                -1.2000      1.051     -1.142      0.254      -3.261       0.861\n",
       "total_sqft           0.0536      0.001     45.532      0.000       0.051       0.056\n",
       "bath                32.5548      1.766     18.429      0.000      29.092      36.018\n",
       "balcony             -0.8327      1.168     -0.713      0.476      -3.122       1.457\n",
       "area_type_Carpet    -0.8348     10.371     -0.080      0.936     -21.166      19.496\n",
       "area_type_Plot      82.9016      5.183     15.994      0.000      72.741      93.062\n",
       "area_type_Super      0.4783      2.375      0.201      0.840      -4.176       5.133\n",
       "==============================================================================\n",
       "Omnibus:                     9791.187   Durbin-Watson:                   2.052\n",
       "Prob(Omnibus):                  0.000   Jarque-Bera (JB):         25193500.073\n",
       "Skew:                           6.314   Prob(JB):                         0.00\n",
       "Kurtosis:                     286.749   Cond. No.                     2.19e+04\n",
       "==============================================================================\n",
       "\n",
       "Notes:\n",
       "[1] Standard Errors assume that the covariance matrix of the errors is correctly specified.\n",
       "[2] The condition number is large, 2.19e+04. This might indicate that there are\n",
       "strong multicollinearity or other numerical problems.\n",
       "\"\"\""
      ]
     },
     "execution_count": 95,
     "metadata": {},
     "output_type": "execute_result"
    }
   ],
   "source": [
    "data = pd.read_csv('https://raw.githubusercontent.com/algoboni/pythoncodebook1-1/main/practice8_BHP2.csv')\n",
    "data\n",
    "\n",
    "X = data.drop(['price'], axis = 1)\n",
    "y = data['price']\n",
    "\n",
    "import statsmodels.api as sm\n",
    "\n",
    "X = pd.get_dummies(data = X, columns = ['area_type'], drop_first= True)\n",
    "X = sm.add_constant(X)\n",
    "\n",
    "from sklearn.linear_model import LinearRegression\n",
    "\n",
    "lr = sm.OLS(y, X)\n",
    "lr_fit = lr.fit()\n",
    "\n",
    "lr_fit.summary()"
   ]
  },
  {
   "cell_type": "markdown",
   "metadata": {},
   "source": [
    "2. 앞선 모델에서 변수 area_type 과 total_sqft 의 교호작용 항을 추가하여 회귀분석을 수행하시오."
   ]
  },
  {
   "cell_type": "code",
   "execution_count": 97,
   "metadata": {},
   "outputs": [
    {
     "name": "stdout",
     "output_type": "stream",
     "text": [
      "                            OLS Regression Results                            \n",
      "==============================================================================\n",
      "Dep. Variable:                  price   R-squared:                       0.569\n",
      "Model:                            OLS   Adj. R-squared:                  0.568\n",
      "Method:                 Least Squares   F-statistic:                     898.3\n",
      "Date:                Sun, 29 Oct 2023   Prob (F-statistic):               0.00\n",
      "Time:                        17:29:59   Log-Likelihood:                -42389.\n",
      "No. Observations:                7495   AIC:                         8.480e+04\n",
      "Df Residuals:                    7483   BIC:                         8.488e+04\n",
      "Df Model:                          11                                         \n",
      "Covariance Type:            nonrobust                                         \n",
      "=================================================================================================\n",
      "                                    coef    std err          t      P>|t|      [0.025      0.975]\n",
      "-------------------------------------------------------------------------------------------------\n",
      "const                           -24.9804      4.506     -5.543      0.000     -33.814     -16.147\n",
      "availability                     -2.4945      1.948     -1.281      0.200      -6.313       1.324\n",
      "size                              0.3771      1.005      0.375      0.707      -1.592       2.346\n",
      "total_sqft                        0.0268      0.002     15.774      0.000       0.023       0.030\n",
      "bath                             32.8043      1.699     19.312      0.000      29.474      36.134\n",
      "balcony                          -1.4086      1.108     -1.271      0.204      -3.581       0.764\n",
      "area_type_Carpet                -17.5126     20.032     -0.874      0.382     -56.781      21.756\n",
      "area_type_Plot                 -111.4825      8.414    -13.250      0.000    -127.976     -94.989\n",
      "area_type_Super                 -35.4769      3.837     -9.246      0.000     -42.999     -27.955\n",
      "area_type_Carpet * total_sqft     0.0075      0.014      0.518      0.604      -0.021       0.036\n",
      "area_type_Plot * total_sqft       0.0827      0.003     28.882      0.000       0.077       0.088\n",
      "area_type_Super * total_sqft      0.0240      0.002     11.409      0.000       0.020       0.028\n",
      "==============================================================================\n",
      "Omnibus:                    11017.431   Durbin-Watson:                   2.037\n",
      "Prob(Omnibus):                  0.000   Jarque-Bera (JB):         22624606.670\n",
      "Skew:                           8.207   Prob(JB):                         0.00\n",
      "Kurtosis:                     271.659   Cond. No.                     5.54e+04\n",
      "==============================================================================\n",
      "\n",
      "Notes:\n",
      "[1] Standard Errors assume that the covariance matrix of the errors is correctly specified.\n",
      "[2] The condition number is large, 5.54e+04. This might indicate that there are\n",
      "strong multicollinearity or other numerical problems.\n"
     ]
    }
   ],
   "source": [
    "X['area_type_Carpet * total_sqft'] = X['area_type_Carpet'] * X['total_sqft']\n",
    "X['area_type_Plot * total_sqft'] = X['area_type_Plot'] * X['total_sqft']\n",
    "X['area_type_Super * total_sqft'] = X['area_type_Super'] * X['total_sqft']\n",
    "\n",
    "lr = sm.OLS(y, X)\n",
    "lr_fit = lr.fit()\n",
    "\n",
    "print(lr_fit.summary())"
   ]
  },
  {
   "cell_type": "markdown",
   "metadata": {},
   "source": [
    "3. 앞선 모델에서 변수 total_sqrf 의 이차항을 추가하여 회귀분석을 수행하시오."
   ]
  },
  {
   "cell_type": "code",
   "execution_count": 98,
   "metadata": {},
   "outputs": [
    {
     "name": "stdout",
     "output_type": "stream",
     "text": [
      "                            OLS Regression Results                            \n",
      "==============================================================================\n",
      "Dep. Variable:                  price   R-squared:                       0.669\n",
      "Model:                            OLS   Adj. R-squared:                  0.669\n",
      "Method:                 Least Squares   F-statistic:                     1261.\n",
      "Date:                Sun, 29 Oct 2023   Prob (F-statistic):               0.00\n",
      "Time:                        17:30:14   Log-Likelihood:                -41397.\n",
      "No. Observations:                7495   AIC:                         8.282e+04\n",
      "Df Residuals:                    7482   BIC:                         8.291e+04\n",
      "Df Model:                          12                                         \n",
      "Covariance Type:            nonrobust                                         \n",
      "=================================================================================================\n",
      "                                    coef    std err          t      P>|t|      [0.025      0.975]\n",
      "-------------------------------------------------------------------------------------------------\n",
      "const                           -39.9646      3.961    -10.090      0.000     -47.729     -32.200\n",
      "availability                     -3.8629      1.707     -2.263      0.024      -7.209      -0.517\n",
      "size                             -9.9392      0.906    -10.965      0.000     -11.716      -8.162\n",
      "total_sqft                        0.1297      0.003     49.413      0.000       0.125       0.135\n",
      "bath                             -0.8218      1.647     -0.499      0.618      -4.051       2.408\n",
      "balcony                          -3.1707      0.972     -3.263      0.001      -5.076      -1.266\n",
      "area_type_Carpet                 53.3247     17.615      3.027      0.002      18.795      87.855\n",
      "area_type_Plot                    4.6099      7.765      0.594      0.553     -10.611      19.831\n",
      "area_type_Super                 -22.1681      3.374     -6.571      0.000     -28.781     -15.555\n",
      "area_type_Carpet * total_sqft    -0.0349      0.013     -2.760      0.006      -0.060      -0.010\n",
      "area_type_Plot * total_sqft       0.0235      0.003      8.378      0.000       0.018       0.029\n",
      "area_type_Super * total_sqft      0.0154      0.002      8.293      0.000       0.012       0.019\n",
      "total_sqft^2                  -3.487e-06   7.33e-08    -47.596      0.000   -3.63e-06   -3.34e-06\n",
      "==============================================================================\n",
      "Omnibus:                    12638.885   Durbin-Watson:                   2.011\n",
      "Prob(Omnibus):                  0.000   Jarque-Bera (JB):         27843106.325\n",
      "Skew:                          11.072   Prob(JB):                         0.00\n",
      "Kurtosis:                     300.770   Cond. No.                     5.39e+08\n",
      "==============================================================================\n",
      "\n",
      "Notes:\n",
      "[1] Standard Errors assume that the covariance matrix of the errors is correctly specified.\n",
      "[2] The condition number is large, 5.39e+08. This might indicate that there are\n",
      "strong multicollinearity or other numerical problems.\n"
     ]
    }
   ],
   "source": [
    "X['total_sqft^2'] = X['total_sqft'] * X['total_sqft']\n",
    "\n",
    "lr = sm.OLS(y, X)\n",
    "lr_fit = lr.fit()\n",
    "\n",
    "print(lr_fit.summary())"
   ]
  },
  {
   "cell_type": "markdown",
   "metadata": {},
   "source": [
    "4. 앞선 모델에서 변수 선택 과정을 거쳐 최종 모델을 완성하고 결과를 해석하시오."
   ]
  },
  {
   "cell_type": "code",
   "execution_count": 100,
   "metadata": {},
   "outputs": [
    {
     "name": "stdout",
     "output_type": "stream",
     "text": [
      "                            OLS Regression Results                            \n",
      "==============================================================================\n",
      "Dep. Variable:                  price   R-squared:                       0.669\n",
      "Model:                            OLS   Adj. R-squared:                  0.669\n",
      "Method:                 Least Squares   F-statistic:                     1514.\n",
      "Date:                Sun, 29 Oct 2023   Prob (F-statistic):               0.00\n",
      "Time:                        17:31:50   Log-Likelihood:                -41398.\n",
      "No. Observations:                7495   AIC:                         8.282e+04\n",
      "Df Residuals:                    7484   BIC:                         8.289e+04\n",
      "Df Model:                          10                                         \n",
      "Covariance Type:            nonrobust                                         \n",
      "=================================================================================================\n",
      "                                    coef    std err          t      P>|t|      [0.025      0.975]\n",
      "-------------------------------------------------------------------------------------------------\n",
      "const                           -39.8508      3.739    -10.659      0.000     -47.180     -32.522\n",
      "availability                     -3.8254      1.702     -2.248      0.025      -7.161      -0.490\n",
      "size                            -10.0739      0.774    -13.014      0.000     -11.591      -8.556\n",
      "total_sqft                        0.1288      0.002     58.087      0.000       0.124       0.133\n",
      "balcony                          -3.1773      0.972     -3.270      0.001      -5.082      -1.273\n",
      "area_type_Carpet                 52.2990     17.548      2.980      0.003      17.899      86.699\n",
      "area_type_Super                 -22.5830      3.187     -7.085      0.000     -28.831     -16.335\n",
      "area_type_Carpet * total_sqft    -0.0344      0.013     -2.725      0.006      -0.059      -0.010\n",
      "area_type_Plot * total_sqft       0.0248      0.002     15.202      0.000       0.022       0.028\n",
      "area_type_Super * total_sqft      0.0155      0.002      8.641      0.000       0.012       0.019\n",
      "total_sqft^2                  -3.464e-06   6.43e-08    -53.844      0.000   -3.59e-06   -3.34e-06\n",
      "==============================================================================\n",
      "Omnibus:                    12647.804   Durbin-Watson:                   2.011\n",
      "Prob(Omnibus):                  0.000   Jarque-Bera (JB):         28030388.743\n",
      "Skew:                          11.086   Prob(JB):                         0.00\n",
      "Kurtosis:                     301.773   Cond. No.                     5.36e+08\n",
      "==============================================================================\n",
      "\n",
      "Notes:\n",
      "[1] Standard Errors assume that the covariance matrix of the errors is correctly specified.\n",
      "[2] The condition number is large, 5.36e+08. This might indicate that there are\n",
      "strong multicollinearity or other numerical problems.\n"
     ]
    }
   ],
   "source": [
    "# 변수 중에서 p 값이 0.05보다 작은 변수가 통계적으로 유의한 변수이므로 선택하자.\n",
    "# 제거할 변수 : bath, area_type_Plot\n",
    "\n",
    "X = X.drop(['bath', 'area_type_Plot'], axis = 1)\n",
    "\n",
    "lr = sm.OLS(y, X)\n",
    "lr_fit = lr.fit()\n",
    "\n",
    "print(lr_fit.summary())"
   ]
  },
  {
   "cell_type": "markdown",
   "metadata": {},
   "source": [
    "### 지도 학습 알고리즘"
   ]
  },
  {
   "cell_type": "markdown",
   "metadata": {},
   "source": [
    "1. 다음은 인도 벵갈루루의 집값 데이터이다. 데이터는 집의 특징을 나타내는 입력 변수들과 집값의 출력 변수로 구성되어 있다. 3개의 알고리즘을 선택하여 회귀 모델을 생성하고 알고리즘의 장단점과 성능을 비교하시오."
   ]
  },
  {
   "cell_type": "code",
   "execution_count": 1,
   "metadata": {},
   "outputs": [
    {
     "data": {
      "text/html": [
       "<div>\n",
       "<style scoped>\n",
       "    .dataframe tbody tr th:only-of-type {\n",
       "        vertical-align: middle;\n",
       "    }\n",
       "\n",
       "    .dataframe tbody tr th {\n",
       "        vertical-align: top;\n",
       "    }\n",
       "\n",
       "    .dataframe thead th {\n",
       "        text-align: right;\n",
       "    }\n",
       "</style>\n",
       "<table border=\"1\" class=\"dataframe\">\n",
       "  <thead>\n",
       "    <tr style=\"text-align: right;\">\n",
       "      <th></th>\n",
       "      <th>area_type</th>\n",
       "      <th>availability</th>\n",
       "      <th>size</th>\n",
       "      <th>total_sqft</th>\n",
       "      <th>bath</th>\n",
       "      <th>balcony</th>\n",
       "      <th>price</th>\n",
       "    </tr>\n",
       "  </thead>\n",
       "  <tbody>\n",
       "    <tr>\n",
       "      <th>0</th>\n",
       "      <td>Super</td>\n",
       "      <td>0</td>\n",
       "      <td>3</td>\n",
       "      <td>1056.0</td>\n",
       "      <td>2</td>\n",
       "      <td>1</td>\n",
       "      <td>39.07</td>\n",
       "    </tr>\n",
       "    <tr>\n",
       "      <th>1</th>\n",
       "      <td>Plot</td>\n",
       "      <td>1</td>\n",
       "      <td>6</td>\n",
       "      <td>2600.0</td>\n",
       "      <td>5</td>\n",
       "      <td>3</td>\n",
       "      <td>120.00</td>\n",
       "    </tr>\n",
       "    <tr>\n",
       "      <th>2</th>\n",
       "      <td>Super</td>\n",
       "      <td>1</td>\n",
       "      <td>5</td>\n",
       "      <td>1521.0</td>\n",
       "      <td>3</td>\n",
       "      <td>1</td>\n",
       "      <td>95.00</td>\n",
       "    </tr>\n",
       "    <tr>\n",
       "      <th>3</th>\n",
       "      <td>Super</td>\n",
       "      <td>1</td>\n",
       "      <td>3</td>\n",
       "      <td>1170.0</td>\n",
       "      <td>2</td>\n",
       "      <td>1</td>\n",
       "      <td>38.00</td>\n",
       "    </tr>\n",
       "    <tr>\n",
       "      <th>4</th>\n",
       "      <td>Plot</td>\n",
       "      <td>1</td>\n",
       "      <td>6</td>\n",
       "      <td>2785.0</td>\n",
       "      <td>5</td>\n",
       "      <td>3</td>\n",
       "      <td>295.00</td>\n",
       "    </tr>\n",
       "    <tr>\n",
       "      <th>...</th>\n",
       "      <td>...</td>\n",
       "      <td>...</td>\n",
       "      <td>...</td>\n",
       "      <td>...</td>\n",
       "      <td>...</td>\n",
       "      <td>...</td>\n",
       "      <td>...</td>\n",
       "    </tr>\n",
       "    <tr>\n",
       "      <th>7490</th>\n",
       "      <td>Super</td>\n",
       "      <td>1</td>\n",
       "      <td>5</td>\n",
       "      <td>1345.0</td>\n",
       "      <td>2</td>\n",
       "      <td>1</td>\n",
       "      <td>57.00</td>\n",
       "    </tr>\n",
       "    <tr>\n",
       "      <th>7491</th>\n",
       "      <td>Super</td>\n",
       "      <td>1</td>\n",
       "      <td>5</td>\n",
       "      <td>1715.0</td>\n",
       "      <td>3</td>\n",
       "      <td>3</td>\n",
       "      <td>112.00</td>\n",
       "    </tr>\n",
       "    <tr>\n",
       "      <th>7492</th>\n",
       "      <td>Built-up</td>\n",
       "      <td>1</td>\n",
       "      <td>8</td>\n",
       "      <td>3453.0</td>\n",
       "      <td>4</td>\n",
       "      <td>0</td>\n",
       "      <td>231.00</td>\n",
       "    </tr>\n",
       "    <tr>\n",
       "      <th>7493</th>\n",
       "      <td>Built-up</td>\n",
       "      <td>1</td>\n",
       "      <td>3</td>\n",
       "      <td>1141.0</td>\n",
       "      <td>2</td>\n",
       "      <td>1</td>\n",
       "      <td>60.00</td>\n",
       "    </tr>\n",
       "    <tr>\n",
       "      <th>7494</th>\n",
       "      <td>Super</td>\n",
       "      <td>0</td>\n",
       "      <td>7</td>\n",
       "      <td>4689.0</td>\n",
       "      <td>4</td>\n",
       "      <td>1</td>\n",
       "      <td>488.00</td>\n",
       "    </tr>\n",
       "  </tbody>\n",
       "</table>\n",
       "<p>7495 rows × 7 columns</p>\n",
       "</div>"
      ],
      "text/plain": [
       "     area_type  availability  size  total_sqft  bath  balcony   price\n",
       "0        Super             0     3      1056.0     2        1   39.07\n",
       "1         Plot             1     6      2600.0     5        3  120.00\n",
       "2        Super             1     5      1521.0     3        1   95.00\n",
       "3        Super             1     3      1170.0     2        1   38.00\n",
       "4         Plot             1     6      2785.0     5        3  295.00\n",
       "...        ...           ...   ...         ...   ...      ...     ...\n",
       "7490     Super             1     5      1345.0     2        1   57.00\n",
       "7491     Super             1     5      1715.0     3        3  112.00\n",
       "7492  Built-up             1     8      3453.0     4        0  231.00\n",
       "7493  Built-up             1     3      1141.0     2        1   60.00\n",
       "7494     Super             0     7      4689.0     4        1  488.00\n",
       "\n",
       "[7495 rows x 7 columns]"
      ]
     },
     "execution_count": 1,
     "metadata": {},
     "output_type": "execute_result"
    }
   ],
   "source": [
    "import pandas as pd\n",
    "data = pd.read_csv('https://raw.githubusercontent.com/algoboni/pythoncodebook1-1/main/practice8_BHP2.csv')\n",
    "data"
   ]
  },
  {
   "cell_type": "markdown",
   "metadata": {},
   "source": [
    "DecisionTree\n",
    "+ 장점 : 계산 비용이 낮고, 모델 해석이 쉽고 모델 시각화할 수 있어 이해가 쉽다. 또한 트리 구조의 특징으로써 스케일에 영향을 받지 않고 이상치나 결측치에 잘 대처한다.\n",
    "+ 단점 : 필요없더라도 모든 특성들을 사용하기 때문에 과적합의 위험이 있다. 학습된 모델이 가진 데이터 범위 밖의 데이터를 가져오면 예측하기 어렵다.\n",
    "\n",
    "RandomForest\n",
    "+ 장점 : 병렬로 실행이 가능하고, 피처의 개수가 적어 계산 비용이 낮다. 또한 매개변수 튜닝을 많이 하지 않아도 잘 작동하며 데이터의 스케일을 맞출 필요도 없다.\n",
    "+ 단점 : 결과에 대한 직관적인 해석은 불가능하고 고차원의 희소한 데이터에는 잘 작동하지 않는다.\n",
    "\n",
    "SVM\n",
    "+ 장점 : 데이터의 특성이 적더라도 복잡한 결정경계를 만들 수 있다. 저차원과 고차원의 데이터에 모두 잘 작동한다.\n",
    "+ 단점 : 대용량 데이터에서는 잘 작동하지 않고, 스케일링 등 전처리에 영향을 많이 받는다. 모델을 이해하기 어렵다."
   ]
  },
  {
   "cell_type": "code",
   "execution_count": 9,
   "metadata": {},
   "outputs": [
    {
     "name": "stdout",
     "output_type": "stream",
     "text": [
      "dt r2 : 0.45156447305007874\n",
      "rf r2 : 0.7045505974717876\n",
      "svr r2 : 0.49107898956088747\n"
     ]
    }
   ],
   "source": [
    "from sklearn.tree import DecisionTreeRegressor\n",
    "from sklearn.ensemble import RandomForestRegressor\n",
    "from sklearn.svm import SVR\n",
    "from sklearn.model_selection import train_test_split\n",
    "import numpy as np\n",
    "import warnings\n",
    "warnings.filterwarnings(action='ignore')\n",
    "\n",
    "X = data.drop(['price'], axis = 1)\n",
    "y = data['price']\n",
    "\n",
    "X = pd.get_dummies(X, columns = ['area_type'])\n",
    "\n",
    "X_train, X_test, y_train, y_test = train_test_split(X, y, test_size= 0.3, random_state= 42)\n",
    "\n",
    "dt = DecisionTreeRegressor()\n",
    "rf = RandomForestRegressor()\n",
    "svr = SVR(C = 1000, gamma = 0.1)\n",
    "\n",
    "dt.fit(X_train, y_train)\n",
    "rf.fit(X_train ,y_train)\n",
    "svr.fit(X_train, y_train)\n",
    "\n",
    "print('dt r2 :', dt.score(X_test, y_test))\n",
    "print('rf r2 :', rf.score(X_test, y_test))\n",
    "print('svr r2 :', svr.score(X_test, y_test))\n",
    "\n",
    "# 변수를 튜닝하지 않고 기본 모델을 사용하였을 경우 RandomForestRegressor 가 R2 score 기준으로 가장 성능이 좋게 나왔다."
   ]
  },
  {
   "cell_type": "markdown",
   "metadata": {},
   "source": [
    "2. price 변수의 중앙값을 기준으로 그 이상이면 높음, 미만이면 낮음으로 이분변수 'level' 을 생성하시오."
   ]
  },
  {
   "cell_type": "code",
   "execution_count": 15,
   "metadata": {},
   "outputs": [
    {
     "data": {
      "text/html": [
       "<div>\n",
       "<style scoped>\n",
       "    .dataframe tbody tr th:only-of-type {\n",
       "        vertical-align: middle;\n",
       "    }\n",
       "\n",
       "    .dataframe tbody tr th {\n",
       "        vertical-align: top;\n",
       "    }\n",
       "\n",
       "    .dataframe thead th {\n",
       "        text-align: right;\n",
       "    }\n",
       "</style>\n",
       "<table border=\"1\" class=\"dataframe\">\n",
       "  <thead>\n",
       "    <tr style=\"text-align: right;\">\n",
       "      <th></th>\n",
       "      <th>area_type</th>\n",
       "      <th>availability</th>\n",
       "      <th>size</th>\n",
       "      <th>total_sqft</th>\n",
       "      <th>bath</th>\n",
       "      <th>balcony</th>\n",
       "      <th>price</th>\n",
       "      <th>level</th>\n",
       "    </tr>\n",
       "  </thead>\n",
       "  <tbody>\n",
       "    <tr>\n",
       "      <th>0</th>\n",
       "      <td>Super</td>\n",
       "      <td>0</td>\n",
       "      <td>3</td>\n",
       "      <td>1056.0</td>\n",
       "      <td>2</td>\n",
       "      <td>1</td>\n",
       "      <td>39.07</td>\n",
       "      <td>낮음</td>\n",
       "    </tr>\n",
       "    <tr>\n",
       "      <th>1</th>\n",
       "      <td>Plot</td>\n",
       "      <td>1</td>\n",
       "      <td>6</td>\n",
       "      <td>2600.0</td>\n",
       "      <td>5</td>\n",
       "      <td>3</td>\n",
       "      <td>120.00</td>\n",
       "      <td>높음</td>\n",
       "    </tr>\n",
       "    <tr>\n",
       "      <th>2</th>\n",
       "      <td>Super</td>\n",
       "      <td>1</td>\n",
       "      <td>5</td>\n",
       "      <td>1521.0</td>\n",
       "      <td>3</td>\n",
       "      <td>1</td>\n",
       "      <td>95.00</td>\n",
       "      <td>높음</td>\n",
       "    </tr>\n",
       "    <tr>\n",
       "      <th>3</th>\n",
       "      <td>Super</td>\n",
       "      <td>1</td>\n",
       "      <td>3</td>\n",
       "      <td>1170.0</td>\n",
       "      <td>2</td>\n",
       "      <td>1</td>\n",
       "      <td>38.00</td>\n",
       "      <td>낮음</td>\n",
       "    </tr>\n",
       "    <tr>\n",
       "      <th>4</th>\n",
       "      <td>Plot</td>\n",
       "      <td>1</td>\n",
       "      <td>6</td>\n",
       "      <td>2785.0</td>\n",
       "      <td>5</td>\n",
       "      <td>3</td>\n",
       "      <td>295.00</td>\n",
       "      <td>높음</td>\n",
       "    </tr>\n",
       "  </tbody>\n",
       "</table>\n",
       "</div>"
      ],
      "text/plain": [
       "  area_type  availability  size  total_sqft  bath  balcony   price level\n",
       "0     Super             0     3      1056.0     2        1   39.07    낮음\n",
       "1      Plot             1     6      2600.0     5        3  120.00    높음\n",
       "2     Super             1     5      1521.0     3        1   95.00    높음\n",
       "3     Super             1     3      1170.0     2        1   38.00    낮음\n",
       "4      Plot             1     6      2785.0     5        3  295.00    높음"
      ]
     },
     "execution_count": 15,
     "metadata": {},
     "output_type": "execute_result"
    }
   ],
   "source": [
    "data['level'] = data['price'].apply(lambda x : '높음' if x >= data['price'].median() else '낮음')\n",
    "data.head()"
   ]
  },
  {
   "cell_type": "markdown",
   "metadata": {},
   "source": [
    "3. 앞서 생성한 이분변수 level 을 출력 변수로 할 때, 2개의 알고리즘을 선택하여 분류 모델을 생성하고 알고리즘의 장단점과 성능을 비교하시오."
   ]
  },
  {
   "cell_type": "markdown",
   "metadata": {},
   "source": [
    "KNN 분류\n",
    "+ 장점 : 이해하기 쉬운 모델로 많이 조정하지 않아도 좋은 성능을 발휘한다. \n",
    "+ 단점 : 데이터 전처리의 과정이 중요하고 특성이 많은 데이터셋에는 잘 동작하지 않는다. 알고리즘의 이해는 쉽지만 예측이 느리다.\n",
    "\n",
    "나이브베이즈분류\n",
    "+ 훈련과 예측 속도가 빠르고 훈련 과정을 이해하기 쉽다. 희소한 고차원 데이터에서 잘 작동하며 비교적 매개변수에 민감하지 않다.\n",
    "+ 단점 : 일반화 성능이 떨어질 수 있다.\n",
    "\n",
    "다층퍼셉트론 분류\n",
    "+ "
   ]
  },
  {
   "cell_type": "code",
   "execution_count": 17,
   "metadata": {},
   "outputs": [
    {
     "data": {
      "text/html": [
       "<div>\n",
       "<style scoped>\n",
       "    .dataframe tbody tr th:only-of-type {\n",
       "        vertical-align: middle;\n",
       "    }\n",
       "\n",
       "    .dataframe tbody tr th {\n",
       "        vertical-align: top;\n",
       "    }\n",
       "\n",
       "    .dataframe thead th {\n",
       "        text-align: right;\n",
       "    }\n",
       "</style>\n",
       "<table border=\"1\" class=\"dataframe\">\n",
       "  <thead>\n",
       "    <tr style=\"text-align: right;\">\n",
       "      <th></th>\n",
       "      <th>area_type</th>\n",
       "      <th>availability</th>\n",
       "      <th>size</th>\n",
       "      <th>total_sqft</th>\n",
       "      <th>bath</th>\n",
       "      <th>balcony</th>\n",
       "      <th>price</th>\n",
       "      <th>level</th>\n",
       "    </tr>\n",
       "  </thead>\n",
       "  <tbody>\n",
       "    <tr>\n",
       "      <th>0</th>\n",
       "      <td>Super</td>\n",
       "      <td>0</td>\n",
       "      <td>3</td>\n",
       "      <td>1056.0</td>\n",
       "      <td>2</td>\n",
       "      <td>1</td>\n",
       "      <td>39.07</td>\n",
       "      <td>0</td>\n",
       "    </tr>\n",
       "    <tr>\n",
       "      <th>1</th>\n",
       "      <td>Plot</td>\n",
       "      <td>1</td>\n",
       "      <td>6</td>\n",
       "      <td>2600.0</td>\n",
       "      <td>5</td>\n",
       "      <td>3</td>\n",
       "      <td>120.00</td>\n",
       "      <td>1</td>\n",
       "    </tr>\n",
       "    <tr>\n",
       "      <th>2</th>\n",
       "      <td>Super</td>\n",
       "      <td>1</td>\n",
       "      <td>5</td>\n",
       "      <td>1521.0</td>\n",
       "      <td>3</td>\n",
       "      <td>1</td>\n",
       "      <td>95.00</td>\n",
       "      <td>1</td>\n",
       "    </tr>\n",
       "    <tr>\n",
       "      <th>3</th>\n",
       "      <td>Super</td>\n",
       "      <td>1</td>\n",
       "      <td>3</td>\n",
       "      <td>1170.0</td>\n",
       "      <td>2</td>\n",
       "      <td>1</td>\n",
       "      <td>38.00</td>\n",
       "      <td>0</td>\n",
       "    </tr>\n",
       "    <tr>\n",
       "      <th>4</th>\n",
       "      <td>Plot</td>\n",
       "      <td>1</td>\n",
       "      <td>6</td>\n",
       "      <td>2785.0</td>\n",
       "      <td>5</td>\n",
       "      <td>3</td>\n",
       "      <td>295.00</td>\n",
       "      <td>1</td>\n",
       "    </tr>\n",
       "    <tr>\n",
       "      <th>...</th>\n",
       "      <td>...</td>\n",
       "      <td>...</td>\n",
       "      <td>...</td>\n",
       "      <td>...</td>\n",
       "      <td>...</td>\n",
       "      <td>...</td>\n",
       "      <td>...</td>\n",
       "      <td>...</td>\n",
       "    </tr>\n",
       "    <tr>\n",
       "      <th>7490</th>\n",
       "      <td>Super</td>\n",
       "      <td>1</td>\n",
       "      <td>5</td>\n",
       "      <td>1345.0</td>\n",
       "      <td>2</td>\n",
       "      <td>1</td>\n",
       "      <td>57.00</td>\n",
       "      <td>0</td>\n",
       "    </tr>\n",
       "    <tr>\n",
       "      <th>7491</th>\n",
       "      <td>Super</td>\n",
       "      <td>1</td>\n",
       "      <td>5</td>\n",
       "      <td>1715.0</td>\n",
       "      <td>3</td>\n",
       "      <td>3</td>\n",
       "      <td>112.00</td>\n",
       "      <td>1</td>\n",
       "    </tr>\n",
       "    <tr>\n",
       "      <th>7492</th>\n",
       "      <td>Built-up</td>\n",
       "      <td>1</td>\n",
       "      <td>8</td>\n",
       "      <td>3453.0</td>\n",
       "      <td>4</td>\n",
       "      <td>0</td>\n",
       "      <td>231.00</td>\n",
       "      <td>1</td>\n",
       "    </tr>\n",
       "    <tr>\n",
       "      <th>7493</th>\n",
       "      <td>Built-up</td>\n",
       "      <td>1</td>\n",
       "      <td>3</td>\n",
       "      <td>1141.0</td>\n",
       "      <td>2</td>\n",
       "      <td>1</td>\n",
       "      <td>60.00</td>\n",
       "      <td>0</td>\n",
       "    </tr>\n",
       "    <tr>\n",
       "      <th>7494</th>\n",
       "      <td>Super</td>\n",
       "      <td>0</td>\n",
       "      <td>7</td>\n",
       "      <td>4689.0</td>\n",
       "      <td>4</td>\n",
       "      <td>1</td>\n",
       "      <td>488.00</td>\n",
       "      <td>1</td>\n",
       "    </tr>\n",
       "  </tbody>\n",
       "</table>\n",
       "<p>7495 rows × 8 columns</p>\n",
       "</div>"
      ],
      "text/plain": [
       "     area_type  availability  size  total_sqft  bath  balcony   price  level\n",
       "0        Super             0     3      1056.0     2        1   39.07      0\n",
       "1         Plot             1     6      2600.0     5        3  120.00      1\n",
       "2        Super             1     5      1521.0     3        1   95.00      1\n",
       "3        Super             1     3      1170.0     2        1   38.00      0\n",
       "4         Plot             1     6      2785.0     5        3  295.00      1\n",
       "...        ...           ...   ...         ...   ...      ...     ...    ...\n",
       "7490     Super             1     5      1345.0     2        1   57.00      0\n",
       "7491     Super             1     5      1715.0     3        3  112.00      1\n",
       "7492  Built-up             1     8      3453.0     4        0  231.00      1\n",
       "7493  Built-up             1     3      1141.0     2        1   60.00      0\n",
       "7494     Super             0     7      4689.0     4        1  488.00      1\n",
       "\n",
       "[7495 rows x 8 columns]"
      ]
     },
     "execution_count": 17,
     "metadata": {},
     "output_type": "execute_result"
    }
   ],
   "source": [
    "data['level'] = data['level'].map({'높음' : 1, '낮음' : 0})\n",
    "data"
   ]
  },
  {
   "cell_type": "code",
   "execution_count": 30,
   "metadata": {},
   "outputs": [
    {
     "name": "stdout",
     "output_type": "stream",
     "text": [
      "GNB accuracy : 0.8421520675855936\n",
      "KNN accuracy : 0.8350377945753669\n",
      "MLP accuracy : 0.7834593152512228\n"
     ]
    }
   ],
   "source": [
    "from sklearn.ensemble import RandomForestClassifier\n",
    "from sklearn.neighbors import KNeighborsClassifier\n",
    "from sklearn.neural_network import MLPClassifier\n",
    "\n",
    "X = data.drop(['price', 'level'], axis = 1)\n",
    "y = data['level']\n",
    "\n",
    "X = pd.get_dummies(X, columns = ['area_type'])\n",
    "\n",
    "X_train, X_test, y_train, y_test = train_test_split(X, y, test_size= 0.3, random_state= 42)\n",
    "\n",
    "rf = RandomForestClassifier()\n",
    "KNN = KNeighborsClassifier(n_neighbors= 3)\n",
    "MLP = MLPClassifier()\n",
    "\n",
    "rf.fit(X_train, y_train)\n",
    "KNN.fit(X_train, y_train)\n",
    "MLP.fit(X_train, y_train)\n",
    "\n",
    "print('rf accuracy :', rf.score(X_test, y_test))\n",
    "print('KNN accuracy :', KNN.score(X_test, y_test))\n",
    "print('MLP accuracy :', MLP.score(X_test, y_test))\n",
    "\n",
    "# Accuarcy 를 평가지표로 성능이 가장 좋은 모델은 rf 이 가장 좋다."
   ]
  },
  {
   "cell_type": "markdown",
   "metadata": {},
   "source": [
    "4. 앞서 만든 모형들을 통해 집 가격에 있어 중요한 변수 3개를 선택하고 그 이유를 설명하시오."
   ]
  },
  {
   "cell_type": "code",
   "execution_count": 48,
   "metadata": {},
   "outputs": [
    {
     "name": "stdout",
     "output_type": "stream",
     "text": [
      "            col_names  feature_importance\n",
      "0          total_sqft            0.664453\n",
      "1                bath            0.170279\n",
      "2                size            0.098176\n",
      "3             balcony            0.036633\n",
      "4        availability            0.012130\n",
      "5      area_type_Plot            0.008047\n",
      "6     area_type_Super            0.004812\n",
      "7  area_type_Built-up            0.003949\n",
      "8    area_type_Carpet            0.001521\n"
     ]
    },
    {
     "data": {
      "image/png": "[encoded data removed]",
      "text/plain": [
       "<Figure size 640x480 with 1 Axes>"
      ]
     },
     "metadata": {},
     "output_type": "display_data"
    }
   ],
   "source": [
    "# 변수 중요도 확인\n",
    "importances = pd.DataFrame(rf.feature_importances_)\n",
    "feature_importances = pd.concat([pd.DataFrame(X.columns), importances], axis = 1)\n",
    "feature_importances.columns = ['col_names', 'feature_importance']\n",
    "feature_importances = feature_importances.sort_values(by = 'feature_importance', ascending= False).reset_index(drop = True)\n",
    "print(feature_importances)\n",
    "\n",
    "plt.barh(feature_importances['col_names'], feature_importances['feature_importance'], align = 'center')\n",
    "plt.xlabel('feature importance', size = 15)\n",
    "plt.ylabel('feature', size = 15)\n",
    "plt.show()\n",
    "\n",
    "# 랜덤포레스트 모델로 학습하였을 때의 변수중요도를 확인하였다.\n",
    "# 큰 중요도 순으로 total_sqft, bath, size 순으로 "
   ]
  },
  {
   "cell_type": "markdown",
   "metadata": {},
   "source": [
    "### 비지도 학습 알고리즘"
   ]
  },
  {
   "cell_type": "markdown",
   "metadata": {},
   "source": [
    "1. 다음은 신용 카드 사용자 데이터이다. 데이터는 신용카드 사용 행태를 나타내는 입력 변수들 구성되어 있다. 2개의 군집 분석 알고리즘으로 각각 군집을 생성하고 군집 생성 과정을 설명하시오."
   ]
  },
  {
   "cell_type": "code",
   "execution_count": 49,
   "metadata": {},
   "outputs": [
    {
     "data": {
      "text/html": [
       "<div>\n",
       "<style scoped>\n",
       "    .dataframe tbody tr th:only-of-type {\n",
       "        vertical-align: middle;\n",
       "    }\n",
       "\n",
       "    .dataframe tbody tr th {\n",
       "        vertical-align: top;\n",
       "    }\n",
       "\n",
       "    .dataframe thead th {\n",
       "        text-align: right;\n",
       "    }\n",
       "</style>\n",
       "<table border=\"1\" class=\"dataframe\">\n",
       "  <thead>\n",
       "    <tr style=\"text-align: right;\">\n",
       "      <th></th>\n",
       "      <th>CUST_ID</th>\n",
       "      <th>BALANCE</th>\n",
       "      <th>BALANCE_FREQUENCY</th>\n",
       "      <th>PURCHASES</th>\n",
       "      <th>PURCHASES_FREQUENCY</th>\n",
       "      <th>PURCHASES_TRX</th>\n",
       "    </tr>\n",
       "  </thead>\n",
       "  <tbody>\n",
       "    <tr>\n",
       "      <th>0</th>\n",
       "      <td>C10001</td>\n",
       "      <td>40.900749</td>\n",
       "      <td>0.818182</td>\n",
       "      <td>95.40</td>\n",
       "      <td>0.166667</td>\n",
       "      <td>2</td>\n",
       "    </tr>\n",
       "    <tr>\n",
       "      <th>1</th>\n",
       "      <td>C10002</td>\n",
       "      <td>3202.467416</td>\n",
       "      <td>0.909091</td>\n",
       "      <td>0.00</td>\n",
       "      <td>0.000000</td>\n",
       "      <td>0</td>\n",
       "    </tr>\n",
       "    <tr>\n",
       "      <th>2</th>\n",
       "      <td>C10003</td>\n",
       "      <td>2495.148862</td>\n",
       "      <td>1.000000</td>\n",
       "      <td>773.17</td>\n",
       "      <td>1.000000</td>\n",
       "      <td>12</td>\n",
       "    </tr>\n",
       "    <tr>\n",
       "      <th>3</th>\n",
       "      <td>C10004</td>\n",
       "      <td>1666.670542</td>\n",
       "      <td>0.636364</td>\n",
       "      <td>1499.00</td>\n",
       "      <td>0.083333</td>\n",
       "      <td>1</td>\n",
       "    </tr>\n",
       "    <tr>\n",
       "      <th>4</th>\n",
       "      <td>C10005</td>\n",
       "      <td>817.714335</td>\n",
       "      <td>1.000000</td>\n",
       "      <td>16.00</td>\n",
       "      <td>0.083333</td>\n",
       "      <td>1</td>\n",
       "    </tr>\n",
       "    <tr>\n",
       "      <th>...</th>\n",
       "      <td>...</td>\n",
       "      <td>...</td>\n",
       "      <td>...</td>\n",
       "      <td>...</td>\n",
       "      <td>...</td>\n",
       "      <td>...</td>\n",
       "    </tr>\n",
       "    <tr>\n",
       "      <th>8945</th>\n",
       "      <td>C19186</td>\n",
       "      <td>28.493517</td>\n",
       "      <td>1.000000</td>\n",
       "      <td>291.12</td>\n",
       "      <td>1.000000</td>\n",
       "      <td>6</td>\n",
       "    </tr>\n",
       "    <tr>\n",
       "      <th>8946</th>\n",
       "      <td>C19187</td>\n",
       "      <td>19.183215</td>\n",
       "      <td>1.000000</td>\n",
       "      <td>300.00</td>\n",
       "      <td>1.000000</td>\n",
       "      <td>6</td>\n",
       "    </tr>\n",
       "    <tr>\n",
       "      <th>8947</th>\n",
       "      <td>C19188</td>\n",
       "      <td>23.398673</td>\n",
       "      <td>0.833333</td>\n",
       "      <td>144.40</td>\n",
       "      <td>0.833333</td>\n",
       "      <td>5</td>\n",
       "    </tr>\n",
       "    <tr>\n",
       "      <th>8948</th>\n",
       "      <td>C19189</td>\n",
       "      <td>13.457564</td>\n",
       "      <td>0.833333</td>\n",
       "      <td>0.00</td>\n",
       "      <td>0.000000</td>\n",
       "      <td>0</td>\n",
       "    </tr>\n",
       "    <tr>\n",
       "      <th>8949</th>\n",
       "      <td>C19190</td>\n",
       "      <td>372.708075</td>\n",
       "      <td>0.666667</td>\n",
       "      <td>1093.25</td>\n",
       "      <td>0.666667</td>\n",
       "      <td>23</td>\n",
       "    </tr>\n",
       "  </tbody>\n",
       "</table>\n",
       "<p>8950 rows × 6 columns</p>\n",
       "</div>"
      ],
      "text/plain": [
       "     CUST_ID      BALANCE  BALANCE_FREQUENCY  PURCHASES  PURCHASES_FREQUENCY  \\\n",
       "0     C10001    40.900749           0.818182      95.40             0.166667   \n",
       "1     C10002  3202.467416           0.909091       0.00             0.000000   \n",
       "2     C10003  2495.148862           1.000000     773.17             1.000000   \n",
       "3     C10004  1666.670542           0.636364    1499.00             0.083333   \n",
       "4     C10005   817.714335           1.000000      16.00             0.083333   \n",
       "...      ...          ...                ...        ...                  ...   \n",
       "8945  C19186    28.493517           1.000000     291.12             1.000000   \n",
       "8946  C19187    19.183215           1.000000     300.00             1.000000   \n",
       "8947  C19188    23.398673           0.833333     144.40             0.833333   \n",
       "8948  C19189    13.457564           0.833333       0.00             0.000000   \n",
       "8949  C19190   372.708075           0.666667    1093.25             0.666667   \n",
       "\n",
       "      PURCHASES_TRX  \n",
       "0                 2  \n",
       "1                 0  \n",
       "2                12  \n",
       "3                 1  \n",
       "4                 1  \n",
       "...             ...  \n",
       "8945              6  \n",
       "8946              6  \n",
       "8947              5  \n",
       "8948              0  \n",
       "8949             23  \n",
       "\n",
       "[8950 rows x 6 columns]"
      ]
     },
     "execution_count": 49,
     "metadata": {},
     "output_type": "execute_result"
    }
   ],
   "source": [
    "data = pd.read_csv('https://raw.githubusercontent.com/algoboni/pythoncodebook1-1/main/practice10_credit_card.csv')\n",
    "data"
   ]
  },
  {
   "cell_type": "code",
   "execution_count": 71,
   "metadata": {},
   "outputs": [
    {
     "data": {
      "image/png": "[encoded data removed]",
      "text/plain": [
       "<Figure size 640x480 with 1 Axes>"
      ]
     },
     "metadata": {},
     "output_type": "display_data"
    },
    {
     "name": "stdout",
     "output_type": "stream",
     "text": [
      "2 0.3384023588407096\n",
      "3 0.38967496357569636\n",
      "4 0.42167361399160724\n",
      "5 0.4318013566586818\n",
      "6 0.4363021655084281\n",
      "7 0.41853645195346145\n",
      "8 0.4182352165959075\n",
      "9 0.4035293941073236\n",
      "10 0.3854344748501208\n",
      "11 0.3869698772864939\n",
      "12 0.3529900043938351\n",
      "13 0.34935761612434024\n"
     ]
    },
    {
     "data": {
      "text/html": [
       "<div>\n",
       "<style scoped>\n",
       "    .dataframe tbody tr th:only-of-type {\n",
       "        vertical-align: middle;\n",
       "    }\n",
       "\n",
       "    .dataframe tbody tr th {\n",
       "        vertical-align: top;\n",
       "    }\n",
       "\n",
       "    .dataframe thead th {\n",
       "        text-align: right;\n",
       "    }\n",
       "</style>\n",
       "<table border=\"1\" class=\"dataframe\">\n",
       "  <thead>\n",
       "    <tr style=\"text-align: right;\">\n",
       "      <th></th>\n",
       "      <th>BALANCE</th>\n",
       "      <th>BALANCE_FREQUENCY</th>\n",
       "      <th>PURCHASES</th>\n",
       "      <th>PURCHASES_FREQUENCY</th>\n",
       "      <th>PURCHASES_TRX</th>\n",
       "      <th>cluster</th>\n",
       "    </tr>\n",
       "  </thead>\n",
       "  <tbody>\n",
       "    <tr>\n",
       "      <th>0</th>\n",
       "      <td>-0.731989</td>\n",
       "      <td>-0.249434</td>\n",
       "      <td>-0.424900</td>\n",
       "      <td>-0.806490</td>\n",
       "      <td>-0.511333</td>\n",
       "      <td>1</td>\n",
       "    </tr>\n",
       "    <tr>\n",
       "      <th>1</th>\n",
       "      <td>0.786961</td>\n",
       "      <td>0.134325</td>\n",
       "      <td>-0.469552</td>\n",
       "      <td>-1.221758</td>\n",
       "      <td>-0.591796</td>\n",
       "      <td>1</td>\n",
       "    </tr>\n",
       "    <tr>\n",
       "      <th>2</th>\n",
       "      <td>0.447135</td>\n",
       "      <td>0.518084</td>\n",
       "      <td>-0.107668</td>\n",
       "      <td>1.269843</td>\n",
       "      <td>-0.109020</td>\n",
       "      <td>0</td>\n",
       "    </tr>\n",
       "    <tr>\n",
       "      <th>3</th>\n",
       "      <td>0.049099</td>\n",
       "      <td>-1.016953</td>\n",
       "      <td>0.232058</td>\n",
       "      <td>-1.014125</td>\n",
       "      <td>-0.551565</td>\n",
       "      <td>2</td>\n",
       "    </tr>\n",
       "    <tr>\n",
       "      <th>4</th>\n",
       "      <td>-0.358775</td>\n",
       "      <td>0.518084</td>\n",
       "      <td>-0.462063</td>\n",
       "      <td>-1.014125</td>\n",
       "      <td>-0.551565</td>\n",
       "      <td>1</td>\n",
       "    </tr>\n",
       "    <tr>\n",
       "      <th>...</th>\n",
       "      <td>...</td>\n",
       "      <td>...</td>\n",
       "      <td>...</td>\n",
       "      <td>...</td>\n",
       "      <td>...</td>\n",
       "      <td>...</td>\n",
       "    </tr>\n",
       "    <tr>\n",
       "      <th>8945</th>\n",
       "      <td>-0.737950</td>\n",
       "      <td>0.518084</td>\n",
       "      <td>-0.333293</td>\n",
       "      <td>1.269843</td>\n",
       "      <td>-0.350408</td>\n",
       "      <td>0</td>\n",
       "    </tr>\n",
       "    <tr>\n",
       "      <th>8946</th>\n",
       "      <td>-0.742423</td>\n",
       "      <td>0.518084</td>\n",
       "      <td>-0.329136</td>\n",
       "      <td>1.269843</td>\n",
       "      <td>-0.350408</td>\n",
       "      <td>0</td>\n",
       "    </tr>\n",
       "    <tr>\n",
       "      <th>8947</th>\n",
       "      <td>-0.740398</td>\n",
       "      <td>-0.185477</td>\n",
       "      <td>-0.401965</td>\n",
       "      <td>0.854576</td>\n",
       "      <td>-0.390639</td>\n",
       "      <td>0</td>\n",
       "    </tr>\n",
       "    <tr>\n",
       "      <th>8948</th>\n",
       "      <td>-0.745174</td>\n",
       "      <td>-0.185477</td>\n",
       "      <td>-0.469552</td>\n",
       "      <td>-1.221758</td>\n",
       "      <td>-0.591796</td>\n",
       "      <td>1</td>\n",
       "    </tr>\n",
       "    <tr>\n",
       "      <th>8949</th>\n",
       "      <td>-0.572575</td>\n",
       "      <td>-0.889033</td>\n",
       "      <td>0.042146</td>\n",
       "      <td>0.439310</td>\n",
       "      <td>0.333524</td>\n",
       "      <td>0</td>\n",
       "    </tr>\n",
       "  </tbody>\n",
       "</table>\n",
       "<p>8950 rows × 6 columns</p>\n",
       "</div>"
      ],
      "text/plain": [
       "       BALANCE  BALANCE_FREQUENCY  PURCHASES  PURCHASES_FREQUENCY  \\\n",
       "0    -0.731989          -0.249434  -0.424900            -0.806490   \n",
       "1     0.786961           0.134325  -0.469552            -1.221758   \n",
       "2     0.447135           0.518084  -0.107668             1.269843   \n",
       "3     0.049099          -1.016953   0.232058            -1.014125   \n",
       "4    -0.358775           0.518084  -0.462063            -1.014125   \n",
       "...        ...                ...        ...                  ...   \n",
       "8945 -0.737950           0.518084  -0.333293             1.269843   \n",
       "8946 -0.742423           0.518084  -0.329136             1.269843   \n",
       "8947 -0.740398          -0.185477  -0.401965             0.854576   \n",
       "8948 -0.745174          -0.185477  -0.469552            -1.221758   \n",
       "8949 -0.572575          -0.889033   0.042146             0.439310   \n",
       "\n",
       "      PURCHASES_TRX  cluster  \n",
       "0         -0.511333        1  \n",
       "1         -0.591796        1  \n",
       "2         -0.109020        0  \n",
       "3         -0.551565        2  \n",
       "4         -0.551565        1  \n",
       "...             ...      ...  \n",
       "8945      -0.350408        0  \n",
       "8946      -0.350408        0  \n",
       "8947      -0.390639        0  \n",
       "8948      -0.591796        1  \n",
       "8949       0.333524        0  \n",
       "\n",
       "[8950 rows x 6 columns]"
      ]
     },
     "execution_count": 71,
     "metadata": {},
     "output_type": "execute_result"
    }
   ],
   "source": [
    "from sklearn.cluster import KMeans, DBSCAN\n",
    "from sklearn.preprocessing import StandardScaler\n",
    "from sklearn.model_selection import train_test_split\n",
    "from sklearn.metrics import silhouette_score, calinski_harabasz_score\n",
    "\n",
    "df = data.drop(['CUST_ID'], axis = 1)\n",
    "\n",
    "scaler = StandardScaler()\n",
    "df_scaled = scaler.fit_transform(df)\n",
    "df_scaled= pd.DataFrame(df_scaled, columns = df.columns)\n",
    "\n",
    "# 적절한 군집개수 구하기\n",
    "I = [] # 오차제곱합\n",
    "sil = []\n",
    "for k in range(2, 14):\n",
    "    kmeans = KMeans(n_clusters=k).fit(df_scaled)\n",
    "    sil.append(silhouette_score(df_scaled, kmeans.labels_))\n",
    "    I.append(kmeans.inertia_)\n",
    "\n",
    "plt.plot(I, marker = 'o')\n",
    "plt.show()\n",
    "\n",
    "for i, score in enumerate(sil):\n",
    "    print(i+2, score)\n",
    "# 엘보우 방법으로 평평해지기 시작하는 군집의 개수를 보면 4개이다.\n",
    "# 최적의 군집은 6개이다.\n",
    "\n",
    "kmeans = KMeans(n_clusters=6).fit(df_scaled)\n",
    "kmeans_df = df_scaled.copy()\n",
    "kmeans_df['cluster'] = kmeans.labels_\n",
    "kmeans_df"
   ]
  },
  {
   "cell_type": "code",
   "execution_count": 76,
   "metadata": {},
   "outputs": [
    {
     "name": "stdout",
     "output_type": "stream",
     "text": [
      "0.2172669025866029\n",
      "0.662504182668745\n",
      "0.7154365694706621\n"
     ]
    },
    {
     "data": {
      "text/html": [
       "<div>\n",
       "<style scoped>\n",
       "    .dataframe tbody tr th:only-of-type {\n",
       "        vertical-align: middle;\n",
       "    }\n",
       "\n",
       "    .dataframe tbody tr th {\n",
       "        vertical-align: top;\n",
       "    }\n",
       "\n",
       "    .dataframe thead th {\n",
       "        text-align: right;\n",
       "    }\n",
       "</style>\n",
       "<table border=\"1\" class=\"dataframe\">\n",
       "  <thead>\n",
       "    <tr style=\"text-align: right;\">\n",
       "      <th></th>\n",
       "      <th>BALANCE</th>\n",
       "      <th>BALANCE_FREQUENCY</th>\n",
       "      <th>PURCHASES</th>\n",
       "      <th>PURCHASES_FREQUENCY</th>\n",
       "      <th>PURCHASES_TRX</th>\n",
       "      <th>cluster</th>\n",
       "    </tr>\n",
       "  </thead>\n",
       "  <tbody>\n",
       "    <tr>\n",
       "      <th>0</th>\n",
       "      <td>-0.731989</td>\n",
       "      <td>-0.249434</td>\n",
       "      <td>-0.424900</td>\n",
       "      <td>-0.806490</td>\n",
       "      <td>-0.511333</td>\n",
       "      <td>0</td>\n",
       "    </tr>\n",
       "    <tr>\n",
       "      <th>1</th>\n",
       "      <td>0.786961</td>\n",
       "      <td>0.134325</td>\n",
       "      <td>-0.469552</td>\n",
       "      <td>-1.221758</td>\n",
       "      <td>-0.591796</td>\n",
       "      <td>0</td>\n",
       "    </tr>\n",
       "    <tr>\n",
       "      <th>2</th>\n",
       "      <td>0.447135</td>\n",
       "      <td>0.518084</td>\n",
       "      <td>-0.107668</td>\n",
       "      <td>1.269843</td>\n",
       "      <td>-0.109020</td>\n",
       "      <td>0</td>\n",
       "    </tr>\n",
       "    <tr>\n",
       "      <th>3</th>\n",
       "      <td>0.049099</td>\n",
       "      <td>-1.016953</td>\n",
       "      <td>0.232058</td>\n",
       "      <td>-1.014125</td>\n",
       "      <td>-0.551565</td>\n",
       "      <td>0</td>\n",
       "    </tr>\n",
       "    <tr>\n",
       "      <th>4</th>\n",
       "      <td>-0.358775</td>\n",
       "      <td>0.518084</td>\n",
       "      <td>-0.462063</td>\n",
       "      <td>-1.014125</td>\n",
       "      <td>-0.551565</td>\n",
       "      <td>0</td>\n",
       "    </tr>\n",
       "    <tr>\n",
       "      <th>...</th>\n",
       "      <td>...</td>\n",
       "      <td>...</td>\n",
       "      <td>...</td>\n",
       "      <td>...</td>\n",
       "      <td>...</td>\n",
       "      <td>...</td>\n",
       "    </tr>\n",
       "    <tr>\n",
       "      <th>8945</th>\n",
       "      <td>-0.737950</td>\n",
       "      <td>0.518084</td>\n",
       "      <td>-0.333293</td>\n",
       "      <td>1.269843</td>\n",
       "      <td>-0.350408</td>\n",
       "      <td>0</td>\n",
       "    </tr>\n",
       "    <tr>\n",
       "      <th>8946</th>\n",
       "      <td>-0.742423</td>\n",
       "      <td>0.518084</td>\n",
       "      <td>-0.329136</td>\n",
       "      <td>1.269843</td>\n",
       "      <td>-0.350408</td>\n",
       "      <td>0</td>\n",
       "    </tr>\n",
       "    <tr>\n",
       "      <th>8947</th>\n",
       "      <td>-0.740398</td>\n",
       "      <td>-0.185477</td>\n",
       "      <td>-0.401965</td>\n",
       "      <td>0.854576</td>\n",
       "      <td>-0.390639</td>\n",
       "      <td>0</td>\n",
       "    </tr>\n",
       "    <tr>\n",
       "      <th>8948</th>\n",
       "      <td>-0.745174</td>\n",
       "      <td>-0.185477</td>\n",
       "      <td>-0.469552</td>\n",
       "      <td>-1.221758</td>\n",
       "      <td>-0.591796</td>\n",
       "      <td>0</td>\n",
       "    </tr>\n",
       "    <tr>\n",
       "      <th>8949</th>\n",
       "      <td>-0.572575</td>\n",
       "      <td>-0.889033</td>\n",
       "      <td>0.042146</td>\n",
       "      <td>0.439310</td>\n",
       "      <td>0.333524</td>\n",
       "      <td>0</td>\n",
       "    </tr>\n",
       "  </tbody>\n",
       "</table>\n",
       "<p>8950 rows × 6 columns</p>\n",
       "</div>"
      ],
      "text/plain": [
       "       BALANCE  BALANCE_FREQUENCY  PURCHASES  PURCHASES_FREQUENCY  \\\n",
       "0    -0.731989          -0.249434  -0.424900            -0.806490   \n",
       "1     0.786961           0.134325  -0.469552            -1.221758   \n",
       "2     0.447135           0.518084  -0.107668             1.269843   \n",
       "3     0.049099          -1.016953   0.232058            -1.014125   \n",
       "4    -0.358775           0.518084  -0.462063            -1.014125   \n",
       "...        ...                ...        ...                  ...   \n",
       "8945 -0.737950           0.518084  -0.333293             1.269843   \n",
       "8946 -0.742423           0.518084  -0.329136             1.269843   \n",
       "8947 -0.740398          -0.185477  -0.401965             0.854576   \n",
       "8948 -0.745174          -0.185477  -0.469552            -1.221758   \n",
       "8949 -0.572575          -0.889033   0.042146             0.439310   \n",
       "\n",
       "      PURCHASES_TRX  cluster  \n",
       "0         -0.511333        0  \n",
       "1         -0.591796        0  \n",
       "2         -0.109020        0  \n",
       "3         -0.551565        0  \n",
       "4         -0.551565        0  \n",
       "...             ...      ...  \n",
       "8945      -0.350408        0  \n",
       "8946      -0.350408        0  \n",
       "8947      -0.390639        0  \n",
       "8948      -0.591796        0  \n",
       "8949       0.333524        0  \n",
       "\n",
       "[8950 rows x 6 columns]"
      ]
     },
     "execution_count": 76,
     "metadata": {},
     "output_type": "execute_result"
    }
   ],
   "source": [
    "eps_list = [0.5, 0.8, 1]\n",
    "\n",
    "for eps in eps_list:\n",
    "    db = DBSCAN(eps = eps, min_samples=5).fit(df_scaled)\n",
    "    temp_df = df_scaled.copy()\n",
    "    temp_df['label'] = db.labels_\n",
    "    \n",
    "    print(silhouette_score(df_scaled, db.labels_))\n",
    "\n",
    "# eps = 1 일 때 성능이 가장 좋다.\n",
    "\n",
    "db = DBSCAN(eps = 1, min_samples=5).fit(df_scaled)\n",
    "db_df = df_scaled.copy()\n",
    "db_df['cluster'] = db.labels_\n",
    "db_df"
   ]
  },
  {
   "cell_type": "markdown",
   "metadata": {},
   "source": [
    "K-means 클러스터링\n",
    "+ scree plot 으로 평평해지는 곳을 찾아서 최적의 군집 수를 일차적으로 확인하고 실루엣 계수를 이용해 가장 큰 값이 나온 군집 수를 최적의 군집수라고 판단했다.\n",
    "\n",
    "DBSCAN\n",
    "+ 파라미터인 eps 의 후보군을 3개정도 정하고 3개를 각각 실루엣 계수를 구해서 가장 크게 나온 eps 를 설정하여 군집을 생성하였다."
   ]
  },
  {
   "cell_type": "markdown",
   "metadata": {},
   "source": [
    "2. 두 모델을 비교하고 더 타당한 모델을 선택하시오."
   ]
  },
  {
   "cell_type": "code",
   "execution_count": 77,
   "metadata": {},
   "outputs": [
    {
     "data": {
      "text/plain": [
       "cluster\n",
       " 0    8846\n",
       "-1     104\n",
       "Name: count, dtype: int64"
      ]
     },
     "execution_count": 77,
     "metadata": {},
     "output_type": "execute_result"
    }
   ],
   "source": [
    "db_df.cluster.value_counts()"
   ]
  },
  {
   "cell_type": "code",
   "execution_count": 78,
   "metadata": {},
   "outputs": [
    {
     "data": {
      "text/plain": [
       "cluster\n",
       "0    3267\n",
       "1    2990\n",
       "2    1390\n",
       "4     786\n",
       "3     488\n",
       "5      29\n",
       "Name: count, dtype: int64"
      ]
     },
     "execution_count": 78,
     "metadata": {},
     "output_type": "execute_result"
    }
   ],
   "source": [
    "kmeans_df.cluster.value_counts()"
   ]
  },
  {
   "cell_type": "markdown",
   "metadata": {},
   "source": [
    "DBSCAN 에서 군집 비율의 차이가 크게 나므로 keams 알고리즘을 사용한 모델이 더 타당하다고 판단된다."
   ]
  },
  {
   "cell_type": "markdown",
   "metadata": {},
   "source": [
    "3. 선택한 모델로 생성한 군집들의 고객 특성을 분석하시오."
   ]
  },
  {
   "cell_type": "code",
   "execution_count": 82,
   "metadata": {},
   "outputs": [
    {
     "data": {
      "text/html": [
       "<div>\n",
       "<style scoped>\n",
       "    .dataframe tbody tr th:only-of-type {\n",
       "        vertical-align: middle;\n",
       "    }\n",
       "\n",
       "    .dataframe tbody tr th {\n",
       "        vertical-align: top;\n",
       "    }\n",
       "\n",
       "    .dataframe thead th {\n",
       "        text-align: right;\n",
       "    }\n",
       "</style>\n",
       "<table border=\"1\" class=\"dataframe\">\n",
       "  <thead>\n",
       "    <tr style=\"text-align: right;\">\n",
       "      <th></th>\n",
       "      <th>BALANCE</th>\n",
       "      <th>BALANCE_FREQUENCY</th>\n",
       "      <th>PURCHASES</th>\n",
       "      <th>PURCHASES_FREQUENCY</th>\n",
       "      <th>PURCHASES_TRX</th>\n",
       "    </tr>\n",
       "    <tr>\n",
       "      <th>cluster</th>\n",
       "      <th></th>\n",
       "      <th></th>\n",
       "      <th></th>\n",
       "      <th></th>\n",
       "      <th></th>\n",
       "    </tr>\n",
       "  </thead>\n",
       "  <tbody>\n",
       "    <tr>\n",
       "      <th>0</th>\n",
       "      <td>416.729679</td>\n",
       "      <td>1.000000</td>\n",
       "      <td>878.520</td>\n",
       "      <td>0.916667</td>\n",
       "      <td>16.0</td>\n",
       "    </tr>\n",
       "    <tr>\n",
       "      <th>1</th>\n",
       "      <td>1233.290231</td>\n",
       "      <td>1.000000</td>\n",
       "      <td>26.900</td>\n",
       "      <td>0.083333</td>\n",
       "      <td>1.0</td>\n",
       "    </tr>\n",
       "    <tr>\n",
       "      <th>2</th>\n",
       "      <td>26.610642</td>\n",
       "      <td>0.363636</td>\n",
       "      <td>157.725</td>\n",
       "      <td>0.166667</td>\n",
       "      <td>3.0</td>\n",
       "    </tr>\n",
       "    <tr>\n",
       "      <th>3</th>\n",
       "      <td>2329.875976</td>\n",
       "      <td>1.000000</td>\n",
       "      <td>4910.170</td>\n",
       "      <td>1.000000</td>\n",
       "      <td>75.0</td>\n",
       "    </tr>\n",
       "    <tr>\n",
       "      <th>4</th>\n",
       "      <td>5813.319845</td>\n",
       "      <td>1.000000</td>\n",
       "      <td>212.225</td>\n",
       "      <td>0.166667</td>\n",
       "      <td>2.0</td>\n",
       "    </tr>\n",
       "    <tr>\n",
       "      <th>5</th>\n",
       "      <td>4010.621974</td>\n",
       "      <td>1.000000</td>\n",
       "      <td>22746.810</td>\n",
       "      <td>1.000000</td>\n",
       "      <td>136.0</td>\n",
       "    </tr>\n",
       "  </tbody>\n",
       "</table>\n",
       "</div>"
      ],
      "text/plain": [
       "             BALANCE  BALANCE_FREQUENCY  PURCHASES  PURCHASES_FREQUENCY  \\\n",
       "cluster                                                                   \n",
       "0         416.729679           1.000000    878.520             0.916667   \n",
       "1        1233.290231           1.000000     26.900             0.083333   \n",
       "2          26.610642           0.363636    157.725             0.166667   \n",
       "3        2329.875976           1.000000   4910.170             1.000000   \n",
       "4        5813.319845           1.000000    212.225             0.166667   \n",
       "5        4010.621974           1.000000  22746.810             1.000000   \n",
       "\n",
       "         PURCHASES_TRX  \n",
       "cluster                 \n",
       "0                 16.0  \n",
       "1                  1.0  \n",
       "2                  3.0  \n",
       "3                 75.0  \n",
       "4                  2.0  \n",
       "5                136.0  "
      ]
     },
     "execution_count": 82,
     "metadata": {},
     "output_type": "execute_result"
    }
   ],
   "source": [
    "df['cluster'] = kmeans_df['cluster']\n",
    "df.groupby('cluster').median()"
   ]
  },
  {
   "cell_type": "markdown",
   "metadata": {},
   "source": [
    "+ 거래를 가장 많이하고 구매액, 계좌 잔액이 가장 큰 군집은 5번 군집이다.\n",
    "+ 변수별 가장 큰 군집과 작은 군집을 설명하는 것으로 적자."
   ]
  },
  {
   "cell_type": "markdown",
   "metadata": {},
   "source": [
    "4. 고객 특성이 다음과 같다면 어느 군집으로 분류하는 것이 타당한 지 서술하시오."
   ]
  },
  {
   "cell_type": "markdown",
   "metadata": {},
   "source": [
    "BALANCE : 3000, BALANCE_FREQUENCY : 1, PURCHASES : 6000, PURCHASES_FREQUENCY : 1, PURCHASES_TRX : 100"
   ]
  },
  {
   "cell_type": "markdown",
   "metadata": {},
   "source": [
    "3번 군집이 타당해보인다."
   ]
  },
  {
   "cell_type": "markdown",
   "metadata": {},
   "source": [
    "5. 각 군집들을 대상으로 마케팅 전략을 수립하시오."
   ]
  },
  {
   "cell_type": "markdown",
   "metadata": {},
   "source": [
    "### 시계열"
   ]
  },
  {
   "cell_type": "markdown",
   "metadata": {},
   "source": [
    "1. 다음은 Microsoft의 주식 가격 데이터이다. 데이터는 날짜와 주식 종가로 구성되어 있다. 다음 데이터를 주 단위 평균 가격으로 다운샘플링하고, 앞의 데이터 300개를 down_head, 뒤의 데이터 14개를 down_tail 로 분할하시오."
   ]
  },
  {
   "cell_type": "code",
   "execution_count": 15,
   "metadata": {},
   "outputs": [
    {
     "data": {
      "text/html": [
       "<div>\n",
       "<style scoped>\n",
       "    .dataframe tbody tr th:only-of-type {\n",
       "        vertical-align: middle;\n",
       "    }\n",
       "\n",
       "    .dataframe tbody tr th {\n",
       "        vertical-align: top;\n",
       "    }\n",
       "\n",
       "    .dataframe thead th {\n",
       "        text-align: right;\n",
       "    }\n",
       "</style>\n",
       "<table border=\"1\" class=\"dataframe\">\n",
       "  <thead>\n",
       "    <tr style=\"text-align: right;\">\n",
       "      <th></th>\n",
       "      <th>Close</th>\n",
       "    </tr>\n",
       "    <tr>\n",
       "      <th>Date</th>\n",
       "      <th></th>\n",
       "    </tr>\n",
       "  </thead>\n",
       "  <tbody>\n",
       "    <tr>\n",
       "      <th>2021-01-03</th>\n",
       "      <td>223.302500</td>\n",
       "    </tr>\n",
       "    <tr>\n",
       "      <th>2021-01-10</th>\n",
       "      <td>217.150000</td>\n",
       "    </tr>\n",
       "    <tr>\n",
       "      <th>2021-01-17</th>\n",
       "      <td>214.886000</td>\n",
       "    </tr>\n",
       "    <tr>\n",
       "      <th>2021-01-24</th>\n",
       "      <td>222.925000</td>\n",
       "    </tr>\n",
       "    <tr>\n",
       "      <th>2021-01-31</th>\n",
       "      <td>233.130000</td>\n",
       "    </tr>\n",
       "    <tr>\n",
       "      <th>2021-02-07</th>\n",
       "      <td>241.274000</td>\n",
       "    </tr>\n",
       "    <tr>\n",
       "      <th>2021-02-14</th>\n",
       "      <td>243.708000</td>\n",
       "    </tr>\n",
       "    <tr>\n",
       "      <th>2021-02-21</th>\n",
       "      <td>243.165000</td>\n",
       "    </tr>\n",
       "    <tr>\n",
       "      <th>2021-02-28</th>\n",
       "      <td>232.740000</td>\n",
       "    </tr>\n",
       "    <tr>\n",
       "      <th>2021-03-07</th>\n",
       "      <td>231.340000</td>\n",
       "    </tr>\n",
       "    <tr>\n",
       "      <th>2021-03-14</th>\n",
       "      <td>233.294000</td>\n",
       "    </tr>\n",
       "    <tr>\n",
       "      <th>2021-03-21</th>\n",
       "      <td>234.126000</td>\n",
       "    </tr>\n",
       "    <tr>\n",
       "      <th>2021-03-28</th>\n",
       "      <td>235.570000</td>\n",
       "    </tr>\n",
       "    <tr>\n",
       "      <th>2021-04-04</th>\n",
       "      <td>234.286667</td>\n",
       "    </tr>\n",
       "  </tbody>\n",
       "</table>\n",
       "</div>"
      ],
      "text/plain": [
       "                 Close\n",
       "Date                  \n",
       "2021-01-03  223.302500\n",
       "2021-01-10  217.150000\n",
       "2021-01-17  214.886000\n",
       "2021-01-24  222.925000\n",
       "2021-01-31  233.130000\n",
       "2021-02-07  241.274000\n",
       "2021-02-14  243.708000\n",
       "2021-02-21  243.165000\n",
       "2021-02-28  232.740000\n",
       "2021-03-07  231.340000\n",
       "2021-03-14  233.294000\n",
       "2021-03-21  234.126000\n",
       "2021-03-28  235.570000\n",
       "2021-04-04  234.286667"
      ]
     },
     "execution_count": 15,
     "metadata": {},
     "output_type": "execute_result"
    }
   ],
   "source": [
    "import pandas as pd\n",
    "ms = pd.read_csv('https://raw.githubusercontent.com/algoboni/pythoncodebook1-1/main/practice12_ms_stock.csv')\n",
    "ms\n",
    "\n",
    "ms['Date'] = ms['Date'].astype('datetime64[ns]')\n",
    "ms = ms.set_index('Date')\n",
    "# print(ms)\n",
    "\n",
    "down_ms = ms.resample(rule = 'W').mean()\n",
    "down_head = down_ms[:300]\n",
    "down_tail = down_ms[-14:]"
   ]
  },
  {
   "cell_type": "markdown",
   "metadata": {},
   "source": [
    "2. down_head 데이터로 탐색적 분석을 진행하시오."
   ]
  },
  {
   "cell_type": "code",
   "execution_count": 19,
   "metadata": {},
   "outputs": [
    {
     "data": {
      "image/png": "[encoded data removed]",
      "text/plain": [
       "<Figure size 1200x800 with 4 Axes>"
      ]
     },
     "metadata": {},
     "output_type": "display_data"
    }
   ],
   "source": [
    "from statsmodels.tsa.seasonal import seasonal_decompose\n",
    "import matplotlib.pyplot as plt\n",
    "plt.rcParams['figure.figsize'] = [12, 8]\n",
    "result = seasonal_decompose(down_head, model = 'additive')\n",
    "result.plot()\n",
    "plt.show()\n",
    "# 계졀성이 존재해보인다. 주 단위로 평균을 내 다운샘플링한 데이터이므로 주간 계절성이 존재할 것으로 판단됨."
   ]
  },
  {
   "cell_type": "code",
   "execution_count": 21,
   "metadata": {},
   "outputs": [
    {
     "name": "stdout",
     "output_type": "stream",
     "text": [
      "<class 'pandas.core.frame.DataFrame'>\n",
      "DatetimeIndex: 300 entries, 2015-04-05 to 2020-12-27\n",
      "Freq: W-SUN\n",
      "Data columns (total 1 columns):\n",
      " #   Column  Non-Null Count  Dtype  \n",
      "---  ------  --------------  -----  \n",
      " 0   Close   300 non-null    float64\n",
      "dtypes: float64(1)\n",
      "memory usage: 4.7 KB\n"
     ]
    }
   ],
   "source": [
    "# 결측치 확인 - 결측치가 존재하면 보간법으로 채워줘야함\n",
    "down_head.info() # 결측치가 존재하지 않는다."
   ]
  },
  {
   "cell_type": "code",
   "execution_count": 28,
   "metadata": {},
   "outputs": [
    {
     "name": "stdout",
     "output_type": "stream",
     "text": [
      "검정통계량 : 2.2398006833134603, pvalue : 0.998913687800196\n",
      "검정통계량 : 2.5927601477353317, pvalue : 0.01\n"
     ]
    }
   ],
   "source": [
    "# 정상성 확인\n",
    "from statsmodels.tsa.stattools import adfuller, kpss\n",
    "result = adfuller(down_head, regression = 'c', autolag='AIC')\n",
    "print('검정통계량 : {}, pvalue : {}'.format(result[0], result[1]))\n",
    "\n",
    "result1 = kpss(down_head, regression = 'c', nlags='auto')\n",
    "print('검정통계량 : {}, pvalue : {}'.format(result1[0], result1[1]))\n",
    "\n",
    "# 두 가지 검정으로 정상성을 확인했을 때 모두 비정상 시계열이라고 판단된다."
   ]
  },
  {
   "cell_type": "code",
   "execution_count": 33,
   "metadata": {},
   "outputs": [
    {
     "name": "stdout",
     "output_type": "stream",
     "text": [
      "검정통계량 : -10.290577110031458, pvalue : 3.579002903392079e-18\n",
      "검정통계량 : 0.34333264610335307, pvalue : 0.1\n"
     ]
    }
   ],
   "source": [
    "# 차분으로 정상시계열 데이터로 변환\n",
    "down_head1 = down_head.diff(1)\n",
    "down_head1 = down_head1.dropna()\n",
    "result = adfuller(down_head1, regression = 'c', autolag='AIC')\n",
    "print('검정통계량 : {}, pvalue : {}'.format(result[0], result[1]))\n",
    "result1 = kpss(down_head1, regression = 'c', nlags='auto')\n",
    "print('검정통계량 : {}, pvalue : {}'.format(result1[0], result1[1]))\n",
    "\n",
    "# 두 가지 검정 모두 시계열 데이터라고 판단하였다."
   ]
  },
  {
   "cell_type": "code",
   "execution_count": 37,
   "metadata": {},
   "outputs": [
    {
     "data": {
      "image/png": "[encoded data removed]",
      "text/plain": [
       "<Figure size 1000x500 with 2 Axes>"
      ]
     },
     "metadata": {},
     "output_type": "display_data"
    }
   ],
   "source": [
    "# 자기상관확인\n",
    "from statsmodels.graphics.tsaplots import plot_acf, plot_pacf\n",
    "\n",
    "fig, ax = plt.subplots(1,2,figsize = (10, 5))\n",
    "plot_acf(down_head1, ax = ax[0])\n",
    "plot_pacf(down_head1, ax = ax[1])\n",
    "plt.show()\n",
    "\n",
    "# ACF 와 PACF 모두 2에서 절단점을 가진다."
   ]
  },
  {
   "cell_type": "code",
   "execution_count": 38,
   "metadata": {},
   "outputs": [
    {
     "data": {
      "image/png": "[encoded data removed]",
      "text/plain": [
       "<Figure size 1200x800 with 4 Axes>"
      ]
     },
     "metadata": {},
     "output_type": "display_data"
    }
   ],
   "source": [
    "result = seasonal_decompose(down_head1, model = 'additive')\n",
    "result.plot()\n",
    "plt.show()"
   ]
  },
  {
   "cell_type": "markdown",
   "metadata": {},
   "source": [
    "3. down_head 데이터로 시계열 모델을 적합하시오."
   ]
  },
  {
   "cell_type": "code",
   "execution_count": 55,
   "metadata": {},
   "outputs": [
    {
     "data": {
      "text/html": [
       "<style>#sk-container-id-4 {color: black;background-color: white;}#sk-container-id-4 pre{padding: 0;}#sk-container-id-4 div.sk-toggleable {background-color: white;}#sk-container-id-4 label.sk-toggleable__label {cursor: pointer;display: block;width: 100%;margin-bottom: 0;padding: 0.3em;box-sizing: border-box;text-align: center;}#sk-container-id-4 label.sk-toggleable__label-arrow:before {content: \"▸\";float: left;margin-right: 0.25em;color: #696969;}#sk-container-id-4 label.sk-toggleable__label-arrow:hover:before {color: black;}#sk-container-id-4 div.sk-estimator:hover label.sk-toggleable__label-arrow:before {color: black;}#sk-container-id-4 div.sk-toggleable__content {max-height: 0;max-width: 0;overflow: hidden;text-align: left;background-color: #f0f8ff;}#sk-container-id-4 div.sk-toggleable__content pre {margin: 0.2em;color: black;border-radius: 0.25em;background-color: #f0f8ff;}#sk-container-id-4 input.sk-toggleable__control:checked~div.sk-toggleable__content {max-height: 200px;max-width: 100%;overflow: auto;}#sk-container-id-4 input.sk-toggleable__control:checked~label.sk-toggleable__label-arrow:before {content: \"▾\";}#sk-container-id-4 div.sk-estimator input.sk-toggleable__control:checked~label.sk-toggleable__label {background-color: #d4ebff;}#sk-container-id-4 div.sk-label input.sk-toggleable__control:checked~label.sk-toggleable__label {background-color: #d4ebff;}#sk-container-id-4 input.sk-hidden--visually {border: 0;clip: rect(1px 1px 1px 1px);clip: rect(1px, 1px, 1px, 1px);height: 1px;margin: -1px;overflow: hidden;padding: 0;position: absolute;width: 1px;}#sk-container-id-4 div.sk-estimator {font-family: monospace;background-color: #f0f8ff;border: 1px dotted black;border-radius: 0.25em;box-sizing: border-box;margin-bottom: 0.5em;}#sk-container-id-4 div.sk-estimator:hover {background-color: #d4ebff;}#sk-container-id-4 div.sk-parallel-item::after {content: \"\";width: 100%;border-bottom: 1px solid gray;flex-grow: 1;}#sk-container-id-4 div.sk-label:hover label.sk-toggleable__label {background-color: #d4ebff;}#sk-container-id-4 div.sk-serial::before {content: \"\";position: absolute;border-left: 1px solid gray;box-sizing: border-box;top: 0;bottom: 0;left: 50%;z-index: 0;}#sk-container-id-4 div.sk-serial {display: flex;flex-direction: column;align-items: center;background-color: white;padding-right: 0.2em;padding-left: 0.2em;position: relative;}#sk-container-id-4 div.sk-item {position: relative;z-index: 1;}#sk-container-id-4 div.sk-parallel {display: flex;align-items: stretch;justify-content: center;background-color: white;position: relative;}#sk-container-id-4 div.sk-item::before, #sk-container-id-4 div.sk-parallel-item::before {content: \"\";position: absolute;border-left: 1px solid gray;box-sizing: border-box;top: 0;bottom: 0;left: 50%;z-index: -1;}#sk-container-id-4 div.sk-parallel-item {display: flex;flex-direction: column;z-index: 1;position: relative;background-color: white;}#sk-container-id-4 div.sk-parallel-item:first-child::after {align-self: flex-end;width: 50%;}#sk-container-id-4 div.sk-parallel-item:last-child::after {align-self: flex-start;width: 50%;}#sk-container-id-4 div.sk-parallel-item:only-child::after {width: 0;}#sk-container-id-4 div.sk-dashed-wrapped {border: 1px dashed gray;margin: 0 0.4em 0.5em 0.4em;box-sizing: border-box;padding-bottom: 0.4em;background-color: white;}#sk-container-id-4 div.sk-label label {font-family: monospace;font-weight: bold;display: inline-block;line-height: 1.2em;}#sk-container-id-4 div.sk-label-container {text-align: center;}#sk-container-id-4 div.sk-container {/* jupyter's `normalize.less` sets `[hidden] { display: none; }` but bootstrap.min.css set `[hidden] { display: none !important; }` so we also need the `!important` here to be able to override the default hidden behavior on the sphinx rendered scikit-learn.org. See: https://github.com/scikit-learn/scikit-learn/issues/21755 */display: inline-block !important;position: relative;}#sk-container-id-4 div.sk-text-repr-fallback {display: none;}</style><div id=\"sk-container-id-4\" class=\"sk-top-container\"><div class=\"sk-text-repr-fallback\"><pre> ARIMA(3,1,2)(1,0,1)[7] intercept</pre><b>In a Jupyter environment, please rerun this cell to show the HTML representation or trust the notebook. <br />On GitHub, the HTML representation is unable to render, please try loading this page with nbviewer.org.</b></div><div class=\"sk-container\" hidden><div class=\"sk-item\"><div class=\"sk-estimator sk-toggleable\"><input class=\"sk-toggleable__control sk-hidden--visually\" id=\"sk-estimator-id-4\" type=\"checkbox\" checked><label for=\"sk-estimator-id-4\" class=\"sk-toggleable__label sk-toggleable__label-arrow\">ARIMA</label><div class=\"sk-toggleable__content\"><pre> ARIMA(3,1,2)(1,0,1)[7] intercept</pre></div></div></div></div></div>"
      ],
      "text/plain": [
       "ARIMA(order=(3, 1, 2), scoring_args={}, seasonal_order=(1, 0, 1, 7),\n",
       "      suppress_warnings=True)"
      ]
     },
     "execution_count": 55,
     "metadata": {},
     "output_type": "execute_result"
    }
   ],
   "source": [
    "# 차분은 1회, ACF와 PACF 그래프를 보았을 때 p와 q 모두 2가 적절할 것으로 예상된다.\n",
    "# 계절성의 변수는 주 단위로 평균을 내었기 때문에 주간 계절성이 존재한다.\n",
    "# 자동차수 선택\n",
    "from pmdarima import auto_arima\n",
    "auto_arima(down_head, start_p=1, max_p=5, start_q = 1, max_q =5, start_P = 0, max_P = 5, start_Q=0, max_Q=5, m = 7, \n",
    "           seasonal= True, trace = False, error_action='warn', suppress_warnings=True)"
   ]
  },
  {
   "cell_type": "code",
   "execution_count": 56,
   "metadata": {},
   "outputs": [
    {
     "name": "stdout",
     "output_type": "stream",
     "text": [
      "                                     SARIMAX Results                                     \n",
      "=========================================================================================\n",
      "Dep. Variable:                             Close   No. Observations:                  300\n",
      "Model:             ARIMA(3, 1, 2)x(1, 0, [1], 7)   Log Likelihood                -770.520\n",
      "Date:                           Tue, 31 Oct 2023   AIC                           1557.039\n",
      "Time:                                   10:17:45   BIC                           1586.643\n",
      "Sample:                               04-05-2015   HQIC                          1568.888\n",
      "                                    - 12-27-2020                                         \n",
      "Covariance Type:                             opg                                         \n",
      "==============================================================================\n",
      "                 coef    std err          z      P>|z|      [0.025      0.975]\n",
      "------------------------------------------------------------------------------\n",
      "ar.L1          0.1302      0.087      1.501      0.133      -0.040       0.300\n",
      "ar.L2          0.9909      0.051     19.337      0.000       0.891       1.091\n",
      "ar.L3         -0.1215      0.044     -2.786      0.005      -0.207      -0.036\n",
      "ma.L1         -0.0275      0.122     -0.225      0.822      -0.267       0.212\n",
      "ma.L2         -0.9702      0.109     -8.861      0.000      -1.185      -0.756\n",
      "ar.S.L7        0.9441      0.157      6.006      0.000       0.636       1.252\n",
      "ma.S.L7       -0.8733      0.183     -4.760      0.000      -1.233      -0.514\n",
      "sigma2        10.0620      0.761     13.214      0.000       8.569      11.554\n",
      "===================================================================================\n",
      "Ljung-Box (L1) (Q):                   0.00   Jarque-Bera (JB):               990.01\n",
      "Prob(Q):                              0.99   Prob(JB):                         0.00\n",
      "Heteroskedasticity (H):              14.76   Skew:                            -1.18\n",
      "Prob(H) (two-sided):                  0.00   Kurtosis:                        11.60\n",
      "===================================================================================\n",
      "\n",
      "Warnings:\n",
      "[1] Covariance matrix calculated using the outer product of gradients (complex-step).\n"
     ]
    }
   ],
   "source": [
    "from statsmodels.tsa.arima.model import ARIMA\n",
    "model = ARIMA(down_head, order = (3, 1, 2), seasonal_order=(1,0,1,7))\n",
    "fitted = model.fit()\n",
    "print(fitted.summary())\n",
    "# 잔차의 정규성 확인 : Jarque-Bera 검정, 귀무가설 채택하면 정규성을 가짐\n",
    "# 잔차의 자기상관 확인 : 융박스 검정, 귀무가설을 채택하면, 자기상관이 없음\n",
    "# auto_arima 를 통해 SARIMA 모델을 적합하였으나, 잔차의 자기상관은 없으나 잔차가 정규성을 만족하지 않기 때문에 추가적인 모델 개선이 필요하다."
   ]
  },
  {
   "cell_type": "markdown",
   "metadata": {},
   "source": [
    "4. 해당 모델로 down_tail의 기간의 값을 예측하고, 적절한 평가 지표를 선택하여 해당 모델을 평가하시오."
   ]
  },
  {
   "cell_type": "code",
   "execution_count": 72,
   "metadata": {},
   "outputs": [
    {
     "name": "stdout",
     "output_type": "stream",
     "text": [
      "2021-01-03    222.855249\n",
      "2021-01-10    223.961629\n",
      "2021-01-17    224.783311\n",
      "2021-01-24    228.285505\n",
      "2021-01-31    227.407254\n",
      "2021-02-07    227.136838\n",
      "2021-02-14    227.631202\n",
      "2021-02-21    229.054386\n",
      "2021-02-28    228.563287\n",
      "2021-03-07    230.852332\n",
      "2021-03-14    232.693412\n",
      "2021-03-21    233.359517\n",
      "2021-03-28    231.662839\n",
      "2021-04-04    233.601711\n",
      "Freq: W-SUN, Name: predicted_mean, dtype: float64\n"
     ]
    },
    {
     "data": {
      "image/png": "[encoded data removed]",
      "text/plain": [
       "<Figure size 1200x800 with 1 Axes>"
      ]
     },
     "metadata": {},
     "output_type": "display_data"
    }
   ],
   "source": [
    "pred = fitted.predict(start = down_tail.index[0], end = down_tail.index[-1])\n",
    "print(pred)\n",
    "plt.plot(pred)\n",
    "plt.plot(down_tail)\n",
    "plt.show()"
   ]
  },
  {
   "cell_type": "code",
   "execution_count": 77,
   "metadata": {},
   "outputs": [
    {
     "name": "stdout",
     "output_type": "stream",
     "text": [
      "mse : 64.13129780955528\n",
      "mape : 2.5430367444744895\n"
     ]
    }
   ],
   "source": [
    "from sklearn.metrics import mean_squared_error\n",
    "import numpy as np\n",
    "def MAPE(y_true, y_pred):\n",
    "    mape = np.mean(np.abs((y_true - y_pred) / y_true)) * 100\n",
    "    return mape\n",
    "\n",
    "mse = mean_squared_error(down_tail.values.ravel(), pred.values)\n",
    "mape = MAPE(down_tail.values.ravel(), pred.values)\n",
    "\n",
    "print('mse :', mse)\n",
    "print('mape :', mape)"
   ]
  },
  {
   "cell_type": "code",
   "execution_count": null,
   "metadata": {},
   "outputs": [],
   "source": []
  }
 ],
 "metadata": {
  "kernelspec": {
   "display_name": "base",
   "language": "python",
   "name": "python3"
  },
  "language_info": {
   "codemirror_mode": {
    "name": "ipython",
    "version": 3
   },
   "file_extension": ".py",
   "mimetype": "text/x-python",
   "name": "python",
   "nbconvert_exporter": "python",
   "pygments_lexer": "ipython3",
   "version": "3.10.9"
  }
 },
 "nbformat": 4,
 "nbformat_minor": 2
}
