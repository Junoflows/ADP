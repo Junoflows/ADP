{
 "cells": [
  {
   "cell_type": "markdown",
   "metadata": {},
   "source": [
    "## 5-1 일표본(One-sample)"
   ]
  },
  {
   "cell_type": "markdown",
   "metadata": {},
   "source": [
    "모평균의 추정과 가설 검정 : Z분포, t분포"
   ]
  },
  {
   "cell_type": "markdown",
   "metadata": {},
   "source": [
    "[추정]\n",
    "+ 표본의 크기가 30 이상이거나 모집단의 분산을 아는 경우 : Z 분포\n",
    "+ 표본의 크기가 30 미만이고 모집단의 분산을 모르느 경우 : t 분포"
   ]
  },
  {
   "cell_type": "code",
   "execution_count": 8,
   "metadata": {},
   "outputs": [
    {
     "name": "stdout",
     "output_type": "stream",
     "text": [
      "[추정]\n",
      "점 추정량 : 31100\n",
      "구간 추정량 :29630.02701159496 ~ 32569.97298840504\n",
      "오차의 한계 : 1469.9729884050405\n",
      "\n",
      "유의수준 0.05 에서 오차의 한계를 500 이하로 하려면 표본 규모 311.15816447622433 이상\n"
     ]
    }
   ],
   "source": [
    "import pandas as pd\n",
    "import numpy as np\n",
    "\n",
    "## 모표준편차를 아는 경우\n",
    "# 모평균의 추정\n",
    "x = 31100 # 표본평균\n",
    "n = 36 # 표본크기\n",
    "sigma = 4500 # 모표준편차\n",
    "conf_a = 0.05 # 신뢰수준\n",
    "\n",
    "from scipy.stats import norm # 표준정규분포 Z 를 이용\n",
    "SE = sigma / np.sqrt(n) # 표준오차\n",
    "conf_z = norm.ppf(1-conf_a/2) # 신뢰계수\n",
    "ME = conf_z * SE # 오차한계\n",
    "\n",
    "print('[추정]')\n",
    "print('점 추정량 :', x)\n",
    "print('구간 추정량 :{} ~ {}'.format(x-ME, x+ME))\n",
    "print('오차의 한계 :', ME)\n",
    "print()\n",
    "\n",
    "# 오차의 한계에 따른 표본 규모\n",
    "# 오차의 한계가 500 이하일 확률이 0.95가 되도록 모집단의 평균의 추정치를 원하는 경우\n",
    "# 포본 규모는 얼마가 되어야 하는가?\n",
    "\n",
    "ME = 500\n",
    "conf_a = 0.05 # 신뢰수준(유의수준)\n",
    "conf_z = norm.ppf(conf_a/2)\n",
    "ssize = conf_z ** 2 * sigma ** 2 / ME ** 2\n",
    "print('유의수준 {} 에서 오차의 한계를 {} 이하로 하려면 표본 규모 {} 이상'.format(conf_a, ME, ssize))"
   ]
  },
  {
   "cell_type": "code",
   "execution_count": 24,
   "metadata": {},
   "outputs": [
    {
     "name": "stdout",
     "output_type": "stream",
     "text": [
      "[검정]\n",
      "임계값 : +/-1.959963984540054, 검정통계량 : 1.4666666666666666\n",
      "유의수준 : 0.05, 유의확률 : 0.14246675482797233\n"
     ]
    }
   ],
   "source": [
    "# 모평균의 가설 검정\n",
    "# H0 : mu = mu0, H1 : mu != mu0\n",
    "\n",
    "x = 31100 # 표본평균\n",
    "n = 36 # 표본 크기\n",
    "sigma = 4500 # 모표준편차\n",
    "mu0 = 30000 # 귀무가설의 모평균\n",
    "test_a = 0.05 # 가설검정을 위한 유의수준\n",
    "\n",
    "SE = sigma / np.sqrt(n) # 표준오차\n",
    "zstat = (x-mu0) / SE # 검정통계량\n",
    "\n",
    "# 단측/양측 검정에 따른 유의확률과 임계값\n",
    "ways = 'two' # two, one-right, one-left\n",
    "if ways == 'two':\n",
    "    sp = (1-norm.cdf(np.abs(zstat))) * 2 # 유의확률\n",
    "    cv = norm.ppf(1-test_a/2) # 임계값\n",
    "    cv = '+/-{}'.format(cv)\n",
    "\n",
    "elif ways == 'one-right':\n",
    "    sp = 1-norm.cdf(zstat)\n",
    "    cv = norm.ppf(1-test_a)\n",
    "\n",
    "elif ways == 'one-left':\n",
    "    sp = norm.cdf(zstat)\n",
    "    cv = norm.ppf(test_a)\n",
    "\n",
    "print('[검정]')\n",
    "print('임계값 : {}, 검정통계량 : {}'.format(cv, zstat))\n",
    "print('유의수준 : {}, 유의확률 : {}'.format(test_a, sp))"
   ]
  },
  {
   "cell_type": "code",
   "execution_count": 16,
   "metadata": {},
   "outputs": [
    {
     "name": "stdout",
     "output_type": "stream",
     "text": [
      "[추정]\n",
      "점 추정량 : 650\n",
      "구간 추정량 :620.6925687485593 ~ 679.3074312514407\n",
      "오차의 한계 : 29.30743125144069\n",
      "\n",
      "유의수준 0.05에서 오차의 한계를 20 이하로 하려면 표본 크기 34.357021062316896 이상\n"
     ]
    }
   ],
   "source": [
    "## 모표준편차를 모르는 경우\n",
    "# 모평균의 추정\n",
    "x = 650\n",
    "n = 16\n",
    "s = 55\n",
    "conf_a = 0.05\n",
    "df = n-1\n",
    "\n",
    "from scipy.stats import t\n",
    "SE = s / np.sqrt(n)\n",
    "conf_t = t.ppf(1-conf_a/2, df)\n",
    "ME = conf_t * SE\n",
    "\n",
    "print('[추정]')\n",
    "print('점 추정량 :', x)\n",
    "print('구간 추정량 :{} ~ {}'.format(x-ME, x+ME))\n",
    "print('오차의 한계 :', ME)\n",
    "print()\n",
    "\n",
    "# 오차의 한계가 20 이하일 확률이 0.95가 되도록 모집단 평균의 추정치를 원하는 경우\n",
    "# 표본 규모는 얼마가 되어야 하는가\n",
    "\n",
    "ME2 = 20\n",
    "conf_a2 = 0.05\n",
    "conf_t2 = t.ppf(conf_a/2, df)\n",
    "ssize = conf_t2 **2 * s **2 / ME2 ** 2\n",
    "\n",
    "print('유의수준 {}에서 오차의 한계를 {} 이하로 하려면 표본 크기 {} 이상'.format(conf_a2, ME2, ssize))"
   ]
  },
  {
   "cell_type": "code",
   "execution_count": 25,
   "metadata": {},
   "outputs": [
    {
     "name": "stdout",
     "output_type": "stream",
     "text": [
      "[검정]\n",
      "임계값 : 1.7530503556925547, 검정통계량 : 3.6363636363636362\n",
      "유의수준 : 0.05, 유의확률 : 0.0012185096017776065\n"
     ]
    }
   ],
   "source": [
    "# 모평균의 가설 검정\n",
    "# H0 : mu = mu0, H1 : mu != mu0\n",
    "mu0 = 600  # 귀무가설의 모평균\n",
    "test_a = 0.05 # 가설검정을 위한 유의수준\n",
    "x = 650\n",
    "n = 16\n",
    "s = 55\n",
    "df = n-1\n",
    "\n",
    "SE = s / np.sqrt(n) # 표준 오차\n",
    "tstat = (x-mu0) / SE\n",
    "\n",
    "# 단측/양측 검정에 따른 유의확률과 임계값\n",
    "ways = 'one-right' # two, one-right, one-left\n",
    "if ways == 'two':\n",
    "    sp = (1-t.cdf(np.abs(tstat), df)) * 2 # 유의확률\n",
    "    cv = t.ppf(1-test_a/2, df) # 임계값\n",
    "    cv = '+/-{}'.format(cv)\n",
    "\n",
    "elif ways == 'one-right':\n",
    "    sp = 1-t.cdf(tstat, df)\n",
    "    cv = t.ppf(1-test_a, df)\n",
    "\n",
    "elif ways == 'one-left':\n",
    "    sp = t.cdf(tstat,df)\n",
    "    cv = t.ppf(test_a, df)\n",
    "\n",
    "print('[검정]')\n",
    "print('임계값 : {}, 검정통계량 : {}'.format(cv, tstat))\n",
    "print('유의수준 : {}, 유의확률 : {}'.format(test_a, sp))\n"
   ]
  },
  {
   "cell_type": "markdown",
   "metadata": {},
   "source": [
    "모분산의 추정과 가설 검정 : 카이제곱 분포"
   ]
  },
  {
   "cell_type": "code",
   "execution_count": 29,
   "metadata": {},
   "outputs": [
    {
     "name": "stdout",
     "output_type": "stream",
     "text": [
      "[추정]\n",
      "점 추정량 : 3.4\n",
      "구간 추정령 : 1.609 ~ 11.332\n"
     ]
    }
   ],
   "source": [
    "### 모평균을 모르는 경우\n",
    "# 모분산 추정\n",
    "n = 10 # 표본크기\n",
    "v = 3.4 # 표본 분산\n",
    "df = n-1 # 자유도\n",
    "conf_a = 0.05 # 유의수준\n",
    "\n",
    "from scipy.stats import chi2\n",
    "conf_c1 = chi2.ppf(1-conf_a/2, df)\n",
    "conf_c2 = chi2.ppf(conf_a/2, df)\n",
    "CR1 = df * v / conf_c1\n",
    "CR2 = df * v / conf_c2\n",
    "\n",
    "print('[추정]')\n",
    "print('점 추정량 :', v)\n",
    "print('구간 추정령 : {:.3f} ~ {:.3f}'.format(CR1, CR2))\n"
   ]
  },
  {
   "cell_type": "code",
   "execution_count": 30,
   "metadata": {},
   "outputs": [
    {
     "name": "stdout",
     "output_type": "stream",
     "text": [
      "[검정]\n",
      "임계값 :3.325112843066815, 검정통계량 : 8.5\n",
      "유의수준 :0.05, 유의확률:0.5153541141736069\n"
     ]
    }
   ],
   "source": [
    "# 가설검정\n",
    "# H0 : sigma^2 = v0, H1 : sigma^2 != v0\n",
    "n = 10 # 표본크기\n",
    "v = 3.4 # 표본 분산\n",
    "df = n-1 # 자유도\n",
    "v0 = 3.6 # 모분산\n",
    "test_a = 0.05 # 유의수준\n",
    "\n",
    "cstat = df * v / v0 # 카이제곱 통계량\n",
    "\n",
    "# 단측 / 양측 검정에 따른 유의확률과 임계값\n",
    "ways = 'one-left' # two, one-right, one-left\n",
    "if ways == 'two':\n",
    "    if chi2.cdf(cstat, df) < 0.5:\n",
    "        sp = (chi2.cdf(cstat, df)) * 2\n",
    "    else:\n",
    "        sp = (1-chi2.cdf(cstat, df)) * 2\n",
    "    \n",
    "    cv1 = chi2.ppf(test_a/2, df)\n",
    "    cv2 = chi2.ppf(1-test_a/2, df)\n",
    "    cv = '{}와 {}'.format(cv1, cv2)\n",
    "\n",
    "elif ways == 'one-right':\n",
    "    sp = 1-chi2.cdf(cstat, df)\n",
    "    cv = chi2.ppf(1-test_a, df)\n",
    "\n",
    "elif ways == 'one-left':\n",
    "    sp = chi2.cdf(cstat, df)\n",
    "    cv = chi2.ppf(test_a, df)\n",
    "\n",
    "print('[검정]') # 귀무가설을 기각할 수 없다.\n",
    "print('임계값 :{}, 검정통계량 : {}'.format(cv, cstat))\n",
    "print('유의수준 :{}, 유의확률:{}'.format(test_a, sp))"
   ]
  },
  {
   "cell_type": "markdown",
   "metadata": {},
   "source": [
    "## 이표본(Two-sample)"
   ]
  },
  {
   "cell_type": "markdown",
   "metadata": {},
   "source": [
    "독립표본 모평균 차이의 추정과 가설 검정 : Z분포, t분포"
   ]
  },
  {
   "cell_type": "code",
   "execution_count": null,
   "metadata": {},
   "outputs": [],
   "source": []
  }
 ],
 "metadata": {
  "kernelspec": {
   "display_name": "base",
   "language": "python",
   "name": "python3"
  },
  "language_info": {
   "codemirror_mode": {
    "name": "ipython",
    "version": 3
   },
   "file_extension": ".py",
   "mimetype": "text/x-python",
   "name": "python",
   "nbconvert_exporter": "python",
   "pygments_lexer": "ipython3",
   "version": "3.10.9"
  }
 },
 "nbformat": 4,
 "nbformat_minor": 2
}
